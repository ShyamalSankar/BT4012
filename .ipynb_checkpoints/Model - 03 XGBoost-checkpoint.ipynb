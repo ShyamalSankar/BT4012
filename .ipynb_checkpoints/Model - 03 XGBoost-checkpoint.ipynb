{
 "cells": [
  {
   "cell_type": "markdown",
   "metadata": {
    "id": "bLVq_6S4eapw"
   },
   "source": [
    "# Import Packages and Reading of Data"
   ]
  },
  {
   "cell_type": "code",
   "execution_count": 2,
   "metadata": {
    "colab": {
     "base_uri": "https://localhost:8080/"
    },
    "id": "NEvcKqna3_VG",
    "outputId": "0549d0b2-4780-4c45-ab20-cf4ea17b1a15"
   },
   "outputs": [
    {
     "name": "stdout",
     "output_type": "stream",
     "text": [
      "Looking in indexes: https://pypi.org/simple, https://us-python.pkg.dev/colab-wheels/public/simple/\n",
      "Collecting bayesian-optimization\n",
      "  Downloading bayesian_optimization-1.3.1-py3-none-any.whl (16 kB)\n",
      "Requirement already satisfied: scipy>=1.0.0 in /usr/local/lib/python3.7/dist-packages (from bayesian-optimization) (1.7.3)\n",
      "Requirement already satisfied: scikit-learn>=0.18.0 in /usr/local/lib/python3.7/dist-packages (from bayesian-optimization) (1.0.2)\n",
      "Requirement already satisfied: numpy>=1.9.0 in /usr/local/lib/python3.7/dist-packages (from bayesian-optimization) (1.21.6)\n",
      "Requirement already satisfied: joblib>=0.11 in /usr/local/lib/python3.7/dist-packages (from scikit-learn>=0.18.0->bayesian-optimization) (1.2.0)\n",
      "Requirement already satisfied: threadpoolctl>=2.0.0 in /usr/local/lib/python3.7/dist-packages (from scikit-learn>=0.18.0->bayesian-optimization) (3.1.0)\n",
      "Installing collected packages: bayesian-optimization\n",
      "Successfully installed bayesian-optimization-1.3.1\n"
     ]
    }
   ],
   "source": [
    "pip install bayesian-optimization"
   ]
  },
  {
   "cell_type": "code",
   "execution_count": 3,
   "metadata": {
    "colab": {
     "base_uri": "https://localhost:8080/"
    },
    "id": "pU5ha-ZLbys7",
    "outputId": "8481eb4a-3982-4203-c146-8b727cb8491e"
   },
   "outputs": [
    {
     "name": "stdout",
     "output_type": "stream",
     "text": [
      "Mounted at /content/gdrive\n"
     ]
    }
   ],
   "source": [
    "import time\n",
    "import warnings\n",
    "import pickle\n",
    "\n",
    "import pandas as pd \n",
    "import numpy as np\n",
    "import matplotlib.pyplot as plt\n",
    "from google.colab import drive\n",
    "drive.mount('/content/gdrive')\n",
    "\n",
    "from sklearn.preprocessing import StandardScaler\n",
    "from sklearn.model_selection import train_test_split\n",
    "from sklearn.linear_model import LinearRegression, Ridge, LogisticRegression\n",
    "from sklearn import metrics\n",
    "from sklearn.model_selection import RandomizedSearchCV, GridSearchCV, cross_val_score, RepeatedKFold\n",
    "from bayes_opt import BayesianOptimization\n",
    "import statsmodels.api as sm\n",
    "from sklearn.metrics import confusion_matrix, accuracy_score, recall_score, precision_score, f1_score, roc_auc_score, average_precision_score, classification_report\n",
    "\n",
    "import xgboost as xgb # recommended version: 1.5.0\n",
    "from xgboost import plot_importance\n",
    "\n",
    "pd.set_option(\"display.max_columns\", None)\n",
    "warnings.filterwarnings(\"ignore\")"
   ]
  },
  {
   "cell_type": "code",
   "execution_count": 4,
   "metadata": {
    "colab": {
     "base_uri": "https://localhost:8080/",
     "height": 488
    },
    "id": "SHu6o9azcF8R",
    "outputId": "e7254629-0717-4aef-ba58-0deffa0bb715"
   },
   "outputs": [
    {
     "data": {
      "text/html": [
       "\n",
       "  <div id=\"df-10cd806a-ec5b-4809-8177-04e921e2bd4b\">\n",
       "    <div class=\"colab-df-container\">\n",
       "      <div>\n",
       "<style scoped>\n",
       "    .dataframe tbody tr th:only-of-type {\n",
       "        vertical-align: middle;\n",
       "    }\n",
       "\n",
       "    .dataframe tbody tr th {\n",
       "        vertical-align: top;\n",
       "    }\n",
       "\n",
       "    .dataframe thead th {\n",
       "        text-align: right;\n",
       "    }\n",
       "</style>\n",
       "<table border=\"1\" class=\"dataframe\">\n",
       "  <thead>\n",
       "    <tr style=\"text-align: right;\">\n",
       "      <th></th>\n",
       "      <th>verified</th>\n",
       "      <th>location</th>\n",
       "      <th>followers_count</th>\n",
       "      <th>following_count</th>\n",
       "      <th>tweet_count</th>\n",
       "      <th>isFraud</th>\n",
       "      <th>un_no_of_char</th>\n",
       "      <th>un_special_char</th>\n",
       "      <th>un_uppercase</th>\n",
       "      <th>name_no_of_char</th>\n",
       "      <th>name_special_char</th>\n",
       "      <th>name_uppercase</th>\n",
       "      <th>des_no_of_usertags</th>\n",
       "      <th>des_no_of_hashtags</th>\n",
       "      <th>des_external_links</th>\n",
       "      <th>has_description</th>\n",
       "      <th>year</th>\n",
       "      <th>Apr</th>\n",
       "      <th>Aug</th>\n",
       "      <th>Dec</th>\n",
       "      <th>Feb</th>\n",
       "      <th>Jan</th>\n",
       "      <th>Jul</th>\n",
       "      <th>Jun</th>\n",
       "      <th>Mar</th>\n",
       "      <th>May</th>\n",
       "      <th>Nov</th>\n",
       "      <th>Oct</th>\n",
       "      <th>Sep</th>\n",
       "      <th>Fri</th>\n",
       "      <th>Mon</th>\n",
       "      <th>Sat</th>\n",
       "      <th>Sun</th>\n",
       "      <th>Thu</th>\n",
       "      <th>Tue</th>\n",
       "      <th>Wed</th>\n",
       "    </tr>\n",
       "  </thead>\n",
       "  <tbody>\n",
       "    <tr>\n",
       "      <th>0</th>\n",
       "      <td>0</td>\n",
       "      <td>0</td>\n",
       "      <td>1997</td>\n",
       "      <td>5</td>\n",
       "      <td>17090</td>\n",
       "      <td>1</td>\n",
       "      <td>15</td>\n",
       "      <td>1</td>\n",
       "      <td>0</td>\n",
       "      <td>19</td>\n",
       "      <td>0</td>\n",
       "      <td>1</td>\n",
       "      <td>2</td>\n",
       "      <td>0</td>\n",
       "      <td>0</td>\n",
       "      <td>1</td>\n",
       "      <td>2016</td>\n",
       "      <td>0</td>\n",
       "      <td>0</td>\n",
       "      <td>0</td>\n",
       "      <td>0</td>\n",
       "      <td>0</td>\n",
       "      <td>0</td>\n",
       "      <td>0</td>\n",
       "      <td>0</td>\n",
       "      <td>0</td>\n",
       "      <td>0</td>\n",
       "      <td>1</td>\n",
       "      <td>0</td>\n",
       "      <td>0</td>\n",
       "      <td>0</td>\n",
       "      <td>1</td>\n",
       "      <td>0</td>\n",
       "      <td>0</td>\n",
       "      <td>0</td>\n",
       "      <td>0</td>\n",
       "    </tr>\n",
       "    <tr>\n",
       "      <th>1</th>\n",
       "      <td>0</td>\n",
       "      <td>0</td>\n",
       "      <td>1997</td>\n",
       "      <td>5</td>\n",
       "      <td>17090</td>\n",
       "      <td>1</td>\n",
       "      <td>15</td>\n",
       "      <td>1</td>\n",
       "      <td>0</td>\n",
       "      <td>19</td>\n",
       "      <td>0</td>\n",
       "      <td>1</td>\n",
       "      <td>2</td>\n",
       "      <td>0</td>\n",
       "      <td>0</td>\n",
       "      <td>1</td>\n",
       "      <td>2016</td>\n",
       "      <td>0</td>\n",
       "      <td>0</td>\n",
       "      <td>0</td>\n",
       "      <td>0</td>\n",
       "      <td>0</td>\n",
       "      <td>0</td>\n",
       "      <td>0</td>\n",
       "      <td>0</td>\n",
       "      <td>0</td>\n",
       "      <td>0</td>\n",
       "      <td>1</td>\n",
       "      <td>0</td>\n",
       "      <td>0</td>\n",
       "      <td>0</td>\n",
       "      <td>1</td>\n",
       "      <td>0</td>\n",
       "      <td>0</td>\n",
       "      <td>0</td>\n",
       "      <td>0</td>\n",
       "    </tr>\n",
       "    <tr>\n",
       "      <th>2</th>\n",
       "      <td>0</td>\n",
       "      <td>0</td>\n",
       "      <td>1997</td>\n",
       "      <td>5</td>\n",
       "      <td>17090</td>\n",
       "      <td>1</td>\n",
       "      <td>15</td>\n",
       "      <td>1</td>\n",
       "      <td>0</td>\n",
       "      <td>19</td>\n",
       "      <td>0</td>\n",
       "      <td>1</td>\n",
       "      <td>2</td>\n",
       "      <td>0</td>\n",
       "      <td>0</td>\n",
       "      <td>1</td>\n",
       "      <td>2016</td>\n",
       "      <td>0</td>\n",
       "      <td>0</td>\n",
       "      <td>0</td>\n",
       "      <td>0</td>\n",
       "      <td>0</td>\n",
       "      <td>0</td>\n",
       "      <td>0</td>\n",
       "      <td>0</td>\n",
       "      <td>0</td>\n",
       "      <td>0</td>\n",
       "      <td>1</td>\n",
       "      <td>0</td>\n",
       "      <td>0</td>\n",
       "      <td>0</td>\n",
       "      <td>1</td>\n",
       "      <td>0</td>\n",
       "      <td>0</td>\n",
       "      <td>0</td>\n",
       "      <td>0</td>\n",
       "    </tr>\n",
       "    <tr>\n",
       "      <th>3</th>\n",
       "      <td>0</td>\n",
       "      <td>0</td>\n",
       "      <td>1997</td>\n",
       "      <td>5</td>\n",
       "      <td>17090</td>\n",
       "      <td>1</td>\n",
       "      <td>15</td>\n",
       "      <td>1</td>\n",
       "      <td>0</td>\n",
       "      <td>19</td>\n",
       "      <td>0</td>\n",
       "      <td>1</td>\n",
       "      <td>2</td>\n",
       "      <td>0</td>\n",
       "      <td>0</td>\n",
       "      <td>1</td>\n",
       "      <td>2016</td>\n",
       "      <td>0</td>\n",
       "      <td>0</td>\n",
       "      <td>0</td>\n",
       "      <td>0</td>\n",
       "      <td>0</td>\n",
       "      <td>0</td>\n",
       "      <td>0</td>\n",
       "      <td>0</td>\n",
       "      <td>0</td>\n",
       "      <td>0</td>\n",
       "      <td>1</td>\n",
       "      <td>0</td>\n",
       "      <td>0</td>\n",
       "      <td>0</td>\n",
       "      <td>1</td>\n",
       "      <td>0</td>\n",
       "      <td>0</td>\n",
       "      <td>0</td>\n",
       "      <td>0</td>\n",
       "    </tr>\n",
       "    <tr>\n",
       "      <th>4</th>\n",
       "      <td>0</td>\n",
       "      <td>0</td>\n",
       "      <td>1997</td>\n",
       "      <td>5</td>\n",
       "      <td>17090</td>\n",
       "      <td>1</td>\n",
       "      <td>15</td>\n",
       "      <td>1</td>\n",
       "      <td>0</td>\n",
       "      <td>19</td>\n",
       "      <td>0</td>\n",
       "      <td>1</td>\n",
       "      <td>2</td>\n",
       "      <td>0</td>\n",
       "      <td>0</td>\n",
       "      <td>1</td>\n",
       "      <td>2016</td>\n",
       "      <td>0</td>\n",
       "      <td>0</td>\n",
       "      <td>0</td>\n",
       "      <td>0</td>\n",
       "      <td>0</td>\n",
       "      <td>0</td>\n",
       "      <td>0</td>\n",
       "      <td>0</td>\n",
       "      <td>0</td>\n",
       "      <td>0</td>\n",
       "      <td>1</td>\n",
       "      <td>0</td>\n",
       "      <td>0</td>\n",
       "      <td>0</td>\n",
       "      <td>1</td>\n",
       "      <td>0</td>\n",
       "      <td>0</td>\n",
       "      <td>0</td>\n",
       "      <td>0</td>\n",
       "    </tr>\n",
       "    <tr>\n",
       "      <th>...</th>\n",
       "      <td>...</td>\n",
       "      <td>...</td>\n",
       "      <td>...</td>\n",
       "      <td>...</td>\n",
       "      <td>...</td>\n",
       "      <td>...</td>\n",
       "      <td>...</td>\n",
       "      <td>...</td>\n",
       "      <td>...</td>\n",
       "      <td>...</td>\n",
       "      <td>...</td>\n",
       "      <td>...</td>\n",
       "      <td>...</td>\n",
       "      <td>...</td>\n",
       "      <td>...</td>\n",
       "      <td>...</td>\n",
       "      <td>...</td>\n",
       "      <td>...</td>\n",
       "      <td>...</td>\n",
       "      <td>...</td>\n",
       "      <td>...</td>\n",
       "      <td>...</td>\n",
       "      <td>...</td>\n",
       "      <td>...</td>\n",
       "      <td>...</td>\n",
       "      <td>...</td>\n",
       "      <td>...</td>\n",
       "      <td>...</td>\n",
       "      <td>...</td>\n",
       "      <td>...</td>\n",
       "      <td>...</td>\n",
       "      <td>...</td>\n",
       "      <td>...</td>\n",
       "      <td>...</td>\n",
       "      <td>...</td>\n",
       "      <td>...</td>\n",
       "    </tr>\n",
       "    <tr>\n",
       "      <th>88127</th>\n",
       "      <td>1</td>\n",
       "      <td>1</td>\n",
       "      <td>803247</td>\n",
       "      <td>7</td>\n",
       "      <td>3159</td>\n",
       "      <td>0</td>\n",
       "      <td>9</td>\n",
       "      <td>1</td>\n",
       "      <td>1</td>\n",
       "      <td>10</td>\n",
       "      <td>1</td>\n",
       "      <td>0</td>\n",
       "      <td>0</td>\n",
       "      <td>0</td>\n",
       "      <td>0</td>\n",
       "      <td>0</td>\n",
       "      <td>2012</td>\n",
       "      <td>0</td>\n",
       "      <td>0</td>\n",
       "      <td>0</td>\n",
       "      <td>0</td>\n",
       "      <td>0</td>\n",
       "      <td>0</td>\n",
       "      <td>0</td>\n",
       "      <td>1</td>\n",
       "      <td>0</td>\n",
       "      <td>0</td>\n",
       "      <td>0</td>\n",
       "      <td>0</td>\n",
       "      <td>0</td>\n",
       "      <td>0</td>\n",
       "      <td>0</td>\n",
       "      <td>0</td>\n",
       "      <td>0</td>\n",
       "      <td>0</td>\n",
       "      <td>1</td>\n",
       "    </tr>\n",
       "    <tr>\n",
       "      <th>88128</th>\n",
       "      <td>1</td>\n",
       "      <td>1</td>\n",
       "      <td>803247</td>\n",
       "      <td>7</td>\n",
       "      <td>3159</td>\n",
       "      <td>0</td>\n",
       "      <td>9</td>\n",
       "      <td>1</td>\n",
       "      <td>1</td>\n",
       "      <td>10</td>\n",
       "      <td>1</td>\n",
       "      <td>0</td>\n",
       "      <td>0</td>\n",
       "      <td>0</td>\n",
       "      <td>0</td>\n",
       "      <td>0</td>\n",
       "      <td>2012</td>\n",
       "      <td>0</td>\n",
       "      <td>0</td>\n",
       "      <td>0</td>\n",
       "      <td>0</td>\n",
       "      <td>0</td>\n",
       "      <td>0</td>\n",
       "      <td>0</td>\n",
       "      <td>1</td>\n",
       "      <td>0</td>\n",
       "      <td>0</td>\n",
       "      <td>0</td>\n",
       "      <td>0</td>\n",
       "      <td>0</td>\n",
       "      <td>0</td>\n",
       "      <td>0</td>\n",
       "      <td>0</td>\n",
       "      <td>0</td>\n",
       "      <td>0</td>\n",
       "      <td>1</td>\n",
       "    </tr>\n",
       "    <tr>\n",
       "      <th>88129</th>\n",
       "      <td>1</td>\n",
       "      <td>1</td>\n",
       "      <td>803247</td>\n",
       "      <td>7</td>\n",
       "      <td>3159</td>\n",
       "      <td>0</td>\n",
       "      <td>9</td>\n",
       "      <td>1</td>\n",
       "      <td>1</td>\n",
       "      <td>10</td>\n",
       "      <td>1</td>\n",
       "      <td>0</td>\n",
       "      <td>0</td>\n",
       "      <td>0</td>\n",
       "      <td>0</td>\n",
       "      <td>0</td>\n",
       "      <td>2012</td>\n",
       "      <td>0</td>\n",
       "      <td>0</td>\n",
       "      <td>0</td>\n",
       "      <td>0</td>\n",
       "      <td>0</td>\n",
       "      <td>0</td>\n",
       "      <td>0</td>\n",
       "      <td>1</td>\n",
       "      <td>0</td>\n",
       "      <td>0</td>\n",
       "      <td>0</td>\n",
       "      <td>0</td>\n",
       "      <td>0</td>\n",
       "      <td>0</td>\n",
       "      <td>0</td>\n",
       "      <td>0</td>\n",
       "      <td>0</td>\n",
       "      <td>0</td>\n",
       "      <td>1</td>\n",
       "    </tr>\n",
       "    <tr>\n",
       "      <th>88130</th>\n",
       "      <td>1</td>\n",
       "      <td>1</td>\n",
       "      <td>803247</td>\n",
       "      <td>7</td>\n",
       "      <td>3159</td>\n",
       "      <td>0</td>\n",
       "      <td>9</td>\n",
       "      <td>1</td>\n",
       "      <td>1</td>\n",
       "      <td>10</td>\n",
       "      <td>1</td>\n",
       "      <td>0</td>\n",
       "      <td>0</td>\n",
       "      <td>0</td>\n",
       "      <td>0</td>\n",
       "      <td>0</td>\n",
       "      <td>2012</td>\n",
       "      <td>0</td>\n",
       "      <td>0</td>\n",
       "      <td>0</td>\n",
       "      <td>0</td>\n",
       "      <td>0</td>\n",
       "      <td>0</td>\n",
       "      <td>0</td>\n",
       "      <td>1</td>\n",
       "      <td>0</td>\n",
       "      <td>0</td>\n",
       "      <td>0</td>\n",
       "      <td>0</td>\n",
       "      <td>0</td>\n",
       "      <td>0</td>\n",
       "      <td>0</td>\n",
       "      <td>0</td>\n",
       "      <td>0</td>\n",
       "      <td>0</td>\n",
       "      <td>1</td>\n",
       "    </tr>\n",
       "    <tr>\n",
       "      <th>88131</th>\n",
       "      <td>1</td>\n",
       "      <td>1</td>\n",
       "      <td>803247</td>\n",
       "      <td>7</td>\n",
       "      <td>3159</td>\n",
       "      <td>0</td>\n",
       "      <td>9</td>\n",
       "      <td>1</td>\n",
       "      <td>1</td>\n",
       "      <td>10</td>\n",
       "      <td>1</td>\n",
       "      <td>0</td>\n",
       "      <td>0</td>\n",
       "      <td>0</td>\n",
       "      <td>0</td>\n",
       "      <td>0</td>\n",
       "      <td>2012</td>\n",
       "      <td>0</td>\n",
       "      <td>0</td>\n",
       "      <td>0</td>\n",
       "      <td>0</td>\n",
       "      <td>0</td>\n",
       "      <td>0</td>\n",
       "      <td>0</td>\n",
       "      <td>1</td>\n",
       "      <td>0</td>\n",
       "      <td>0</td>\n",
       "      <td>0</td>\n",
       "      <td>0</td>\n",
       "      <td>0</td>\n",
       "      <td>0</td>\n",
       "      <td>0</td>\n",
       "      <td>0</td>\n",
       "      <td>0</td>\n",
       "      <td>0</td>\n",
       "      <td>1</td>\n",
       "    </tr>\n",
       "  </tbody>\n",
       "</table>\n",
       "<p>88132 rows × 36 columns</p>\n",
       "</div>\n",
       "      <button class=\"colab-df-convert\" onclick=\"convertToInteractive('df-10cd806a-ec5b-4809-8177-04e921e2bd4b')\"\n",
       "              title=\"Convert this dataframe to an interactive table.\"\n",
       "              style=\"display:none;\">\n",
       "        \n",
       "  <svg xmlns=\"http://www.w3.org/2000/svg\" height=\"24px\"viewBox=\"0 0 24 24\"\n",
       "       width=\"24px\">\n",
       "    <path d=\"M0 0h24v24H0V0z\" fill=\"none\"/>\n",
       "    <path d=\"M18.56 5.44l.94 2.06.94-2.06 2.06-.94-2.06-.94-.94-2.06-.94 2.06-2.06.94zm-11 1L8.5 8.5l.94-2.06 2.06-.94-2.06-.94L8.5 2.5l-.94 2.06-2.06.94zm10 10l.94 2.06.94-2.06 2.06-.94-2.06-.94-.94-2.06-.94 2.06-2.06.94z\"/><path d=\"M17.41 7.96l-1.37-1.37c-.4-.4-.92-.59-1.43-.59-.52 0-1.04.2-1.43.59L10.3 9.45l-7.72 7.72c-.78.78-.78 2.05 0 2.83L4 21.41c.39.39.9.59 1.41.59.51 0 1.02-.2 1.41-.59l7.78-7.78 2.81-2.81c.8-.78.8-2.07 0-2.86zM5.41 20L4 18.59l7.72-7.72 1.47 1.35L5.41 20z\"/>\n",
       "  </svg>\n",
       "      </button>\n",
       "      \n",
       "  <style>\n",
       "    .colab-df-container {\n",
       "      display:flex;\n",
       "      flex-wrap:wrap;\n",
       "      gap: 12px;\n",
       "    }\n",
       "\n",
       "    .colab-df-convert {\n",
       "      background-color: #E8F0FE;\n",
       "      border: none;\n",
       "      border-radius: 50%;\n",
       "      cursor: pointer;\n",
       "      display: none;\n",
       "      fill: #1967D2;\n",
       "      height: 32px;\n",
       "      padding: 0 0 0 0;\n",
       "      width: 32px;\n",
       "    }\n",
       "\n",
       "    .colab-df-convert:hover {\n",
       "      background-color: #E2EBFA;\n",
       "      box-shadow: 0px 1px 2px rgba(60, 64, 67, 0.3), 0px 1px 3px 1px rgba(60, 64, 67, 0.15);\n",
       "      fill: #174EA6;\n",
       "    }\n",
       "\n",
       "    [theme=dark] .colab-df-convert {\n",
       "      background-color: #3B4455;\n",
       "      fill: #D2E3FC;\n",
       "    }\n",
       "\n",
       "    [theme=dark] .colab-df-convert:hover {\n",
       "      background-color: #434B5C;\n",
       "      box-shadow: 0px 1px 3px 1px rgba(0, 0, 0, 0.15);\n",
       "      filter: drop-shadow(0px 1px 2px rgba(0, 0, 0, 0.3));\n",
       "      fill: #FFFFFF;\n",
       "    }\n",
       "  </style>\n",
       "\n",
       "      <script>\n",
       "        const buttonEl =\n",
       "          document.querySelector('#df-10cd806a-ec5b-4809-8177-04e921e2bd4b button.colab-df-convert');\n",
       "        buttonEl.style.display =\n",
       "          google.colab.kernel.accessAllowed ? 'block' : 'none';\n",
       "\n",
       "        async function convertToInteractive(key) {\n",
       "          const element = document.querySelector('#df-10cd806a-ec5b-4809-8177-04e921e2bd4b');\n",
       "          const dataTable =\n",
       "            await google.colab.kernel.invokeFunction('convertToInteractive',\n",
       "                                                     [key], {});\n",
       "          if (!dataTable) return;\n",
       "\n",
       "          const docLinkHtml = 'Like what you see? Visit the ' +\n",
       "            '<a target=\"_blank\" href=https://colab.research.google.com/notebooks/data_table.ipynb>data table notebook</a>'\n",
       "            + ' to learn more about interactive tables.';\n",
       "          element.innerHTML = '';\n",
       "          dataTable['output_type'] = 'display_data';\n",
       "          await google.colab.output.renderOutput(dataTable, element);\n",
       "          const docLink = document.createElement('div');\n",
       "          docLink.innerHTML = docLinkHtml;\n",
       "          element.appendChild(docLink);\n",
       "        }\n",
       "      </script>\n",
       "    </div>\n",
       "  </div>\n",
       "  "
      ],
      "text/plain": [
       "       verified  location  followers_count  following_count  tweet_count  \\\n",
       "0             0         0             1997                5        17090   \n",
       "1             0         0             1997                5        17090   \n",
       "2             0         0             1997                5        17090   \n",
       "3             0         0             1997                5        17090   \n",
       "4             0         0             1997                5        17090   \n",
       "...         ...       ...              ...              ...          ...   \n",
       "88127         1         1           803247                7         3159   \n",
       "88128         1         1           803247                7         3159   \n",
       "88129         1         1           803247                7         3159   \n",
       "88130         1         1           803247                7         3159   \n",
       "88131         1         1           803247                7         3159   \n",
       "\n",
       "       isFraud  un_no_of_char  un_special_char  un_uppercase  name_no_of_char  \\\n",
       "0            1             15                1             0               19   \n",
       "1            1             15                1             0               19   \n",
       "2            1             15                1             0               19   \n",
       "3            1             15                1             0               19   \n",
       "4            1             15                1             0               19   \n",
       "...        ...            ...              ...           ...              ...   \n",
       "88127        0              9                1             1               10   \n",
       "88128        0              9                1             1               10   \n",
       "88129        0              9                1             1               10   \n",
       "88130        0              9                1             1               10   \n",
       "88131        0              9                1             1               10   \n",
       "\n",
       "       name_special_char  name_uppercase  des_no_of_usertags  \\\n",
       "0                      0               1                   2   \n",
       "1                      0               1                   2   \n",
       "2                      0               1                   2   \n",
       "3                      0               1                   2   \n",
       "4                      0               1                   2   \n",
       "...                  ...             ...                 ...   \n",
       "88127                  1               0                   0   \n",
       "88128                  1               0                   0   \n",
       "88129                  1               0                   0   \n",
       "88130                  1               0                   0   \n",
       "88131                  1               0                   0   \n",
       "\n",
       "       des_no_of_hashtags  des_external_links  has_description  year  Apr  \\\n",
       "0                       0                   0                1  2016    0   \n",
       "1                       0                   0                1  2016    0   \n",
       "2                       0                   0                1  2016    0   \n",
       "3                       0                   0                1  2016    0   \n",
       "4                       0                   0                1  2016    0   \n",
       "...                   ...                 ...              ...   ...  ...   \n",
       "88127                   0                   0                0  2012    0   \n",
       "88128                   0                   0                0  2012    0   \n",
       "88129                   0                   0                0  2012    0   \n",
       "88130                   0                   0                0  2012    0   \n",
       "88131                   0                   0                0  2012    0   \n",
       "\n",
       "       Aug  Dec  Feb  Jan  Jul  Jun  Mar  May  Nov  Oct  Sep  Fri  Mon  Sat  \\\n",
       "0        0    0    0    0    0    0    0    0    0    1    0    0    0    1   \n",
       "1        0    0    0    0    0    0    0    0    0    1    0    0    0    1   \n",
       "2        0    0    0    0    0    0    0    0    0    1    0    0    0    1   \n",
       "3        0    0    0    0    0    0    0    0    0    1    0    0    0    1   \n",
       "4        0    0    0    0    0    0    0    0    0    1    0    0    0    1   \n",
       "...    ...  ...  ...  ...  ...  ...  ...  ...  ...  ...  ...  ...  ...  ...   \n",
       "88127    0    0    0    0    0    0    1    0    0    0    0    0    0    0   \n",
       "88128    0    0    0    0    0    0    1    0    0    0    0    0    0    0   \n",
       "88129    0    0    0    0    0    0    1    0    0    0    0    0    0    0   \n",
       "88130    0    0    0    0    0    0    1    0    0    0    0    0    0    0   \n",
       "88131    0    0    0    0    0    0    1    0    0    0    0    0    0    0   \n",
       "\n",
       "       Sun  Thu  Tue  Wed  \n",
       "0        0    0    0    0  \n",
       "1        0    0    0    0  \n",
       "2        0    0    0    0  \n",
       "3        0    0    0    0  \n",
       "4        0    0    0    0  \n",
       "...    ...  ...  ...  ...  \n",
       "88127    0    0    0    1  \n",
       "88128    0    0    0    1  \n",
       "88129    0    0    0    1  \n",
       "88130    0    0    0    1  \n",
       "88131    0    0    0    1  \n",
       "\n",
       "[88132 rows x 36 columns]"
      ]
     },
     "execution_count": 4,
     "metadata": {},
     "output_type": "execute_result"
    }
   ],
   "source": [
    "# Reading of Excel\n",
    "dataset = pd.read_csv('cleaned_others_dataset.csv')\n",
    "dataset"
   ]
  },
  {
   "cell_type": "markdown",
   "metadata": {
    "id": "Vis4suhFeepV"
   },
   "source": [
    "# Feature Engineering"
   ]
  },
  {
   "cell_type": "code",
   "execution_count": 5,
   "metadata": {
    "colab": {
     "base_uri": "https://localhost:8080/"
    },
    "id": "Je0HFMQWcvqF",
    "outputId": "b60884e7-54a7-4f7a-81d5-869127f2037d"
   },
   "outputs": [
    {
     "name": "stdout",
     "output_type": "stream",
     "text": [
      "Train set: (70505, 35) (70505,)\n",
      "Test set: (17627, 35) (17627,)\n"
     ]
    }
   ],
   "source": [
    "X_train, X_test, y_train, y_test = train_test_split(dataset.drop(columns=[\"isFraud\"]), dataset[\"isFraud\"], test_size = 0.2, random_state=101)\n",
    "print(\"Train set:\", X_train.shape, y_train.shape)\n",
    "print(\"Test set:\", X_test.shape, y_test.shape)"
   ]
  },
  {
   "cell_type": "code",
   "execution_count": 6,
   "metadata": {
    "id": "LFTus7pkclXK"
   },
   "outputs": [],
   "source": [
    "scaler = StandardScaler()\n",
    "fitted = scaler.fit(X_train)\n",
    "X_train_fitted = fitted.transform(X_train)\n",
    "X_test_fitted = fitted.transform(X_test)"
   ]
  },
  {
   "cell_type": "code",
   "execution_count": 7,
   "metadata": {
    "colab": {
     "base_uri": "https://localhost:8080/"
    },
    "id": "X45Kp6zXcm8w",
    "outputId": "36f4536a-e1d3-4b07-a841-922894a28231"
   },
   "outputs": [
    {
     "name": "stdout",
     "output_type": "stream",
     "text": [
      "(70505, 35) (70505, 1) (17627, 35) (17627, 1)\n"
     ]
    }
   ],
   "source": [
    "x_train = pd.DataFrame(X_train_fitted, columns = X_train.columns)\n",
    "x_test = pd.DataFrame(X_test_fitted, columns = X_test.columns)\n",
    "y_train = pd.DataFrame(y_train, columns = [\"isFraud\"])\n",
    "y_test = pd.DataFrame(y_test, columns = [\"isFraud\"])\n",
    "print(x_train.shape,\n",
    "      y_train.shape,\n",
    "      x_test.shape,\n",
    "      y_test.shape\n",
    "      )"
   ]
  },
  {
   "cell_type": "markdown",
   "metadata": {
    "id": "VIA7GrhPehO4"
   },
   "source": [
    "# XGBoost\n",
    "* Model (Grid Search + Randomized Search + Bayesian Optimisation)\n",
    "* Error Metrics\n",
    "* Plot for Feature Importance"
   ]
  },
  {
   "cell_type": "markdown",
   "metadata": {
    "id": "xuXSyBm-Cbaq"
   },
   "source": [
    "### Grid Search"
   ]
  },
  {
   "cell_type": "code",
   "execution_count": 8,
   "metadata": {
    "id": "p_FPHy90ei6Z"
   },
   "outputs": [],
   "source": [
    "estimators = xgb.XGBClassifier(\n",
    "                       gamma = 0.1,\n",
    "                       alpha = 0.5,\n",
    "                       objective = \"binary:logistic\",\n",
    "                       eval_metric = \"logloss\")\n",
    "\n",
    "parameters = {\n",
    "    'max_depth': [6, 10, 15, 20, 25],\n",
    "    'subsample': [0.6, 0.8, 1.0],\n",
    "    'eta': [0.01, 0.1, 0.2], \n",
    "    'colsample_bytree': [0.5, 0.6, 0.7, 0.8, 0.9],  \n",
    "}\n",
    "    \n",
    "grid_search = GridSearchCV(\n",
    "    estimator=estimators,\n",
    "    param_grid=parameters,\n",
    "    n_jobs = -1,\n",
    "    cv = 5,\n",
    "    verbose=True\n",
    ")"
   ]
  },
  {
   "cell_type": "code",
   "execution_count": 9,
   "metadata": {
    "colab": {
     "base_uri": "https://localhost:8080/"
    },
    "id": "Vop_Q3o24h1F",
    "outputId": "f76e5960-c17d-490c-e3b8-923a21bfea13"
   },
   "outputs": [
    {
     "name": "stdout",
     "output_type": "stream",
     "text": [
      "Fitting 5 folds for each of 225 candidates, totalling 1125 fits\n",
      "CPU times: user 2min 51s, sys: 15.3 s, total: 3min 6s\n",
      "Wall time: 6h 58min 5s\n"
     ]
    },
    {
     "data": {
      "text/plain": [
       "GridSearchCV(cv=5,\n",
       "             estimator=XGBClassifier(alpha=0.5, eval_metric='logloss',\n",
       "                                     gamma=0.1),\n",
       "             n_jobs=-1,\n",
       "             param_grid={'colsample_bytree': [0.5, 0.6, 0.7, 0.8, 0.9],\n",
       "                         'eta': [0.01, 0.1, 0.2],\n",
       "                         'max_depth': [6, 10, 15, 20, 25],\n",
       "                         'subsample': [0.6, 0.8, 1.0]},\n",
       "             verbose=True)"
      ]
     },
     "execution_count": 9,
     "metadata": {},
     "output_type": "execute_result"
    }
   ],
   "source": [
    "%%time\n",
    "\n",
    "grid_search.fit(x_train, y_train)\n",
    "# Fitting 5 folds for each of 225 candidates, totalling 1125 fits\n",
    "# CPU times: user 2min 51s, sys: 15.3 s, total: 3min 6s\n",
    "# Wall time: 6h 58min 5s"
   ]
  },
  {
   "cell_type": "code",
   "execution_count": 10,
   "metadata": {
    "colab": {
     "base_uri": "https://localhost:8080/"
    },
    "id": "EzGHMfcs4oAP",
    "outputId": "f592f7f3-78ad-4bd5-c6ee-eac81545593e"
   },
   "outputs": [
    {
     "name": "stdout",
     "output_type": "stream",
     "text": [
      "Grid Search: 0.9878732004822354\n"
     ]
    }
   ],
   "source": [
    "filename = 'grid_all.sav'\n",
    "pickle.dump(grid_search, open(filename, 'wb'))\n",
    "print(\"Grid Search:\", grid_search.best_score_)"
   ]
  },
  {
   "cell_type": "markdown",
   "metadata": {
    "id": "6gtmF03TCzIL"
   },
   "source": [
    "### Randomized Search"
   ]
  },
  {
   "cell_type": "code",
   "execution_count": 27,
   "metadata": {
    "id": "ePRqo7qU4_fR"
   },
   "outputs": [],
   "source": [
    "estimators = xgb.XGBClassifier(\n",
    "                       gamma = 0.1,\n",
    "                       alpha = 0.5,\n",
    "                       objective = \"binary:logistic\",\n",
    "                       eval_metric = \"logloss\")\n",
    "\n",
    "\n",
    "parameters = {\n",
    "    'max_depth': [6, 10, 15, 20, 25],\n",
    "    'subsample': [0.6, 0.8, 1.0],\n",
    "    'eta': [0.01, 0.1, 0.2], \n",
    "    'colsample_bytree': [0.5, 0.6, 0.7, 0.8, 0.9],  \n",
    "}\n",
    "    \n",
    "random_search = RandomizedSearchCV(\n",
    "    estimator=estimators,\n",
    "    param_distributions=parameters,\n",
    "    n_jobs = -1,\n",
    "    cv = 5,\n",
    "    verbose=10,\n",
    "    n_iter=50,\n",
    "    random_state=123\n",
    ")"
   ]
  },
  {
   "cell_type": "code",
   "execution_count": 28,
   "metadata": {
    "colab": {
     "base_uri": "https://localhost:8080/"
    },
    "id": "SSeeAxx-5Adp",
    "outputId": "2f82d7ed-93e7-4682-b1aa-e7b9fcc4232e"
   },
   "outputs": [
    {
     "name": "stdout",
     "output_type": "stream",
     "text": [
      "Fitting 5 folds for each of 50 candidates, totalling 250 fits\n",
      "CPU times: user 1min 23s, sys: 3.63 s, total: 1min 27s\n",
      "Wall time: 1h 41min 3s\n"
     ]
    },
    {
     "data": {
      "text/plain": [
       "RandomizedSearchCV(cv=5,\n",
       "                   estimator=XGBClassifier(alpha=0.5, eval_metric='logloss',\n",
       "                                           gamma=0.1),\n",
       "                   n_iter=50, n_jobs=-1,\n",
       "                   param_distributions={'colsample_bytree': [0.5, 0.6, 0.7, 0.8,\n",
       "                                                             0.9],\n",
       "                                        'eta': [0.01, 0.1, 0.2],\n",
       "                                        'max_depth': [6, 10, 15, 20, 25],\n",
       "                                        'subsample': [0.6, 0.8, 1.0]},\n",
       "                   random_state=123, verbose=10)"
      ]
     },
     "execution_count": 28,
     "metadata": {},
     "output_type": "execute_result"
    }
   ],
   "source": [
    "%%time\n",
    "\n",
    "random_search.fit(x_train, y_train)\n",
    "# Fitting 5 folds for each of 50 candidates, totalling 250 fits\n",
    "# CPU times: user 1min 23s, sys: 3.7 s, total: 1min 27s\n",
    "# Wall time: 1h 29min 45s"
   ]
  },
  {
   "cell_type": "code",
   "execution_count": 29,
   "metadata": {
    "colab": {
     "base_uri": "https://localhost:8080/"
    },
    "id": "SnfhBftZ5DSG",
    "outputId": "27100e84-fa11-4bbe-94e6-3ef37c2101f0"
   },
   "outputs": [
    {
     "name": "stdout",
     "output_type": "stream",
     "text": [
      "{'subsample': 1.0, 'max_depth': 25, 'eta': 0.1, 'colsample_bytree': 0.7}\n",
      "Randomised Search: 0.9875186157010141\n"
     ]
    }
   ],
   "source": [
    "filename = 'random_all.sav'\n",
    "pickle.dump(random_search, open(filename, 'wb'))\n",
    "\n",
    "print(random_search.best_params_)\n",
    "print(\"Randomised Search:\", random_search.best_score_)"
   ]
  },
  {
   "cell_type": "markdown",
   "metadata": {
    "id": "l-PlH2YfC5p5"
   },
   "source": [
    "### Bayesian Optimisation"
   ]
  },
  {
   "cell_type": "code",
   "execution_count": 16,
   "metadata": {
    "id": "m0HbKt8E5G0U"
   },
   "outputs": [],
   "source": [
    "def xgboost_hyper_pram(eta, max_depth, subsample, gamma, colsample_bytree, alpha):\n",
    "    max_depth = int(max_depth)\n",
    "    clf = xgb.XGBClassifier(max_depth = max_depth, \n",
    "                           eta = eta, \n",
    "                           gamma = gamma,\n",
    "                           subsample = subsample,\n",
    "                           colsample_bytree = colsample_bytree,\n",
    "                           alpha = alpha,\n",
    "                           objective = \"binary:logistic\",\n",
    "                           eval_metric = \"logloss\")\n",
    "    \n",
    "    clf.fit(x_train, y_train)\n",
    "    y_pred = clf.predict(x_test)\n",
    "    \n",
    "    return (metrics.f1_score(y_test, y_pred))"
   ]
  },
  {
   "cell_type": "code",
   "execution_count": 17,
   "metadata": {
    "id": "hC5ujERK5I6g"
   },
   "outputs": [],
   "source": [
    "optim_model = BayesianOptimization(xgboost_hyper_pram, \n",
    "                                   {'max_depth' : (1, 30), \n",
    "                                   'eta' : (0, 0.2), \n",
    "                                   'gamma' : (0, 1),\n",
    "                                   'subsample' : (0, 1),\n",
    "                                   'colsample_bytree' : (0, 1),\n",
    "                                   'alpha' : (0, 1)},\n",
    "                                   random_state=123\n",
    "                                  )"
   ]
  },
  {
   "cell_type": "code",
   "execution_count": 18,
   "metadata": {
    "colab": {
     "base_uri": "https://localhost:8080/"
    },
    "id": "psSkNGkt5LlG",
    "outputId": "aebcaf37-aded-45c9-9224-30ffb669031c"
   },
   "outputs": [
    {
     "name": "stdout",
     "output_type": "stream",
     "text": [
      "|   iter    |  target   |   alpha   | colsam... |    eta    |   gamma   | max_depth | subsample |\n",
      "-------------------------------------------------------------------------------------------------\n",
      "| \u001b[0m1        \u001b[0m | \u001b[0m0.9388   \u001b[0m | \u001b[0m0.6965   \u001b[0m | \u001b[0m0.2861   \u001b[0m | \u001b[0m0.04537  \u001b[0m | \u001b[0m0.5513   \u001b[0m | \u001b[0m21.86    \u001b[0m | \u001b[0m0.4231   \u001b[0m |\n",
      "| \u001b[0m2        \u001b[0m | \u001b[0m0.8563   \u001b[0m | \u001b[0m0.9808   \u001b[0m | \u001b[0m0.6848   \u001b[0m | \u001b[0m0.09619  \u001b[0m | \u001b[0m0.3921   \u001b[0m | \u001b[0m10.95    \u001b[0m | \u001b[0m0.729    \u001b[0m |\n",
      "| \u001b[0m3        \u001b[0m | \u001b[0m0.5062   \u001b[0m | \u001b[0m0.4386   \u001b[0m | \u001b[0m0.05968  \u001b[0m | \u001b[0m0.07961  \u001b[0m | \u001b[0m0.738    \u001b[0m | \u001b[0m6.292    \u001b[0m | \u001b[0m0.1755   \u001b[0m |\n",
      "| \u001b[95m4        \u001b[0m | \u001b[95m0.9702   \u001b[0m | \u001b[95m0.5316   \u001b[0m | \u001b[95m0.5318   \u001b[0m | \u001b[95m0.1269   \u001b[0m | \u001b[95m0.8494   \u001b[0m | \u001b[95m22.01    \u001b[0m | \u001b[95m0.611    \u001b[0m |\n",
      "| \u001b[0m5        \u001b[0m | \u001b[0m0.7756   \u001b[0m | \u001b[0m0.7224   \u001b[0m | \u001b[0m0.323    \u001b[0m | \u001b[0m0.07236  \u001b[0m | \u001b[0m0.2283   \u001b[0m | \u001b[0m9.518    \u001b[0m | \u001b[0m0.631    \u001b[0m |\n",
      "| \u001b[0m6        \u001b[0m | \u001b[0m0.8856   \u001b[0m | \u001b[0m0.0921   \u001b[0m | \u001b[0m0.4337   \u001b[0m | \u001b[0m0.08617  \u001b[0m | \u001b[0m0.4937   \u001b[0m | \u001b[0m13.35    \u001b[0m | \u001b[0m0.3123   \u001b[0m |\n",
      "| \u001b[0m7        \u001b[0m | \u001b[0m0.869    \u001b[0m | \u001b[0m0.4264   \u001b[0m | \u001b[0m0.8934   \u001b[0m | \u001b[0m0.1888   \u001b[0m | \u001b[0m0.5018   \u001b[0m | \u001b[0m19.09    \u001b[0m | \u001b[0m0.1156   \u001b[0m |\n",
      "| \u001b[0m8        \u001b[0m | \u001b[0m0.9632   \u001b[0m | \u001b[0m0.3173   \u001b[0m | \u001b[0m0.4148   \u001b[0m | \u001b[0m0.1733   \u001b[0m | \u001b[0m0.2505   \u001b[0m | \u001b[0m15.01    \u001b[0m | \u001b[0m0.9856   \u001b[0m |\n",
      "| \u001b[0m9        \u001b[0m | \u001b[0m0.9646   \u001b[0m | \u001b[0m0.5195   \u001b[0m | \u001b[0m0.6129   \u001b[0m | \u001b[0m0.02413  \u001b[0m | \u001b[0m0.8263   \u001b[0m | \u001b[0m18.49    \u001b[0m | \u001b[0m0.5451   \u001b[0m |\n",
      "| \u001b[0m10       \u001b[0m | \u001b[0m0.9547   \u001b[0m | \u001b[0m0.3428   \u001b[0m | \u001b[0m0.3041   \u001b[0m | \u001b[0m0.0834   \u001b[0m | \u001b[0m0.6813   \u001b[0m | \u001b[0m26.39    \u001b[0m | \u001b[0m0.5104   \u001b[0m |\n",
      "| \u001b[0m11       \u001b[0m | \u001b[0m0.8045   \u001b[0m | \u001b[0m0.6693   \u001b[0m | \u001b[0m0.5859   \u001b[0m | \u001b[0m0.125    \u001b[0m | \u001b[0m0.6747   \u001b[0m | \u001b[0m25.43    \u001b[0m | \u001b[0m0.08319  \u001b[0m |\n",
      "| \u001b[0m12       \u001b[0m | \u001b[0m0.5845   \u001b[0m | \u001b[0m0.7637   \u001b[0m | \u001b[0m0.2437   \u001b[0m | \u001b[0m0.03884  \u001b[0m | \u001b[0m0.5725   \u001b[0m | \u001b[0m3.776    \u001b[0m | \u001b[0m0.8853   \u001b[0m |\n",
      "| \u001b[0m13       \u001b[0m | \u001b[0m0.892    \u001b[0m | \u001b[0m0.6272   \u001b[0m | \u001b[0m0.7234   \u001b[0m | \u001b[0m0.003226 \u001b[0m | \u001b[0m0.5944   \u001b[0m | \u001b[0m17.15    \u001b[0m | \u001b[0m0.159    \u001b[0m |\n",
      "| \u001b[0m14       \u001b[0m | \u001b[0m0.9554   \u001b[0m | \u001b[0m0.1531   \u001b[0m | \u001b[0m0.6955   \u001b[0m | \u001b[0m0.06375  \u001b[0m | \u001b[0m0.692    \u001b[0m | \u001b[0m17.08    \u001b[0m | \u001b[0m0.389    \u001b[0m |\n",
      "| \u001b[0m15       \u001b[0m | \u001b[0m0.8133   \u001b[0m | \u001b[0m0.9251   \u001b[0m | \u001b[0m0.8417   \u001b[0m | \u001b[0m0.07148  \u001b[0m | \u001b[0m0.04359  \u001b[0m | \u001b[0m9.838    \u001b[0m | \u001b[0m0.3982   \u001b[0m |\n",
      "| \u001b[95m16       \u001b[0m | \u001b[95m0.9717   \u001b[0m | \u001b[95m0.705    \u001b[0m | \u001b[95m0.9954   \u001b[0m | \u001b[95m0.07118  \u001b[0m | \u001b[95m0.7625   \u001b[0m | \u001b[95m18.2     \u001b[0m | \u001b[95m0.6917   \u001b[0m |\n",
      "| \u001b[0m17       \u001b[0m | \u001b[0m0.9515   \u001b[0m | \u001b[0m0.1511   \u001b[0m | \u001b[0m0.3989   \u001b[0m | \u001b[0m0.04817  \u001b[0m | \u001b[0m0.3435   \u001b[0m | \u001b[0m15.88    \u001b[0m | \u001b[0m0.6666   \u001b[0m |\n",
      "| \u001b[0m18       \u001b[0m | \u001b[0m0.8083   \u001b[0m | \u001b[0m0.1059   \u001b[0m | \u001b[0m0.1309   \u001b[0m | \u001b[0m0.0644   \u001b[0m | \u001b[0m0.6616   \u001b[0m | \u001b[0m25.55    \u001b[0m | \u001b[0m0.5533   \u001b[0m |\n",
      "| \u001b[0m19       \u001b[0m | \u001b[0m0.6478   \u001b[0m | \u001b[0m0.8545   \u001b[0m | \u001b[0m0.3848   \u001b[0m | \u001b[0m0.06336  \u001b[0m | \u001b[0m0.3543   \u001b[0m | \u001b[0m5.961    \u001b[0m | \u001b[0m0.8291   \u001b[0m |\n",
      "| \u001b[0m20       \u001b[0m | \u001b[0m0.4681   \u001b[0m | \u001b[0m0.3387   \u001b[0m | \u001b[0m0.5524   \u001b[0m | \u001b[0m0.1157   \u001b[0m | \u001b[0m0.5215   \u001b[0m | \u001b[0m1.078    \u001b[0m | \u001b[0m0.9883   \u001b[0m |\n",
      "| \u001b[0m21       \u001b[0m | \u001b[0m0.9636   \u001b[0m | \u001b[0m0.9053   \u001b[0m | \u001b[0m0.2076   \u001b[0m | \u001b[0m0.0585   \u001b[0m | \u001b[0m0.52     \u001b[0m | \u001b[0m27.16    \u001b[0m | \u001b[0m0.9836   \u001b[0m |\n",
      "| \u001b[0m22       \u001b[0m | \u001b[0m0.8989   \u001b[0m | \u001b[0m0.2575   \u001b[0m | \u001b[0m0.5644   \u001b[0m | \u001b[0m0.1614   \u001b[0m | \u001b[0m0.3944   \u001b[0m | \u001b[0m22.2     \u001b[0m | \u001b[0m0.1611   \u001b[0m |\n",
      "| \u001b[0m23       \u001b[0m | \u001b[0m0.8911   \u001b[0m | \u001b[0m0.6007   \u001b[0m | \u001b[0m0.8659   \u001b[0m | \u001b[0m0.1967   \u001b[0m | \u001b[0m0.07937  \u001b[0m | \u001b[0m13.42    \u001b[0m | \u001b[0m0.2045   \u001b[0m |\n",
      "| \u001b[95m24       \u001b[0m | \u001b[95m0.9746   \u001b[0m | \u001b[95m0.4506   \u001b[0m | \u001b[95m0.5478   \u001b[0m | \u001b[95m0.01867  \u001b[0m | \u001b[95m0.2969   \u001b[0m | \u001b[95m27.9     \u001b[0m | \u001b[95m0.569    \u001b[0m |\n",
      "| \u001b[95m25       \u001b[0m | \u001b[95m0.9802   \u001b[0m | \u001b[95m0.4574   \u001b[0m | \u001b[95m0.7535   \u001b[0m | \u001b[95m0.1484   \u001b[0m | \u001b[95m0.04858  \u001b[0m | \u001b[95m21.55    \u001b[0m | \u001b[95m0.8392   \u001b[0m |\n",
      "| \u001b[0m26       \u001b[0m | \u001b[0m0.9762   \u001b[0m | \u001b[0m0.0      \u001b[0m | \u001b[0m0.6148   \u001b[0m | \u001b[0m0.05523  \u001b[0m | \u001b[0m1.0      \u001b[0m | \u001b[0m17.81    \u001b[0m | \u001b[0m1.0      \u001b[0m |\n",
      "| \u001b[0m27       \u001b[0m | \u001b[0m0.9771   \u001b[0m | \u001b[0m0.814    \u001b[0m | \u001b[0m1.0      \u001b[0m | \u001b[0m0.06013  \u001b[0m | \u001b[0m1.0      \u001b[0m | \u001b[0m21.29    \u001b[0m | \u001b[0m1.0      \u001b[0m |\n",
      "| \u001b[0m28       \u001b[0m | \u001b[0m0.9145   \u001b[0m | \u001b[0m0.0      \u001b[0m | \u001b[0m0.4692   \u001b[0m | \u001b[0m0.2      \u001b[0m | \u001b[0m1.0      \u001b[0m | \u001b[0m27.37    \u001b[0m | \u001b[0m0.2156   \u001b[0m |\n",
      "| \u001b[0m29       \u001b[0m | \u001b[0m0.9791   \u001b[0m | \u001b[0m0.3632   \u001b[0m | \u001b[0m1.0      \u001b[0m | \u001b[0m0.0      \u001b[0m | \u001b[0m0.0      \u001b[0m | \u001b[0m27.06    \u001b[0m | \u001b[0m0.7809   \u001b[0m |\n",
      "| \u001b[0m30       \u001b[0m | \u001b[0m0.9703   \u001b[0m | \u001b[0m0.0      \u001b[0m | \u001b[0m0.2806   \u001b[0m | \u001b[0m0.2      \u001b[0m | \u001b[0m1.0      \u001b[0m | \u001b[0m21.45    \u001b[0m | \u001b[0m1.0      \u001b[0m |\n",
      "| \u001b[0m31       \u001b[0m | \u001b[0m0.0      \u001b[0m | \u001b[0m0.9995   \u001b[0m | \u001b[0m0.00042  \u001b[0m | \u001b[0m0.0      \u001b[0m | \u001b[0m0.0      \u001b[0m | \u001b[0m27.27    \u001b[0m | \u001b[0m0.0      \u001b[0m |\n",
      "| \u001b[0m32       \u001b[0m | \u001b[0m0.9788   \u001b[0m | \u001b[0m0.3269   \u001b[0m | \u001b[0m0.7368   \u001b[0m | \u001b[0m0.0545   \u001b[0m | \u001b[0m0.6367   \u001b[0m | \u001b[0m27.52    \u001b[0m | \u001b[0m1.0      \u001b[0m |\n",
      "| \u001b[0m33       \u001b[0m | \u001b[0m0.97     \u001b[0m | \u001b[0m0.297    \u001b[0m | \u001b[0m0.3132   \u001b[0m | \u001b[0m0.109    \u001b[0m | \u001b[0m0.9925   \u001b[0m | \u001b[0m26.83    \u001b[0m | \u001b[0m0.9624   \u001b[0m |\n",
      "| \u001b[0m34       \u001b[0m | \u001b[0m0.9794   \u001b[0m | \u001b[0m0.2115   \u001b[0m | \u001b[0m0.8382   \u001b[0m | \u001b[0m0.03058  \u001b[0m | \u001b[0m0.206    \u001b[0m | \u001b[0m28.19    \u001b[0m | \u001b[0m0.8529   \u001b[0m |\n",
      "| \u001b[0m35       \u001b[0m | \u001b[0m0.9794   \u001b[0m | \u001b[0m0.3114   \u001b[0m | \u001b[0m0.6576   \u001b[0m | \u001b[0m0.04275  \u001b[0m | \u001b[0m0.5124   \u001b[0m | \u001b[0m26.7     \u001b[0m | \u001b[0m0.9734   \u001b[0m |\n",
      "| \u001b[95m36       \u001b[0m | \u001b[95m0.9806   \u001b[0m | \u001b[95m0.6874   \u001b[0m | \u001b[95m0.4729   \u001b[0m | \u001b[95m0.06873  \u001b[0m | \u001b[95m0.6679   \u001b[0m | \u001b[95m28.11    \u001b[0m | \u001b[95m1.0      \u001b[0m |\n",
      "| \u001b[0m37       \u001b[0m | \u001b[0m0.9711   \u001b[0m | \u001b[0m0.2102   \u001b[0m | \u001b[0m0.9219   \u001b[0m | \u001b[0m0.1539   \u001b[0m | \u001b[0m0.6375   \u001b[0m | \u001b[0m21.2     \u001b[0m | \u001b[0m0.5236   \u001b[0m |\n",
      "| \u001b[95m38       \u001b[0m | \u001b[95m0.9812   \u001b[0m | \u001b[95m0.8436   \u001b[0m | \u001b[95m0.6686   \u001b[0m | \u001b[95m0.02146  \u001b[0m | \u001b[95m0.8541   \u001b[0m | \u001b[95m27.26    \u001b[0m | \u001b[95m0.9813   \u001b[0m |\n",
      "| \u001b[0m39       \u001b[0m | \u001b[0m0.9799   \u001b[0m | \u001b[0m0.6044   \u001b[0m | \u001b[0m0.8839   \u001b[0m | \u001b[0m0.2      \u001b[0m | \u001b[0m0.1698   \u001b[0m | \u001b[0m27.67    \u001b[0m | \u001b[0m1.0      \u001b[0m |\n",
      "| \u001b[0m40       \u001b[0m | \u001b[0m0.975    \u001b[0m | \u001b[0m0.7237   \u001b[0m | \u001b[0m0.3172   \u001b[0m | \u001b[0m0.2      \u001b[0m | \u001b[0m0.4289   \u001b[0m | \u001b[0m20.82    \u001b[0m | \u001b[0m1.0      \u001b[0m |\n",
      "=================================================================================================\n",
      "CPU times: user 22min 42s, sys: 3.66 s, total: 22min 46s\n",
      "Wall time: 22min 41s\n"
     ]
    }
   ],
   "source": [
    "%%time \n",
    "\n",
    "optim_model.maximize(n_iter=15, init_points=25, acq='ei')\n",
    "\n",
    "# CPU times: user 22min 42s, sys: 3.66 s, total: 22min 46s\n",
    "# Wall time: 22min 41s"
   ]
  },
  {
   "cell_type": "code",
   "execution_count": null,
   "metadata": {
    "colab": {
     "base_uri": "https://localhost:8080/",
     "height": 187
    },
    "id": "YWBAg2Cl5QIX",
    "outputId": "d19e4deb-09da-4f10-8bc4-73b0aa418821"
   },
   "outputs": [
    {
     "ename": "TypeError",
     "evalue": "ignored",
     "output_type": "error",
     "traceback": [
      "\u001b[0;31m---------------------------------------------------------------------------\u001b[0m",
      "\u001b[0;31mTypeError\u001b[0m                                 Traceback (most recent call last)",
      "\u001b[0;32m<ipython-input-59-6bf55f1fadcc>\u001b[0m in \u001b[0;36m<module>\u001b[0;34m\u001b[0m\n\u001b[1;32m      1\u001b[0m \u001b[0mfilename\u001b[0m \u001b[0;34m=\u001b[0m \u001b[0;34m'bayesian_all.sav'\u001b[0m\u001b[0;34m\u001b[0m\u001b[0;34m\u001b[0m\u001b[0m\n\u001b[0;32m----> 2\u001b[0;31m \u001b[0mpickle\u001b[0m\u001b[0;34m.\u001b[0m\u001b[0mdump\u001b[0m\u001b[0;34m(\u001b[0m\u001b[0moptim_model\u001b[0m\u001b[0;34m,\u001b[0m \u001b[0mopen\u001b[0m\u001b[0;34m(\u001b[0m\u001b[0mfilename\u001b[0m\u001b[0;34m,\u001b[0m \u001b[0;34m'wb'\u001b[0m\u001b[0;34m)\u001b[0m\u001b[0;34m)\u001b[0m\u001b[0;34m\u001b[0m\u001b[0;34m\u001b[0m\u001b[0m\n\u001b[0m",
      "\u001b[0;31mTypeError\u001b[0m: can't pickle _thread.lock objects"
     ]
    }
   ],
   "source": [
    "filename = 'bayesian_all.sav'\n",
    "pickle.dump(optim_model, open(filename, 'wb'))"
   ]
  },
  {
   "cell_type": "code",
   "execution_count": 19,
   "metadata": {
    "colab": {
     "base_uri": "https://localhost:8080/"
    },
    "id": "iozevB1w5Rv9",
    "outputId": "5e16b56e-ac38-444e-982c-ddba7e2dd526"
   },
   "outputs": [
    {
     "data": {
      "text/plain": [
       "{'alpha': 0.8436421097748512,\n",
       " 'colsample_bytree': 0.6685953113709966,\n",
       " 'eta': 0.0214565877274723,\n",
       " 'gamma': 0.8540590553597049,\n",
       " 'max_depth': 27.26128835551919,\n",
       " 'subsample': 0.9813200463960863}"
      ]
     },
     "execution_count": 19,
     "metadata": {},
     "output_type": "execute_result"
    }
   ],
   "source": [
    "optim_model.max[\"params\"]"
   ]
  },
  {
   "cell_type": "code",
   "execution_count": 20,
   "metadata": {
    "colab": {
     "base_uri": "https://localhost:8080/"
    },
    "id": "RM-B3Lkb5TvD",
    "outputId": "5d01e78d-2965-4685-8ff4-4c2db67d7a2d"
   },
   "outputs": [
    {
     "name": "stdout",
     "output_type": "stream",
     "text": [
      "Best score: 0.9811807166795566\n"
     ]
    }
   ],
   "source": [
    "params = optim_model.max['params']\n",
    "print(\"Best score:\", optim_model.max[\"target\"])"
   ]
  },
  {
   "cell_type": "markdown",
   "metadata": {
    "id": "oYq4yZ_jDMpW"
   },
   "source": [
    "### Comparing Model Scores"
   ]
  },
  {
   "cell_type": "code",
   "execution_count": 30,
   "metadata": {
    "colab": {
     "base_uri": "https://localhost:8080/"
    },
    "id": "92DB_4DY5UTA",
    "outputId": "5740aa5f-a59a-4819-b436-66096f8d6225"
   },
   "outputs": [
    {
     "name": "stdout",
     "output_type": "stream",
     "text": [
      "Grid Search: 0.9878732004822354\n",
      "Randomised Search: 0.9875186157010141\n",
      "Bayesian Optimisation: 0.9811807166795566\n"
     ]
    }
   ],
   "source": [
    "print(\"Grid Search:\", grid_search.best_score_) \n",
    "print(\"Randomised Search:\", random_search.best_score_) \n",
    "print(\"Bayesian Optimisation:\", optim_model.max[\"target\"]) "
   ]
  },
  {
   "cell_type": "code",
   "execution_count": 21,
   "metadata": {
    "id": "VO1ru0WN5YQS"
   },
   "outputs": [],
   "source": [
    "#Tuned hyperparameters using \n",
    "# params = grid_search.best_params_\n",
    "final_model_all = xgb.XGBClassifier(max_depth = int(params['max_depth']), \n",
    "                           eta = params['eta'], \n",
    "                           gamma = params['gamma'],\n",
    "                           subsample = params['subsample'],\n",
    "                           colsample_bytree = params['colsample_bytree'],\n",
    "                           alpha = params['alpha'],\n",
    "                           objective = \"binary:logistic\",\n",
    "                           eval_metric = \"logloss\")\n",
    "\n",
    "xgbmodel_all_tuned = final_model_all.fit(x_train, y_train)"
   ]
  },
  {
   "cell_type": "code",
   "execution_count": 22,
   "metadata": {
    "id": "Ph4FVaiN5Y9f"
   },
   "outputs": [],
   "source": [
    "filename = 'final_all.sav'\n",
    "pickle.dump(xgbmodel_all_tuned, open(filename, 'wb'))"
   ]
  },
  {
   "cell_type": "code",
   "execution_count": 23,
   "metadata": {
    "id": "4Yez6C7e5bJ7"
   },
   "outputs": [],
   "source": [
    "y_pred_all = xgbmodel_all_tuned.predict(x_test)"
   ]
  },
  {
   "cell_type": "code",
   "execution_count": 24,
   "metadata": {
    "colab": {
     "base_uri": "https://localhost:8080/"
    },
    "id": "0xOHMVEh5ggf",
    "outputId": "b47d8c91-0b75-422e-fee7-d3bb16867c83"
   },
   "outputs": [
    {
     "name": "stdout",
     "output_type": "stream",
     "text": [
      "Log Loss: 0.2860772078508873\n",
      "ROC AUC: 0.9838555067045864\n",
      "Precision: 0.9929559092094965\n",
      "Recall: 0.9696815286624204\n",
      "F1-score: 0.9811807166795566\n"
     ]
    }
   ],
   "source": [
    "lg_loss = metrics.log_loss(y_test, y_pred_all)\n",
    "print(f'Log Loss: {lg_loss}')\n",
    "roc_auc = metrics.roc_auc_score(y_test, y_pred_all)\n",
    "print(f'ROC AUC: {roc_auc}')\n",
    "precision = metrics.precision_score(y_test, y_pred_all)\n",
    "print(f'Precision: {precision}')\n",
    "recall = metrics.recall_score(y_test, y_pred_all)\n",
    "print(f'Recall: {recall}')\n",
    "f1_score = metrics.f1_score(y_test, y_pred_all)\n",
    "print(f'F1-score: {f1_score}')\n",
    "# print(classification_report(y_test, y_pred_all)) \n",
    "# 0.9801546391752578 gs\n",
    "# 0.9805337114863993 rs\n",
    "# 0.9811807166795566 bo"
   ]
  },
  {
   "cell_type": "code",
   "execution_count": 25,
   "metadata": {
    "colab": {
     "base_uri": "https://localhost:8080/",
     "height": 1000
    },
    "id": "JaeWUfyH5iyM",
    "outputId": "b94f7508-d352-4496-ac1d-e1716f30c01e"
   },
   "outputs": [
    {
     "data": {
      "image/png": "[encoded data removed]",
      "text/plain": [
       "<Figure size 864x1296 with 1 Axes>"
      ]
     },
     "metadata": {
      "needs_background": "light"
     },
     "output_type": "display_data"
    }
   ],
   "source": [
    "fig, ax = plt.subplots(figsize=(12,18))\n",
    "xgb.plot_importance(xgbmodel_all_tuned, importance_type = 'gain', height=0.8, ax=ax)\n",
    "plt.show()"
   ]
  }
 ],
 "metadata": {
  "colab": {
   "collapsed_sections": [],
   "provenance": []
  },
  "kernelspec": {
   "display_name": "Python 3 (ipykernel)",
   "language": "python",
   "name": "python3"
  },
  "language_info": {
   "codemirror_mode": {
    "name": "ipython",
    "version": 3
   },
   "file_extension": ".py",
   "mimetype": "text/x-python",
   "name": "python",
   "nbconvert_exporter": "python",
   "pygments_lexer": "ipython3",
   "version": "3.9.12"
  }
 },
 "nbformat": 4,
 "nbformat_minor": 1
}
