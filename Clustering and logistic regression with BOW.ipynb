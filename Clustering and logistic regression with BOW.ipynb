{
 "cells": [
  {
   "cell_type": "code",
   "execution_count": 75,
   "id": "530292dc",
   "metadata": {},
   "outputs": [],
   "source": [
    "#Importing of necessary packages\n",
    "import pandas as pd\n",
    "import numpy as np\n",
    "from datetime import datetime\n",
    "import matplotlib.pyplot as plt\n",
    "import seaborn as sns\n",
    "import nltk\n",
    "import re\n",
    "import pandas as pd\n",
    "import numpy as np\n",
    "from datetime import datetime\n",
    "import matplotlib.pyplot as plt\n",
    "import seaborn as sns\n",
    "from bs4 import BeautifulSoup\n",
    "import re\n",
    "import nltk\n",
    "from nltk.corpus import stopwords\n",
    "from nltk.stem import WordNetLemmatizer, PorterStemmer\n",
    "from nltk.stem.snowball import SnowballStemmer\n",
    "from nltk.tokenize import word_tokenize\n",
    "from sklearn.feature_extraction.text import CountVectorizer\n",
    "from googletrans import Translator\n",
    "from wordcloud import WordCloud\n",
    "from sklearn.feature_extraction.text import TfidfVectorizer, TfidfTransformer\n",
    "from sklearn.cluster import KMeans\n",
    "from sklearn.linear_model import LogisticRegression\n",
    "from sklearn.model_selection import train_test_split\n",
    "from sklearn.metrics import confusion_matrix\n",
    "from sklearn.metrics import ConfusionMatrixDisplay, recall_score, precision_score\n",
    "import matplotlib.pyplot as plt"
   ]
  },
  {
   "cell_type": "code",
   "execution_count": 30,
   "id": "21b001a3",
   "metadata": {},
   "outputs": [],
   "source": [
    "#The first step would be to convert the words into bag of word vectors\n",
    "tweets = pd.read_csv(\"cleaned_tweets_dataset.csv\")"
   ]
  },
  {
   "cell_type": "code",
   "execution_count": 31,
   "id": "eddd18c9",
   "metadata": {},
   "outputs": [],
   "source": [
    "stop = list(stopwords.words('english'))\n",
    "\n",
    "contextual_stop = ['day','new','one', 'time','need']\n",
    "stop = stop + contextual_stop\n",
    "#initialize a lemmatizer\n",
    "lemmatizer = WordNetLemmatizer()"
   ]
  },
  {
   "cell_type": "code",
   "execution_count": 32,
   "id": "6c17b9c8",
   "metadata": {},
   "outputs": [],
   "source": [
    "#Tokenize the words into a list\n",
    "tweets['tokenized'] = tweets.text.apply(word_tokenize)"
   ]
  },
  {
   "cell_type": "code",
   "execution_count": 33,
   "id": "d414c09b",
   "metadata": {},
   "outputs": [],
   "source": [
    "#Removed stop words\n",
    "tweets['processed_data'] = tweets.tokenized.apply(lambda x: [word.casefold() for word in x if word.casefold() not in stop\n",
    "                                                                    and word not in contextual_stop])\n",
    "#lemmatize the words\n",
    "tweets['processed_data'] = tweets.processed_data.apply(lambda x:[lemmatizer.lemmatize(word) for word in x])\n",
    "\n",
    "tweets['sentence'] = tweets['processed_data'].apply(lambda x : \" \".join(x))"
   ]
  },
  {
   "cell_type": "code",
   "execution_count": 34,
   "id": "c763a187",
   "metadata": {},
   "outputs": [],
   "source": [
    "#Next, we initialize a count vectorizer and transform the text into Bag of Words vectors\n",
    "vectorizer = CountVectorizer(max_df = 0.5, min_df = 10)\n",
    "#Create an array that contains the BOW representation of each tweet\n",
    "bow_array  = vectorizer.fit_transform(tweets['sentence'])\n",
    "#Converting the result into a pandas dataframe\n",
    "bow = pd.DataFrame(bow_array.toarray(),columns = vectorizer.get_feature_names_out())\n"
   ]
  },
  {
   "cell_type": "code",
   "execution_count": 35,
   "id": "49b05048",
   "metadata": {},
   "outputs": [
    {
     "data": {
      "text/html": [
       "<div>\n",
       "<style scoped>\n",
       "    .dataframe tbody tr th:only-of-type {\n",
       "        vertical-align: middle;\n",
       "    }\n",
       "\n",
       "    .dataframe tbody tr th {\n",
       "        vertical-align: top;\n",
       "    }\n",
       "\n",
       "    .dataframe thead th {\n",
       "        text-align: right;\n",
       "    }\n",
       "</style>\n",
       "<table border=\"1\" class=\"dataframe\">\n",
       "  <thead>\n",
       "    <tr style=\"text-align: right;\">\n",
       "      <th></th>\n",
       "      <th>00</th>\n",
       "      <th>000</th>\n",
       "      <th>00am</th>\n",
       "      <th>00pm</th>\n",
       "      <th>01</th>\n",
       "      <th>02</th>\n",
       "      <th>03</th>\n",
       "      <th>04</th>\n",
       "      <th>05</th>\n",
       "      <th>06</th>\n",
       "      <th>...</th>\n",
       "      <th>yr</th>\n",
       "      <th>yt</th>\n",
       "      <th>yummy</th>\n",
       "      <th>yup</th>\n",
       "      <th>zealand</th>\n",
       "      <th>zero</th>\n",
       "      <th>zombie</th>\n",
       "      <th>zone</th>\n",
       "      <th>zoo</th>\n",
       "      <th>zoom</th>\n",
       "    </tr>\n",
       "  </thead>\n",
       "  <tbody>\n",
       "    <tr>\n",
       "      <th>0</th>\n",
       "      <td>0</td>\n",
       "      <td>0</td>\n",
       "      <td>0</td>\n",
       "      <td>0</td>\n",
       "      <td>0</td>\n",
       "      <td>0</td>\n",
       "      <td>0</td>\n",
       "      <td>0</td>\n",
       "      <td>0</td>\n",
       "      <td>0</td>\n",
       "      <td>...</td>\n",
       "      <td>0</td>\n",
       "      <td>0</td>\n",
       "      <td>0</td>\n",
       "      <td>0</td>\n",
       "      <td>0</td>\n",
       "      <td>0</td>\n",
       "      <td>0</td>\n",
       "      <td>0</td>\n",
       "      <td>0</td>\n",
       "      <td>0</td>\n",
       "    </tr>\n",
       "    <tr>\n",
       "      <th>1</th>\n",
       "      <td>0</td>\n",
       "      <td>0</td>\n",
       "      <td>0</td>\n",
       "      <td>0</td>\n",
       "      <td>0</td>\n",
       "      <td>0</td>\n",
       "      <td>0</td>\n",
       "      <td>0</td>\n",
       "      <td>0</td>\n",
       "      <td>0</td>\n",
       "      <td>...</td>\n",
       "      <td>0</td>\n",
       "      <td>0</td>\n",
       "      <td>0</td>\n",
       "      <td>0</td>\n",
       "      <td>0</td>\n",
       "      <td>0</td>\n",
       "      <td>0</td>\n",
       "      <td>0</td>\n",
       "      <td>0</td>\n",
       "      <td>0</td>\n",
       "    </tr>\n",
       "    <tr>\n",
       "      <th>2</th>\n",
       "      <td>0</td>\n",
       "      <td>0</td>\n",
       "      <td>0</td>\n",
       "      <td>0</td>\n",
       "      <td>0</td>\n",
       "      <td>0</td>\n",
       "      <td>0</td>\n",
       "      <td>0</td>\n",
       "      <td>0</td>\n",
       "      <td>0</td>\n",
       "      <td>...</td>\n",
       "      <td>0</td>\n",
       "      <td>0</td>\n",
       "      <td>0</td>\n",
       "      <td>0</td>\n",
       "      <td>0</td>\n",
       "      <td>0</td>\n",
       "      <td>0</td>\n",
       "      <td>0</td>\n",
       "      <td>0</td>\n",
       "      <td>0</td>\n",
       "    </tr>\n",
       "    <tr>\n",
       "      <th>3</th>\n",
       "      <td>0</td>\n",
       "      <td>0</td>\n",
       "      <td>0</td>\n",
       "      <td>0</td>\n",
       "      <td>0</td>\n",
       "      <td>0</td>\n",
       "      <td>0</td>\n",
       "      <td>0</td>\n",
       "      <td>0</td>\n",
       "      <td>0</td>\n",
       "      <td>...</td>\n",
       "      <td>0</td>\n",
       "      <td>0</td>\n",
       "      <td>0</td>\n",
       "      <td>0</td>\n",
       "      <td>0</td>\n",
       "      <td>0</td>\n",
       "      <td>0</td>\n",
       "      <td>0</td>\n",
       "      <td>0</td>\n",
       "      <td>0</td>\n",
       "    </tr>\n",
       "    <tr>\n",
       "      <th>4</th>\n",
       "      <td>0</td>\n",
       "      <td>0</td>\n",
       "      <td>0</td>\n",
       "      <td>0</td>\n",
       "      <td>0</td>\n",
       "      <td>0</td>\n",
       "      <td>0</td>\n",
       "      <td>0</td>\n",
       "      <td>0</td>\n",
       "      <td>0</td>\n",
       "      <td>...</td>\n",
       "      <td>0</td>\n",
       "      <td>0</td>\n",
       "      <td>0</td>\n",
       "      <td>0</td>\n",
       "      <td>0</td>\n",
       "      <td>0</td>\n",
       "      <td>0</td>\n",
       "      <td>0</td>\n",
       "      <td>0</td>\n",
       "      <td>0</td>\n",
       "    </tr>\n",
       "  </tbody>\n",
       "</table>\n",
       "<p>5 rows × 6000 columns</p>\n",
       "</div>"
      ],
      "text/plain": [
       "   00  000  00am  00pm  01  02  03  04  05  06  ...  yr  yt  yummy  yup  \\\n",
       "0   0    0     0     0   0   0   0   0   0   0  ...   0   0      0    0   \n",
       "1   0    0     0     0   0   0   0   0   0   0  ...   0   0      0    0   \n",
       "2   0    0     0     0   0   0   0   0   0   0  ...   0   0      0    0   \n",
       "3   0    0     0     0   0   0   0   0   0   0  ...   0   0      0    0   \n",
       "4   0    0     0     0   0   0   0   0   0   0  ...   0   0      0    0   \n",
       "\n",
       "   zealand  zero  zombie  zone  zoo  zoom  \n",
       "0        0     0       0     0    0     0  \n",
       "1        0     0       0     0    0     0  \n",
       "2        0     0       0     0    0     0  \n",
       "3        0     0       0     0    0     0  \n",
       "4        0     0       0     0    0     0  \n",
       "\n",
       "[5 rows x 6000 columns]"
      ]
     },
     "execution_count": 35,
     "metadata": {},
     "output_type": "execute_result"
    }
   ],
   "source": [
    "bow.head()"
   ]
  },
  {
   "cell_type": "code",
   "execution_count": 36,
   "id": "905f69ba",
   "metadata": {},
   "outputs": [
    {
     "data": {
      "text/plain": [
       "human    42912\n",
       "bot      10772\n",
       "Name: account_type, dtype: int64"
      ]
     },
     "execution_count": 36,
     "metadata": {},
     "output_type": "execute_result"
    }
   ],
   "source": [
    "#Originally, the proportion of human tweets against bot tweets is as follows:\n",
    "tweets.account_type.value_counts()"
   ]
  },
  {
   "cell_type": "code",
   "execution_count": 37,
   "id": "afbb56e0",
   "metadata": {},
   "outputs": [],
   "source": [
    "#Approximately 80% of the tweets are human tweets while the remaining 10772 tweets are bot tweets"
   ]
  },
  {
   "cell_type": "code",
   "execution_count": 38,
   "id": "8bc0471e",
   "metadata": {},
   "outputs": [
    {
     "data": {
      "text/plain": [
       "KMeans(n_clusters=2)"
      ]
     },
     "execution_count": 38,
     "metadata": {},
     "output_type": "execute_result"
    }
   ],
   "source": [
    "#Fitting a simple K means with 2 clusters to see whether there is fundamental differences in BOW vectors between the 2 types\n",
    "#of tweets\n",
    "#Keep n = 2 because in our dataset we have 2 obvious clusters (bot tweets and human tweets)\n",
    "kmeans = KMeans(n_clusters = 2)\n",
    "kmeans.fit(bow)"
   ]
  },
  {
   "cell_type": "code",
   "execution_count": 39,
   "id": "b3a0c348",
   "metadata": {},
   "outputs": [
    {
     "data": {
      "text/plain": [
       "array([0, 0, 0, ..., 0, 0, 0])"
      ]
     },
     "execution_count": 39,
     "metadata": {},
     "output_type": "execute_result"
    }
   ],
   "source": [
    "kmeans.labels_"
   ]
  },
  {
   "cell_type": "code",
   "execution_count": 40,
   "id": "c98e5b36",
   "metadata": {},
   "outputs": [],
   "source": [
    "tweets['clusters'] = kmeans.labels_"
   ]
  },
  {
   "cell_type": "code",
   "execution_count": 41,
   "id": "fc9777f3",
   "metadata": {},
   "outputs": [],
   "source": [
    "#Having a look at the first cluster\n",
    "first_cluster = tweets[tweets['clusters'] == 1]"
   ]
  },
  {
   "cell_type": "code",
   "execution_count": 42,
   "id": "f0df71ed",
   "metadata": {},
   "outputs": [
    {
     "data": {
      "text/plain": [
       "human    1997\n",
       "bot       350\n",
       "Name: account_type, dtype: int64"
      ]
     },
     "execution_count": 42,
     "metadata": {},
     "output_type": "execute_result"
    }
   ],
   "source": [
    "#Look at the counts of account type in the first cluster\n",
    "first_cluster.account_type.value_counts()\n",
    "#Approximately 85% percent of this cluster comprises of human tweets, which is not a very significant seperation of data"
   ]
  },
  {
   "cell_type": "code",
   "execution_count": 43,
   "id": "9bbc7c1e",
   "metadata": {},
   "outputs": [],
   "source": [
    "#Have a look at the second cluster\n",
    "second_cluster = tweets[tweets['clusters'] == 0]"
   ]
  },
  {
   "cell_type": "code",
   "execution_count": 44,
   "id": "f1048b4e",
   "metadata": {},
   "outputs": [
    {
     "data": {
      "text/plain": [
       "human    40915\n",
       "bot      10422\n",
       "Name: account_type, dtype: int64"
      ]
     },
     "execution_count": 44,
     "metadata": {},
     "output_type": "execute_result"
    }
   ],
   "source": [
    "second_cluster.account_type.value_counts()\n",
    "#As we can see, the proportion of human and bot tweets in this cluster is not very different from the original dataset as well\n",
    "#Hence, we can conclude that the differences in BOW vectors between bot tweets and human tweets is not very significant"
   ]
  },
  {
   "cell_type": "code",
   "execution_count": 61,
   "id": "7eb47fb7",
   "metadata": {},
   "outputs": [],
   "source": [
    "#Create a numeric column where human accounts are assigned 0 and bot accounts are assigned 1\n",
    "tweets['account_type_numeric'] = 0\n",
    "tweets.loc[tweets['account_type'] == 'bot','account_type_numeric'] = 1"
   ]
  },
  {
   "cell_type": "code",
   "execution_count": 62,
   "id": "ebf0393f",
   "metadata": {},
   "outputs": [],
   "source": [
    "#Finally, we can try fitting a logistic regression model using the BOW vectors as the features\n",
    "X = bow\n",
    "y = tweets[['account_type_numeric']]\n",
    "\n",
    "\n",
    "X_train, X_test, y_train, y_test = train_test_split(X,y, test_size = 0.25)"
   ]
  },
  {
   "cell_type": "code",
   "execution_count": 64,
   "id": "a07d12ca",
   "metadata": {},
   "outputs": [
    {
     "name": "stderr",
     "output_type": "stream",
     "text": [
      "C:\\Users\\veena\\anaconda3\\lib\\site-packages\\sklearn\\utils\\validation.py:993: DataConversionWarning: A column-vector y was passed when a 1d array was expected. Please change the shape of y to (n_samples, ), for example using ravel().\n",
      "  y = column_or_1d(y, warn=True)\n"
     ]
    },
    {
     "name": "stdout",
     "output_type": "stream",
     "text": [
      "Training score: 0.8449693266770981\n",
      "Testing score: 0.8009090231726399\n"
     ]
    }
   ],
   "source": [
    "log_reg = LogisticRegression(max_iter = 400)\n",
    "\n",
    "log_reg.fit(X_train, y_train)\n",
    "\n",
    "print(\"Training score: \" + str(log_reg.score(X_train, y_train)))\n",
    "print(\"Testing score: \" + str(log_reg.score(X_test, y_test)))"
   ]
  },
  {
   "cell_type": "code",
   "execution_count": 53,
   "id": "3eaed527",
   "metadata": {},
   "outputs": [
    {
     "name": "stdout",
     "output_type": "stream",
     "text": [
      "Training score: 0.8454412239525122\n",
      "Testing score: 0.8038149169212429\n"
     ]
    }
   ],
   "source": [
    "print(\"Training score: \" + str(log_reg.score(X_train, y_train)))\n",
    "print(\"Testing score: \" + str(log_reg.score(X_test, y_test)))"
   ]
  },
  {
   "cell_type": "code",
   "execution_count": null,
   "id": "a39e61f8",
   "metadata": {},
   "outputs": [],
   "source": [
    "#The accuracy results may appear good but we should note that the dataset is highly imbalanced. A useless classfier that universally\n",
    "#predicts human would be expected to acheive 80 percent accuracy"
   ]
  },
  {
   "cell_type": "code",
   "execution_count": 65,
   "id": "1e7166ec",
   "metadata": {},
   "outputs": [
    {
     "data": {
      "text/plain": [
       "array([[10261,   423],\n",
       "       [ 2249,   488]], dtype=int64)"
      ]
     },
     "execution_count": 65,
     "metadata": {},
     "output_type": "execute_result"
    }
   ],
   "source": [
    "#Looking at the confusion matrix on the test set. We should expect better results than a random classifier\n",
    "confusion_matrix(y_test, log_reg.predict(X_test))"
   ]
  },
  {
   "cell_type": "code",
   "execution_count": 74,
   "id": "4d05dd1f",
   "metadata": {},
   "outputs": [
    {
     "data": {
      "image/png": "[encoded data removed]",
      "text/plain": [
       "<Figure size 432x288 with 2 Axes>"
      ]
     },
     "metadata": {
      "needs_background": "light"
     },
     "output_type": "display_data"
    }
   ],
   "source": [
    "ConfusionMatrixDisplay.from_estimator(log_reg, X_test, y_test,labels = [0,1], values_format = '.0f')\n",
    "plt.show()"
   ]
  },
  {
   "cell_type": "code",
   "execution_count": 77,
   "id": "ff5520c1",
   "metadata": {},
   "outputs": [
    {
     "data": {
      "text/plain": [
       "0.1782974059188893"
      ]
     },
     "execution_count": 77,
     "metadata": {},
     "output_type": "execute_result"
    }
   ],
   "source": [
    "#recall\n",
    "predicted = log_reg.predict(X_test)\n",
    "recall_score(y_test, predicted)\n",
    "#Terrible recall, only able to identify about a sixth of the bot accounts in the test set"
   ]
  },
  {
   "cell_type": "code",
   "execution_count": 78,
   "id": "5281291a",
   "metadata": {},
   "outputs": [
    {
     "data": {
      "text/plain": [
       "0.535675082327113"
      ]
     },
     "execution_count": 78,
     "metadata": {},
     "output_type": "execute_result"
    }
   ],
   "source": [
    "#precision\n",
    "precision_score(y_test, predicted)\n",
    "#Precision is not good as well, performing about as well as a random classifier"
   ]
  },
  {
   "cell_type": "code",
   "execution_count": 89,
   "id": "5d5e86fd",
   "metadata": {},
   "outputs": [],
   "source": [
    "#Repeat the above process, but this time instead of using bag of words vectors, we use tfidf vectors\n",
    "tfidf_vectorizer = TfidfVectorizer(max_df = 0.5, min_df = 10)\n",
    "#Create an array that contains the BOW representation of each tweet\n",
    "tfidf_bow_array  = tfidf_vectorizer.fit_transform(tweets['sentence'])\n",
    "#Converting the result into a pandas dataframe\n",
    "tfidf_bow = pd.DataFrame(tfidf_bow_array.toarray(),columns = tfidf_vectorizer.get_feature_names_out())"
   ]
  },
  {
   "cell_type": "code",
   "execution_count": 90,
   "id": "3be27c55",
   "metadata": {},
   "outputs": [
    {
     "data": {
      "text/plain": [
       "KMeans(n_clusters=2)"
      ]
     },
     "execution_count": 90,
     "metadata": {},
     "output_type": "execute_result"
    }
   ],
   "source": [
    "kmeans = KMeans(n_clusters = 2)\n",
    "kmeans.fit(tfidf_bow)"
   ]
  },
  {
   "cell_type": "code",
   "execution_count": 91,
   "id": "09f4e314",
   "metadata": {},
   "outputs": [],
   "source": [
    "tweets['clusters_tfidf'] = kmeans.labels_"
   ]
  },
  {
   "cell_type": "code",
   "execution_count": 92,
   "id": "16e6cd18",
   "metadata": {},
   "outputs": [],
   "source": [
    "first_cluster_tfidf = tweets[tweets['clusters_tfidf'] == 1]"
   ]
  },
  {
   "cell_type": "code",
   "execution_count": 93,
   "id": "14b03207",
   "metadata": {},
   "outputs": [
    {
     "data": {
      "text/plain": [
       "human    288\n",
       "bot      164\n",
       "Name: account_type, dtype: int64"
      ]
     },
     "execution_count": 93,
     "metadata": {},
     "output_type": "execute_result"
    }
   ],
   "source": [
    "first_cluster_tfidf.account_type.value_counts()\n",
    "#An interesting cluster where a third are bot tweets. But very small cluster relative to the rest of the dataset"
   ]
  },
  {
   "cell_type": "code",
   "execution_count": 94,
   "id": "664274b4",
   "metadata": {},
   "outputs": [],
   "source": [
    "second_cluster_tfidf = tweets[tweets['clusters_tfidf'] == 0]"
   ]
  },
  {
   "cell_type": "code",
   "execution_count": 95,
   "id": "980244d9",
   "metadata": {},
   "outputs": [
    {
     "data": {
      "text/plain": [
       "human    42624\n",
       "bot      10608\n",
       "Name: account_type, dtype: int64"
      ]
     },
     "execution_count": 95,
     "metadata": {},
     "output_type": "execute_result"
    }
   ],
   "source": [
    "\n",
    "second_cluster_tfidf.account_type.value_counts()"
   ]
  },
  {
   "cell_type": "code",
   "execution_count": 96,
   "id": "8ea84f22",
   "metadata": {},
   "outputs": [],
   "source": [
    "X = tfidf_bow\n",
    "y = tweets[['account_type_numeric']]\n",
    "\n",
    "X_train, X_test, y_train, y_test = train_test_split(X,y, test_size = 0.25)"
   ]
  },
  {
   "cell_type": "code",
   "execution_count": 97,
   "id": "2e50ada0",
   "metadata": {},
   "outputs": [
    {
     "name": "stderr",
     "output_type": "stream",
     "text": [
      "C:\\Users\\veena\\anaconda3\\lib\\site-packages\\sklearn\\utils\\validation.py:993: DataConversionWarning: A column-vector y was passed when a 1d array was expected. Please change the shape of y to (n_samples, ), for example using ravel().\n",
      "  y = column_or_1d(y, warn=True)\n"
     ]
    },
    {
     "name": "stdout",
     "output_type": "stream",
     "text": [
      "Training score: 0.822839828130045\n",
      "Testing score: 0.8052306087474853\n"
     ]
    }
   ],
   "source": [
    "log_reg = LogisticRegression(max_iter = 400)\n",
    "\n",
    "log_reg.fit(X_train, y_train)\n",
    "\n",
    "print(\"Training score: \" + str(log_reg.score(X_train, y_train)))\n",
    "print(\"Testing score: \" + str(log_reg.score(X_test, y_test)))"
   ]
  },
  {
   "cell_type": "code",
   "execution_count": 98,
   "id": "c2a9d7df",
   "metadata": {},
   "outputs": [
    {
     "data": {
      "text/plain": [
       "array([[10534,   142],\n",
       "       [ 2472,   273]], dtype=int64)"
      ]
     },
     "execution_count": 98,
     "metadata": {},
     "output_type": "execute_result"
    }
   ],
   "source": [
    "y_pred = log_reg.predict(X_test)\n",
    "confusion_matrix(y_test, y_pred)"
   ]
  },
  {
   "cell_type": "code",
   "execution_count": 99,
   "id": "dab95df9",
   "metadata": {},
   "outputs": [
    {
     "data": {
      "text/plain": [
       "0.6578313253012048"
      ]
     },
     "execution_count": 99,
     "metadata": {},
     "output_type": "execute_result"
    }
   ],
   "source": [
    "#Precision\n",
    "precision_score(y_test, y_pred)\n",
    "#Significantly better precision"
   ]
  },
  {
   "cell_type": "code",
   "execution_count": 100,
   "id": "eba132e9",
   "metadata": {},
   "outputs": [
    {
     "data": {
      "text/plain": [
       "0.0994535519125683"
      ]
     },
     "execution_count": 100,
     "metadata": {},
     "output_type": "execute_result"
    }
   ],
   "source": [
    "#recall\n",
    "recall_score(y_test, y_pred)\n",
    "#Even worse recall than before"
   ]
  }
 ],
 "metadata": {
  "kernelspec": {
   "display_name": "Python 3 (ipykernel)",
   "language": "python",
   "name": "python3"
  },
  "language_info": {
   "codemirror_mode": {
    "name": "ipython",
    "version": 3
   },
   "file_extension": ".py",
   "mimetype": "text/x-python",
   "name": "python",
   "nbconvert_exporter": "python",
   "pygments_lexer": "ipython3",
   "version": "3.9.12"
  }
 },
 "nbformat": 4,
 "nbformat_minor": 5
}
