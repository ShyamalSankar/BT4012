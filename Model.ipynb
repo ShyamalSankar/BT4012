{
 "cells": [
  {
   "cell_type": "markdown",
   "id": "571f5143",
   "metadata": {},
   "source": [
    "## Import Packages and Reading of Data"
   ]
  },
  {
   "cell_type": "code",
   "execution_count": 1,
   "id": "ee3a18bd",
   "metadata": {},
   "outputs": [],
   "source": [
    "import time\n",
    "import warnings\n",
    "import pickle\n",
    "import shap\n",
    "\n",
    "import pandas as pd \n",
    "import numpy as np\n",
    "import matplotlib.pyplot as plt\n",
    "import xgboost as xgb # recommended version: 1.5.0\n",
    "\n",
    "from sklearn.model_selection import train_test_split\n",
    "from sklearn.linear_model import LinearRegression, Ridge, LogisticRegression\n",
    "from sklearn.svm import SVR, SVC\n",
    "from sklearn.preprocessing import StandardScaler, OneHotEncoder\n",
    "from sklearn.ensemble import RandomForestClassifier\n",
    "from sklearn import metrics\n",
    "from sklearn.model_selection import RandomizedSearchCV, GridSearchCV, cross_val_score, RepeatedKFold\n",
    "from sklearn.pipeline import make_pipeline\n",
    "from sklearn.inspection import permutation_importance\n",
    "from sklearn.compose import ColumnTransformer\n",
    "from sklearn.base import BaseEstimator, TransformerMixin\n",
    "from xgboost import plot_importance\n",
    "from sklearn.naive_bayes import GaussianNB, BernoulliNB\n",
    "from bayes_opt import BayesianOptimization\n",
    "from sklearn.ensemble import StackingClassifier\n",
    "\n",
    "pd.set_option(\"display.max_columns\", None)\n",
    "warnings.filterwarnings(\"ignore\")"
   ]
  },
  {
   "cell_type": "code",
   "execution_count": 2,
   "id": "d139119b",
   "metadata": {},
   "outputs": [],
   "source": [
    "# Reading of Excel\n",
    "dataset = pd.read_csv('cleaned_others_dataset.csv')"
   ]
  },
  {
   "cell_type": "code",
   "execution_count": 3,
   "id": "d544eda2",
   "metadata": {},
   "outputs": [
    {
     "data": {
      "text/html": [
       "<div>\n",
       "<style scoped>\n",
       "    .dataframe tbody tr th:only-of-type {\n",
       "        vertical-align: middle;\n",
       "    }\n",
       "\n",
       "    .dataframe tbody tr th {\n",
       "        vertical-align: top;\n",
       "    }\n",
       "\n",
       "    .dataframe thead th {\n",
       "        text-align: right;\n",
       "    }\n",
       "</style>\n",
       "<table border=\"1\" class=\"dataframe\">\n",
       "  <thead>\n",
       "    <tr style=\"text-align: right;\">\n",
       "      <th></th>\n",
       "      <th>verified</th>\n",
       "      <th>location</th>\n",
       "      <th>followers_count</th>\n",
       "      <th>following_count</th>\n",
       "      <th>tweet_count</th>\n",
       "      <th>isFraud</th>\n",
       "      <th>un_no_of_char</th>\n",
       "      <th>un_special_char</th>\n",
       "      <th>un_uppercase</th>\n",
       "      <th>name_no_of_char</th>\n",
       "      <th>name_special_char</th>\n",
       "      <th>name_uppercase</th>\n",
       "      <th>des_no_of_usertags</th>\n",
       "      <th>des_no_of_hashtags</th>\n",
       "      <th>des_external_links</th>\n",
       "      <th>has_description</th>\n",
       "      <th>account_age_in_days</th>\n",
       "    </tr>\n",
       "  </thead>\n",
       "  <tbody>\n",
       "    <tr>\n",
       "      <th>0</th>\n",
       "      <td>0</td>\n",
       "      <td>0</td>\n",
       "      <td>1997</td>\n",
       "      <td>5</td>\n",
       "      <td>17090</td>\n",
       "      <td>1</td>\n",
       "      <td>15</td>\n",
       "      <td>1</td>\n",
       "      <td>0</td>\n",
       "      <td>19</td>\n",
       "      <td>0</td>\n",
       "      <td>1</td>\n",
       "      <td>2</td>\n",
       "      <td>0</td>\n",
       "      <td>0</td>\n",
       "      <td>1</td>\n",
       "      <td>2184</td>\n",
       "    </tr>\n",
       "    <tr>\n",
       "      <th>1</th>\n",
       "      <td>0</td>\n",
       "      <td>1</td>\n",
       "      <td>785</td>\n",
       "      <td>829</td>\n",
       "      <td>251</td>\n",
       "      <td>0</td>\n",
       "      <td>12</td>\n",
       "      <td>0</td>\n",
       "      <td>1</td>\n",
       "      <td>8</td>\n",
       "      <td>0</td>\n",
       "      <td>1</td>\n",
       "      <td>0</td>\n",
       "      <td>0</td>\n",
       "      <td>0</td>\n",
       "      <td>1</td>\n",
       "      <td>2159</td>\n",
       "    </tr>\n",
       "    <tr>\n",
       "      <th>2</th>\n",
       "      <td>0</td>\n",
       "      <td>0</td>\n",
       "      <td>243</td>\n",
       "      <td>1232</td>\n",
       "      <td>1469</td>\n",
       "      <td>0</td>\n",
       "      <td>8</td>\n",
       "      <td>0</td>\n",
       "      <td>1</td>\n",
       "      <td>11</td>\n",
       "      <td>0</td>\n",
       "      <td>0</td>\n",
       "      <td>0</td>\n",
       "      <td>0</td>\n",
       "      <td>0</td>\n",
       "      <td>1</td>\n",
       "      <td>1939</td>\n",
       "    </tr>\n",
       "    <tr>\n",
       "      <th>3</th>\n",
       "      <td>0</td>\n",
       "      <td>1</td>\n",
       "      <td>749</td>\n",
       "      <td>838</td>\n",
       "      <td>2518</td>\n",
       "      <td>0</td>\n",
       "      <td>11</td>\n",
       "      <td>0</td>\n",
       "      <td>1</td>\n",
       "      <td>15</td>\n",
       "      <td>0</td>\n",
       "      <td>1</td>\n",
       "      <td>0</td>\n",
       "      <td>0</td>\n",
       "      <td>0</td>\n",
       "      <td>1</td>\n",
       "      <td>2270</td>\n",
       "    </tr>\n",
       "    <tr>\n",
       "      <th>4</th>\n",
       "      <td>1</td>\n",
       "      <td>1</td>\n",
       "      <td>737048</td>\n",
       "      <td>128</td>\n",
       "      <td>4739</td>\n",
       "      <td>0</td>\n",
       "      <td>13</td>\n",
       "      <td>0</td>\n",
       "      <td>1</td>\n",
       "      <td>14</td>\n",
       "      <td>0</td>\n",
       "      <td>1</td>\n",
       "      <td>1</td>\n",
       "      <td>0</td>\n",
       "      <td>0</td>\n",
       "      <td>1</td>\n",
       "      <td>3919</td>\n",
       "    </tr>\n",
       "    <tr>\n",
       "      <th>...</th>\n",
       "      <td>...</td>\n",
       "      <td>...</td>\n",
       "      <td>...</td>\n",
       "      <td>...</td>\n",
       "      <td>...</td>\n",
       "      <td>...</td>\n",
       "      <td>...</td>\n",
       "      <td>...</td>\n",
       "      <td>...</td>\n",
       "      <td>...</td>\n",
       "      <td>...</td>\n",
       "      <td>...</td>\n",
       "      <td>...</td>\n",
       "      <td>...</td>\n",
       "      <td>...</td>\n",
       "      <td>...</td>\n",
       "      <td>...</td>\n",
       "    </tr>\n",
       "    <tr>\n",
       "      <th>33581</th>\n",
       "      <td>1</td>\n",
       "      <td>1</td>\n",
       "      <td>367523</td>\n",
       "      <td>17291</td>\n",
       "      <td>24084</td>\n",
       "      <td>0</td>\n",
       "      <td>14</td>\n",
       "      <td>0</td>\n",
       "      <td>1</td>\n",
       "      <td>10</td>\n",
       "      <td>0</td>\n",
       "      <td>1</td>\n",
       "      <td>2</td>\n",
       "      <td>0</td>\n",
       "      <td>0</td>\n",
       "      <td>1</td>\n",
       "      <td>4704</td>\n",
       "    </tr>\n",
       "    <tr>\n",
       "      <th>33582</th>\n",
       "      <td>0</td>\n",
       "      <td>1</td>\n",
       "      <td>14</td>\n",
       "      <td>0</td>\n",
       "      <td>238</td>\n",
       "      <td>0</td>\n",
       "      <td>8</td>\n",
       "      <td>1</td>\n",
       "      <td>1</td>\n",
       "      <td>8</td>\n",
       "      <td>0</td>\n",
       "      <td>1</td>\n",
       "      <td>0</td>\n",
       "      <td>0</td>\n",
       "      <td>0</td>\n",
       "      <td>1</td>\n",
       "      <td>4289</td>\n",
       "    </tr>\n",
       "    <tr>\n",
       "      <th>33583</th>\n",
       "      <td>0</td>\n",
       "      <td>0</td>\n",
       "      <td>395</td>\n",
       "      <td>492</td>\n",
       "      <td>21437</td>\n",
       "      <td>1</td>\n",
       "      <td>14</td>\n",
       "      <td>0</td>\n",
       "      <td>1</td>\n",
       "      <td>16</td>\n",
       "      <td>0</td>\n",
       "      <td>1</td>\n",
       "      <td>0</td>\n",
       "      <td>0</td>\n",
       "      <td>0</td>\n",
       "      <td>1</td>\n",
       "      <td>3792</td>\n",
       "    </tr>\n",
       "    <tr>\n",
       "      <th>33584</th>\n",
       "      <td>0</td>\n",
       "      <td>0</td>\n",
       "      <td>159</td>\n",
       "      <td>618</td>\n",
       "      <td>3021</td>\n",
       "      <td>0</td>\n",
       "      <td>8</td>\n",
       "      <td>0</td>\n",
       "      <td>1</td>\n",
       "      <td>14</td>\n",
       "      <td>0</td>\n",
       "      <td>1</td>\n",
       "      <td>0</td>\n",
       "      <td>0</td>\n",
       "      <td>0</td>\n",
       "      <td>0</td>\n",
       "      <td>2659</td>\n",
       "    </tr>\n",
       "    <tr>\n",
       "      <th>33585</th>\n",
       "      <td>1</td>\n",
       "      <td>1</td>\n",
       "      <td>803247</td>\n",
       "      <td>7</td>\n",
       "      <td>3159</td>\n",
       "      <td>0</td>\n",
       "      <td>9</td>\n",
       "      <td>1</td>\n",
       "      <td>1</td>\n",
       "      <td>10</td>\n",
       "      <td>1</td>\n",
       "      <td>0</td>\n",
       "      <td>0</td>\n",
       "      <td>0</td>\n",
       "      <td>0</td>\n",
       "      <td>0</td>\n",
       "      <td>3860</td>\n",
       "    </tr>\n",
       "  </tbody>\n",
       "</table>\n",
       "<p>33586 rows × 17 columns</p>\n",
       "</div>"
      ],
      "text/plain": [
       "       verified  location  followers_count  following_count  tweet_count  \\\n",
       "0             0         0             1997                5        17090   \n",
       "1             0         1              785              829          251   \n",
       "2             0         0              243             1232         1469   \n",
       "3             0         1              749              838         2518   \n",
       "4             1         1           737048              128         4739   \n",
       "...         ...       ...              ...              ...          ...   \n",
       "33581         1         1           367523            17291        24084   \n",
       "33582         0         1               14                0          238   \n",
       "33583         0         0              395              492        21437   \n",
       "33584         0         0              159              618         3021   \n",
       "33585         1         1           803247                7         3159   \n",
       "\n",
       "       isFraud  un_no_of_char  un_special_char  un_uppercase  name_no_of_char  \\\n",
       "0            1             15                1             0               19   \n",
       "1            0             12                0             1                8   \n",
       "2            0              8                0             1               11   \n",
       "3            0             11                0             1               15   \n",
       "4            0             13                0             1               14   \n",
       "...        ...            ...              ...           ...              ...   \n",
       "33581        0             14                0             1               10   \n",
       "33582        0              8                1             1                8   \n",
       "33583        1             14                0             1               16   \n",
       "33584        0              8                0             1               14   \n",
       "33585        0              9                1             1               10   \n",
       "\n",
       "       name_special_char  name_uppercase  des_no_of_usertags  \\\n",
       "0                      0               1                   2   \n",
       "1                      0               1                   0   \n",
       "2                      0               0                   0   \n",
       "3                      0               1                   0   \n",
       "4                      0               1                   1   \n",
       "...                  ...             ...                 ...   \n",
       "33581                  0               1                   2   \n",
       "33582                  0               1                   0   \n",
       "33583                  0               1                   0   \n",
       "33584                  0               1                   0   \n",
       "33585                  1               0                   0   \n",
       "\n",
       "       des_no_of_hashtags  des_external_links  has_description  \\\n",
       "0                       0                   0                1   \n",
       "1                       0                   0                1   \n",
       "2                       0                   0                1   \n",
       "3                       0                   0                1   \n",
       "4                       0                   0                1   \n",
       "...                   ...                 ...              ...   \n",
       "33581                   0                   0                1   \n",
       "33582                   0                   0                1   \n",
       "33583                   0                   0                1   \n",
       "33584                   0                   0                0   \n",
       "33585                   0                   0                0   \n",
       "\n",
       "       account_age_in_days  \n",
       "0                     2184  \n",
       "1                     2159  \n",
       "2                     1939  \n",
       "3                     2270  \n",
       "4                     3919  \n",
       "...                    ...  \n",
       "33581                 4704  \n",
       "33582                 4289  \n",
       "33583                 3792  \n",
       "33584                 2659  \n",
       "33585                 3860  \n",
       "\n",
       "[33586 rows x 17 columns]"
      ]
     },
     "execution_count": 3,
     "metadata": {},
     "output_type": "execute_result"
    }
   ],
   "source": [
    "dataset"
   ]
  },
  {
   "cell_type": "markdown",
   "id": "e1b40aae",
   "metadata": {},
   "source": [
    "## Feature Engineering\n",
    "* Scale numerical features\n",
    "* One Hot Encode for categorical/ordinal features"
   ]
  },
  {
   "cell_type": "code",
   "execution_count": 4,
   "id": "70acbf5c",
   "metadata": {},
   "outputs": [
    {
     "name": "stdout",
     "output_type": "stream",
     "text": [
      "Train set: (26868, 16) (26868,)\n",
      "Test set: (6718, 16) (6718,)\n"
     ]
    }
   ],
   "source": [
    "# Getting X and y\n",
    "x = dataset.drop(columns = ['isFraud'])\n",
    "y = dataset['isFraud']\n",
    "\n",
    "# Split into training and testing sets before scaling the variables and performing one hot encoding to avoid data leakage\n",
    "x_train, x_test, y_train, y_test = train_test_split(x, y, test_size = 0.2, random_state=101)\n",
    "print(\"Train set:\", x_train.shape, y_train.shape)\n",
    "print(\"Test set:\", x_test.shape, y_test.shape)"
   ]
  },
  {
   "cell_type": "code",
   "execution_count": 5,
   "id": "381970a2",
   "metadata": {},
   "outputs": [],
   "source": [
    "# # We only want to scale the numeric variables and not the categorical features. \n",
    "# # Hence, we create a columntransformer to help us to do this\n",
    "# scaler = StandardScaler()\n",
    "\n",
    "# x_train[['followers_count', 'following_count', 'tweet_count', 'un_no_of_char', 'name_no_of_char', 'des_no_of_usertags', 'des_no_of_hashtags']] = scaler.fit_transform(x_train[['followers_count', 'following_count', 'tweet_count', 'un_no_of_char','name_no_of_char', 'des_no_of_usertags', 'des_no_of_hashtags']])\n",
    "\n",
    "# x_test[['followers_count', 'following_count', 'tweet_count', 'un_no_of_char', 'name_no_of_char', 'des_no_of_usertags', 'des_no_of_hashtags']] = scaler.transform(x_test[['followers_count', 'following_count', 'tweet_count', 'un_no_of_char','name_no_of_char', 'des_no_of_usertags', 'des_no_of_hashtags']])\n",
    "\n",
    "# # Transform the year column into a categorical variable and store the result in a dataframe\n",
    "# encoder = OneHotEncoder(handle_unknown = 'ignore', sparse = False)\n",
    "# transformed_year_train_matrix = encoder.fit_transform(x_train[['year']])\n",
    "# transformed_year_train = pd.DataFrame(transformed_year_train_matrix, columns = encoder.get_feature_names())\n",
    "\n",
    "# # Using the fitted encoder to transform the test data and storing in a dataframe\n",
    "# transformed_year_test_matrix = encoder.transform(x_test[['year']])\n",
    "# transformed_year_test = pd.DataFrame(transformed_year_test_matrix, columns = encoder.get_feature_names())\n",
    "\n",
    "# # Reset the index for training and testing sets to allow merging with the one hot encoded variables\n",
    "# # Drop the index column \n",
    "# x_train.reset_index(inplace = True, drop = True)\n",
    "# x_test.reset_index(inplace = True, drop = True)\n",
    "# y_train.reset_index(drop = True, inplace = True)\n",
    "# y_test.reset_index(drop = True, inplace = True)\n",
    "\n",
    "# # Combine the scaled numeric variables together with the year categorical variables\n",
    "# x_train = pd.concat([x_train, transformed_year_train], axis = 1)\n",
    "# x_test = pd.concat([x_test, transformed_year_test], axis = 1)\n",
    "\n",
    "# # Drop the year column since we already have the dummy variables for year\n",
    "# x_train.drop(labels = ['year'], axis = 1, inplace = True)\n",
    "# x_test.drop(labels = ['year'], axis = 1, inplace = True)"
   ]
  },
  {
   "cell_type": "code",
   "execution_count": 6,
   "id": "2f6a8ddb",
   "metadata": {},
   "outputs": [],
   "source": [
    "# A class that combines all the preprocessing steps (for model pipeline purpose)\n",
    "class ExperimentalTransformer(BaseEstimator, TransformerMixin):\n",
    "    \n",
    "    def __init__(self, numeric_variables = ['followers_count', 'following_count', 'tweet_count', 'un_no_of_char','name_no_of_char', 'des_no_of_usertags', 'des_no_of_hashtags', 'account_age_in_days']):\n",
    "        self.encoder = OneHotEncoder(handle_unknown = 'ignore', sparse = False)\n",
    "        self.scaler = StandardScaler()\n",
    "        #specified numeric variables, by default it is the above\n",
    "        self.numeric_variables = numeric_variables\n",
    "        self.columns = []\n",
    "    \n",
    "    #The fit function that will be called when this custom transformer is fit\n",
    "    def fit(self, X, y = None):\n",
    "        #fit the one hot encoder to the year\n",
    "#         self.encoder.fit(X[['year']])\n",
    "        #fit the scaler on the numeric variables\n",
    "        self.scaler.fit(X[self.numeric_variables])\n",
    "        return self\n",
    "    \n",
    "    #The transform function that will be called\n",
    "    def transform(self, X, y = None):\n",
    "        \n",
    "        #to avoid changing the original dataset\n",
    "        X_ = X.copy()\n",
    "        #transforming the numeric variables according to the fitted scaler\n",
    "        X_[self.numeric_variables] = self.scaler.transform(X_[self.numeric_variables])\n",
    "        \n",
    "#         #next, create a date matrix using the fitted encoder\n",
    "#         transformed_year_matrix = self.encoder.transform(X_[['year']])\n",
    "#         #get the dataframe\n",
    "#         year_cols = list(map(lambda year: year.replace('x0', 'year'), self.encoder.get_feature_names()))\n",
    "#         transformed_year_train = pd.DataFrame(transformed_year_matrix, columns = year_cols)\n",
    "#         #reset the index of the original dataframe\n",
    "#         X_.reset_index(drop = True, inplace = True)\n",
    "#         X_ = pd.concat([X_, transformed_year_train], axis = 1)\n",
    "#         #drop the year column from the dataframe\n",
    "#         X_.drop(labels = ['year'], inplace = True, axis = 1)\n",
    "        self.columns = X_.columns\n",
    "        return X_"
   ]
  },
  {
   "cell_type": "markdown",
   "id": "ae94b9fe",
   "metadata": {},
   "source": [
    "## Charts and Functions"
   ]
  },
  {
   "cell_type": "code",
   "execution_count": 7,
   "id": "b74dafa0",
   "metadata": {},
   "outputs": [],
   "source": [
    "# def feature_chart(shap_values, x_test_values, names, model_type):\n",
    "# #     feature_importance_df = pd.DataFrame(model.coef_.T, x_train.columns.T,columns=['Feature Importance']).sort_values(by='Feature Importance', ascending=False)\n",
    "# #     fig = feature_importance_df.plot(kind=\"barh\", figsize=(20, 50))\n",
    "# #     bg = fig.patch\n",
    "# #     plt.gca().invert_yaxis()\n",
    "#     shap.summary_plot(shap_values, x_test_values, feature_names = names, plot_type = \"bar\", sort = True)\n",
    "#     plt.grid()\n",
    "# #     plt.savefig(f'Charts\\\\{model_type} Feature Importance.png', dpi=300)\n",
    "#     plt.show()\n",
    "\n",
    "# model = SVC()\n",
    "# model.fit(x_train, y_train)\n",
    "# explainer = shap.Explainer(model.predict, x_test, feature_perturbation=\"interventional\")\n",
    "# shap_values = explainer(x_test)\n",
    "# x_test_arr = x_test.toarray()\n",
    "# feature_chart(shap_values, x_test_arr, x_test.columns, model_type)\n",
    "    \n",
    "def feature_chart(feature_importance_df, model_type):\n",
    "#     feature_importance_df = pd.DataFrame(model.coef_.T, x_train.columns.T,columns=['Feature Importance']).sort_values(by='Feature Importance', ascending=False)\n",
    "    fig = feature_importance_df.plot(kind=\"barh\", figsize=(12, 15))\n",
    "    bg = fig.patch\n",
    "    bg.set_facecolor(\"white\")\n",
    "    plt.gca().invert_yaxis()\n",
    "    plt.grid()\n",
    "#     plt.savefig(f'Charts\\\\{model_type} Feature Importance.png', dpi=300, facecolor=fig.get_facecolor())\n",
    "    plt.show()"
   ]
  },
  {
   "cell_type": "markdown",
   "id": "304e922e",
   "metadata": {},
   "source": [
    "## 01 Logistic Regression\n",
    "* Model \n",
    "* Error Metrics\n",
    "* Plot for Feature Importance"
   ]
  },
  {
   "cell_type": "code",
   "execution_count": 8,
   "id": "a55ea5d6",
   "metadata": {},
   "outputs": [],
   "source": [
    "# Model\n",
    "log_regression = LogisticRegression()\n",
    "transformer = ExperimentalTransformer()\n",
    "log_model_pipeline = make_pipeline(transformer, log_regression)\n",
    "log_model = log_model_pipeline.fit(x_train, y_train)"
   ]
  },
  {
   "cell_type": "code",
   "execution_count": 9,
   "id": "c8b30e69",
   "metadata": {},
   "outputs": [],
   "source": [
    "# Save the model to disk\n",
    "# filename = '01 Logistic Regression.sav'\n",
    "# pickle.dump(log_model, open(filename, 'wb'))\n",
    "\n",
    "# Load the model from disk\n",
    "# results_random = pickle.load(open(filename, 'rb'))"
   ]
  },
  {
   "cell_type": "code",
   "execution_count": 10,
   "id": "fffa28f8",
   "metadata": {},
   "outputs": [
    {
     "data": {
      "text/plain": [
       "0.7420723537293434"
      ]
     },
     "execution_count": 10,
     "metadata": {},
     "output_type": "execute_result"
    }
   ],
   "source": [
    "# R-Squared\n",
    "log_model.score(x_train, y_train)"
   ]
  },
  {
   "cell_type": "code",
   "execution_count": 120,
   "id": "8bc6e6c2",
   "metadata": {},
   "outputs": [],
   "source": [
    "# y_prediction\n",
    "y_pred = log_model.predict(x_test)"
   ]
  },
  {
   "cell_type": "code",
   "execution_count": 121,
   "id": "eaf1c7c5",
   "metadata": {},
   "outputs": [
    {
     "name": "stdout",
     "output_type": "stream",
     "text": [
      "Accuracy: 0.785501637392081\n",
      "Log Loss: 8.452243313586827\n",
      "ROC AUC: 0.6912490807543281\n",
      "F1-score: 0.5760701392470345\n",
      "Precision: 0.6790273556231003\n",
      "Recall: 0.5002239140170175\n"
     ]
    }
   ],
   "source": [
    "# Error Metrics\n",
    "accuracy = metrics.accuracy_score(y_test, y_pred_optimal)\n",
    "print(f'Accuracy: {accuracy}')\n",
    "lg_loss = metrics.log_loss(y_test, y_pred)\n",
    "print(f'Log Loss: {lg_loss}')\n",
    "roc_auc = metrics.roc_auc_score(y_test, y_pred)\n",
    "print(f'ROC AUC: {roc_auc}')\n",
    "f1_score = metrics.f1_score(y_test, y_pred)\n",
    "print(f'F1-score: {f1_score}')\n",
    "precision = metrics.precision_score(y_test, y_pred)\n",
    "print(f'Precision: {precision}')\n",
    "recall = metrics.recall_score(y_test, y_pred)\n",
    "print(f'Recall: {recall}')"
   ]
  },
  {
   "cell_type": "markdown",
   "id": "fd23963f",
   "metadata": {},
   "source": [
    "### Feature Importance"
   ]
  },
  {
   "cell_type": "code",
   "execution_count": 13,
   "id": "adcde3ae",
   "metadata": {},
   "outputs": [
    {
     "data": {
      "text/html": [
       "<div>\n",
       "<style scoped>\n",
       "    .dataframe tbody tr th:only-of-type {\n",
       "        vertical-align: middle;\n",
       "    }\n",
       "\n",
       "    .dataframe tbody tr th {\n",
       "        vertical-align: top;\n",
       "    }\n",
       "\n",
       "    .dataframe thead th {\n",
       "        text-align: right;\n",
       "    }\n",
       "</style>\n",
       "<table border=\"1\" class=\"dataframe\">\n",
       "  <thead>\n",
       "    <tr style=\"text-align: right;\">\n",
       "      <th></th>\n",
       "      <th>Feature Importance</th>\n",
       "    </tr>\n",
       "  </thead>\n",
       "  <tbody>\n",
       "    <tr>\n",
       "      <th>des_external_links</th>\n",
       "      <td>1.291602</td>\n",
       "    </tr>\n",
       "    <tr>\n",
       "      <th>tweet_count</th>\n",
       "      <td>0.193080</td>\n",
       "    </tr>\n",
       "    <tr>\n",
       "      <th>following_count</th>\n",
       "      <td>0.070783</td>\n",
       "    </tr>\n",
       "    <tr>\n",
       "      <th>followers_count</th>\n",
       "      <td>-0.011246</td>\n",
       "    </tr>\n",
       "    <tr>\n",
       "      <th>un_no_of_char</th>\n",
       "      <td>-0.012511</td>\n",
       "    </tr>\n",
       "    <tr>\n",
       "      <th>name_no_of_char</th>\n",
       "      <td>-0.039046</td>\n",
       "    </tr>\n",
       "    <tr>\n",
       "      <th>name_uppercase</th>\n",
       "      <td>-0.046495</td>\n",
       "    </tr>\n",
       "    <tr>\n",
       "      <th>un_uppercase</th>\n",
       "      <td>-0.076906</td>\n",
       "    </tr>\n",
       "    <tr>\n",
       "      <th>des_no_of_usertags</th>\n",
       "      <td>-0.142993</td>\n",
       "    </tr>\n",
       "    <tr>\n",
       "      <th>un_special_char</th>\n",
       "      <td>-0.177545</td>\n",
       "    </tr>\n",
       "    <tr>\n",
       "      <th>name_special_char</th>\n",
       "      <td>-0.186558</td>\n",
       "    </tr>\n",
       "    <tr>\n",
       "      <th>des_no_of_hashtags</th>\n",
       "      <td>-0.207749</td>\n",
       "    </tr>\n",
       "    <tr>\n",
       "      <th>account_age_in_days</th>\n",
       "      <td>-0.300804</td>\n",
       "    </tr>\n",
       "    <tr>\n",
       "      <th>location</th>\n",
       "      <td>-0.422507</td>\n",
       "    </tr>\n",
       "    <tr>\n",
       "      <th>has_description</th>\n",
       "      <td>-1.156684</td>\n",
       "    </tr>\n",
       "    <tr>\n",
       "      <th>verified</th>\n",
       "      <td>-2.462440</td>\n",
       "    </tr>\n",
       "  </tbody>\n",
       "</table>\n",
       "</div>"
      ],
      "text/plain": [
       "                     Feature Importance\n",
       "des_external_links             1.291602\n",
       "tweet_count                    0.193080\n",
       "following_count                0.070783\n",
       "followers_count               -0.011246\n",
       "un_no_of_char                 -0.012511\n",
       "name_no_of_char               -0.039046\n",
       "name_uppercase                -0.046495\n",
       "un_uppercase                  -0.076906\n",
       "des_no_of_usertags            -0.142993\n",
       "un_special_char               -0.177545\n",
       "name_special_char             -0.186558\n",
       "des_no_of_hashtags            -0.207749\n",
       "account_age_in_days           -0.300804\n",
       "location                      -0.422507\n",
       "has_description               -1.156684\n",
       "verified                      -2.462440"
      ]
     },
     "execution_count": 13,
     "metadata": {},
     "output_type": "execute_result"
    }
   ],
   "source": [
    "# Feature importance\n",
    "feature = pd.DataFrame(log_model.named_steps[\"logisticregression\"].coef_.T, log_model.named_steps[\"experimentaltransformer\"].columns, columns=['Feature Importance']).sort_values(by='Feature Importance', ascending=False)\n",
    "feature"
   ]
  },
  {
   "cell_type": "code",
   "execution_count": 14,
   "id": "a9913e6b",
   "metadata": {},
   "outputs": [
    {
     "data": {
      "image/png": "[encoded data removed]",
      "text/plain": [
       "<Figure size 864x1080 with 1 Axes>"
      ]
     },
     "metadata": {
      "needs_background": "light"
     },
     "output_type": "display_data"
    }
   ],
   "source": [
    "# Feature importance\n",
    "feature_chart(feature, \"Logistic Regression\")"
   ]
  },
  {
   "cell_type": "markdown",
   "id": "4fb1fe58",
   "metadata": {},
   "source": [
    "## 02 Random Forest\n",
    "* Model (Random Search + Grid Search)\n",
    "* Error Metrics\n",
    "* Plot for Feature Importance"
   ]
  },
  {
   "cell_type": "markdown",
   "id": "e0cc165c",
   "metadata": {},
   "source": [
    "### Model (Random Search)"
   ]
  },
  {
   "cell_type": "code",
   "execution_count": 15,
   "id": "96628df4",
   "metadata": {},
   "outputs": [],
   "source": [
    "# Model\n",
    "rf_classifier = RandomForestClassifier()\n",
    "transformer = ExperimentalTransformer()\n",
    "rf_model = make_pipeline(transformer, rf_classifier)\n",
    "\n",
    "space = dict()\n",
    "\n",
    "# Number of trees in random forest\n",
    "space[\"randomforestclassifier__n_estimators\"] = [10, 50, 200, 600, 800, 1200]\n",
    "\n",
    "# Number of features to consider at every split (this parameter avoids overfitting by limiting how many features each leaf node can look at) \n",
    "space[\"randomforestclassifier__max_features\"] = ['auto', 'sqrt', 'log2']\n",
    "\n",
    "# Maximum number of levels in tree (how deep the tree goes)\n",
    "space[\"randomforestclassifier__max_depth\"] = [None, 10, 40, 80, 120]\n",
    "\n",
    "# Minimum number of samples required to split a node\n",
    "space[\"randomforestclassifier__min_samples_split\"] = [2, 10, 40, 100]\n",
    "\n",
    "# Method of selecting samples for training each tree (bootstrap sampling or not)\n",
    "space[\"randomforestclassifier__bootstrap\"] = [True, False]\n",
    "\n",
    "# Define search\n",
    "random_search = RandomizedSearchCV(rf_model, \n",
    "                                   space, \n",
    "                                   scoring = 'f1',\n",
    "                                   cv = 5, \n",
    "                                   verbose = 2, \n",
    "                                   random_state = 123, \n",
    "                                   n_jobs = -1)"
   ]
  },
  {
   "cell_type": "code",
   "execution_count": 16,
   "id": "f38e8364",
   "metadata": {},
   "outputs": [
    {
     "name": "stdout",
     "output_type": "stream",
     "text": [
      "Fitting 5 folds for each of 10 candidates, totalling 50 fits\n",
      "CPU times: total: 42.8 s\n",
      "Wall time: 4min 5s\n"
     ]
    }
   ],
   "source": [
    "%%time\n",
    "\n",
    "# Execute search\n",
    "results_random_rf = random_search.fit(x_train, np.ravel(y_train))"
   ]
  },
  {
   "cell_type": "code",
   "execution_count": 17,
   "id": "4378459a",
   "metadata": {},
   "outputs": [
    {
     "name": "stdout",
     "output_type": "stream",
     "text": [
      "Best Score: 0.7632870650271206\n",
      "Best Hyperparameters: {'randomforestclassifier__n_estimators': 800, 'randomforestclassifier__min_samples_split': 10, 'randomforestclassifier__max_features': 'sqrt', 'randomforestclassifier__max_depth': 40, 'randomforestclassifier__bootstrap': True}\n"
     ]
    }
   ],
   "source": [
    "# Save the model to disk\n",
    "# filename = '02 Random Forest (random).sav'\n",
    "# pickle.dump(results_random, open(filename, 'wb'))\n",
    "\n",
    "# Load the model from disk\n",
    "# results_random = pickle.load(open(filename, 'rb'))\n",
    "\n",
    "print('Best Score: %s' % results_random_rf.best_score_)\n",
    "print('Best Hyperparameters: %s' % results_random_rf.best_params_)"
   ]
  },
  {
   "cell_type": "code",
   "execution_count": 18,
   "id": "24b7e571",
   "metadata": {},
   "outputs": [],
   "source": [
    "# y_prediction for the best model using RandomSearchCV\n",
    "y_pred_random = results_random_rf.predict(x_test)"
   ]
  },
  {
   "cell_type": "code",
   "execution_count": 19,
   "id": "6cbe29cc",
   "metadata": {},
   "outputs": [
    {
     "name": "stdout",
     "output_type": "stream",
     "text": [
      "Log Loss: 4.657986677801742\n",
      "ROC AUC: 0.8285022324002834\n",
      "F1-score: 0.7799902865468674\n",
      "Precision: 0.8519893899204244\n",
      "Recall: 0.7192118226600985\n"
     ]
    }
   ],
   "source": [
    "# Error Metrics\n",
    "lg_loss = metrics.log_loss(y_test, y_pred_random)\n",
    "print(f'Log Loss: {lg_loss}')\n",
    "roc_auc = metrics.roc_auc_score(y_test, y_pred_random)\n",
    "print(f'ROC AUC: {roc_auc}')\n",
    "f1_score = metrics.f1_score(y_test, y_pred_random)\n",
    "print(f'F1-score: {f1_score}')\n",
    "precision = metrics.precision_score(y_test, y_pred_random)\n",
    "print(f'Precision: {precision}')\n",
    "recall = metrics.recall_score(y_test, y_pred_random)\n",
    "print(f'Recall: {recall}')"
   ]
  },
  {
   "cell_type": "markdown",
   "id": "c333b817",
   "metadata": {},
   "source": [
    "### Model (Grid Search)"
   ]
  },
  {
   "cell_type": "code",
   "execution_count": 20,
   "id": "4021c4ba",
   "metadata": {},
   "outputs": [],
   "source": [
    "# Model\n",
    "rf_classifier = RandomForestClassifier()\n",
    "transformer = ExperimentalTransformer()\n",
    "rf_model = make_pipeline(transformer, rf_classifier)\n",
    "\n",
    "grid = dict()\n",
    "\n",
    "# Number of trees in random forest\n",
    "grid[\"randomforestclassifier__n_estimators\"] = [10, 50, 200, 600, 800, 1200]\n",
    "\n",
    "# Number of features to consider at every split\n",
    "grid[\"randomforestclassifier__max_features\"] = ['auto', 'sqrt', 'log2']\n",
    "\n",
    "# Maximum number of levels in tree (how deep the tree goes)\n",
    "grid[\"randomforestclassifier__max_depth\"] = [None, 10, 40, 80, 120]\n",
    "\n",
    "# Minimum number of samples required to split a node\n",
    "grid[\"randomforestclassifier__min_samples_split\"] = [2, 10, 40, 100]\n",
    "\n",
    "# Method of selecting samples for training each tree (bootstrap sampling or not)\n",
    "grid[\"randomforestclassifier__bootstrap\"] = [True, False]\n",
    "\n",
    "# Define search\n",
    "grid_search = GridSearchCV(rf_model, \n",
    "                           grid, \n",
    "                           scoring = 'f1',\n",
    "                           cv = 5, \n",
    "                           n_jobs = -1, \n",
    "                           verbose = 2)"
   ]
  },
  {
   "cell_type": "code",
   "execution_count": 21,
   "id": "4ed1d061",
   "metadata": {},
   "outputs": [
    {
     "name": "stdout",
     "output_type": "stream",
     "text": [
      "Fitting 5 folds for each of 720 candidates, totalling 3600 fits\n",
      "CPU times: total: 30.5 s\n",
      "Wall time: 4h 31min 37s\n"
     ]
    }
   ],
   "source": [
    "%%time\n",
    "\n",
    "# Execute search\n",
    "results_grid_rf = grid_search.fit(x_train, np.ravel(y_train))"
   ]
  },
  {
   "cell_type": "code",
   "execution_count": 22,
   "id": "bd8d9f36",
   "metadata": {},
   "outputs": [
    {
     "name": "stdout",
     "output_type": "stream",
     "text": [
      "Best Score: 0.765808171489247\n",
      "Best Hyperparameters: {'randomforestclassifier__bootstrap': True, 'randomforestclassifier__max_depth': 120, 'randomforestclassifier__max_features': 'sqrt', 'randomforestclassifier__min_samples_split': 10, 'randomforestclassifier__n_estimators': 200}\n"
     ]
    }
   ],
   "source": [
    "# Save the model to disk\n",
    "# filename = '02 Random Forest (grid).sav'\n",
    "# pickle.dump(results_grid, open(filename, 'wb'))\n",
    "\n",
    "# Load the model from disk\n",
    "# results_grid = pickle.load(open(filename, 'rb'))\n",
    "\n",
    "print('Best Score: %s' % results_grid_rf.best_score_)\n",
    "print('Best Hyperparameters: %s' % results_grid_rf.best_params_)"
   ]
  },
  {
   "cell_type": "code",
   "execution_count": 23,
   "id": "800c4f14",
   "metadata": {},
   "outputs": [],
   "source": [
    "# y_prediction for the best model using GridSearchCV\n",
    "y_pred_grid = results_grid_rf.predict(x_test)"
   ]
  },
  {
   "cell_type": "code",
   "execution_count": 24,
   "id": "2f4116fb",
   "metadata": {},
   "outputs": [
    {
     "name": "stdout",
     "output_type": "stream",
     "text": [
      "Log Loss: 4.652845091736365\n",
      "ROC AUC: 0.8283888525267836\n",
      "F1-score: 0.7799659615852176\n",
      "Precision: 0.8531914893617021\n",
      "Recall: 0.7183161665920287\n"
     ]
    }
   ],
   "source": [
    "# Error Metrics\n",
    "lg_loss = metrics.log_loss(y_test, y_pred_grid)\n",
    "print(f'Log Loss: {lg_loss}')\n",
    "roc_auc = metrics.roc_auc_score(y_test, y_pred_grid)\n",
    "print(f'ROC AUC: {roc_auc}')\n",
    "f1_score = metrics.f1_score(y_test, y_pred_grid)\n",
    "print(f'F1-score: {f1_score}')\n",
    "precision = metrics.precision_score(y_test, y_pred_grid)\n",
    "print(f'Precision: {precision}')\n",
    "recall = metrics.recall_score(y_test, y_pred_grid)\n",
    "print(f'Recall: {recall}')"
   ]
  },
  {
   "cell_type": "markdown",
   "id": "6b1fa204",
   "metadata": {},
   "source": [
    "### Model (Optimal Hyperparameters)"
   ]
  },
  {
   "cell_type": "code",
   "execution_count": 25,
   "id": "fa153269",
   "metadata": {},
   "outputs": [
    {
     "name": "stdout",
     "output_type": "stream",
     "text": [
      "Grid Search: 0.765808171489247\n",
      "Randomised Search: 0.7632870650271206\n"
     ]
    }
   ],
   "source": [
    "print(\"Grid Search:\", results_grid_rf.best_score_) \n",
    "print(\"Randomised Search:\", results_random_rf.best_score_) "
   ]
  },
  {
   "cell_type": "code",
   "execution_count": 26,
   "id": "04ae0081",
   "metadata": {},
   "outputs": [],
   "source": [
    "# Model (initialise the object based on parameters selected by grid search)\n",
    "params_rf = results_grid_rf.best_params_\n",
    "\n",
    "rf_classifier = RandomForestClassifier(bootstrap = params_rf[\"randomforestclassifier__bootstrap\"], \n",
    "                                       max_depth = params_rf[\"randomforestclassifier__max_depth\"], \n",
    "                                       max_features = params_rf[\"randomforestclassifier__max_features\"], \n",
    "                                       min_samples_split = params_rf[\"randomforestclassifier__min_samples_split\"], \n",
    "                                       n_estimators = params_rf[\"randomforestclassifier__n_estimators\"])\n",
    "\n",
    "transformer = ExperimentalTransformer()\n",
    "rf_model_pipeline = make_pipeline(transformer, rf_classifier)\n",
    "rf_model = rf_model_pipeline.fit(x_train, np.ravel(y_train))\n",
    "\n",
    "# Save the model to disk\n",
    "# filename = '02 Random Forest (Optimal).sav'\n",
    "# pickle.dump(rf_model, open(filename, 'wb'))\n",
    "\n",
    "# Load the model from disk\n",
    "# rf_regression = pickle.load(open(filename, 'rb'))"
   ]
  },
  {
   "cell_type": "code",
   "execution_count": 137,
   "id": "83bda1ee",
   "metadata": {},
   "outputs": [],
   "source": [
    "# y_prediction for the best model\n",
    "y_pred_optimal = rf_model.predict(x_test)"
   ]
  },
  {
   "cell_type": "code",
   "execution_count": 138,
   "id": "3129661b",
   "metadata": {},
   "outputs": [
    {
     "name": "stdout",
     "output_type": "stream",
     "text": [
      "Accuracy: 0.8648407264066686\n",
      "Log Loss: 4.668269611886223\n",
      "ROC AUC: 0.8285041295536048\n",
      "F1-score: 0.7798254122211444\n",
      "Precision: 0.8503437334743522\n",
      "Recall: 0.7201074787281684\n"
     ]
    }
   ],
   "source": [
    "# Error Metrics\n",
    "accuracy = metrics.accuracy_score(y_test, y_pred_optimal)\n",
    "print(f'Accuracy: {accuracy}')\n",
    "lg_loss = metrics.log_loss(y_test, y_pred_optimal)\n",
    "print(f'Log Loss: {lg_loss}')\n",
    "roc_auc = metrics.roc_auc_score(y_test, y_pred_optimal)\n",
    "print(f'ROC AUC: {roc_auc}')\n",
    "f1_score = metrics.f1_score(y_test, y_pred_optimal)\n",
    "print(f'F1-score: {f1_score}')\n",
    "precision = metrics.precision_score(y_test, y_pred_optimal)\n",
    "print(f'Precision: {precision}')\n",
    "recall = metrics.recall_score(y_test, y_pred_optimal)\n",
    "print(f'Recall: {recall}')"
   ]
  },
  {
   "cell_type": "markdown",
   "id": "a9affb9b",
   "metadata": {},
   "source": [
    "### Feature Importance"
   ]
  },
  {
   "cell_type": "code",
   "execution_count": 29,
   "id": "a81edf6a",
   "metadata": {},
   "outputs": [
    {
     "data": {
      "text/html": [
       "<div>\n",
       "<style scoped>\n",
       "    .dataframe tbody tr th:only-of-type {\n",
       "        vertical-align: middle;\n",
       "    }\n",
       "\n",
       "    .dataframe tbody tr th {\n",
       "        vertical-align: top;\n",
       "    }\n",
       "\n",
       "    .dataframe thead th {\n",
       "        text-align: right;\n",
       "    }\n",
       "</style>\n",
       "<table border=\"1\" class=\"dataframe\">\n",
       "  <thead>\n",
       "    <tr style=\"text-align: right;\">\n",
       "      <th></th>\n",
       "      <th>Feature Importance</th>\n",
       "    </tr>\n",
       "  </thead>\n",
       "  <tbody>\n",
       "    <tr>\n",
       "      <th>followers_count</th>\n",
       "      <td>0.284771</td>\n",
       "    </tr>\n",
       "    <tr>\n",
       "      <th>following_count</th>\n",
       "      <td>0.189107</td>\n",
       "    </tr>\n",
       "    <tr>\n",
       "      <th>tweet_count</th>\n",
       "      <td>0.169593</td>\n",
       "    </tr>\n",
       "    <tr>\n",
       "      <th>account_age_in_days</th>\n",
       "      <td>0.124055</td>\n",
       "    </tr>\n",
       "    <tr>\n",
       "      <th>name_no_of_char</th>\n",
       "      <td>0.049307</td>\n",
       "    </tr>\n",
       "    <tr>\n",
       "      <th>verified</th>\n",
       "      <td>0.040791</td>\n",
       "    </tr>\n",
       "    <tr>\n",
       "      <th>un_no_of_char</th>\n",
       "      <td>0.031473</td>\n",
       "    </tr>\n",
       "    <tr>\n",
       "      <th>has_description</th>\n",
       "      <td>0.029774</td>\n",
       "    </tr>\n",
       "    <tr>\n",
       "      <th>des_external_links</th>\n",
       "      <td>0.016899</td>\n",
       "    </tr>\n",
       "    <tr>\n",
       "      <th>location</th>\n",
       "      <td>0.015458</td>\n",
       "    </tr>\n",
       "    <tr>\n",
       "      <th>name_uppercase</th>\n",
       "      <td>0.011113</td>\n",
       "    </tr>\n",
       "    <tr>\n",
       "      <th>des_no_of_usertags</th>\n",
       "      <td>0.009417</td>\n",
       "    </tr>\n",
       "    <tr>\n",
       "      <th>des_no_of_hashtags</th>\n",
       "      <td>0.008685</td>\n",
       "    </tr>\n",
       "    <tr>\n",
       "      <th>un_uppercase</th>\n",
       "      <td>0.008076</td>\n",
       "    </tr>\n",
       "    <tr>\n",
       "      <th>un_special_char</th>\n",
       "      <td>0.007573</td>\n",
       "    </tr>\n",
       "    <tr>\n",
       "      <th>name_special_char</th>\n",
       "      <td>0.003910</td>\n",
       "    </tr>\n",
       "  </tbody>\n",
       "</table>\n",
       "</div>"
      ],
      "text/plain": [
       "                     Feature Importance\n",
       "followers_count                0.284771\n",
       "following_count                0.189107\n",
       "tweet_count                    0.169593\n",
       "account_age_in_days            0.124055\n",
       "name_no_of_char                0.049307\n",
       "verified                       0.040791\n",
       "un_no_of_char                  0.031473\n",
       "has_description                0.029774\n",
       "des_external_links             0.016899\n",
       "location                       0.015458\n",
       "name_uppercase                 0.011113\n",
       "des_no_of_usertags             0.009417\n",
       "des_no_of_hashtags             0.008685\n",
       "un_uppercase                   0.008076\n",
       "un_special_char                0.007573\n",
       "name_special_char              0.003910"
      ]
     },
     "execution_count": 29,
     "metadata": {},
     "output_type": "execute_result"
    }
   ],
   "source": [
    "# rf_model.feature_importances_\n",
    "feature = pd.DataFrame(rf_model.named_steps[\"randomforestclassifier\"].feature_importances_, rf_model.named_steps[\"experimentaltransformer\"].columns.T, columns=['Feature Importance']).sort_values(by='Feature Importance', ascending=False)\n",
    "feature"
   ]
  },
  {
   "cell_type": "code",
   "execution_count": 30,
   "id": "a761d5b8",
   "metadata": {},
   "outputs": [
    {
     "data": {
      "image/png": "[encoded data removed]",
      "text/plain": [
       "<Figure size 864x1080 with 1 Axes>"
      ]
     },
     "metadata": {
      "needs_background": "light"
     },
     "output_type": "display_data"
    }
   ],
   "source": [
    "feature_chart(feature, \"Random Forest\")"
   ]
  },
  {
   "cell_type": "markdown",
   "id": "32988753",
   "metadata": {},
   "source": [
    "## 03 XGBoost\n",
    "* Model (Random Search + Grid Search + Bayesian Optimisation)\n",
    "* Error Metrics\n",
    "* Plot for Feature Importance"
   ]
  },
  {
   "cell_type": "markdown",
   "id": "9410e8c7",
   "metadata": {},
   "source": [
    "### Model (Random Search)"
   ]
  },
  {
   "cell_type": "code",
   "execution_count": 31,
   "id": "47e516bb",
   "metadata": {},
   "outputs": [],
   "source": [
    "xgb_classifier = xgb.XGBClassifier(gamma = 0.1,\n",
    "                                   alpha = 0.5,\n",
    "                                   objective = \"binary:logistic\",\n",
    "                                   eval_metric = \"logloss\")\n",
    "transformer = ExperimentalTransformer()\n",
    "xgb_model = make_pipeline(transformer, xgb_classifier)\n",
    "\n",
    "space = dict()\n",
    "\n",
    "# Maximum depth of the individual regression estimators\n",
    "space[\"xgbclassifier__max_depth\"] = [6, 10, 15, 20, 25]\n",
    "\n",
    "# Fraction of samples to be used for fitting the individual base learners\n",
    "space[\"xgbclassifier__subsample\"] = [0.6, 0.8, 1.0]\n",
    "\n",
    "# Step size shrinkage used in update to prevents overfitting\n",
    "space[\"xgbclassifier__eta\"] = [0.01, 0.1, 0.2]\n",
    "\n",
    "# Subsample ratio of columns when constructing each tree\n",
    "space[\"xgbclassifier__colsample_bytree\"] = [0.5, 0.6, 0.7, 0.8, 0.9]\n",
    "\n",
    "# Define Search\n",
    "random_search = RandomizedSearchCV(estimator = xgb_model,\n",
    "                                   param_distributions = space,\n",
    "                                   scoring = 'f1',\n",
    "                                   n_jobs = -1,\n",
    "                                   cv = 5,\n",
    "                                   verbose = 10,\n",
    "                                   n_iter = 50,\n",
    "                                   random_state = 123)"
   ]
  },
  {
   "cell_type": "code",
   "execution_count": 32,
   "id": "86645987",
   "metadata": {},
   "outputs": [
    {
     "name": "stdout",
     "output_type": "stream",
     "text": [
      "Fitting 5 folds for each of 50 candidates, totalling 250 fits\n",
      "CPU times: total: 10.1 s\n",
      "Wall time: 7min 46s\n"
     ]
    }
   ],
   "source": [
    "%%time\n",
    "\n",
    "# Execute Search\n",
    "results_random_xgb = random_search.fit(x_train, y_train)\n",
    "# Fitting 5 folds for each of 50 candidates, totalling 250 fits\n",
    "# CPU times: user 1min 23s, sys: 3.7 s, total: 1min 27s\n",
    "# Wall time: 1h 29min 45s"
   ]
  },
  {
   "cell_type": "code",
   "execution_count": 33,
   "id": "e984980e",
   "metadata": {},
   "outputs": [
    {
     "name": "stdout",
     "output_type": "stream",
     "text": [
      "Best Score: 0.7659634560263112\n",
      "Best Hyperparameters: {'xgbclassifier__subsample': 0.8, 'xgbclassifier__max_depth': 6, 'xgbclassifier__eta': 0.2, 'xgbclassifier__colsample_bytree': 0.5}\n"
     ]
    }
   ],
   "source": [
    "# filename = 'random_all.sav'\n",
    "# pickle.dump(random_search, open(filename, 'wb'))\n",
    "\n",
    "print('Best Score: %s' % results_random_xgb.best_score_)\n",
    "print('Best Hyperparameters: %s' % results_random_xgb.best_params_)\n",
    "\n",
    "# print(results_random.best_params_)\n",
    "# print(\"Randomised Search:\", results_random.best_score_)"
   ]
  },
  {
   "cell_type": "code",
   "execution_count": 34,
   "id": "842d973b",
   "metadata": {},
   "outputs": [],
   "source": [
    "# y_prediction for the best model using RandomSearchCV\n",
    "y_pred_random = results_random_xgb.predict(x_test)"
   ]
  },
  {
   "cell_type": "code",
   "execution_count": 35,
   "id": "6c2606cf",
   "metadata": {},
   "outputs": [
    {
     "name": "stdout",
     "output_type": "stream",
     "text": [
      "Log Loss: 4.760813043068142\n",
      "ROC AUC: 0.8257104215125204\n",
      "F1-score: 0.7756782945736435\n",
      "Precision: 0.8448548812664908\n",
      "Recall: 0.7169726824899239\n"
     ]
    }
   ],
   "source": [
    "# Error Metrics\n",
    "lg_loss = metrics.log_loss(y_test, y_pred_random)\n",
    "print(f'Log Loss: {lg_loss}')\n",
    "roc_auc = metrics.roc_auc_score(y_test, y_pred_random)\n",
    "print(f'ROC AUC: {roc_auc}')\n",
    "f1_score = metrics.f1_score(y_test, y_pred_random)\n",
    "print(f'F1-score: {f1_score}')\n",
    "precision = metrics.precision_score(y_test, y_pred_random)\n",
    "print(f'Precision: {precision}')\n",
    "recall = metrics.recall_score(y_test, y_pred_random)\n",
    "print(f'Recall: {recall}')"
   ]
  },
  {
   "cell_type": "markdown",
   "id": "f5e30755",
   "metadata": {},
   "source": [
    "### Model (Grid Search)"
   ]
  },
  {
   "cell_type": "code",
   "execution_count": 36,
   "id": "47b21f8b",
   "metadata": {},
   "outputs": [],
   "source": [
    "xgb_classifier = xgb.XGBClassifier(gamma = 0.1,\n",
    "                                   alpha = 0.5,\n",
    "                                   objective = \"binary:logistic\",\n",
    "                                   eval_metric = \"logloss\")\n",
    "transformer = ExperimentalTransformer()\n",
    "xgb_model = make_pipeline(transformer, xgb_classifier)\n",
    "\n",
    "grid = dict()\n",
    "\n",
    "# Maximum depth of the individual regression estimators\n",
    "grid[\"xgbclassifier__max_depth\"] = [6, 10, 15, 20, 25]\n",
    "\n",
    "# Fraction of samples to be used for fitting the individual base learners\n",
    "grid[\"xgbclassifier__subsample\"] = [0.6, 0.8, 1.0]\n",
    "\n",
    "# Step size shrinkage used in update to prevents overfitting\n",
    "grid[\"xgbclassifier__eta\"] = [0.01, 0.1, 0.2]\n",
    "\n",
    "# Subsample ratio of columns when constructing each tree\n",
    "grid[\"xgbclassifier__colsample_bytree\"] = [0.5, 0.6, 0.7, 0.8, 0.9]\n",
    "\n",
    "grid_search = GridSearchCV(estimator = xgb_model,\n",
    "                           param_grid = grid,\n",
    "                           scoring = 'f1',\n",
    "                           n_jobs = -1,\n",
    "                           cv = 5,\n",
    "                           verbose = True)"
   ]
  },
  {
   "cell_type": "code",
   "execution_count": 37,
   "id": "affa4b9a",
   "metadata": {},
   "outputs": [
    {
     "name": "stdout",
     "output_type": "stream",
     "text": [
      "Fitting 5 folds for each of 225 candidates, totalling 1125 fits\n",
      "CPU times: total: 17.3 s\n",
      "Wall time: 33min 10s\n"
     ]
    }
   ],
   "source": [
    "%%time\n",
    "\n",
    "results_grid_xgb = grid_search.fit(x_train, y_train)\n",
    "# Fitting 5 folds for each of 225 candidates, totalling 1125 fits\n",
    "# CPU times: user 2min 51s, sys: 15.3 s, total: 3min 6s\n",
    "# Wall time: 6h 58min 5s"
   ]
  },
  {
   "cell_type": "code",
   "execution_count": 38,
   "id": "67674160",
   "metadata": {},
   "outputs": [
    {
     "name": "stdout",
     "output_type": "stream",
     "text": [
      "Best Score: 0.7678975346450624\n",
      "Best Hyperparameters: {'xgbclassifier__colsample_bytree': 0.7, 'xgbclassifier__eta': 0.2, 'xgbclassifier__max_depth': 6, 'xgbclassifier__subsample': 1.0}\n"
     ]
    }
   ],
   "source": [
    "print('Best Score: %s' % results_grid_xgb.best_score_)\n",
    "print('Best Hyperparameters: %s' % results_grid_xgb.best_params_)"
   ]
  },
  {
   "cell_type": "code",
   "execution_count": 39,
   "id": "337f526f",
   "metadata": {},
   "outputs": [],
   "source": [
    "# y_prediction for the best model using GridSearchCV\n",
    "y_pred_grid = results_grid_xgb.predict(x_test)"
   ]
  },
  {
   "cell_type": "code",
   "execution_count": 40,
   "id": "c21bdeea",
   "metadata": {},
   "outputs": [
    {
     "name": "stdout",
     "output_type": "stream",
     "text": [
      "Log Loss: 4.688834884939503\n",
      "ROC AUC: 0.8279457673760521\n",
      "F1-score: 0.7789626757149782\n",
      "Precision: 0.8489170628631801\n",
      "Recall: 0.7196596506941334\n"
     ]
    }
   ],
   "source": [
    "# Error Metrics\n",
    "lg_loss = metrics.log_loss(y_test, y_pred_grid)\n",
    "print(f'Log Loss: {lg_loss}')\n",
    "roc_auc = metrics.roc_auc_score(y_test, y_pred_grid)\n",
    "print(f'ROC AUC: {roc_auc}')\n",
    "f1_score = metrics.f1_score(y_test, y_pred_grid)\n",
    "print(f'F1-score: {f1_score}')\n",
    "precision = metrics.precision_score(y_test, y_pred_grid)\n",
    "print(f'Precision: {precision}')\n",
    "recall = metrics.recall_score(y_test, y_pred_grid)\n",
    "print(f'Recall: {recall}')"
   ]
  },
  {
   "cell_type": "markdown",
   "id": "b98f95af",
   "metadata": {},
   "source": [
    "### Model (Bayesian Optimisation)"
   ]
  },
  {
   "cell_type": "code",
   "execution_count": 41,
   "id": "d8551a6f",
   "metadata": {},
   "outputs": [],
   "source": [
    "def xgboost_hyper_pram(eta, max_depth, subsample, gamma, colsample_bytree, alpha):\n",
    "    max_depth = int(max_depth)\n",
    "    xgb_classifier = xgb.XGBClassifier(max_depth = max_depth, \n",
    "                                       eta = eta, \n",
    "                                       gamma = gamma,\n",
    "                                       subsample = subsample,\n",
    "                                       colsample_bytree = colsample_bytree,\n",
    "                                       alpha = alpha,\n",
    "                                       objective = \"binary:logistic\",\n",
    "                                       eval_metric = \"logloss\")\n",
    "\n",
    "    transformer = ExperimentalTransformer()\n",
    "    xgb_model = make_pipeline(transformer, xgb_classifier)\n",
    "    \n",
    "    xgb_model.fit(x_train, y_train)\n",
    "    y_pred = xgb_model.predict(x_test)\n",
    "    \n",
    "    return (metrics.f1_score(y_test, y_pred))"
   ]
  },
  {
   "cell_type": "code",
   "execution_count": 42,
   "id": "7a24c1e1",
   "metadata": {},
   "outputs": [],
   "source": [
    "optim_model = BayesianOptimization(xgboost_hyper_pram, \n",
    "                                   {'max_depth' : (1, 30), \n",
    "                                   'eta' : (0, 0.2), \n",
    "                                   'gamma' : (0, 1),\n",
    "                                   'subsample' : (0, 1),\n",
    "                                   'colsample_bytree' : (0, 1),\n",
    "                                   'alpha' : (0, 1)},\n",
    "                                   random_state=123)"
   ]
  },
  {
   "cell_type": "code",
   "execution_count": 43,
   "id": "b8c2ce86",
   "metadata": {},
   "outputs": [
    {
     "name": "stdout",
     "output_type": "stream",
     "text": [
      "|   iter    |  target   |   alpha   | colsam... |    eta    |   gamma   | max_depth | subsample |\n",
      "-------------------------------------------------------------------------------------------------\n",
      "| \u001b[0m1        \u001b[0m | \u001b[0m0.7532   \u001b[0m | \u001b[0m0.6965   \u001b[0m | \u001b[0m0.2861   \u001b[0m | \u001b[0m0.04537  \u001b[0m | \u001b[0m0.5513   \u001b[0m | \u001b[0m21.86    \u001b[0m | \u001b[0m0.4231   \u001b[0m |\n",
      "| \u001b[95m2        \u001b[0m | \u001b[95m0.7809   \u001b[0m | \u001b[95m0.9808   \u001b[0m | \u001b[95m0.6848   \u001b[0m | \u001b[95m0.09619  \u001b[0m | \u001b[95m0.3921   \u001b[0m | \u001b[95m10.95    \u001b[0m | \u001b[95m0.729    \u001b[0m |\n",
      "| \u001b[0m3        \u001b[0m | \u001b[0m0.69     \u001b[0m | \u001b[0m0.4386   \u001b[0m | \u001b[0m0.05968  \u001b[0m | \u001b[0m0.07961  \u001b[0m | \u001b[0m0.738    \u001b[0m | \u001b[0m6.292    \u001b[0m | \u001b[0m0.1755   \u001b[0m |\n",
      "| \u001b[0m4        \u001b[0m | \u001b[0m0.773    \u001b[0m | \u001b[0m0.5316   \u001b[0m | \u001b[0m0.5318   \u001b[0m | \u001b[0m0.1269   \u001b[0m | \u001b[0m0.8494   \u001b[0m | \u001b[0m22.01    \u001b[0m | \u001b[0m0.611    \u001b[0m |\n",
      "| \u001b[0m5        \u001b[0m | \u001b[0m0.7692   \u001b[0m | \u001b[0m0.7224   \u001b[0m | \u001b[0m0.323    \u001b[0m | \u001b[0m0.07236  \u001b[0m | \u001b[0m0.2283   \u001b[0m | \u001b[0m9.518    \u001b[0m | \u001b[0m0.631    \u001b[0m |\n",
      "| \u001b[0m6        \u001b[0m | \u001b[0m0.7748   \u001b[0m | \u001b[0m0.0921   \u001b[0m | \u001b[0m0.4337   \u001b[0m | \u001b[0m0.08617  \u001b[0m | \u001b[0m0.4937   \u001b[0m | \u001b[0m13.35    \u001b[0m | \u001b[0m0.3123   \u001b[0m |\n",
      "| \u001b[0m7        \u001b[0m | \u001b[0m0.7532   \u001b[0m | \u001b[0m0.4264   \u001b[0m | \u001b[0m0.8934   \u001b[0m | \u001b[0m0.1888   \u001b[0m | \u001b[0m0.5018   \u001b[0m | \u001b[0m19.09    \u001b[0m | \u001b[0m0.1156   \u001b[0m |\n",
      "| \u001b[0m8        \u001b[0m | \u001b[0m0.765    \u001b[0m | \u001b[0m0.3173   \u001b[0m | \u001b[0m0.4148   \u001b[0m | \u001b[0m0.1733   \u001b[0m | \u001b[0m0.2505   \u001b[0m | \u001b[0m15.01    \u001b[0m | \u001b[0m0.9856   \u001b[0m |\n",
      "| \u001b[0m9        \u001b[0m | \u001b[0m0.772    \u001b[0m | \u001b[0m0.5195   \u001b[0m | \u001b[0m0.6129   \u001b[0m | \u001b[0m0.02413  \u001b[0m | \u001b[0m0.8263   \u001b[0m | \u001b[0m18.49    \u001b[0m | \u001b[0m0.5451   \u001b[0m |\n",
      "| \u001b[0m10       \u001b[0m | \u001b[0m0.7565   \u001b[0m | \u001b[0m0.3428   \u001b[0m | \u001b[0m0.3041   \u001b[0m | \u001b[0m0.0834   \u001b[0m | \u001b[0m0.6813   \u001b[0m | \u001b[0m26.39    \u001b[0m | \u001b[0m0.5104   \u001b[0m |\n",
      "| \u001b[0m11       \u001b[0m | \u001b[0m0.7659   \u001b[0m | \u001b[0m0.6693   \u001b[0m | \u001b[0m0.5859   \u001b[0m | \u001b[0m0.125    \u001b[0m | \u001b[0m0.6747   \u001b[0m | \u001b[0m25.43    \u001b[0m | \u001b[0m0.08319  \u001b[0m |\n",
      "| \u001b[0m12       \u001b[0m | \u001b[0m0.7014   \u001b[0m | \u001b[0m0.7637   \u001b[0m | \u001b[0m0.2437   \u001b[0m | \u001b[0m0.03884  \u001b[0m | \u001b[0m0.5725   \u001b[0m | \u001b[0m3.776    \u001b[0m | \u001b[0m0.8853   \u001b[0m |\n",
      "| \u001b[0m13       \u001b[0m | \u001b[0m0.7595   \u001b[0m | \u001b[0m0.6272   \u001b[0m | \u001b[0m0.7234   \u001b[0m | \u001b[0m0.003226 \u001b[0m | \u001b[0m0.5944   \u001b[0m | \u001b[0m17.15    \u001b[0m | \u001b[0m0.159    \u001b[0m |\n",
      "| \u001b[0m14       \u001b[0m | \u001b[0m0.7788   \u001b[0m | \u001b[0m0.1531   \u001b[0m | \u001b[0m0.6955   \u001b[0m | \u001b[0m0.06375  \u001b[0m | \u001b[0m0.692    \u001b[0m | \u001b[0m17.08    \u001b[0m | \u001b[0m0.389    \u001b[0m |\n",
      "| \u001b[0m15       \u001b[0m | \u001b[0m0.7767   \u001b[0m | \u001b[0m0.9251   \u001b[0m | \u001b[0m0.8417   \u001b[0m | \u001b[0m0.07148  \u001b[0m | \u001b[0m0.04359  \u001b[0m | \u001b[0m9.838    \u001b[0m | \u001b[0m0.3982   \u001b[0m |\n",
      "| \u001b[95m16       \u001b[0m | \u001b[95m0.7846   \u001b[0m | \u001b[95m0.705    \u001b[0m | \u001b[95m0.9954   \u001b[0m | \u001b[95m0.07118  \u001b[0m | \u001b[95m0.7625   \u001b[0m | \u001b[95m18.2     \u001b[0m | \u001b[95m0.6917   \u001b[0m |\n",
      "| \u001b[0m17       \u001b[0m | \u001b[0m0.7632   \u001b[0m | \u001b[0m0.1511   \u001b[0m | \u001b[0m0.3989   \u001b[0m | \u001b[0m0.04817  \u001b[0m | \u001b[0m0.3435   \u001b[0m | \u001b[0m15.88    \u001b[0m | \u001b[0m0.6666   \u001b[0m |\n",
      "| \u001b[0m18       \u001b[0m | \u001b[0m0.7143   \u001b[0m | \u001b[0m0.1059   \u001b[0m | \u001b[0m0.1309   \u001b[0m | \u001b[0m0.0644   \u001b[0m | \u001b[0m0.6616   \u001b[0m | \u001b[0m25.55    \u001b[0m | \u001b[0m0.5533   \u001b[0m |\n",
      "| \u001b[0m19       \u001b[0m | \u001b[0m0.7637   \u001b[0m | \u001b[0m0.8545   \u001b[0m | \u001b[0m0.3848   \u001b[0m | \u001b[0m0.06336  \u001b[0m | \u001b[0m0.3543   \u001b[0m | \u001b[0m5.961    \u001b[0m | \u001b[0m0.8291   \u001b[0m |\n",
      "| \u001b[0m20       \u001b[0m | \u001b[0m0.6906   \u001b[0m | \u001b[0m0.3387   \u001b[0m | \u001b[0m0.5524   \u001b[0m | \u001b[0m0.1157   \u001b[0m | \u001b[0m0.5215   \u001b[0m | \u001b[0m1.078    \u001b[0m | \u001b[0m0.9883   \u001b[0m |\n",
      "| \u001b[0m21       \u001b[0m | \u001b[0m0.7411   \u001b[0m | \u001b[0m0.9053   \u001b[0m | \u001b[0m0.2076   \u001b[0m | \u001b[0m0.0585   \u001b[0m | \u001b[0m0.52     \u001b[0m | \u001b[0m27.16    \u001b[0m | \u001b[0m0.9836   \u001b[0m |\n",
      "| \u001b[0m22       \u001b[0m | \u001b[0m0.758    \u001b[0m | \u001b[0m0.2575   \u001b[0m | \u001b[0m0.5644   \u001b[0m | \u001b[0m0.1614   \u001b[0m | \u001b[0m0.3944   \u001b[0m | \u001b[0m22.2     \u001b[0m | \u001b[0m0.1611   \u001b[0m |\n",
      "| \u001b[0m23       \u001b[0m | \u001b[0m0.7644   \u001b[0m | \u001b[0m0.6007   \u001b[0m | \u001b[0m0.8659   \u001b[0m | \u001b[0m0.1967   \u001b[0m | \u001b[0m0.07937  \u001b[0m | \u001b[0m13.42    \u001b[0m | \u001b[0m0.2045   \u001b[0m |\n",
      "| \u001b[0m24       \u001b[0m | \u001b[0m0.7655   \u001b[0m | \u001b[0m0.4506   \u001b[0m | \u001b[0m0.5478   \u001b[0m | \u001b[0m0.01867  \u001b[0m | \u001b[0m0.2969   \u001b[0m | \u001b[0m27.9     \u001b[0m | \u001b[0m0.569    \u001b[0m |\n",
      "| \u001b[0m25       \u001b[0m | \u001b[0m0.7767   \u001b[0m | \u001b[0m0.4574   \u001b[0m | \u001b[0m0.7535   \u001b[0m | \u001b[0m0.1484   \u001b[0m | \u001b[0m0.04858  \u001b[0m | \u001b[0m21.55    \u001b[0m | \u001b[0m0.8392   \u001b[0m |\n",
      "| \u001b[0m26       \u001b[0m | \u001b[0m0.7758   \u001b[0m | \u001b[0m0.7217   \u001b[0m | \u001b[0m0.8784   \u001b[0m | \u001b[0m0.0006844\u001b[0m | \u001b[0m0.9309   \u001b[0m | \u001b[0m25.21    \u001b[0m | \u001b[0m0.9074   \u001b[0m |\n",
      "| \u001b[0m27       \u001b[0m | \u001b[0m0.783    \u001b[0m | \u001b[0m0.3224   \u001b[0m | \u001b[0m0.9215   \u001b[0m | \u001b[0m0.09854  \u001b[0m | \u001b[0m0.8049   \u001b[0m | \u001b[0m17.8     \u001b[0m | \u001b[0m0.7714   \u001b[0m |\n",
      "| \u001b[0m28       \u001b[0m | \u001b[0m0.782    \u001b[0m | \u001b[0m0.7861   \u001b[0m | \u001b[0m0.9155   \u001b[0m | \u001b[0m0.2      \u001b[0m | \u001b[0m1.0      \u001b[0m | \u001b[0m17.98    \u001b[0m | \u001b[0m1.0      \u001b[0m |\n",
      "| \u001b[0m29       \u001b[0m | \u001b[0m0.7816   \u001b[0m | \u001b[0m0.6148   \u001b[0m | \u001b[0m1.0      \u001b[0m | \u001b[0m0.2      \u001b[0m | \u001b[0m0.3787   \u001b[0m | \u001b[0m18.04    \u001b[0m | \u001b[0m1.0      \u001b[0m |\n",
      "| \u001b[0m30       \u001b[0m | \u001b[0m0.7732   \u001b[0m | \u001b[0m0.1679   \u001b[0m | \u001b[0m1.0      \u001b[0m | \u001b[0m0.2      \u001b[0m | \u001b[0m0.8447   \u001b[0m | \u001b[0m21.72    \u001b[0m | \u001b[0m1.0      \u001b[0m |\n",
      "| \u001b[0m31       \u001b[0m | \u001b[0m0.7782   \u001b[0m | \u001b[0m0.0      \u001b[0m | \u001b[0m1.0      \u001b[0m | \u001b[0m0.2      \u001b[0m | \u001b[0m0.8857   \u001b[0m | \u001b[0m17.08    \u001b[0m | \u001b[0m1.0      \u001b[0m |\n",
      "| \u001b[0m32       \u001b[0m | \u001b[0m0.7769   \u001b[0m | \u001b[0m1.0      \u001b[0m | \u001b[0m1.0      \u001b[0m | \u001b[0m0.06298  \u001b[0m | \u001b[0m1.0      \u001b[0m | \u001b[0m24.84    \u001b[0m | \u001b[0m0.3115   \u001b[0m |\n",
      "| \u001b[0m33       \u001b[0m | \u001b[0m0.7713   \u001b[0m | \u001b[0m0.4686   \u001b[0m | \u001b[0m0.8075   \u001b[0m | \u001b[0m0.04775  \u001b[0m | \u001b[0m0.07021  \u001b[0m | \u001b[0m10.78    \u001b[0m | \u001b[0m0.1392   \u001b[0m |\n",
      "| \u001b[0m34       \u001b[0m | \u001b[0m0.0      \u001b[0m | \u001b[0m1.0      \u001b[0m | \u001b[0m1.0      \u001b[0m | \u001b[0m0.0      \u001b[0m | \u001b[0m1.0      \u001b[0m | \u001b[0m25.8     \u001b[0m | \u001b[0m0.2715   \u001b[0m |\n",
      "| \u001b[0m35       \u001b[0m | \u001b[0m0.7703   \u001b[0m | \u001b[0m0.1024   \u001b[0m | \u001b[0m0.4232   \u001b[0m | \u001b[0m0.1235   \u001b[0m | \u001b[0m0.5942   \u001b[0m | \u001b[0m13.42    \u001b[0m | \u001b[0m0.3505   \u001b[0m |\n",
      "| \u001b[0m36       \u001b[0m | \u001b[0m0.774    \u001b[0m | \u001b[0m0.6333   \u001b[0m | \u001b[0m0.617    \u001b[0m | \u001b[0m0.1913   \u001b[0m | \u001b[0m0.6617   \u001b[0m | \u001b[0m17.98    \u001b[0m | \u001b[0m0.8022   \u001b[0m |\n",
      "| \u001b[0m37       \u001b[0m | \u001b[0m0.7813   \u001b[0m | \u001b[0m0.05444  \u001b[0m | \u001b[0m0.6181   \u001b[0m | \u001b[0m0.06163  \u001b[0m | \u001b[0m0.7723   \u001b[0m | \u001b[0m17.07    \u001b[0m | \u001b[0m0.3638   \u001b[0m |\n",
      "| \u001b[0m38       \u001b[0m | \u001b[0m0.776    \u001b[0m | \u001b[0m0.7061   \u001b[0m | \u001b[0m0.6339   \u001b[0m | \u001b[0m0.06319  \u001b[0m | \u001b[0m0.7072   \u001b[0m | \u001b[0m24.71    \u001b[0m | \u001b[0m0.5234   \u001b[0m |\n",
      "| \u001b[0m39       \u001b[0m | \u001b[0m0.7659   \u001b[0m | \u001b[0m0.534    \u001b[0m | \u001b[0m0.3337   \u001b[0m | \u001b[0m0.1824   \u001b[0m | \u001b[0m0.5866   \u001b[0m | \u001b[0m4.258    \u001b[0m | \u001b[0m0.2602   \u001b[0m |\n",
      "| \u001b[0m40       \u001b[0m | \u001b[0m0.7318   \u001b[0m | \u001b[0m0.4457   \u001b[0m | \u001b[0m0.2819   \u001b[0m | \u001b[0m0.05725  \u001b[0m | \u001b[0m0.5982   \u001b[0m | \u001b[0m25.29    \u001b[0m | \u001b[0m0.01887  \u001b[0m |\n",
      "=================================================================================================\n",
      "CPU times: total: 12min 32s\n",
      "Wall time: 3min 15s\n"
     ]
    }
   ],
   "source": [
    "%%time \n",
    "\n",
    "optim_model.maximize(n_iter=15, init_points=25, acq='ei')\n",
    "\n",
    "# CPU times: user 22min 42s, sys: 3.66 s, total: 22min 46s\n",
    "# Wall time: 22min 41s"
   ]
  },
  {
   "cell_type": "code",
   "execution_count": 44,
   "id": "d7fda226",
   "metadata": {},
   "outputs": [
    {
     "name": "stdout",
     "output_type": "stream",
     "text": [
      "Best Score: 0.7846338535414167\n",
      "Best Hyperparameters: {'alpha': 0.7049588304513622, 'colsample_bytree': 0.9953584820340174, 'eta': 0.07118297314349191, 'gamma': 0.7625478137854338, 'max_depth': 18.202130580304413, 'subsample': 0.6917017987001771}\n"
     ]
    }
   ],
   "source": [
    "print('Best Score: %s' % optim_model.max[\"target\"])\n",
    "print('Best Hyperparameters: %s' % optim_model.max['params'])"
   ]
  },
  {
   "cell_type": "markdown",
   "id": "c71fa2ae",
   "metadata": {},
   "source": [
    "### Model (Optimal Hyperparameters)"
   ]
  },
  {
   "cell_type": "code",
   "execution_count": 45,
   "id": "6177496e",
   "metadata": {},
   "outputs": [
    {
     "name": "stdout",
     "output_type": "stream",
     "text": [
      "Grid Search: 0.7678975346450624\n",
      "Randomised Search: 0.7659634560263112\n",
      "Bayesian Optimisation: 0.7846338535414167\n"
     ]
    }
   ],
   "source": [
    "print(\"Grid Search:\", results_grid_xgb.best_score_) \n",
    "print(\"Randomised Search:\", results_random_xgb.best_score_) \n",
    "print(\"Bayesian Optimisation:\", optim_model.max[\"target\"]) "
   ]
  },
  {
   "cell_type": "code",
   "execution_count": 46,
   "id": "88861a6b",
   "metadata": {},
   "outputs": [],
   "source": [
    "# Model (initialise the object based on parameters selected by bayesian optimisation)\n",
    "# params = grid_search.best_params_\n",
    "params_xgb = optim_model.max['params']\n",
    "xgb_classifier = xgb.XGBClassifier(max_depth = int(params_xgb['max_depth']), \n",
    "                                   eta = params_xgb['eta'], \n",
    "                                   gamma = params_xgb['gamma'],\n",
    "                                   subsample = params_xgb['subsample'],\n",
    "                                   colsample_bytree = params_xgb['colsample_bytree'],\n",
    "                                   alpha = params_xgb['alpha'],\n",
    "                                   objective = \"binary:logistic\",\n",
    "                                   eval_metric = \"logloss\")\n",
    "\n",
    "transformer = ExperimentalTransformer()\n",
    "xgb_model_pipeline = make_pipeline(transformer, xgb_classifier)\n",
    "xgb_model = xgb_model_pipeline.fit(x_train, y_train)"
   ]
  },
  {
   "cell_type": "code",
   "execution_count": 135,
   "id": "9b87d79d",
   "metadata": {},
   "outputs": [],
   "source": [
    "# y_prediction for the best model\n",
    "y_pred_optimal = xgb_model.predict(x_test)\n",
    "# y_pred_prob_optimal = xgb_model.predict_proba(x_test)\n",
    "# y_pred_optimal = np.zeros(y_pred_prob_optimal[:, 1].shape)\n",
    "# y_pred_optimal[y_pred_prob_optimal[:, 1] > 0.35] = 1"
   ]
  },
  {
   "cell_type": "code",
   "execution_count": 136,
   "id": "d713d2d8",
   "metadata": {},
   "outputs": [
    {
     "name": "stdout",
     "output_type": "stream",
     "text": [
      "Accuracy: 0.8664781184876451\n",
      "Log Loss: 4.6117178782776245\n",
      "ROC AUC: 0.8326536531933832\n",
      "F1-score: 0.7846338535414167\n",
      "Precision: 0.8457556935817805\n",
      "Recall: 0.7317510076130765\n"
     ]
    }
   ],
   "source": [
    "# Error Metrics\n",
    "accuracy = metrics.accuracy_score(y_test, y_pred_optimal)\n",
    "print(f'Accuracy: {accuracy}')\n",
    "lg_loss = metrics.log_loss(y_test, y_pred_optimal)\n",
    "print(f'Log Loss: {lg_loss}')\n",
    "roc_auc = metrics.roc_auc_score(y_test, y_pred_optimal)\n",
    "print(f'ROC AUC: {roc_auc}')\n",
    "f1_score = metrics.f1_score(y_test, y_pred_optimal)\n",
    "print(f'F1-score: {f1_score}')\n",
    "precision = metrics.precision_score(y_test, y_pred_optimal)\n",
    "print(f'Precision: {precision}')\n",
    "recall = metrics.recall_score(y_test, y_pred_optimal)\n",
    "print(f'Recall: {recall}')"
   ]
  },
  {
   "cell_type": "markdown",
   "id": "113ccb49",
   "metadata": {},
   "source": [
    "### Feature Importance"
   ]
  },
  {
   "cell_type": "code",
   "execution_count": 49,
   "id": "35825edc",
   "metadata": {},
   "outputs": [
    {
     "data": {
      "image/png": "[encoded data removed]",
      "text/plain": [
       "<Figure size 864x1296 with 1 Axes>"
      ]
     },
     "metadata": {
      "needs_background": "light"
     },
     "output_type": "display_data"
    }
   ],
   "source": [
    "fig, ax = plt.subplots(figsize=(12,18))\n",
    "xgb.plot_importance(xgb_model.named_steps[\"xgbclassifier\"], importance_type = 'gain', height=0.8, ax=ax)\n",
    "plt.show()"
   ]
  },
  {
   "cell_type": "markdown",
   "id": "084d0ac9",
   "metadata": {},
   "source": [
    "## 04 Support Vector Machine\n",
    "* Model (Random Search + Grid Search)\n",
    "* Error Metrics\n",
    "* Plot for Feature Importance"
   ]
  },
  {
   "cell_type": "markdown",
   "id": "c641c483",
   "metadata": {},
   "source": [
    "### Model: Random Search"
   ]
  },
  {
   "cell_type": "code",
   "execution_count": 50,
   "id": "c01ab427",
   "metadata": {},
   "outputs": [],
   "source": [
    "# Model\n",
    "svm_classifier = SVC()\n",
    "transformer = ExperimentalTransformer()\n",
    "svm_model = make_pipeline(transformer, svm_classifier)\n",
    "\n",
    "space = dict()\n",
    "\n",
    "# Kernel type to be used in the algorithm\n",
    "space[\"svc__kernel\"] = ['poly', 'rbf', 'sigmoid']\n",
    "\n",
    "# Degree of the polynomial kernel function\n",
    "space[\"svc__degree\"] = [1, 3, 8]\n",
    "\n",
    "# Kernel coefficient for ‘rbf’, ‘poly’ and ‘sigmoid’\n",
    "space[\"svc__gamma\"] = ['scale', 'auto']\n",
    "\n",
    "# Regularisation parameter\n",
    "space[\"svc__C\"] = [0.1, 1, 10, 100]\n",
    "\n",
    "# Enable verbose output\n",
    "space[\"svc__verbose\"] = [True, False]\n",
    "\n",
    "# Define search\n",
    "random_search = RandomizedSearchCV(svm_model, \n",
    "                                   space, \n",
    "                                   cv = 5, \n",
    "                                   scoring = 'f1',\n",
    "                                   verbose = 2, \n",
    "                                   random_state = 123, \n",
    "                                   n_jobs = -1)"
   ]
  },
  {
   "cell_type": "code",
   "execution_count": 51,
   "id": "be6de847",
   "metadata": {},
   "outputs": [
    {
     "name": "stdout",
     "output_type": "stream",
     "text": [
      "Fitting 5 folds for each of 10 candidates, totalling 50 fits\n",
      "CPU times: total: 2min 14s\n",
      "Wall time: 13min 46s\n"
     ]
    }
   ],
   "source": [
    "%%time\n",
    "\n",
    "# Execute search\n",
    "results_random_svm = random_search.fit(x_train, np.ravel(y_train))"
   ]
  },
  {
   "cell_type": "code",
   "execution_count": 52,
   "id": "eaa337ac",
   "metadata": {},
   "outputs": [
    {
     "name": "stdout",
     "output_type": "stream",
     "text": [
      "Best Score: 0.615291043186701\n",
      "Best Hyperparameters: {'svc__verbose': False, 'svc__kernel': 'rbf', 'svc__gamma': 'auto', 'svc__degree': 1, 'svc__C': 100}\n"
     ]
    }
   ],
   "source": [
    "# Save the model to disk\n",
    "# filename = '04 SVM (Random).sav'\n",
    "# pickle.dump(results_random, open(filename, 'wb'))\n",
    "\n",
    "# Load the model from disk\n",
    "# results_random = pickle.load(open(filename, 'rb'))\n",
    "\n",
    "print('Best Score: %s' % results_random_svm.best_score_)\n",
    "print('Best Hyperparameters: %s' % results_random_svm.best_params_)"
   ]
  },
  {
   "cell_type": "code",
   "execution_count": 53,
   "id": "870b047d",
   "metadata": {},
   "outputs": [],
   "source": [
    "# y_prediction for the best model using RandomSearchCV\n",
    "y_pred_random = results_random_svm.predict(x_test)"
   ]
  },
  {
   "cell_type": "code",
   "execution_count": 54,
   "id": "c8d653d1",
   "metadata": {},
   "outputs": [
    {
     "name": "stdout",
     "output_type": "stream",
     "text": [
      "Log Loss: 7.367439115489061\n",
      "ROC AUC: 0.7338852551746105\n",
      "F1-score: 0.642375842276017\n",
      "Precision: 0.7254791431792559\n",
      "Recall: 0.5763546798029556\n"
     ]
    }
   ],
   "source": [
    "# Error Metrics\n",
    "lg_loss = metrics.log_loss(y_test, y_pred_random)\n",
    "print(f'Log Loss: {lg_loss}')\n",
    "roc_auc = metrics.roc_auc_score(y_test, y_pred_random)\n",
    "print(f'ROC AUC: {roc_auc}')\n",
    "f1_score = metrics.f1_score(y_test, y_pred_random)\n",
    "print(f'F1-score: {f1_score}')\n",
    "precision = metrics.precision_score(y_test, y_pred_random)\n",
    "print(f'Precision: {precision}')\n",
    "recall = metrics.recall_score(y_test, y_pred_random)\n",
    "print(f'Recall: {recall}')"
   ]
  },
  {
   "cell_type": "markdown",
   "id": "fd41db33",
   "metadata": {},
   "source": [
    "### Model: Grid Search"
   ]
  },
  {
   "cell_type": "code",
   "execution_count": 55,
   "id": "7a9f1103",
   "metadata": {},
   "outputs": [],
   "source": [
    "# Model\n",
    "svm_classifier = SVC()\n",
    "transformer = ExperimentalTransformer()\n",
    "svm_model = make_pipeline(transformer, svm_classifier)\n",
    "\n",
    "grid = dict()\n",
    "\n",
    "# Kernel type to be used in the algorithm\n",
    "grid[\"svc__kernel\"] = ['poly', 'rbf', 'sigmoid']\n",
    "\n",
    "# Degree of the polynomial kernel function\n",
    "grid[\"svc__degree\"] = [1, 3, 8]\n",
    "\n",
    "# Kernel coefficient for ‘rbf’, ‘poly’ and ‘sigmoid’\n",
    "grid[\"svc__gamma\"] = ['scale', 'auto']\n",
    "\n",
    "# Regularisation parameter\n",
    "grid[\"svc__C\"] = [0.1, 1, 10, 100]\n",
    "\n",
    "# Enable verbose output\n",
    "grid[\"svc__verbose\"] = [True, False]\n",
    "\n",
    "# Define search\n",
    "search = GridSearchCV(svm_model, \n",
    "                      grid, \n",
    "                      scoring = 'f1',\n",
    "                      cv = 5, \n",
    "                      n_jobs = -1, \n",
    "                      verbose = 2)"
   ]
  },
  {
   "cell_type": "code",
   "execution_count": 56,
   "id": "0d64eb47",
   "metadata": {},
   "outputs": [
    {
     "name": "stdout",
     "output_type": "stream",
     "text": [
      "Fitting 5 folds for each of 144 candidates, totalling 720 fits\n",
      "[LibSVM]CPU times: total: 3min 10s\n",
      "Wall time: 5h 28min 58s\n"
     ]
    }
   ],
   "source": [
    "%%time\n",
    "\n",
    "# Execute search\n",
    "results_grid_svm = search.fit(x_train, np.ravel(y_train))"
   ]
  },
  {
   "cell_type": "code",
   "execution_count": 57,
   "id": "fda90380",
   "metadata": {},
   "outputs": [
    {
     "name": "stdout",
     "output_type": "stream",
     "text": [
      "Best Score: 0.6161316261532382\n",
      "Best Hyperparameters: {'svc__C': 100, 'svc__degree': 1, 'svc__gamma': 'scale', 'svc__kernel': 'rbf', 'svc__verbose': True}\n"
     ]
    }
   ],
   "source": [
    "# Save the model to disk\n",
    "# filename = '04 SVM (Grid).sav'\n",
    "# pickle.dump(results_grid, open(filename, 'wb'))\n",
    "\n",
    "# Load the model from disk\n",
    "# results_grid = pickle.load(open(filename, 'rb'))\n",
    "\n",
    "print('Best Score: %s' % results_grid_svm.best_score_)\n",
    "print('Best Hyperparameters: %s' % results_grid_svm.best_params_)"
   ]
  },
  {
   "cell_type": "code",
   "execution_count": 126,
   "id": "1a34eec2",
   "metadata": {},
   "outputs": [],
   "source": [
    "# y_prediction for the best model using GridSearchCV\n",
    "y_pred_grid = results_grid_svm.predict(x_test)"
   ]
  },
  {
   "cell_type": "code",
   "execution_count": 59,
   "id": "60bfc19a",
   "metadata": {},
   "outputs": [
    {
     "name": "stdout",
     "output_type": "stream",
     "text": [
      "Log Loss: 7.4085710898732575\n",
      "ROC AUC: 0.7341177063815745\n",
      "F1-score: 0.6428748451053283\n",
      "Precision: 0.7197558268590455\n",
      "Recall: 0.580832960143305\n"
     ]
    }
   ],
   "source": [
    "# Error Metrics\n",
    "lg_loss = metrics.log_loss(y_test, y_pred_grid)\n",
    "print(f'Log Loss: {lg_loss}')\n",
    "roc_auc = metrics.roc_auc_score(y_test, y_pred_grid)\n",
    "print(f'ROC AUC: {roc_auc}')\n",
    "f1_score = metrics.f1_score(y_test, y_pred_grid)\n",
    "print(f'F1-score: {f1_score}')\n",
    "precision = metrics.precision_score(y_test, y_pred_grid)\n",
    "print(f'Precision: {precision}')\n",
    "recall = metrics.recall_score(y_test, y_pred_grid)\n",
    "print(f'Recall: {recall}')"
   ]
  },
  {
   "cell_type": "markdown",
   "id": "9db31f44",
   "metadata": {},
   "source": [
    "### Model: Optimal Hyperparameters"
   ]
  },
  {
   "cell_type": "code",
   "execution_count": 60,
   "id": "8c5f0f2d",
   "metadata": {},
   "outputs": [
    {
     "name": "stdout",
     "output_type": "stream",
     "text": [
      "Grid Search: 0.6161316261532382\n",
      "Randomised Search: 0.615291043186701\n"
     ]
    }
   ],
   "source": [
    "print(\"Grid Search:\", results_grid_svm.best_score_) \n",
    "print(\"Randomised Search:\", results_random_svm.best_score_) "
   ]
  },
  {
   "cell_type": "code",
   "execution_count": 61,
   "id": "797c5867",
   "metadata": {},
   "outputs": [
    {
     "name": "stdout",
     "output_type": "stream",
     "text": [
      "[LibSVM]"
     ]
    }
   ],
   "source": [
    "# Model (initialise the object based on parameters selected by )\n",
    "# random_state = 123\n",
    "params_svm = results_grid_svm.best_params_\n",
    "\n",
    "svm_classifier = SVC(C = params_svm[\"svc__C\"], \n",
    "                     degree = params_svm[\"svc__degree\"], \n",
    "                     gamma = params_svm[\"svc__gamma\"], \n",
    "                     kernel = params_svm[\"svc__kernel\"], \n",
    "                     verbose = params_svm[\"svc__verbose\"], \n",
    "                     random_state = 123)\n",
    "\n",
    "transformer = ExperimentalTransformer()\n",
    "svm_model_pipeline = make_pipeline(transformer, svm_classifier)\n",
    "svm_model = svm_model_pipeline.fit(x_train, np.ravel(y_train))\n",
    "\n",
    "# Save the model to disk\n",
    "# filename = '04 SVM (Optimal).sav'\n",
    "# pickle.dump(svm_model, open(filename, 'wb'))\n",
    "\n",
    "# Load the model from disk\n",
    "# rf_regression = pickle.load(open(filename, 'rb'))"
   ]
  },
  {
   "cell_type": "code",
   "execution_count": 127,
   "id": "6b950d44",
   "metadata": {},
   "outputs": [],
   "source": [
    "# y_prediction for the best model\n",
    "y_pred_optimal = svm_model.predict(x_test)"
   ]
  },
  {
   "cell_type": "code",
   "execution_count": 128,
   "id": "476e61b8",
   "metadata": {},
   "outputs": [
    {
     "name": "stdout",
     "output_type": "stream",
     "text": [
      "Accuracy: 0.785501637392081\n",
      "Log Loss: 7.4085710898732575\n",
      "ROC AUC: 0.7341177063815745\n",
      "F1-score: 0.6428748451053283\n",
      "Precision: 0.7197558268590455\n",
      "Recall: 0.580832960143305\n"
     ]
    }
   ],
   "source": [
    "# Error Metrics\n",
    "accuracy = metrics.accuracy_score(y_test, y_pred_optimal)\n",
    "print(f'Accuracy: {accuracy}')\n",
    "lg_loss = metrics.log_loss(y_test, y_pred_optimal)\n",
    "print(f'Log Loss: {lg_loss}')\n",
    "roc_auc = metrics.roc_auc_score(y_test, y_pred_optimal)\n",
    "print(f'ROC AUC: {roc_auc}')\n",
    "f1_score = metrics.f1_score(y_test, y_pred_optimal)\n",
    "print(f'F1-score: {f1_score}')\n",
    "precision = metrics.precision_score(y_test, y_pred_optimal)\n",
    "print(f'Precision: {precision}')\n",
    "recall = metrics.recall_score(y_test, y_pred_optimal)\n",
    "print(f'Recall: {recall}')"
   ]
  },
  {
   "cell_type": "markdown",
   "id": "782d7608",
   "metadata": {},
   "source": [
    "### Feature Importance\n",
    "* Cannot find cause black box model unless use SHAP or perm importance?"
   ]
  },
  {
   "cell_type": "code",
   "execution_count": 64,
   "id": "9ecfe153",
   "metadata": {},
   "outputs": [
    {
     "data": {
      "text/html": [
       "<div>\n",
       "<style scoped>\n",
       "    .dataframe tbody tr th:only-of-type {\n",
       "        vertical-align: middle;\n",
       "    }\n",
       "\n",
       "    .dataframe tbody tr th {\n",
       "        vertical-align: top;\n",
       "    }\n",
       "\n",
       "    .dataframe thead th {\n",
       "        text-align: right;\n",
       "    }\n",
       "</style>\n",
       "<table border=\"1\" class=\"dataframe\">\n",
       "  <thead>\n",
       "    <tr style=\"text-align: right;\">\n",
       "      <th></th>\n",
       "      <th>Feature Importance</th>\n",
       "    </tr>\n",
       "  </thead>\n",
       "  <tbody>\n",
       "    <tr>\n",
       "      <th>verified</th>\n",
       "      <td>0.0</td>\n",
       "    </tr>\n",
       "    <tr>\n",
       "      <th>location</th>\n",
       "      <td>0.0</td>\n",
       "    </tr>\n",
       "    <tr>\n",
       "      <th>followers_count</th>\n",
       "      <td>0.0</td>\n",
       "    </tr>\n",
       "    <tr>\n",
       "      <th>following_count</th>\n",
       "      <td>0.0</td>\n",
       "    </tr>\n",
       "    <tr>\n",
       "      <th>tweet_count</th>\n",
       "      <td>0.0</td>\n",
       "    </tr>\n",
       "    <tr>\n",
       "      <th>un_no_of_char</th>\n",
       "      <td>0.0</td>\n",
       "    </tr>\n",
       "    <tr>\n",
       "      <th>un_special_char</th>\n",
       "      <td>0.0</td>\n",
       "    </tr>\n",
       "    <tr>\n",
       "      <th>un_uppercase</th>\n",
       "      <td>0.0</td>\n",
       "    </tr>\n",
       "    <tr>\n",
       "      <th>name_no_of_char</th>\n",
       "      <td>0.0</td>\n",
       "    </tr>\n",
       "    <tr>\n",
       "      <th>name_special_char</th>\n",
       "      <td>0.0</td>\n",
       "    </tr>\n",
       "    <tr>\n",
       "      <th>name_uppercase</th>\n",
       "      <td>0.0</td>\n",
       "    </tr>\n",
       "    <tr>\n",
       "      <th>des_no_of_usertags</th>\n",
       "      <td>0.0</td>\n",
       "    </tr>\n",
       "    <tr>\n",
       "      <th>des_no_of_hashtags</th>\n",
       "      <td>0.0</td>\n",
       "    </tr>\n",
       "    <tr>\n",
       "      <th>des_external_links</th>\n",
       "      <td>0.0</td>\n",
       "    </tr>\n",
       "    <tr>\n",
       "      <th>has_description</th>\n",
       "      <td>0.0</td>\n",
       "    </tr>\n",
       "    <tr>\n",
       "      <th>account_age_in_days</th>\n",
       "      <td>0.0</td>\n",
       "    </tr>\n",
       "  </tbody>\n",
       "</table>\n",
       "</div>"
      ],
      "text/plain": [
       "                     Feature Importance\n",
       "verified                            0.0\n",
       "location                            0.0\n",
       "followers_count                     0.0\n",
       "following_count                     0.0\n",
       "tweet_count                         0.0\n",
       "un_no_of_char                       0.0\n",
       "un_special_char                     0.0\n",
       "un_uppercase                        0.0\n",
       "name_no_of_char                     0.0\n",
       "name_special_char                   0.0\n",
       "name_uppercase                      0.0\n",
       "des_no_of_usertags                  0.0\n",
       "des_no_of_hashtags                  0.0\n",
       "des_external_links                  0.0\n",
       "has_description                     0.0\n",
       "account_age_in_days                 0.0"
      ]
     },
     "execution_count": 64,
     "metadata": {},
     "output_type": "execute_result"
    }
   ],
   "source": [
    "# Feature importance\n",
    "# x_test_imps = svm_model.named_steps[\"experimentaltransformer\"].transform(x_test)\n",
    "imps = permutation_importance(svm_model.named_steps[\"svc\"], x_test, y_test, random_state=123)\n",
    "feature = pd.DataFrame(imps.importances_mean, svm_model.named_steps[\"experimentaltransformer\"].columns.T, columns=['Feature Importance']).sort_values(by='Feature Importance', ascending=False)\n",
    "feature"
   ]
  },
  {
   "cell_type": "code",
   "execution_count": 65,
   "id": "0257c68b",
   "metadata": {},
   "outputs": [
    {
     "data": {
      "image/png": "[encoded data removed]",
      "text/plain": [
       "<Figure size 864x1080 with 1 Axes>"
      ]
     },
     "metadata": {
      "needs_background": "light"
     },
     "output_type": "display_data"
    }
   ],
   "source": [
    "feature_chart(feature, \"SVM\")"
   ]
  },
  {
   "cell_type": "markdown",
   "id": "c5dbab98",
   "metadata": {},
   "source": [
    "## 05 Naive Bayes\n",
    "* Model (Random Search + Grid Search)\n",
    "* Error Metrics\n",
    "* Plot for Feature Importance"
   ]
  },
  {
   "cell_type": "code",
   "execution_count": 66,
   "id": "6da5a506",
   "metadata": {},
   "outputs": [],
   "source": [
    "x_bin_train = x_train[[\"verified\", \n",
    "               \"location\", \n",
    "               \"un_special_char\", \n",
    "               \"un_uppercase\", \n",
    "               \"name_special_char\", \n",
    "               \"name_uppercase\", \n",
    "               \"des_external_links\", \n",
    "               \"has_description\"]]\n",
    "\n",
    "x_bin_test = x_test[[\"verified\", \n",
    "               \"location\", \n",
    "               \"un_special_char\", \n",
    "               \"un_uppercase\", \n",
    "               \"name_special_char\", \n",
    "               \"name_uppercase\", \n",
    "               \"des_external_links\", \n",
    "               \"has_description\"]]\n",
    "\n",
    "x_num_train = x_train[[\"followers_count\", \n",
    "                 \"following_count\", \n",
    "                 \"tweet_count\", \n",
    "                 \"un_no_of_char\", \n",
    "                 \"name_no_of_char\", \n",
    "                 \"des_no_of_usertags\", \n",
    "                 \"des_no_of_hashtags\", \n",
    "                 \"account_age_in_days\"]]\n",
    "\n",
    "x_num_test = x_test[[\"followers_count\", \n",
    "                 \"following_count\", \n",
    "                 \"tweet_count\", \n",
    "                 \"un_no_of_char\", \n",
    "                 \"name_no_of_char\", \n",
    "                 \"des_no_of_usertags\", \n",
    "                 \"des_no_of_hashtags\", \n",
    "                 \"account_age_in_days\"]]"
   ]
  },
  {
   "cell_type": "markdown",
   "id": "7040afd0",
   "metadata": {},
   "source": [
    "### Model (Random)\n",
    "* GaussianNB\n",
    "* BernoulliNB"
   ]
  },
  {
   "cell_type": "markdown",
   "id": "240f3f7e",
   "metadata": {},
   "source": [
    "#### GaussianNB"
   ]
  },
  {
   "cell_type": "code",
   "execution_count": 67,
   "id": "ef683aa5",
   "metadata": {},
   "outputs": [],
   "source": [
    "# Model (GaussianNB)\n",
    "gnb_classifier = GaussianNB()\n",
    "transformer = ExperimentalTransformer()\n",
    "gnb_model = make_pipeline(transformer, gnb_classifier)\n",
    "\n",
    "space = dict()\n",
    "\n",
    "# \n",
    "space[\"gaussiannb__var_smoothing\"] = np.logspace(0,-9, num=200) \n",
    "    \n",
    "random_search = RandomizedSearchCV(estimator = gnb_model,\n",
    "                                   param_distributions = space,\n",
    "                                   scoring = 'f1',\n",
    "                                   n_jobs = -1,\n",
    "                                   cv = 5,\n",
    "                                   verbose = 10,\n",
    "                                   n_iter = 50,\n",
    "                                   random_state = 123)"
   ]
  },
  {
   "cell_type": "code",
   "execution_count": 68,
   "id": "c37f072b",
   "metadata": {},
   "outputs": [
    {
     "name": "stdout",
     "output_type": "stream",
     "text": [
      "Fitting 5 folds for each of 50 candidates, totalling 250 fits\n",
      "CPU times: total: 1.53 s\n",
      "Wall time: 8.93 s\n"
     ]
    }
   ],
   "source": [
    "%%time\n",
    "\n",
    "result_random_gnb = random_search.fit(x_num_train, y_train)"
   ]
  },
  {
   "cell_type": "code",
   "execution_count": 69,
   "id": "25cedfff",
   "metadata": {},
   "outputs": [
    {
     "name": "stdout",
     "output_type": "stream",
     "text": [
      "Best Score: 0.567846703623267\n",
      "Best Hyperparameters: {'gaussiannb__var_smoothing': 0.13826221737646557}\n"
     ]
    }
   ],
   "source": [
    "print('Best Score: %s' % result_random_gnb.best_score_)\n",
    "print('Best Hyperparameters: %s' % result_random_gnb.best_params_)"
   ]
  },
  {
   "cell_type": "code",
   "execution_count": 70,
   "id": "97ad8d5f",
   "metadata": {},
   "outputs": [],
   "source": [
    "y_pred_random_gnb = result_random_gnb.predict(x_num_test)"
   ]
  },
  {
   "cell_type": "code",
   "execution_count": 71,
   "id": "713d3aa4",
   "metadata": {},
   "outputs": [
    {
     "name": "stdout",
     "output_type": "stream",
     "text": [
      "Log Loss: 15.197796416965057\n",
      "ROC AUC: 0.6436984305050273\n",
      "F1-score: 0.5744313273826662\n",
      "Precision: 0.42329726288987907\n",
      "Recall: 0.8934169278996865\n"
     ]
    }
   ],
   "source": [
    "# Error Metrics\n",
    "lg_loss = metrics.log_loss(y_test, y_pred_random_gnb)\n",
    "print(f'Log Loss: {lg_loss}')\n",
    "roc_auc = metrics.roc_auc_score(y_test, y_pred_random_gnb)\n",
    "print(f'ROC AUC: {roc_auc}')\n",
    "f1_score = metrics.f1_score(y_test, y_pred_random_gnb)\n",
    "print(f'F1-score: {f1_score}')\n",
    "precision = metrics.precision_score(y_test, y_pred_random_gnb)\n",
    "print(f'Precision: {precision}')\n",
    "recall = metrics.recall_score(y_test, y_pred_random_gnb)\n",
    "print(f'Recall: {recall}')"
   ]
  },
  {
   "cell_type": "markdown",
   "id": "bf8325ff",
   "metadata": {},
   "source": [
    "#### BernoulliNB"
   ]
  },
  {
   "cell_type": "code",
   "execution_count": 72,
   "id": "e605d1b3",
   "metadata": {},
   "outputs": [],
   "source": [
    "# Model (BernoulliNB)\n",
    "bnb_classifier = BernoulliNB()\n",
    "scaler = StandardScaler()\n",
    "bnb_model = make_pipeline(scaler, bnb_classifier)\n",
    "\n",
    "space = dict()\n",
    "\n",
    "# \n",
    "space[\"bernoullinb__alpha\"] = [0, 1e-10, 1e-09, 1e-08, 1e-07, 1e-06, 1e-05, 1e-04, 1e-03, 1e-02, 1e-01]\n",
    "    \n",
    "random_search = RandomizedSearchCV(estimator = bnb_model,\n",
    "                                   param_distributions = space,\n",
    "                                   scoring = 'f1',\n",
    "                                   n_jobs = -1,\n",
    "                                   cv = 5,\n",
    "                                   verbose = 10,\n",
    "                                   n_iter = 50,\n",
    "                                   random_state = 123)"
   ]
  },
  {
   "cell_type": "code",
   "execution_count": 73,
   "id": "82d23c1a",
   "metadata": {},
   "outputs": [
    {
     "name": "stdout",
     "output_type": "stream",
     "text": [
      "Fitting 5 folds for each of 11 candidates, totalling 55 fits\n",
      "CPU times: total: 344 ms\n",
      "Wall time: 613 ms\n"
     ]
    }
   ],
   "source": [
    "%%time\n",
    "\n",
    "result_random_bnb = random_search.fit(x_bin_train, y_train)"
   ]
  },
  {
   "cell_type": "code",
   "execution_count": 74,
   "id": "43aef618",
   "metadata": {},
   "outputs": [
    {
     "name": "stdout",
     "output_type": "stream",
     "text": [
      "Best Score: 0.5571224390620099\n",
      "Best Hyperparameters: {'bernoullinb__alpha': 0}\n"
     ]
    }
   ],
   "source": [
    "print('Best Score: %s' % result_random_bnb.best_score_)\n",
    "print('Best Hyperparameters: %s' % result_random_bnb.best_params_)"
   ]
  },
  {
   "cell_type": "code",
   "execution_count": 75,
   "id": "0cc93112",
   "metadata": {},
   "outputs": [],
   "source": [
    "y_pred_random_bnb = result_random_bnb.predict(x_bin_test)"
   ]
  },
  {
   "cell_type": "code",
   "execution_count": 76,
   "id": "ec02b11e",
   "metadata": {},
   "outputs": [
    {
     "name": "stdout",
     "output_type": "stream",
     "text": [
      "Log Loss: 8.683608259279419\n",
      "ROC AUC: 0.6902798850325088\n",
      "F1-score: 0.5772215269086358\n",
      "Precision: 0.6543700340522134\n",
      "Recall: 0.516345723242275\n"
     ]
    }
   ],
   "source": [
    "# Error Metrics\n",
    "lg_loss = metrics.log_loss(y_test, y_pred_random_bnb)\n",
    "print(f'Log Loss: {lg_loss}')\n",
    "roc_auc = metrics.roc_auc_score(y_test, y_pred_random_bnb)\n",
    "print(f'ROC AUC: {roc_auc}')\n",
    "f1_score = metrics.f1_score(y_test, y_pred_random_bnb)\n",
    "print(f'F1-score: {f1_score}')\n",
    "precision = metrics.precision_score(y_test, y_pred_random_bnb)\n",
    "print(f'Precision: {precision}')\n",
    "recall = metrics.recall_score(y_test, y_pred_random_bnb)\n",
    "print(f'Recall: {recall}')"
   ]
  },
  {
   "cell_type": "markdown",
   "id": "2d34264c",
   "metadata": {},
   "source": [
    "### Model (Grid)\n",
    "* GaussianNB\n",
    "* BernoulliNB"
   ]
  },
  {
   "cell_type": "markdown",
   "id": "d9007add",
   "metadata": {},
   "source": [
    "#### GaussianNB"
   ]
  },
  {
   "cell_type": "code",
   "execution_count": 84,
   "id": "30d4e803",
   "metadata": {},
   "outputs": [],
   "source": [
    "# Model (GaussianNB)\n",
    "gnb_classifier = GaussianNB()\n",
    "transformer = ExperimentalTransformer()\n",
    "gnb_model = make_pipeline(transformer, gnb_classifier)\n",
    "\n",
    "grid = dict()\n",
    "\n",
    "# \n",
    "grid[\"gaussiannb__var_smoothing\"] = np.logspace(0,-9, num=200) \n",
    "    \n",
    "grid_search = GridSearchCV(estimator = gnb_model,\n",
    "                           param_grid = grid,\n",
    "                           scoring = 'f1',\n",
    "                           n_jobs = -1,\n",
    "                           cv = 5,\n",
    "                           verbose = True)"
   ]
  },
  {
   "cell_type": "code",
   "execution_count": 85,
   "id": "727cb745",
   "metadata": {},
   "outputs": [
    {
     "name": "stdout",
     "output_type": "stream",
     "text": [
      "Fitting 5 folds for each of 200 candidates, totalling 1000 fits\n",
      "CPU times: total: 3.16 s\n",
      "Wall time: 8.96 s\n"
     ]
    }
   ],
   "source": [
    "%%time\n",
    "\n",
    "result_grid_gnb = grid_search.fit(x_num_train, y_train)"
   ]
  },
  {
   "cell_type": "code",
   "execution_count": 86,
   "id": "3476969c",
   "metadata": {},
   "outputs": [
    {
     "name": "stdout",
     "output_type": "stream",
     "text": [
      "Best Score: 0.5728307516120237\n",
      "Best Hyperparameters: {'gaussiannb__var_smoothing': 0.2582618760682676}\n"
     ]
    }
   ],
   "source": [
    "print('Best Score: %s' % result_grid_gnb.best_score_)\n",
    "print('Best Hyperparameters: %s' % result_grid_gnb.best_params_)"
   ]
  },
  {
   "cell_type": "code",
   "execution_count": 87,
   "id": "3f46fe04",
   "metadata": {},
   "outputs": [],
   "source": [
    "y_pred_grid_gnb = result_grid_gnb.predict(x_num_test)"
   ]
  },
  {
   "cell_type": "code",
   "execution_count": 89,
   "id": "b5b6bc85",
   "metadata": {},
   "outputs": [
    {
     "name": "stdout",
     "output_type": "stream",
     "text": [
      "Log Loss: 13.90216683723052\n",
      "ROC AUC: 0.6624602783523322\n",
      "F1-score: 0.5857843137254902\n",
      "Precision: 0.4451688009313155\n",
      "Recall: 0.8562472010747872\n"
     ]
    }
   ],
   "source": [
    "lg_loss = metrics.log_loss(y_test, y_pred_grid_gnb)\n",
    "print(f'Log Loss: {lg_loss}')\n",
    "roc_auc = metrics.roc_auc_score(y_test, y_pred_grid_gnb)\n",
    "print(f'ROC AUC: {roc_auc}')\n",
    "f1_score = metrics.f1_score(y_test, y_pred_grid_gnb)\n",
    "print(f'F1-score: {f1_score}')\n",
    "precision = metrics.precision_score(y_test, y_pred_grid_gnb)\n",
    "print(f'Precision: {precision}')\n",
    "recall = metrics.recall_score(y_test, y_pred_grid_gnb)\n",
    "print(f'Recall: {recall}')"
   ]
  },
  {
   "cell_type": "markdown",
   "id": "b951766c",
   "metadata": {},
   "source": [
    "#### BernoulliNB"
   ]
  },
  {
   "cell_type": "code",
   "execution_count": 90,
   "id": "01e87889",
   "metadata": {},
   "outputs": [],
   "source": [
    "# Model (BernoulliNB)\n",
    "bnb_classifier = BernoulliNB()\n",
    "scaler = StandardScaler()\n",
    "bnb_model = make_pipeline(scaler, bnb_classifier)\n",
    "\n",
    "grid = dict()\n",
    "\n",
    "# \n",
    "grid[\"bernoullinb__alpha\"] = [0, 1e-10, 1e-09, 1e-08, 1e-07, 1e-06, 1e-05, 1e-04, 1e-03, 1e-02, 1e-01]\n",
    "    \n",
    "grid_search = GridSearchCV(estimator = bnb_model,\n",
    "                           param_grid = grid,\n",
    "                           scoring = 'f1',\n",
    "                           n_jobs = -1,\n",
    "                           cv = 5,\n",
    "                           verbose = True)"
   ]
  },
  {
   "cell_type": "code",
   "execution_count": 91,
   "id": "d53a1014",
   "metadata": {},
   "outputs": [
    {
     "name": "stdout",
     "output_type": "stream",
     "text": [
      "Fitting 5 folds for each of 11 candidates, totalling 55 fits\n",
      "CPU times: total: 344 ms\n",
      "Wall time: 534 ms\n"
     ]
    }
   ],
   "source": [
    "%%time\n",
    "\n",
    "result_grid_bnb = grid_search.fit(x_bin_train, y_train)"
   ]
  },
  {
   "cell_type": "code",
   "execution_count": 92,
   "id": "5e522c2b",
   "metadata": {},
   "outputs": [
    {
     "name": "stdout",
     "output_type": "stream",
     "text": [
      "Best Score: 0.5571224390620099\n",
      "Best Hyperparameters: {'bernoullinb__alpha': 0}\n"
     ]
    }
   ],
   "source": [
    "print('Best Score: %s' % result_grid_bnb.best_score_)\n",
    "print('Best Hyperparameters: %s' % result_grid_bnb.best_params_)"
   ]
  },
  {
   "cell_type": "code",
   "execution_count": 93,
   "id": "8ed03044",
   "metadata": {},
   "outputs": [],
   "source": [
    "y_pred_grid_bnb = result_grid_bnb.predict(x_bin_test)"
   ]
  },
  {
   "cell_type": "code",
   "execution_count": 94,
   "id": "606e6598",
   "metadata": {},
   "outputs": [
    {
     "name": "stdout",
     "output_type": "stream",
     "text": [
      "Log Loss: 8.683608259279419\n",
      "ROC AUC: 0.6902798850325088\n",
      "F1-score: 0.5772215269086358\n",
      "Precision: 0.6543700340522134\n",
      "Recall: 0.516345723242275\n"
     ]
    }
   ],
   "source": [
    "lg_loss = metrics.log_loss(y_test, y_pred_grid_bnb)\n",
    "print(f'Log Loss: {lg_loss}')\n",
    "roc_auc = metrics.roc_auc_score(y_test, y_pred_grid_bnb)\n",
    "print(f'ROC AUC: {roc_auc}')\n",
    "f1_score = metrics.f1_score(y_test, y_pred_grid_bnb)\n",
    "print(f'F1-score: {f1_score}')\n",
    "precision = metrics.precision_score(y_test, y_pred_grid_bnb)\n",
    "print(f'Precision: {precision}')\n",
    "recall = metrics.recall_score(y_test, y_pred_grid_bnb)\n",
    "print(f'Recall: {recall}')"
   ]
  },
  {
   "cell_type": "markdown",
   "id": "b16489f3",
   "metadata": {},
   "source": [
    "### Model (Optimal Hyperparameters)\n",
    "* GaussianNB\n",
    "* BernoulliNB"
   ]
  },
  {
   "cell_type": "markdown",
   "id": "d7d48d4d",
   "metadata": {},
   "source": [
    "#### GaussianNB"
   ]
  },
  {
   "cell_type": "code",
   "execution_count": 95,
   "id": "d0f79a30",
   "metadata": {},
   "outputs": [
    {
     "name": "stdout",
     "output_type": "stream",
     "text": [
      "Grid Search (GNB): 0.5728307516120237\n",
      "Randomised Search (GNB): 0.567846703623267\n"
     ]
    }
   ],
   "source": [
    "print(\"Grid Search (GNB):\", result_grid_gnb.best_score_) \n",
    "print(\"Randomised Search (GNB):\", result_random_gnb.best_score_) "
   ]
  },
  {
   "cell_type": "code",
   "execution_count": 96,
   "id": "55f313ef",
   "metadata": {},
   "outputs": [],
   "source": [
    "# Model\n",
    "params_gnb = result_grid_gnb.best_params_\n",
    "\n",
    "gnb_classifier = GaussianNB(var_smoothing = params_gnb[\"gaussiannb__var_smoothing\"])\n",
    "transformer = ExperimentalTransformer()\n",
    "gnb_model_pipeline = make_pipeline(transformer, gnb_classifier)\n",
    "gnb_model = gnb_model_pipeline.fit(x_num_train, np.ravel(y_train))\n",
    "\n",
    "# Save the model to disk\n",
    "# filename = '04 SVM (Optimal).sav'\n",
    "# pickle.dump(svm_model, open(filename, 'wb'))\n",
    "\n",
    "# Load the model from disk\n",
    "# rf_regression = pickle.load(open(filename, 'rb'))"
   ]
  },
  {
   "cell_type": "code",
   "execution_count": 129,
   "id": "3657368c",
   "metadata": {},
   "outputs": [],
   "source": [
    "# y_prediction for the best model\n",
    "y_pred_optimal_gnb = gnb_model.predict(x_num_test)"
   ]
  },
  {
   "cell_type": "code",
   "execution_count": 130,
   "id": "7c8dacfa",
   "metadata": {},
   "outputs": [
    {
     "name": "stdout",
     "output_type": "stream",
     "text": [
      "Accuracy: 0.5974992557308723\n",
      "Log Loss: 13.90216683723052\n",
      "ROC AUC: 0.6624602783523322\n",
      "F1-score: 0.5857843137254902\n",
      "Precision: 0.4451688009313155\n",
      "Recall: 0.8562472010747872\n"
     ]
    }
   ],
   "source": [
    "# Error Metrics\n",
    "accuracy = metrics.accuracy_score(y_test, y_pred_optimal_gnb)\n",
    "print(f'Accuracy: {accuracy}')\n",
    "lg_loss = metrics.log_loss(y_test, y_pred_optimal_gnb)\n",
    "print(f'Log Loss: {lg_loss}')\n",
    "roc_auc = metrics.roc_auc_score(y_test, y_pred_optimal_gnb)\n",
    "print(f'ROC AUC: {roc_auc}')\n",
    "f1_score = metrics.f1_score(y_test, y_pred_optimal_gnb)\n",
    "print(f'F1-score: {f1_score}')\n",
    "precision = metrics.precision_score(y_test, y_pred_optimal_gnb)\n",
    "print(f'Precision: {precision}')\n",
    "recall = metrics.recall_score(y_test, y_pred_optimal_gnb)\n",
    "print(f'Recall: {recall}')"
   ]
  },
  {
   "cell_type": "markdown",
   "id": "0b0e4e4e",
   "metadata": {},
   "source": [
    "#### BernoulliNB"
   ]
  },
  {
   "cell_type": "code",
   "execution_count": 99,
   "id": "849c0996",
   "metadata": {},
   "outputs": [
    {
     "name": "stdout",
     "output_type": "stream",
     "text": [
      "Grid Search (BNB): 0.5571224390620099\n",
      "Randomised Search (BNB): 0.5571224390620099\n"
     ]
    }
   ],
   "source": [
    "print(\"Grid Search (BNB):\", result_grid_bnb.best_score_) \n",
    "print(\"Randomised Search (BNB):\", result_random_bnb.best_score_) "
   ]
  },
  {
   "cell_type": "code",
   "execution_count": 100,
   "id": "9bec449d",
   "metadata": {},
   "outputs": [],
   "source": [
    "# Model \n",
    "params_bnb = result_grid_bnb.best_params_\n",
    "\n",
    "bnb_classifier = BernoulliNB(alpha = params_bnb[\"bernoullinb__alpha\"])\n",
    "scaler = StandardScaler()\n",
    "bnb_model_pipeline = make_pipeline(scaler, bnb_classifier)\n",
    "bnb_model = bnb_model_pipeline.fit(x_bin_train, np.ravel(y_train))\n",
    "\n",
    "# Save the model to disk\n",
    "# filename = '04 SVM (Optimal).sav'\n",
    "# pickle.dump(svm_model, open(filename, 'wb'))\n",
    "\n",
    "# Load the model from disk\n",
    "# rf_regression = pickle.load(open(filename, 'rb'))"
   ]
  },
  {
   "cell_type": "code",
   "execution_count": 131,
   "id": "94261101",
   "metadata": {},
   "outputs": [],
   "source": [
    "# y_prediction for the best model\n",
    "y_pred_optimal_bnb = bnb_model.predict(x_bin_test)"
   ]
  },
  {
   "cell_type": "code",
   "execution_count": 132,
   "id": "70063597",
   "metadata": {},
   "outputs": [
    {
     "name": "stdout",
     "output_type": "stream",
     "text": [
      "Accuracy: 0.7485858886573384\n",
      "Log Loss: 8.683608259279419\n",
      "ROC AUC: 0.6902798850325088\n",
      "F1-score: 0.5772215269086358\n",
      "Precision: 0.6543700340522134\n",
      "Recall: 0.516345723242275\n"
     ]
    }
   ],
   "source": [
    "# Error Metrics\n",
    "accuracy = metrics.accuracy_score(y_test, y_pred_optimal_bnb)\n",
    "print(f'Accuracy: {accuracy}')\n",
    "lg_loss = metrics.log_loss(y_test, y_pred_optimal_bnb)\n",
    "print(f'Log Loss: {lg_loss}')\n",
    "roc_auc = metrics.roc_auc_score(y_test, y_pred_optimal_bnb)\n",
    "print(f'ROC AUC: {roc_auc}')\n",
    "f1_score = metrics.f1_score(y_test, y_pred_optimal_bnb)\n",
    "print(f'F1-score: {f1_score}')\n",
    "precision = metrics.precision_score(y_test, y_pred_optimal_bnb)\n",
    "print(f'Precision: {precision}')\n",
    "recall = metrics.recall_score(y_test, y_pred_optimal_bnb)\n",
    "print(f'Recall: {recall}')"
   ]
  },
  {
   "cell_type": "markdown",
   "id": "677deab9",
   "metadata": {},
   "source": [
    "### Feature Importance"
   ]
  },
  {
   "cell_type": "markdown",
   "id": "dea8b670",
   "metadata": {},
   "source": [
    "#### GaussianNB"
   ]
  },
  {
   "cell_type": "code",
   "execution_count": 103,
   "id": "d48d88b1",
   "metadata": {},
   "outputs": [
    {
     "data": {
      "text/html": [
       "<div>\n",
       "<style scoped>\n",
       "    .dataframe tbody tr th:only-of-type {\n",
       "        vertical-align: middle;\n",
       "    }\n",
       "\n",
       "    .dataframe tbody tr th {\n",
       "        vertical-align: top;\n",
       "    }\n",
       "\n",
       "    .dataframe thead th {\n",
       "        text-align: right;\n",
       "    }\n",
       "</style>\n",
       "<table border=\"1\" class=\"dataframe\">\n",
       "  <thead>\n",
       "    <tr style=\"text-align: right;\">\n",
       "      <th></th>\n",
       "      <th>Feature Importance</th>\n",
       "    </tr>\n",
       "  </thead>\n",
       "  <tbody>\n",
       "    <tr>\n",
       "      <th>followers_count</th>\n",
       "      <td>0.133194</td>\n",
       "    </tr>\n",
       "    <tr>\n",
       "      <th>following_count</th>\n",
       "      <td>0.011611</td>\n",
       "    </tr>\n",
       "    <tr>\n",
       "      <th>account_age_in_days</th>\n",
       "      <td>0.000149</td>\n",
       "    </tr>\n",
       "    <tr>\n",
       "      <th>un_no_of_char</th>\n",
       "      <td>0.000000</td>\n",
       "    </tr>\n",
       "    <tr>\n",
       "      <th>name_no_of_char</th>\n",
       "      <td>0.000000</td>\n",
       "    </tr>\n",
       "    <tr>\n",
       "      <th>des_no_of_usertags</th>\n",
       "      <td>0.000000</td>\n",
       "    </tr>\n",
       "    <tr>\n",
       "      <th>des_no_of_hashtags</th>\n",
       "      <td>0.000000</td>\n",
       "    </tr>\n",
       "    <tr>\n",
       "      <th>tweet_count</th>\n",
       "      <td>-0.060137</td>\n",
       "    </tr>\n",
       "  </tbody>\n",
       "</table>\n",
       "</div>"
      ],
      "text/plain": [
       "                     Feature Importance\n",
       "followers_count                0.133194\n",
       "following_count                0.011611\n",
       "account_age_in_days            0.000149\n",
       "un_no_of_char                  0.000000\n",
       "name_no_of_char                0.000000\n",
       "des_no_of_usertags             0.000000\n",
       "des_no_of_hashtags             0.000000\n",
       "tweet_count                   -0.060137"
      ]
     },
     "execution_count": 103,
     "metadata": {},
     "output_type": "execute_result"
    }
   ],
   "source": [
    "# Feature importance\n",
    "# x_test_imps = gnb_model.named_steps[\"experimentaltransformer\"].transform(x_num_test)\n",
    "imps = permutation_importance(gnb_model.named_steps[\"gaussiannb\"], x_num_test, y_test, random_state=123)\n",
    "feature = pd.DataFrame(imps.importances_mean, gnb_model.named_steps[\"experimentaltransformer\"].columns.T, columns=['Feature Importance']).sort_values(by='Feature Importance', ascending=False)\n",
    "feature"
   ]
  },
  {
   "cell_type": "code",
   "execution_count": 104,
   "id": "c0df1486",
   "metadata": {},
   "outputs": [
    {
     "data": {
      "image/png": "[encoded data removed]",
      "text/plain": [
       "<Figure size 864x1080 with 1 Axes>"
      ]
     },
     "metadata": {
      "needs_background": "light"
     },
     "output_type": "display_data"
    }
   ],
   "source": [
    "# Feature importance\n",
    "feature_chart(feature, \"GaussianNB\")"
   ]
  },
  {
   "cell_type": "markdown",
   "id": "38b1b653",
   "metadata": {},
   "source": [
    "#### BernoulliNB"
   ]
  },
  {
   "cell_type": "code",
   "execution_count": 105,
   "id": "72617158",
   "metadata": {},
   "outputs": [
    {
     "data": {
      "text/html": [
       "<div>\n",
       "<style scoped>\n",
       "    .dataframe tbody tr th:only-of-type {\n",
       "        vertical-align: middle;\n",
       "    }\n",
       "\n",
       "    .dataframe tbody tr th {\n",
       "        vertical-align: top;\n",
       "    }\n",
       "\n",
       "    .dataframe thead th {\n",
       "        text-align: right;\n",
       "    }\n",
       "</style>\n",
       "<table border=\"1\" class=\"dataframe\">\n",
       "  <thead>\n",
       "    <tr style=\"text-align: right;\">\n",
       "      <th></th>\n",
       "      <th>Feature Importance</th>\n",
       "    </tr>\n",
       "  </thead>\n",
       "  <tbody>\n",
       "    <tr>\n",
       "      <th>has_description</th>\n",
       "      <td>0.067728</td>\n",
       "    </tr>\n",
       "    <tr>\n",
       "      <th>des_external_links</th>\n",
       "      <td>0.032688</td>\n",
       "    </tr>\n",
       "    <tr>\n",
       "      <th>verified</th>\n",
       "      <td>0.032450</td>\n",
       "    </tr>\n",
       "    <tr>\n",
       "      <th>location</th>\n",
       "      <td>0.032361</td>\n",
       "    </tr>\n",
       "    <tr>\n",
       "      <th>name_uppercase</th>\n",
       "      <td>0.002352</td>\n",
       "    </tr>\n",
       "    <tr>\n",
       "      <th>name_special_char</th>\n",
       "      <td>0.001042</td>\n",
       "    </tr>\n",
       "    <tr>\n",
       "      <th>un_special_char</th>\n",
       "      <td>0.000000</td>\n",
       "    </tr>\n",
       "    <tr>\n",
       "      <th>un_uppercase</th>\n",
       "      <td>-0.000744</td>\n",
       "    </tr>\n",
       "  </tbody>\n",
       "</table>\n",
       "</div>"
      ],
      "text/plain": [
       "                    Feature Importance\n",
       "has_description               0.067728\n",
       "des_external_links            0.032688\n",
       "verified                      0.032450\n",
       "location                      0.032361\n",
       "name_uppercase                0.002352\n",
       "name_special_char             0.001042\n",
       "un_special_char               0.000000\n",
       "un_uppercase                 -0.000744"
      ]
     },
     "execution_count": 105,
     "metadata": {},
     "output_type": "execute_result"
    }
   ],
   "source": [
    "# Feature importance\n",
    "# x_test_imps = bnb_model.named_steps[\"experimentaltransformer\"].transform(x_bin_test)\n",
    "imps = permutation_importance(bnb_model.named_steps[\"bernoullinb\"], x_bin_test, y_test, random_state=123)\n",
    "feature = pd.DataFrame(imps.importances_mean, x_bin_test.columns.T, columns=['Feature Importance']).sort_values(by='Feature Importance', ascending=False)\n",
    "feature"
   ]
  },
  {
   "cell_type": "code",
   "execution_count": 106,
   "id": "269034ec",
   "metadata": {},
   "outputs": [
    {
     "data": {
      "image/png": "[encoded data removed]",
      "text/plain": [
       "<Figure size 864x1080 with 1 Axes>"
      ]
     },
     "metadata": {
      "needs_background": "light"
     },
     "output_type": "display_data"
    }
   ],
   "source": [
    "# Feature importance\n",
    "feature_chart(feature, \"BernoulliNB\")"
   ]
  },
  {
   "cell_type": "markdown",
   "id": "7b49bb99",
   "metadata": {},
   "source": [
    "## 06 Ensemble Model\n",
    "* Model (Random Search + Grid Search)\n",
    "* Error Metrics\n",
    "* Plot for Feature Importance"
   ]
  },
  {
   "cell_type": "code",
   "execution_count": 107,
   "id": "c1d044cf",
   "metadata": {},
   "outputs": [],
   "source": [
    "# Insert after getting optimal hyperparameters!!!!!\n",
    "params_rf = results_grid_rf.best_params_\n",
    "params_xgb = optim_model.max['params']\n",
    "params_svm = results_grid_svm.best_params_\n",
    "\n",
    "rf_classifier = RandomForestClassifier(bootstrap = params_rf[\"randomforestclassifier__bootstrap\"], \n",
    "                                       max_depth = params_rf[\"randomforestclassifier__max_depth\"], \n",
    "                                       max_features = params_rf[\"randomforestclassifier__max_features\"], \n",
    "                                       min_samples_split = params_rf[\"randomforestclassifier__min_samples_split\"], \n",
    "                                       n_estimators = params_rf[\"randomforestclassifier__n_estimators\"])\n",
    "\n",
    "xgb_classifier = xgb.XGBClassifier(max_depth = int(params_xgb['max_depth']), \n",
    "                                   eta = params_xgb['eta'], \n",
    "                                   gamma = params_xgb['gamma'],\n",
    "                                   subsample = params_xgb['subsample'],\n",
    "                                   colsample_bytree = params_xgb['colsample_bytree'],\n",
    "                                   alpha = params_xgb['alpha'],\n",
    "                                   objective = \"binary:logistic\",\n",
    "                                   eval_metric = \"logloss\")\n",
    "\n",
    "svm_classifier = SVC(C = params_svm[\"svc__C\"], \n",
    "                     degree = params_svm[\"svc__degree\"], \n",
    "                     gamma = params_svm[\"svc__gamma\"], \n",
    "                     kernel = params_svm[\"svc__kernel\"], \n",
    "                     verbose = params_svm[\"svc__verbose\"], \n",
    "                     random_state = 123)\n",
    "\n",
    "log_regression = LogisticRegression()\n",
    "\n",
    "transformer = ExperimentalTransformer()\n",
    "rf_model_pipeline = make_pipeline(transformer, rf_classifier)\n",
    "xgb_model_pipeline = make_pipeline(transformer, xgb_classifier)\n",
    "svm_model_pipeline = make_pipeline(transformer, svm_classifier)"
   ]
  },
  {
   "cell_type": "code",
   "execution_count": 108,
   "id": "9ba08fd6",
   "metadata": {},
   "outputs": [
    {
     "name": "stdout",
     "output_type": "stream",
     "text": [
      "The f1 score of Pipeline(steps=[('experimentaltransformer', ExperimentalTransformer()),\n",
      "                ('randomforestclassifier',\n",
      "                 RandomForestClassifier(max_depth=120, max_features='sqrt',\n",
      "                                        min_samples_split=10,\n",
      "                                        n_estimators=200))]) is: 0.7667310205172632\n",
      "The f1 score of Pipeline(steps=[('experimentaltransformer', ExperimentalTransformer()),\n",
      "                ('xgbclassifier',\n",
      "                 XGBClassifier(alpha=0.7049588304513622, base_score=None,\n",
      "                               booster=None, callbacks=None,\n",
      "                               colsample_bylevel=None, colsample_bynode=None,\n",
      "                               colsample_bytree=0.9953584820340174,\n",
      "                               early_stopping_rounds=None,\n",
      "                               enable_categorical=False,\n",
      "                               eta=0.07118297314349191, eval_metric='logloss',\n",
      "                               f...gamma=0.7625478137854338,\n",
      "                               gpu_id=None, grow_policy=None,\n",
      "                               importance_type=None,\n",
      "                               interaction_constraints=None, learning_rate=None,\n",
      "                               max_bin=None, max_cat_threshold=None,\n",
      "                               max_cat_to_onehot=None, max_delta_step=None,\n",
      "                               max_depth=18, max_leaves=None,\n",
      "                               min_child_weight=None, missing=nan,\n",
      "                               monotone_constraints=None, n_estimators=100,\n",
      "                               n_jobs=None, num_parallel_tree=None, ...))]) is: 0.7705315760430801\n",
      "[0.74442539 0.74074074 0.75298126 0.76298701 0.82178218 0.78655462\n",
      " 0.7893864 ]\n",
      "The f1 score of is: 0.7712653716718848\n"
     ]
    }
   ],
   "source": [
    "# clf = [rf_model_pipeline, xgb_model_pipeline, svm_model_pipeline]\n",
    "clf = [rf_model_pipeline, xgb_model_pipeline]\n",
    "\n",
    "for algo in clf:\n",
    "    score = cross_val_score(algo, x_test, y_test, cv = 7, scoring = 'f1')\n",
    "    print(\"The f1 score of {} is:\".format(algo),score.mean())\n",
    "\n",
    "# clf = [('rfc', rf_model_pipeline), ('xgb', xgb_model_pipeline), ('svm', svm_model_pipeline)] #list of (str, estimator)\n",
    "clf = [('rfc', rf_model_pipeline), ('xgb', xgb_model_pipeline)] #list of (str, estimator)\n",
    "\n",
    "stack_model_pipeline = StackingClassifier(estimators = clf, final_estimator = log_regression)\n",
    "score = cross_val_score(stack_model_pipeline, x_test, y_test, cv = 7, scoring = 'f1')\n",
    "print(score)\n",
    "print(\"The f1 score of is:\", score.mean())"
   ]
  },
  {
   "cell_type": "code",
   "execution_count": 109,
   "id": "e767bb03",
   "metadata": {},
   "outputs": [
    {
     "name": "stdout",
     "output_type": "stream",
     "text": [
      "CPU times: total: 2min 57s\n",
      "Wall time: 1min 19s\n"
     ]
    }
   ],
   "source": [
    "%%time\n",
    "\n",
    "stack_model = stack_model_pipeline.fit(x_train, y_train)"
   ]
  },
  {
   "cell_type": "code",
   "execution_count": 133,
   "id": "7b2bb384",
   "metadata": {},
   "outputs": [],
   "source": [
    "y_pred_stack = stack_model.predict(x_test)"
   ]
  },
  {
   "cell_type": "code",
   "execution_count": 134,
   "id": "05b5971c",
   "metadata": {},
   "outputs": [
    {
     "name": "stdout",
     "output_type": "stream",
     "text": [
      "Accuracy: 0.8691574873474248\n",
      "Log Loss: 4.5191749231882525\n",
      "ROC AUC: 0.835897086421824\n",
      "F1-score: 0.7891580714799712\n",
      "Precision: 0.8496900826446281\n",
      "Recall: 0.7366771159874608\n"
     ]
    }
   ],
   "source": [
    "# Error Metrics\n",
    "accuracy = metrics.accuracy_score(y_test, y_pred_stack)\n",
    "print(f'Accuracy: {accuracy}')\n",
    "lg_loss = metrics.log_loss(y_test, y_pred_stack)\n",
    "print(f'Log Loss: {lg_loss}')\n",
    "roc_auc = metrics.roc_auc_score(y_test, y_pred_stack)\n",
    "print(f'ROC AUC: {roc_auc}')\n",
    "f1_score = metrics.f1_score(y_test, y_pred_stack)\n",
    "print(f'F1-score: {f1_score}')\n",
    "precision = metrics.precision_score(y_test, y_pred_stack)\n",
    "print(f'Precision: {precision}')\n",
    "recall = metrics.recall_score(y_test, y_pred_stack)\n",
    "print(f'Recall: {recall}')"
   ]
  },
  {
   "cell_type": "markdown",
   "id": "774fd72d",
   "metadata": {},
   "source": [
    "### Feature Importance"
   ]
  },
  {
   "cell_type": "code",
   "execution_count": null,
   "id": "e82a8547",
   "metadata": {},
   "outputs": [],
   "source": [
    "x_test_imps = stack_model.transform(x_test)\n",
    "\n",
    "rf_class = stack_model.estimators_[0].named_steps[\"randomforestclassifier\"]\n",
    "xgb_class = stack_model.estimators_[1].named_steps[\"xgbclassifier\"]\n",
    "# svm_class = stack_model.estimators_[2].named_steps[\"svc\"]\n",
    "\n",
    "rf_imps = permutation_importance(rf_class, x_test_imps, y_test, random_state=123)\n",
    "xgb_imps = permutation_importance(xgb_class, x_test_imps, y_test, random_state=123)\n",
    "# svm_imps = permutation_importance(svm_class, x_test_imps, y_test, random_state=123)"
   ]
  },
  {
   "cell_type": "code",
   "execution_count": null,
   "id": "4c3b3fa6",
   "metadata": {},
   "outputs": [],
   "source": [
    "rf_xgb_imps = np.add(rf_imps.importances_mean, xgb_imps.importances_mean)\n",
    "# rf_xgb_svm_imps = np.add(rf_xgb_imps, svm_imps.importances_mean)"
   ]
  },
  {
   "cell_type": "code",
   "execution_count": null,
   "id": "0efbc605",
   "metadata": {},
   "outputs": [],
   "source": [
    "# Feature importance\n",
    "feature = pd.DataFrame(rf_xgb_imps, x_test_imps.columns.T, columns=['Feature Importance']).sort_values(by='Feature Importance', ascending=False)\n",
    "feature"
   ]
  },
  {
   "cell_type": "code",
   "execution_count": null,
   "id": "f35051ac",
   "metadata": {},
   "outputs": [],
   "source": [
    "# Feature importance\n",
    "feature_chart(feature, \"Ensemble\")"
   ]
  },
  {
   "cell_type": "markdown",
   "id": "b1d02b31",
   "metadata": {},
   "source": [
    "## Saving Pickle Files"
   ]
  },
  {
   "cell_type": "code",
   "execution_count": 112,
   "id": "7cc8f9a9",
   "metadata": {},
   "outputs": [],
   "source": [
    "filename = '01 Log Regression.sav'\n",
    "pickle.dump(log_model, open(filename, 'wb'))"
   ]
  },
  {
   "cell_type": "code",
   "execution_count": 113,
   "id": "8508210d",
   "metadata": {},
   "outputs": [],
   "source": [
    "filename = '02 Random Forest (grid).sav'\n",
    "pickle.dump(results_grid_rf, open(filename, 'wb'))\n",
    "\n",
    "filename = '02 Random Forest (random).sav'\n",
    "pickle.dump(results_random_rf, open(filename, 'wb'))\n",
    "\n",
    "filename = '02 Random Forest (optimal).sav'\n",
    "pickle.dump(rf_model, open(filename, 'wb'))"
   ]
  },
  {
   "cell_type": "code",
   "execution_count": 114,
   "id": "71d5a128",
   "metadata": {},
   "outputs": [],
   "source": [
    "filename = '03 XGBoost (grid).sav'\n",
    "pickle.dump(results_grid_xgb, open(filename, 'wb'))\n",
    "\n",
    "filename = '03 XGBoost (random).sav'\n",
    "pickle.dump(results_random_xgb, open(filename, 'wb'))\n",
    "\n",
    "filename = '03 XGBoost (optimal).sav'\n",
    "pickle.dump(xgb_model, open(filename, 'wb'))"
   ]
  },
  {
   "cell_type": "code",
   "execution_count": 115,
   "id": "8fbfc8fd",
   "metadata": {},
   "outputs": [],
   "source": [
    "filename = '04 SVM (grid).sav'\n",
    "pickle.dump(results_grid_svm, open(filename, 'wb'))\n",
    "\n",
    "filename = '04 SVM (random).sav'\n",
    "pickle.dump(results_random_svm, open(filename, 'wb'))\n",
    "\n",
    "filename = '04 SVM (optimal).sav'\n",
    "pickle.dump(svm_model, open(filename, 'wb'))"
   ]
  },
  {
   "cell_type": "code",
   "execution_count": 117,
   "id": "3e11a221",
   "metadata": {},
   "outputs": [],
   "source": [
    "filename = '05 Gaussian NB (grid).sav'\n",
    "pickle.dump(result_grid_gnb, open(filename, 'wb'))\n",
    "\n",
    "filename = '05 Gaussian NB (random).sav'\n",
    "pickle.dump(result_random_gnb, open(filename, 'wb'))\n",
    "\n",
    "filename = '05 Gaussian NB (optimal).sav'\n",
    "pickle.dump(gnb_model, open(filename, 'wb'))"
   ]
  },
  {
   "cell_type": "code",
   "execution_count": 118,
   "id": "e43ec320",
   "metadata": {},
   "outputs": [],
   "source": [
    "filename = '05 Bernoulli NB (grid).sav'\n",
    "pickle.dump(result_grid_bnb, open(filename, 'wb'))\n",
    "\n",
    "filename = '05 Bernoulli NB (random).sav'\n",
    "pickle.dump(result_random_bnb, open(filename, 'wb'))\n",
    "\n",
    "filename = '05 Bernoulli NB (optimal).sav'\n",
    "pickle.dump(bnb_model, open(filename, 'wb'))"
   ]
  },
  {
   "cell_type": "code",
   "execution_count": 119,
   "id": "a15de346",
   "metadata": {},
   "outputs": [],
   "source": [
    "filename = '06 Ensemble.sav'\n",
    "pickle.dump(stack_model, open(filename, 'wb'))"
   ]
  }
 ],
 "metadata": {
  "kernelspec": {
   "display_name": "Python 3 (ipykernel)",
   "language": "python",
   "name": "python3"
  },
  "language_info": {
   "codemirror_mode": {
    "name": "ipython",
    "version": 3
   },
   "file_extension": ".py",
   "mimetype": "text/x-python",
   "name": "python",
   "nbconvert_exporter": "python",
   "pygments_lexer": "ipython3",
   "version": "3.9.12"
  }
 },
 "nbformat": 4,
 "nbformat_minor": 5
}
