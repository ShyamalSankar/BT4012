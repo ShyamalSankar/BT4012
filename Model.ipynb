{
 "cells": [
  {
   "cell_type": "markdown",
   "id": "571f5143",
   "metadata": {},
   "source": [
    "## Import Packages and Reading of Data"
   ]
  },
  {
   "cell_type": "code",
   "execution_count": 1,
   "id": "ee3a18bd",
   "metadata": {},
   "outputs": [],
   "source": [
    "import time\n",
    "import warnings\n",
    "import pickle\n",
    "import shap\n",
    "\n",
    "import pandas as pd \n",
    "import numpy as np\n",
    "import matplotlib.pyplot as plt\n",
    "import xgboost as xgb # recommended version: 1.5.0\n",
    "\n",
    "from sklearn.model_selection import train_test_split\n",
    "from sklearn.linear_model import LinearRegression, Ridge, LogisticRegression\n",
    "from sklearn.svm import SVR, SVC\n",
    "from sklearn.preprocessing import StandardScaler, OneHotEncoder\n",
    "from sklearn.ensemble import RandomForestClassifier\n",
    "from sklearn import metrics\n",
    "from sklearn.model_selection import RandomizedSearchCV, GridSearchCV, cross_val_score, RepeatedKFold\n",
    "from sklearn.pipeline import make_pipeline\n",
    "from sklearn.inspection import permutation_importance\n",
    "from sklearn.compose import ColumnTransformer\n",
    "from sklearn.base import BaseEstimator, TransformerMixin\n",
    "from xgboost import plot_importance\n",
    "from sklearn.naive_bayes import GaussianNB, BernoulliNB\n",
    "from bayes_opt import BayesianOptimization\n",
    "from sklearn.ensemble import StackingClassifier\n",
    "\n",
    "pd.set_option(\"display.max_columns\", None)\n",
    "warnings.filterwarnings(\"ignore\")"
   ]
  },
  {
   "cell_type": "code",
   "execution_count": 2,
   "id": "d139119b",
   "metadata": {},
   "outputs": [],
   "source": [
    "# Reading of Excel\n",
    "dataset = pd.read_csv('cleaned_others_dataset.csv')"
   ]
  },
  {
   "cell_type": "code",
   "execution_count": 3,
   "id": "d544eda2",
   "metadata": {},
   "outputs": [
    {
     "data": {
      "text/html": [
       "<div>\n",
       "<style scoped>\n",
       "    .dataframe tbody tr th:only-of-type {\n",
       "        vertical-align: middle;\n",
       "    }\n",
       "\n",
       "    .dataframe tbody tr th {\n",
       "        vertical-align: top;\n",
       "    }\n",
       "\n",
       "    .dataframe thead th {\n",
       "        text-align: right;\n",
       "    }\n",
       "</style>\n",
       "<table border=\"1\" class=\"dataframe\">\n",
       "  <thead>\n",
       "    <tr style=\"text-align: right;\">\n",
       "      <th></th>\n",
       "      <th>verified</th>\n",
       "      <th>location</th>\n",
       "      <th>followers_count</th>\n",
       "      <th>following_count</th>\n",
       "      <th>tweet_count</th>\n",
       "      <th>isFraud</th>\n",
       "      <th>un_no_of_char</th>\n",
       "      <th>un_special_char</th>\n",
       "      <th>un_uppercase</th>\n",
       "      <th>name_no_of_char</th>\n",
       "      <th>name_special_char</th>\n",
       "      <th>name_uppercase</th>\n",
       "      <th>des_no_of_usertags</th>\n",
       "      <th>des_no_of_hashtags</th>\n",
       "      <th>des_external_links</th>\n",
       "      <th>has_description</th>\n",
       "      <th>account_age_in_days</th>\n",
       "      <th>average_tweets_per_day</th>\n",
       "    </tr>\n",
       "  </thead>\n",
       "  <tbody>\n",
       "    <tr>\n",
       "      <th>0</th>\n",
       "      <td>0</td>\n",
       "      <td>0</td>\n",
       "      <td>1997</td>\n",
       "      <td>5</td>\n",
       "      <td>17090</td>\n",
       "      <td>1</td>\n",
       "      <td>15</td>\n",
       "      <td>1</td>\n",
       "      <td>0</td>\n",
       "      <td>19</td>\n",
       "      <td>0</td>\n",
       "      <td>1</td>\n",
       "      <td>2</td>\n",
       "      <td>0</td>\n",
       "      <td>0</td>\n",
       "      <td>1</td>\n",
       "      <td>2184</td>\n",
       "      <td>7.825092</td>\n",
       "    </tr>\n",
       "    <tr>\n",
       "      <th>1</th>\n",
       "      <td>0</td>\n",
       "      <td>1</td>\n",
       "      <td>785</td>\n",
       "      <td>829</td>\n",
       "      <td>251</td>\n",
       "      <td>0</td>\n",
       "      <td>12</td>\n",
       "      <td>0</td>\n",
       "      <td>1</td>\n",
       "      <td>8</td>\n",
       "      <td>0</td>\n",
       "      <td>1</td>\n",
       "      <td>0</td>\n",
       "      <td>0</td>\n",
       "      <td>0</td>\n",
       "      <td>1</td>\n",
       "      <td>2159</td>\n",
       "      <td>0.116258</td>\n",
       "    </tr>\n",
       "    <tr>\n",
       "      <th>2</th>\n",
       "      <td>0</td>\n",
       "      <td>0</td>\n",
       "      <td>243</td>\n",
       "      <td>1232</td>\n",
       "      <td>1469</td>\n",
       "      <td>0</td>\n",
       "      <td>8</td>\n",
       "      <td>0</td>\n",
       "      <td>1</td>\n",
       "      <td>11</td>\n",
       "      <td>0</td>\n",
       "      <td>0</td>\n",
       "      <td>0</td>\n",
       "      <td>0</td>\n",
       "      <td>0</td>\n",
       "      <td>1</td>\n",
       "      <td>1939</td>\n",
       "      <td>0.757607</td>\n",
       "    </tr>\n",
       "    <tr>\n",
       "      <th>3</th>\n",
       "      <td>0</td>\n",
       "      <td>1</td>\n",
       "      <td>749</td>\n",
       "      <td>838</td>\n",
       "      <td>2518</td>\n",
       "      <td>0</td>\n",
       "      <td>11</td>\n",
       "      <td>0</td>\n",
       "      <td>1</td>\n",
       "      <td>15</td>\n",
       "      <td>0</td>\n",
       "      <td>1</td>\n",
       "      <td>0</td>\n",
       "      <td>0</td>\n",
       "      <td>0</td>\n",
       "      <td>1</td>\n",
       "      <td>2270</td>\n",
       "      <td>1.109251</td>\n",
       "    </tr>\n",
       "    <tr>\n",
       "      <th>4</th>\n",
       "      <td>1</td>\n",
       "      <td>1</td>\n",
       "      <td>737048</td>\n",
       "      <td>128</td>\n",
       "      <td>4739</td>\n",
       "      <td>0</td>\n",
       "      <td>13</td>\n",
       "      <td>0</td>\n",
       "      <td>1</td>\n",
       "      <td>14</td>\n",
       "      <td>0</td>\n",
       "      <td>1</td>\n",
       "      <td>1</td>\n",
       "      <td>0</td>\n",
       "      <td>0</td>\n",
       "      <td>1</td>\n",
       "      <td>3919</td>\n",
       "      <td>1.209237</td>\n",
       "    </tr>\n",
       "    <tr>\n",
       "      <th>...</th>\n",
       "      <td>...</td>\n",
       "      <td>...</td>\n",
       "      <td>...</td>\n",
       "      <td>...</td>\n",
       "      <td>...</td>\n",
       "      <td>...</td>\n",
       "      <td>...</td>\n",
       "      <td>...</td>\n",
       "      <td>...</td>\n",
       "      <td>...</td>\n",
       "      <td>...</td>\n",
       "      <td>...</td>\n",
       "      <td>...</td>\n",
       "      <td>...</td>\n",
       "      <td>...</td>\n",
       "      <td>...</td>\n",
       "      <td>...</td>\n",
       "      <td>...</td>\n",
       "    </tr>\n",
       "    <tr>\n",
       "      <th>33581</th>\n",
       "      <td>1</td>\n",
       "      <td>1</td>\n",
       "      <td>367523</td>\n",
       "      <td>17291</td>\n",
       "      <td>24084</td>\n",
       "      <td>0</td>\n",
       "      <td>14</td>\n",
       "      <td>0</td>\n",
       "      <td>1</td>\n",
       "      <td>10</td>\n",
       "      <td>0</td>\n",
       "      <td>1</td>\n",
       "      <td>2</td>\n",
       "      <td>0</td>\n",
       "      <td>0</td>\n",
       "      <td>1</td>\n",
       "      <td>4704</td>\n",
       "      <td>5.119898</td>\n",
       "    </tr>\n",
       "    <tr>\n",
       "      <th>33582</th>\n",
       "      <td>0</td>\n",
       "      <td>1</td>\n",
       "      <td>14</td>\n",
       "      <td>0</td>\n",
       "      <td>238</td>\n",
       "      <td>0</td>\n",
       "      <td>8</td>\n",
       "      <td>1</td>\n",
       "      <td>1</td>\n",
       "      <td>8</td>\n",
       "      <td>0</td>\n",
       "      <td>1</td>\n",
       "      <td>0</td>\n",
       "      <td>0</td>\n",
       "      <td>0</td>\n",
       "      <td>1</td>\n",
       "      <td>4289</td>\n",
       "      <td>0.055491</td>\n",
       "    </tr>\n",
       "    <tr>\n",
       "      <th>33583</th>\n",
       "      <td>0</td>\n",
       "      <td>0</td>\n",
       "      <td>395</td>\n",
       "      <td>492</td>\n",
       "      <td>21437</td>\n",
       "      <td>1</td>\n",
       "      <td>14</td>\n",
       "      <td>0</td>\n",
       "      <td>1</td>\n",
       "      <td>16</td>\n",
       "      <td>0</td>\n",
       "      <td>1</td>\n",
       "      <td>0</td>\n",
       "      <td>0</td>\n",
       "      <td>0</td>\n",
       "      <td>1</td>\n",
       "      <td>3792</td>\n",
       "      <td>5.653217</td>\n",
       "    </tr>\n",
       "    <tr>\n",
       "      <th>33584</th>\n",
       "      <td>0</td>\n",
       "      <td>0</td>\n",
       "      <td>159</td>\n",
       "      <td>618</td>\n",
       "      <td>3021</td>\n",
       "      <td>0</td>\n",
       "      <td>8</td>\n",
       "      <td>0</td>\n",
       "      <td>1</td>\n",
       "      <td>14</td>\n",
       "      <td>0</td>\n",
       "      <td>1</td>\n",
       "      <td>0</td>\n",
       "      <td>0</td>\n",
       "      <td>0</td>\n",
       "      <td>0</td>\n",
       "      <td>2659</td>\n",
       "      <td>1.136141</td>\n",
       "    </tr>\n",
       "    <tr>\n",
       "      <th>33585</th>\n",
       "      <td>1</td>\n",
       "      <td>1</td>\n",
       "      <td>803247</td>\n",
       "      <td>7</td>\n",
       "      <td>3159</td>\n",
       "      <td>0</td>\n",
       "      <td>9</td>\n",
       "      <td>1</td>\n",
       "      <td>1</td>\n",
       "      <td>10</td>\n",
       "      <td>1</td>\n",
       "      <td>0</td>\n",
       "      <td>0</td>\n",
       "      <td>0</td>\n",
       "      <td>0</td>\n",
       "      <td>0</td>\n",
       "      <td>3860</td>\n",
       "      <td>0.818394</td>\n",
       "    </tr>\n",
       "  </tbody>\n",
       "</table>\n",
       "<p>33586 rows × 18 columns</p>\n",
       "</div>"
      ],
      "text/plain": [
       "       verified  location  followers_count  following_count  tweet_count  \\\n",
       "0             0         0             1997                5        17090   \n",
       "1             0         1              785              829          251   \n",
       "2             0         0              243             1232         1469   \n",
       "3             0         1              749              838         2518   \n",
       "4             1         1           737048              128         4739   \n",
       "...         ...       ...              ...              ...          ...   \n",
       "33581         1         1           367523            17291        24084   \n",
       "33582         0         1               14                0          238   \n",
       "33583         0         0              395              492        21437   \n",
       "33584         0         0              159              618         3021   \n",
       "33585         1         1           803247                7         3159   \n",
       "\n",
       "       isFraud  un_no_of_char  un_special_char  un_uppercase  name_no_of_char  \\\n",
       "0            1             15                1             0               19   \n",
       "1            0             12                0             1                8   \n",
       "2            0              8                0             1               11   \n",
       "3            0             11                0             1               15   \n",
       "4            0             13                0             1               14   \n",
       "...        ...            ...              ...           ...              ...   \n",
       "33581        0             14                0             1               10   \n",
       "33582        0              8                1             1                8   \n",
       "33583        1             14                0             1               16   \n",
       "33584        0              8                0             1               14   \n",
       "33585        0              9                1             1               10   \n",
       "\n",
       "       name_special_char  name_uppercase  des_no_of_usertags  \\\n",
       "0                      0               1                   2   \n",
       "1                      0               1                   0   \n",
       "2                      0               0                   0   \n",
       "3                      0               1                   0   \n",
       "4                      0               1                   1   \n",
       "...                  ...             ...                 ...   \n",
       "33581                  0               1                   2   \n",
       "33582                  0               1                   0   \n",
       "33583                  0               1                   0   \n",
       "33584                  0               1                   0   \n",
       "33585                  1               0                   0   \n",
       "\n",
       "       des_no_of_hashtags  des_external_links  has_description  \\\n",
       "0                       0                   0                1   \n",
       "1                       0                   0                1   \n",
       "2                       0                   0                1   \n",
       "3                       0                   0                1   \n",
       "4                       0                   0                1   \n",
       "...                   ...                 ...              ...   \n",
       "33581                   0                   0                1   \n",
       "33582                   0                   0                1   \n",
       "33583                   0                   0                1   \n",
       "33584                   0                   0                0   \n",
       "33585                   0                   0                0   \n",
       "\n",
       "       account_age_in_days  average_tweets_per_day  \n",
       "0                     2184                7.825092  \n",
       "1                     2159                0.116258  \n",
       "2                     1939                0.757607  \n",
       "3                     2270                1.109251  \n",
       "4                     3919                1.209237  \n",
       "...                    ...                     ...  \n",
       "33581                 4704                5.119898  \n",
       "33582                 4289                0.055491  \n",
       "33583                 3792                5.653217  \n",
       "33584                 2659                1.136141  \n",
       "33585                 3860                0.818394  \n",
       "\n",
       "[33586 rows x 18 columns]"
      ]
     },
     "execution_count": 3,
     "metadata": {},
     "output_type": "execute_result"
    }
   ],
   "source": [
    "dataset"
   ]
  },
  {
   "cell_type": "markdown",
   "id": "e1b40aae",
   "metadata": {},
   "source": [
    "## Feature Engineering\n",
    "* Scale numerical features\n",
    "* One Hot Encode for categorical/ordinal features"
   ]
  },
  {
   "cell_type": "code",
   "execution_count": 4,
   "id": "70acbf5c",
   "metadata": {},
   "outputs": [
    {
     "name": "stdout",
     "output_type": "stream",
     "text": [
      "Train set: (26868, 17) (26868,)\n",
      "Test set: (6718, 17) (6718,)\n"
     ]
    }
   ],
   "source": [
    "# Getting X and y\n",
    "x = dataset.drop(columns = ['isFraud'])\n",
    "y = dataset['isFraud']\n",
    "\n",
    "# Split into training and testing sets before scaling the variables and performing one hot encoding to avoid data leakage\n",
    "x_train, x_test, y_train, y_test = train_test_split(x, y, test_size = 0.2, random_state=101)\n",
    "print(\"Train set:\", x_train.shape, y_train.shape)\n",
    "print(\"Test set:\", x_test.shape, y_test.shape)"
   ]
  },
  {
   "cell_type": "code",
   "execution_count": 5,
   "id": "381970a2",
   "metadata": {},
   "outputs": [],
   "source": [
    "# # We only want to scale the numeric variables and not the categorical features. \n",
    "# # Hence, we create a columntransformer to help us to do this\n",
    "# scaler = StandardScaler()\n",
    "\n",
    "# x_train[['followers_count', 'following_count', 'tweet_count', 'un_no_of_char', 'name_no_of_char', 'des_no_of_usertags', 'des_no_of_hashtags']] = scaler.fit_transform(x_train[['followers_count', 'following_count', 'tweet_count', 'un_no_of_char','name_no_of_char', 'des_no_of_usertags', 'des_no_of_hashtags']])\n",
    "\n",
    "# x_test[['followers_count', 'following_count', 'tweet_count', 'un_no_of_char', 'name_no_of_char', 'des_no_of_usertags', 'des_no_of_hashtags']] = scaler.transform(x_test[['followers_count', 'following_count', 'tweet_count', 'un_no_of_char','name_no_of_char', 'des_no_of_usertags', 'des_no_of_hashtags']])\n",
    "\n",
    "# # Transform the year column into a categorical variable and store the result in a dataframe\n",
    "# encoder = OneHotEncoder(handle_unknown = 'ignore', sparse = False)\n",
    "# transformed_year_train_matrix = encoder.fit_transform(x_train[['year']])\n",
    "# transformed_year_train = pd.DataFrame(transformed_year_train_matrix, columns = encoder.get_feature_names())\n",
    "\n",
    "# # Using the fitted encoder to transform the test data and storing in a dataframe\n",
    "# transformed_year_test_matrix = encoder.transform(x_test[['year']])\n",
    "# transformed_year_test = pd.DataFrame(transformed_year_test_matrix, columns = encoder.get_feature_names())\n",
    "\n",
    "# # Reset the index for training and testing sets to allow merging with the one hot encoded variables\n",
    "# # Drop the index column \n",
    "# x_train.reset_index(inplace = True, drop = True)\n",
    "# x_test.reset_index(inplace = True, drop = True)\n",
    "# y_train.reset_index(drop = True, inplace = True)\n",
    "# y_test.reset_index(drop = True, inplace = True)\n",
    "\n",
    "# # Combine the scaled numeric variables together with the year categorical variables\n",
    "# x_train = pd.concat([x_train, transformed_year_train], axis = 1)\n",
    "# x_test = pd.concat([x_test, transformed_year_test], axis = 1)\n",
    "\n",
    "# # Drop the year column since we already have the dummy variables for year\n",
    "# x_train.drop(labels = ['year'], axis = 1, inplace = True)\n",
    "# x_test.drop(labels = ['year'], axis = 1, inplace = True)"
   ]
  },
  {
   "cell_type": "code",
   "execution_count": 6,
   "id": "2f6a8ddb",
   "metadata": {},
   "outputs": [],
   "source": [
    "# A class that combines all the preprocessing steps (for model pipeline purpose)\n",
    "class ExperimentalTransformer(BaseEstimator, TransformerMixin):\n",
    "    \n",
    "    def __init__(self, numeric_variables = ['followers_count', 'following_count', 'tweet_count', 'un_no_of_char','name_no_of_char', 'des_no_of_usertags', 'des_no_of_hashtags', 'account_age_in_days', 'average_tweets_per_day']):\n",
    "        self.encoder = OneHotEncoder(handle_unknown = 'ignore', sparse = False)\n",
    "        self.scaler = StandardScaler()\n",
    "        #specified numeric variables, by default it is the above\n",
    "        self.numeric_variables = numeric_variables\n",
    "        self.columns = []\n",
    "    \n",
    "    #The fit function that will be called when this custom transformer is fit\n",
    "    def fit(self, X, y = None):\n",
    "        #fit the one hot encoder to the year\n",
    "#         self.encoder.fit(X[['year']])\n",
    "        #fit the scaler on the numeric variables\n",
    "        self.scaler.fit(X[self.numeric_variables])\n",
    "        return self\n",
    "    \n",
    "    #The transform function that will be called\n",
    "    def transform(self, X, y = None):\n",
    "        \n",
    "        #to avoid changing the original dataset\n",
    "        X_ = X.copy()\n",
    "        #transforming the numeric variables according to the fitted scaler\n",
    "        X_[self.numeric_variables] = self.scaler.transform(X_[self.numeric_variables])\n",
    "        \n",
    "#         #next, create a date matrix using the fitted encoder\n",
    "#         transformed_year_matrix = self.encoder.transform(X_[['year']])\n",
    "#         #get the dataframe\n",
    "#         year_cols = list(map(lambda year: year.replace('x0', 'year'), self.encoder.get_feature_names()))\n",
    "#         transformed_year_train = pd.DataFrame(transformed_year_matrix, columns = year_cols)\n",
    "#         #reset the index of the original dataframe\n",
    "#         X_.reset_index(drop = True, inplace = True)\n",
    "#         X_ = pd.concat([X_, transformed_year_train], axis = 1)\n",
    "#         #drop the year column from the dataframe\n",
    "#         X_.drop(labels = ['year'], inplace = True, axis = 1)\n",
    "        self.columns = X_.columns\n",
    "        return X_"
   ]
  },
  {
   "cell_type": "markdown",
   "id": "ae94b9fe",
   "metadata": {},
   "source": [
    "## Charts"
   ]
  },
  {
   "cell_type": "code",
   "execution_count": 7,
   "id": "b74dafa0",
   "metadata": {},
   "outputs": [],
   "source": [
    "# def feature_chart(shap_values, x_test_values, names, model_type):\n",
    "# #     feature_importance_df = pd.DataFrame(model.coef_.T, x_train.columns.T,columns=['Feature Importance']).sort_values(by='Feature Importance', ascending=False)\n",
    "# #     fig = feature_importance_df.plot(kind=\"barh\", figsize=(20, 50))\n",
    "# #     bg = fig.patch\n",
    "# #     plt.gca().invert_yaxis()\n",
    "#     shap.summary_plot(shap_values, x_test_values, feature_names = names, plot_type = \"bar\", sort = True)\n",
    "#     plt.grid()\n",
    "# #     plt.savefig(f'Charts\\\\{model_type} Feature Importance.png', dpi=300)\n",
    "#     plt.show()\n",
    "\n",
    "# model = SVC()\n",
    "# model.fit(x_train, y_train)\n",
    "# explainer = shap.Explainer(model.predict, x_test, feature_perturbation=\"interventional\")\n",
    "# shap_values = explainer(x_test)\n",
    "# x_test_arr = x_test.toarray()\n",
    "# feature_chart(shap_values, x_test_arr, x_test.columns, model_type)\n",
    "    \n",
    "def feature_chart(feature_importance_df, model_type):\n",
    "#     feature_importance_df = pd.DataFrame(model.coef_.T, x_train.columns.T,columns=['Feature Importance']).sort_values(by='Feature Importance', ascending=False)\n",
    "    fig = feature_importance_df.plot(kind=\"barh\", figsize=(12, 15))\n",
    "    bg = fig.patch\n",
    "    bg.set_facecolor(\"white\")\n",
    "    plt.gca().invert_yaxis()\n",
    "    plt.grid()\n",
    "#     plt.savefig(f'Charts\\\\{model_type} Feature Importance.png', dpi=300, facecolor=fig.get_facecolor())\n",
    "    plt.show()"
   ]
  },
  {
   "cell_type": "markdown",
   "id": "304e922e",
   "metadata": {},
   "source": [
    "## 01 Logistic Regression\n",
    "* Model \n",
    "* Error Metrics\n",
    "* Plot for Feature Importance"
   ]
  },
  {
   "cell_type": "code",
   "execution_count": 8,
   "id": "a55ea5d6",
   "metadata": {},
   "outputs": [],
   "source": [
    "# Model\n",
    "log_regression = LogisticRegression()\n",
    "transformer = ExperimentalTransformer()\n",
    "log_model_pipeline = make_pipeline(transformer, log_regression)\n",
    "log_model = log_model_pipeline.fit(x_train, y_train)"
   ]
  },
  {
   "cell_type": "code",
   "execution_count": 9,
   "id": "c8b30e69",
   "metadata": {},
   "outputs": [],
   "source": [
    "# Save the model to disk\n",
    "# filename = '01 Logistic Regression.sav'\n",
    "# pickle.dump(log_model, open(filename, 'wb'))\n",
    "\n",
    "# Load the model from disk\n",
    "# results_random = pickle.load(open(filename, 'rb'))"
   ]
  },
  {
   "cell_type": "code",
   "execution_count": 10,
   "id": "fffa28f8",
   "metadata": {},
   "outputs": [
    {
     "data": {
      "text/plain": [
       "0.7425189816882537"
      ]
     },
     "execution_count": 10,
     "metadata": {},
     "output_type": "execute_result"
    }
   ],
   "source": [
    "# R-Squared\n",
    "log_model.score(x_train, y_train)"
   ]
  },
  {
   "cell_type": "code",
   "execution_count": 11,
   "id": "8bc6e6c2",
   "metadata": {},
   "outputs": [],
   "source": [
    "# y_prediction\n",
    "y_pred = log_model.predict(x_test)"
   ]
  },
  {
   "cell_type": "code",
   "execution_count": 12,
   "id": "eaf1c7c5",
   "metadata": {},
   "outputs": [
    {
     "name": "stdout",
     "output_type": "stream",
     "text": [
      "Log Loss: 8.467666762528458\n",
      "ROC AUC: 0.6903524761095976\n",
      "F1-score: 0.5745285455954534\n",
      "Precision: 0.6788766788766789\n",
      "Recall: 0.4979847738468428\n"
     ]
    }
   ],
   "source": [
    "# Error Metrics\n",
    "lg_loss = metrics.log_loss(y_test, y_pred)\n",
    "print(f'Log Loss: {lg_loss}')\n",
    "roc_auc = metrics.roc_auc_score(y_test, y_pred)\n",
    "print(f'ROC AUC: {roc_auc}')\n",
    "f1_score = metrics.f1_score(y_test, y_pred)\n",
    "print(f'F1-score: {f1_score}')\n",
    "precision = metrics.precision_score(y_test, y_pred)\n",
    "print(f'Precision: {precision}')\n",
    "recall = metrics.recall_score(y_test, y_pred)\n",
    "print(f'Recall: {recall}')"
   ]
  },
  {
   "cell_type": "markdown",
   "id": "fd23963f",
   "metadata": {},
   "source": [
    "### Feature Importance"
   ]
  },
  {
   "cell_type": "code",
   "execution_count": 13,
   "id": "adcde3ae",
   "metadata": {},
   "outputs": [
    {
     "data": {
      "text/html": [
       "<div>\n",
       "<style scoped>\n",
       "    .dataframe tbody tr th:only-of-type {\n",
       "        vertical-align: middle;\n",
       "    }\n",
       "\n",
       "    .dataframe tbody tr th {\n",
       "        vertical-align: top;\n",
       "    }\n",
       "\n",
       "    .dataframe thead th {\n",
       "        text-align: right;\n",
       "    }\n",
       "</style>\n",
       "<table border=\"1\" class=\"dataframe\">\n",
       "  <thead>\n",
       "    <tr style=\"text-align: right;\">\n",
       "      <th></th>\n",
       "      <th>Feature Importance</th>\n",
       "    </tr>\n",
       "  </thead>\n",
       "  <tbody>\n",
       "    <tr>\n",
       "      <th>des_external_links</th>\n",
       "      <td>1.291137</td>\n",
       "    </tr>\n",
       "    <tr>\n",
       "      <th>tweet_count</th>\n",
       "      <td>0.401720</td>\n",
       "    </tr>\n",
       "    <tr>\n",
       "      <th>following_count</th>\n",
       "      <td>0.069304</td>\n",
       "    </tr>\n",
       "    <tr>\n",
       "      <th>un_no_of_char</th>\n",
       "      <td>-0.013673</td>\n",
       "    </tr>\n",
       "    <tr>\n",
       "      <th>followers_count</th>\n",
       "      <td>-0.014893</td>\n",
       "    </tr>\n",
       "    <tr>\n",
       "      <th>name_no_of_char</th>\n",
       "      <td>-0.039136</td>\n",
       "    </tr>\n",
       "    <tr>\n",
       "      <th>name_uppercase</th>\n",
       "      <td>-0.045389</td>\n",
       "    </tr>\n",
       "    <tr>\n",
       "      <th>un_uppercase</th>\n",
       "      <td>-0.076467</td>\n",
       "    </tr>\n",
       "    <tr>\n",
       "      <th>des_no_of_usertags</th>\n",
       "      <td>-0.140864</td>\n",
       "    </tr>\n",
       "    <tr>\n",
       "      <th>un_special_char</th>\n",
       "      <td>-0.178475</td>\n",
       "    </tr>\n",
       "    <tr>\n",
       "      <th>name_special_char</th>\n",
       "      <td>-0.183455</td>\n",
       "    </tr>\n",
       "    <tr>\n",
       "      <th>des_no_of_hashtags</th>\n",
       "      <td>-0.205707</td>\n",
       "    </tr>\n",
       "    <tr>\n",
       "      <th>average_tweets_per_day</th>\n",
       "      <td>-0.228160</td>\n",
       "    </tr>\n",
       "    <tr>\n",
       "      <th>account_age_in_days</th>\n",
       "      <td>-0.316309</td>\n",
       "    </tr>\n",
       "    <tr>\n",
       "      <th>location</th>\n",
       "      <td>-0.420325</td>\n",
       "    </tr>\n",
       "    <tr>\n",
       "      <th>has_description</th>\n",
       "      <td>-1.161284</td>\n",
       "    </tr>\n",
       "    <tr>\n",
       "      <th>verified</th>\n",
       "      <td>-2.477212</td>\n",
       "    </tr>\n",
       "  </tbody>\n",
       "</table>\n",
       "</div>"
      ],
      "text/plain": [
       "                        Feature Importance\n",
       "des_external_links                1.291137\n",
       "tweet_count                       0.401720\n",
       "following_count                   0.069304\n",
       "un_no_of_char                    -0.013673\n",
       "followers_count                  -0.014893\n",
       "name_no_of_char                  -0.039136\n",
       "name_uppercase                   -0.045389\n",
       "un_uppercase                     -0.076467\n",
       "des_no_of_usertags               -0.140864\n",
       "un_special_char                  -0.178475\n",
       "name_special_char                -0.183455\n",
       "des_no_of_hashtags               -0.205707\n",
       "average_tweets_per_day           -0.228160\n",
       "account_age_in_days              -0.316309\n",
       "location                         -0.420325\n",
       "has_description                  -1.161284\n",
       "verified                         -2.477212"
      ]
     },
     "execution_count": 13,
     "metadata": {},
     "output_type": "execute_result"
    }
   ],
   "source": [
    "# Feature importance\n",
    "feature = pd.DataFrame(log_model.named_steps[\"logisticregression\"].coef_.T, log_model.named_steps[\"experimentaltransformer\"].columns, columns=['Feature Importance']).sort_values(by='Feature Importance', ascending=False)\n",
    "feature"
   ]
  },
  {
   "cell_type": "code",
   "execution_count": 14,
   "id": "a9913e6b",
   "metadata": {},
   "outputs": [
    {
     "data": {
      "image/png": "[encoded data removed]",
      "text/plain": [
       "<Figure size 864x1080 with 1 Axes>"
      ]
     },
     "metadata": {
      "needs_background": "light"
     },
     "output_type": "display_data"
    }
   ],
   "source": [
    "# Feature importance\n",
    "feature_chart(feature, \"Logistic Regression\")"
   ]
  },
  {
   "cell_type": "markdown",
   "id": "4fb1fe58",
   "metadata": {},
   "source": [
    "## 02 Random Forest\n",
    "* Model (Random Search + Grid Search)\n",
    "* Error Metrics\n",
    "* Plot for Feature Importance"
   ]
  },
  {
   "cell_type": "markdown",
   "id": "e0cc165c",
   "metadata": {},
   "source": [
    "### Model (Random Search)"
   ]
  },
  {
   "cell_type": "code",
   "execution_count": 15,
   "id": "96628df4",
   "metadata": {},
   "outputs": [],
   "source": [
    "# Model\n",
    "rf_classifier = RandomForestClassifier()\n",
    "transformer = ExperimentalTransformer()\n",
    "rf_model = make_pipeline(transformer, rf_classifier)\n",
    "\n",
    "space = dict()\n",
    "\n",
    "# Number of trees in random forest\n",
    "space[\"randomforestclassifier__n_estimators\"] = [10, 50, 200, 600, 800, 1200]\n",
    "\n",
    "# Number of features to consider at every split (this parameter avoids overfitting by limiting how many features each leaf node can look at) \n",
    "space[\"randomforestclassifier__max_features\"] = ['auto', 'sqrt', 'log2']\n",
    "\n",
    "# Maximum number of levels in tree (how deep the tree goes)\n",
    "space[\"randomforestclassifier__max_depth\"] = [None, 10, 40, 80, 120]\n",
    "\n",
    "# Minimum number of samples required to split a node\n",
    "space[\"randomforestclassifier__min_samples_split\"] = [2, 10, 40, 100]\n",
    "\n",
    "# Method of selecting samples for training each tree (bootstrap sampling or not)\n",
    "space[\"randomforestclassifier__bootstrap\"] = [True, False]\n",
    "\n",
    "# Define search\n",
    "random_search = RandomizedSearchCV(rf_model, \n",
    "                                   space, \n",
    "                                   scoring = 'f1',\n",
    "                                   cv = 5, \n",
    "                                   verbose = 2, \n",
    "                                   random_state = 123, \n",
    "                                   n_jobs = -1)"
   ]
  },
  {
   "cell_type": "code",
   "execution_count": 16,
   "id": "f38e8364",
   "metadata": {},
   "outputs": [
    {
     "name": "stdout",
     "output_type": "stream",
     "text": [
      "Fitting 5 folds for each of 10 candidates, totalling 50 fits\n",
      "CPU times: total: 47.9 s\n",
      "Wall time: 4min 29s\n"
     ]
    }
   ],
   "source": [
    "%%time\n",
    "\n",
    "# Execute search\n",
    "results_random_rf = random_search.fit(x_train, np.ravel(y_train))"
   ]
  },
  {
   "cell_type": "code",
   "execution_count": 17,
   "id": "4378459a",
   "metadata": {},
   "outputs": [
    {
     "name": "stdout",
     "output_type": "stream",
     "text": [
      "Best Score: 0.7637605513438714\n",
      "Best Hyperparameters: {'randomforestclassifier__n_estimators': 800, 'randomforestclassifier__min_samples_split': 10, 'randomforestclassifier__max_features': 'sqrt', 'randomforestclassifier__max_depth': 40, 'randomforestclassifier__bootstrap': True}\n"
     ]
    }
   ],
   "source": [
    "# Save the model to disk\n",
    "# filename = '02 Random Forest (random).sav'\n",
    "# pickle.dump(results_random, open(filename, 'wb'))\n",
    "\n",
    "# Load the model from disk\n",
    "# results_random = pickle.load(open(filename, 'rb'))\n",
    "\n",
    "print('Best Score: %s' % results_random_rf.best_score_)\n",
    "print('Best Hyperparameters: %s' % results_random_rf.best_params_)"
   ]
  },
  {
   "cell_type": "code",
   "execution_count": 18,
   "id": "24b7e571",
   "metadata": {},
   "outputs": [],
   "source": [
    "# y_prediction for the best model using RandomSearchCV\n",
    "y_pred_random = results_random_rf.predict(x_test)"
   ]
  },
  {
   "cell_type": "code",
   "execution_count": 19,
   "id": "6cbe29cc",
   "metadata": {},
   "outputs": [
    {
     "name": "stdout",
     "output_type": "stream",
     "text": [
      "Log Loss: 4.657985963662924\n",
      "ROC AUC: 0.8278276446192487\n",
      "F1-score: 0.7793472966390648\n",
      "Precision: 0.8542445274959958\n",
      "Recall: 0.716524854455889\n"
     ]
    }
   ],
   "source": [
    "# Error Metrics\n",
    "lg_loss = metrics.log_loss(y_test, y_pred_random)\n",
    "print(f'Log Loss: {lg_loss}')\n",
    "roc_auc = metrics.roc_auc_score(y_test, y_pred_random)\n",
    "print(f'ROC AUC: {roc_auc}')\n",
    "f1_score = metrics.f1_score(y_test, y_pred_random)\n",
    "print(f'F1-score: {f1_score}')\n",
    "precision = metrics.precision_score(y_test, y_pred_random)\n",
    "print(f'Precision: {precision}')\n",
    "recall = metrics.recall_score(y_test, y_pred_random)\n",
    "print(f'Recall: {recall}')"
   ]
  },
  {
   "cell_type": "markdown",
   "id": "c333b817",
   "metadata": {},
   "source": [
    "### Model (Grid Search)"
   ]
  },
  {
   "cell_type": "code",
   "execution_count": 20,
   "id": "4021c4ba",
   "metadata": {},
   "outputs": [],
   "source": [
    "# Model\n",
    "rf_classifier = RandomForestClassifier()\n",
    "transformer = ExperimentalTransformer()\n",
    "rf_model = make_pipeline(transformer, rf_classifier)\n",
    "\n",
    "grid = dict()\n",
    "\n",
    "# Number of trees in random forest\n",
    "grid[\"randomforestclassifier__n_estimators\"] = [10, 50, 200, 600, 800, 1200]\n",
    "\n",
    "# Number of features to consider at every split\n",
    "grid[\"randomforestclassifier__max_features\"] = ['auto', 'sqrt', 'log2']\n",
    "\n",
    "# Maximum number of levels in tree (how deep the tree goes)\n",
    "grid[\"randomforestclassifier__max_depth\"] = [None, 10, 40, 80, 120]\n",
    "\n",
    "# Minimum number of samples required to split a node\n",
    "grid[\"randomforestclassifier__min_samples_split\"] = [2, 10, 40, 100]\n",
    "\n",
    "# Method of selecting samples for training each tree (bootstrap sampling or not)\n",
    "grid[\"randomforestclassifier__bootstrap\"] = [True, False]\n",
    "\n",
    "# Define search\n",
    "grid_search = GridSearchCV(rf_model, \n",
    "                           grid, \n",
    "                           scoring = 'f1',\n",
    "                           cv = 5, \n",
    "                           n_jobs = -1, \n",
    "                           verbose = 2)"
   ]
  },
  {
   "cell_type": "code",
   "execution_count": 21,
   "id": "4ed1d061",
   "metadata": {},
   "outputs": [
    {
     "name": "stdout",
     "output_type": "stream",
     "text": [
      "Fitting 5 folds for each of 720 candidates, totalling 3600 fits\n",
      "CPU times: total: 1min 29s\n",
      "Wall time: 5h 1min 54s\n"
     ]
    }
   ],
   "source": [
    "%%time\n",
    "\n",
    "# Execute search\n",
    "results_grid_rf = grid_search.fit(x_train, np.ravel(y_train))"
   ]
  },
  {
   "cell_type": "code",
   "execution_count": 22,
   "id": "bd8d9f36",
   "metadata": {},
   "outputs": [
    {
     "name": "stdout",
     "output_type": "stream",
     "text": [
      "Best Score: 0.7659256733294217\n",
      "Best Hyperparameters: {'randomforestclassifier__bootstrap': True, 'randomforestclassifier__max_depth': None, 'randomforestclassifier__max_features': 'log2', 'randomforestclassifier__min_samples_split': 10, 'randomforestclassifier__n_estimators': 1200}\n"
     ]
    }
   ],
   "source": [
    "# Save the model to disk\n",
    "# filename = '02 Random Forest (grid).sav'\n",
    "# pickle.dump(results_grid, open(filename, 'wb'))\n",
    "\n",
    "# Load the model from disk\n",
    "# results_grid = pickle.load(open(filename, 'rb'))\n",
    "\n",
    "print('Best Score: %s' % results_grid_rf.best_score_)\n",
    "print('Best Hyperparameters: %s' % results_grid_rf.best_params_)"
   ]
  },
  {
   "cell_type": "code",
   "execution_count": 23,
   "id": "800c4f14",
   "metadata": {},
   "outputs": [],
   "source": [
    "# y_prediction for the best model using GridSearchCV\n",
    "y_pred_grid = results_grid_rf.predict(x_test)"
   ]
  },
  {
   "cell_type": "code",
   "execution_count": 24,
   "id": "2f4116fb",
   "metadata": {},
   "outputs": [
    {
     "name": "stdout",
     "output_type": "stream",
     "text": [
      "Log Loss: 4.6374205715865084\n",
      "ROC AUC: 0.8282735754999623\n",
      "F1-score: 0.780107264748903\n",
      "Precision: 0.8560727661851257\n",
      "Recall: 0.716524854455889\n"
     ]
    }
   ],
   "source": [
    "# Error Metrics\n",
    "lg_loss = metrics.log_loss(y_test, y_pred_grid)\n",
    "print(f'Log Loss: {lg_loss}')\n",
    "roc_auc = metrics.roc_auc_score(y_test, y_pred_grid)\n",
    "print(f'ROC AUC: {roc_auc}')\n",
    "f1_score = metrics.f1_score(y_test, y_pred_grid)\n",
    "print(f'F1-score: {f1_score}')\n",
    "precision = metrics.precision_score(y_test, y_pred_grid)\n",
    "print(f'Precision: {precision}')\n",
    "recall = metrics.recall_score(y_test, y_pred_grid)\n",
    "print(f'Recall: {recall}')"
   ]
  },
  {
   "cell_type": "markdown",
   "id": "6b1fa204",
   "metadata": {},
   "source": [
    "### Model (Optimal Hyperparameters)"
   ]
  },
  {
   "cell_type": "code",
   "execution_count": 25,
   "id": "fa153269",
   "metadata": {},
   "outputs": [
    {
     "name": "stdout",
     "output_type": "stream",
     "text": [
      "Grid Search: 0.7659256733294217\n",
      "Randomised Search: 0.7637605513438714\n"
     ]
    }
   ],
   "source": [
    "print(\"Grid Search:\", results_grid_rf.best_score_) \n",
    "print(\"Randomised Search:\", results_random_rf.best_score_) "
   ]
  },
  {
   "cell_type": "code",
   "execution_count": 26,
   "id": "04ae0081",
   "metadata": {},
   "outputs": [],
   "source": [
    "# Model (initialise the object based on parameters selected by grid search)\n",
    "rf_classifier = RandomForestClassifier(bootstrap = True, \n",
    "                                       max_depth = None, \n",
    "                                       max_features = 'log2', \n",
    "                                       min_samples_split = 10, \n",
    "                                       n_estimators = 1200)\n",
    "transformer = ExperimentalTransformer()\n",
    "rf_model_pipeline = make_pipeline(transformer, rf_classifier)\n",
    "rf_model = rf_model_pipeline.fit(x_train, np.ravel(y_train))\n",
    "\n",
    "# Save the model to disk\n",
    "# filename = '02 Random Forest (Optimal).sav'\n",
    "# pickle.dump(rf_model, open(filename, 'wb'))\n",
    "\n",
    "# Load the model from disk\n",
    "# rf_regression = pickle.load(open(filename, 'rb'))"
   ]
  },
  {
   "cell_type": "code",
   "execution_count": 27,
   "id": "83bda1ee",
   "metadata": {},
   "outputs": [],
   "source": [
    "# y_prediction for the best model\n",
    "y_pred_optimal = rf_model.predict(x_test)"
   ]
  },
  {
   "cell_type": "code",
   "execution_count": 28,
   "id": "3129661b",
   "metadata": {},
   "outputs": [
    {
     "name": "stdout",
     "output_type": "stream",
     "text": [
      "Accuracy: 0.864543018755582\n",
      "F1-score: 0.777723497801661\n",
      "Precision: 0.8554540569586244\n",
      "Recall: 0.7129422301836095\n"
     ]
    }
   ],
   "source": [
    "# Error Metrics\n",
    "mae = metrics.accuracy_score(y_test, y_pred_optimal)\n",
    "print(f'Accuracy: {mae}')\n",
    "f1_score = metrics.f1_score(y_test, y_pred_optimal)\n",
    "print(f'F1-score: {f1_score}')\n",
    "precision = metrics.precision_score(y_test, y_pred_optimal)\n",
    "print(f'Precision: {precision}')\n",
    "recall = metrics.recall_score(y_test, y_pred_optimal)\n",
    "print(f'Recall: {recall}')"
   ]
  },
  {
   "cell_type": "markdown",
   "id": "a9affb9b",
   "metadata": {},
   "source": [
    "### Feature Importance"
   ]
  },
  {
   "cell_type": "code",
   "execution_count": 30,
   "id": "a81edf6a",
   "metadata": {},
   "outputs": [
    {
     "data": {
      "text/html": [
       "<div>\n",
       "<style scoped>\n",
       "    .dataframe tbody tr th:only-of-type {\n",
       "        vertical-align: middle;\n",
       "    }\n",
       "\n",
       "    .dataframe tbody tr th {\n",
       "        vertical-align: top;\n",
       "    }\n",
       "\n",
       "    .dataframe thead th {\n",
       "        text-align: right;\n",
       "    }\n",
       "</style>\n",
       "<table border=\"1\" class=\"dataframe\">\n",
       "  <thead>\n",
       "    <tr style=\"text-align: right;\">\n",
       "      <th></th>\n",
       "      <th>Feature Importance</th>\n",
       "    </tr>\n",
       "  </thead>\n",
       "  <tbody>\n",
       "    <tr>\n",
       "      <th>followers_count</th>\n",
       "      <td>0.251300</td>\n",
       "    </tr>\n",
       "    <tr>\n",
       "      <th>following_count</th>\n",
       "      <td>0.185596</td>\n",
       "    </tr>\n",
       "    <tr>\n",
       "      <th>tweet_count</th>\n",
       "      <td>0.128681</td>\n",
       "    </tr>\n",
       "    <tr>\n",
       "      <th>average_tweets_per_day</th>\n",
       "      <td>0.113890</td>\n",
       "    </tr>\n",
       "    <tr>\n",
       "      <th>account_age_in_days</th>\n",
       "      <td>0.107109</td>\n",
       "    </tr>\n",
       "    <tr>\n",
       "      <th>name_no_of_char</th>\n",
       "      <td>0.043627</td>\n",
       "    </tr>\n",
       "    <tr>\n",
       "      <th>verified</th>\n",
       "      <td>0.040943</td>\n",
       "    </tr>\n",
       "    <tr>\n",
       "      <th>un_no_of_char</th>\n",
       "      <td>0.027828</td>\n",
       "    </tr>\n",
       "    <tr>\n",
       "      <th>has_description</th>\n",
       "      <td>0.025759</td>\n",
       "    </tr>\n",
       "    <tr>\n",
       "      <th>des_external_links</th>\n",
       "      <td>0.016679</td>\n",
       "    </tr>\n",
       "    <tr>\n",
       "      <th>location</th>\n",
       "      <td>0.014680</td>\n",
       "    </tr>\n",
       "    <tr>\n",
       "      <th>name_uppercase</th>\n",
       "      <td>0.010024</td>\n",
       "    </tr>\n",
       "    <tr>\n",
       "      <th>des_no_of_usertags</th>\n",
       "      <td>0.008696</td>\n",
       "    </tr>\n",
       "    <tr>\n",
       "      <th>des_no_of_hashtags</th>\n",
       "      <td>0.007877</td>\n",
       "    </tr>\n",
       "    <tr>\n",
       "      <th>un_uppercase</th>\n",
       "      <td>0.007156</td>\n",
       "    </tr>\n",
       "    <tr>\n",
       "      <th>un_special_char</th>\n",
       "      <td>0.006767</td>\n",
       "    </tr>\n",
       "    <tr>\n",
       "      <th>name_special_char</th>\n",
       "      <td>0.003389</td>\n",
       "    </tr>\n",
       "  </tbody>\n",
       "</table>\n",
       "</div>"
      ],
      "text/plain": [
       "                        Feature Importance\n",
       "followers_count                   0.251300\n",
       "following_count                   0.185596\n",
       "tweet_count                       0.128681\n",
       "average_tweets_per_day            0.113890\n",
       "account_age_in_days               0.107109\n",
       "name_no_of_char                   0.043627\n",
       "verified                          0.040943\n",
       "un_no_of_char                     0.027828\n",
       "has_description                   0.025759\n",
       "des_external_links                0.016679\n",
       "location                          0.014680\n",
       "name_uppercase                    0.010024\n",
       "des_no_of_usertags                0.008696\n",
       "des_no_of_hashtags                0.007877\n",
       "un_uppercase                      0.007156\n",
       "un_special_char                   0.006767\n",
       "name_special_char                 0.003389"
      ]
     },
     "execution_count": 30,
     "metadata": {},
     "output_type": "execute_result"
    }
   ],
   "source": [
    "# rf_model.feature_importances_\n",
    "feature = pd.DataFrame(rf_model.named_steps[\"randomforestclassifier\"].feature_importances_, rf_model.named_steps[\"experimentaltransformer\"].columns.T, columns=['Feature Importance']).sort_values(by='Feature Importance', ascending=False)\n",
    "feature"
   ]
  },
  {
   "cell_type": "code",
   "execution_count": 31,
   "id": "a761d5b8",
   "metadata": {},
   "outputs": [
    {
     "data": {
      "image/png": "[encoded data removed]",
      "text/plain": [
       "<Figure size 864x1080 with 1 Axes>"
      ]
     },
     "metadata": {
      "needs_background": "light"
     },
     "output_type": "display_data"
    }
   ],
   "source": [
    "feature_chart(feature, \"Random Forest\")"
   ]
  },
  {
   "cell_type": "markdown",
   "id": "32988753",
   "metadata": {},
   "source": [
    "## 03 XGBoost\n",
    "* Model (Random Search + Grid Search + Bayesian Optimisation)\n",
    "* Error Metrics\n",
    "* Plot for Feature Importance"
   ]
  },
  {
   "cell_type": "markdown",
   "id": "9410e8c7",
   "metadata": {},
   "source": [
    "### Model (Random Search)"
   ]
  },
  {
   "cell_type": "code",
   "execution_count": 33,
   "id": "47e516bb",
   "metadata": {},
   "outputs": [],
   "source": [
    "xgb_classifier = xgb.XGBClassifier(gamma = 0.1,\n",
    "                                   alpha = 0.5,\n",
    "                                   objective = \"binary:logistic\",\n",
    "                                   eval_metric = \"logloss\")\n",
    "transformer = ExperimentalTransformer()\n",
    "xgb_model = make_pipeline(transformer, xgb_classifier)\n",
    "\n",
    "space = dict()\n",
    "\n",
    "# Maximum depth of the individual regression estimators\n",
    "space[\"xgbclassifier__max_depth\"] = [6, 10, 15, 20, 25]\n",
    "\n",
    "# Fraction of samples to be used for fitting the individual base learners\n",
    "space[\"xgbclassifier__subsample\"] = [0.6, 0.8, 1.0]\n",
    "\n",
    "# Step size shrinkage used in update to prevents overfitting\n",
    "space[\"xgbclassifier__eta\"] = [0.01, 0.1, 0.2]\n",
    "\n",
    "# Subsample ratio of columns when constructing each tree\n",
    "space[\"xgbclassifier__colsample_bytree\"] = [0.5, 0.6, 0.7, 0.8, 0.9]\n",
    "\n",
    "# Define Search\n",
    "random_search = RandomizedSearchCV(estimator = xgb_model,\n",
    "                                   param_distributions = space,\n",
    "                                   scoring = 'f1',\n",
    "                                   n_jobs = -1,\n",
    "                                   cv = 5,\n",
    "                                   verbose = 10,\n",
    "                                   n_iter = 50,\n",
    "                                   random_state = 123)"
   ]
  },
  {
   "cell_type": "code",
   "execution_count": 34,
   "id": "86645987",
   "metadata": {},
   "outputs": [
    {
     "name": "stdout",
     "output_type": "stream",
     "text": [
      "Fitting 5 folds for each of 50 candidates, totalling 250 fits\n",
      "CPU times: total: 14.3 s\n",
      "Wall time: 8min 38s\n"
     ]
    }
   ],
   "source": [
    "%%time\n",
    "\n",
    "# Execute Search\n",
    "results_random_xgb = random_search.fit(x_train, y_train)\n",
    "# Fitting 5 folds for each of 50 candidates, totalling 250 fits\n",
    "# CPU times: user 1min 23s, sys: 3.7 s, total: 1min 27s\n",
    "# Wall time: 1h 29min 45s"
   ]
  },
  {
   "cell_type": "code",
   "execution_count": 35,
   "id": "e984980e",
   "metadata": {},
   "outputs": [
    {
     "name": "stdout",
     "output_type": "stream",
     "text": [
      "Best Score: 0.7660558338584627\n",
      "Best Hyperparameters: {'xgbclassifier__subsample': 1.0, 'xgbclassifier__max_depth': 6, 'xgbclassifier__eta': 0.2, 'xgbclassifier__colsample_bytree': 0.9}\n"
     ]
    }
   ],
   "source": [
    "# filename = 'random_all.sav'\n",
    "# pickle.dump(random_search, open(filename, 'wb'))\n",
    "\n",
    "print('Best Score: %s' % results_random_xgb.best_score_)\n",
    "print('Best Hyperparameters: %s' % results_random_xgb.best_params_)\n",
    "\n",
    "# print(results_random.best_params_)\n",
    "# print(\"Randomised Search:\", results_random.best_score_)"
   ]
  },
  {
   "cell_type": "code",
   "execution_count": 36,
   "id": "842d973b",
   "metadata": {},
   "outputs": [],
   "source": [
    "# y_prediction for the best model using RandomSearchCV\n",
    "y_pred_random = results_random_xgb.predict(x_test)"
   ]
  },
  {
   "cell_type": "code",
   "execution_count": 37,
   "id": "6c2606cf",
   "metadata": {},
   "outputs": [
    {
     "name": "stdout",
     "output_type": "stream",
     "text": [
      "Log Loss: 4.7453893560802385\n",
      "ROC AUC: 0.8263821635635729\n",
      "F1-score: 0.7765674170902929\n",
      "Precision: 0.845100105374078\n",
      "Recall: 0.7183161665920287\n"
     ]
    }
   ],
   "source": [
    "# Error Metrics\n",
    "lg_loss = metrics.log_loss(y_test, y_pred_random)\n",
    "print(f'Log Loss: {lg_loss}')\n",
    "roc_auc = metrics.roc_auc_score(y_test, y_pred_random)\n",
    "print(f'ROC AUC: {roc_auc}')\n",
    "f1_score = metrics.f1_score(y_test, y_pred_random)\n",
    "print(f'F1-score: {f1_score}')\n",
    "precision = metrics.precision_score(y_test, y_pred_random)\n",
    "print(f'Precision: {precision}')\n",
    "recall = metrics.recall_score(y_test, y_pred_random)\n",
    "print(f'Recall: {recall}')"
   ]
  },
  {
   "cell_type": "markdown",
   "id": "f5e30755",
   "metadata": {},
   "source": [
    "### Model (Grid Search)"
   ]
  },
  {
   "cell_type": "code",
   "execution_count": 39,
   "id": "47b21f8b",
   "metadata": {},
   "outputs": [],
   "source": [
    "xgb_classifier = xgb.XGBClassifier(gamma = 0.1,\n",
    "                                   alpha = 0.5,\n",
    "                                   objective = \"binary:logistic\",\n",
    "                                   eval_metric = \"logloss\")\n",
    "transformer = ExperimentalTransformer()\n",
    "xgb_model = make_pipeline(transformer, xgb_classifier)\n",
    "\n",
    "grid = dict()\n",
    "\n",
    "# Maximum depth of the individual regression estimators\n",
    "grid[\"xgbclassifier__max_depth\"] = [6, 10, 15, 20, 25]\n",
    "\n",
    "# Fraction of samples to be used for fitting the individual base learners\n",
    "grid[\"xgbclassifier__subsample\"] = [0.6, 0.8, 1.0]\n",
    "\n",
    "# Step size shrinkage used in update to prevents overfitting\n",
    "grid[\"xgbclassifier__eta\"] = [0.01, 0.1, 0.2]\n",
    "\n",
    "# Subsample ratio of columns when constructing each tree\n",
    "grid[\"xgbclassifier__colsample_bytree\"] = [0.5, 0.6, 0.7, 0.8, 0.9]\n",
    "\n",
    "grid_search = GridSearchCV(estimator = xgb_model,\n",
    "                           param_grid = grid,\n",
    "                           scoring = 'f1',\n",
    "                           n_jobs = -1,\n",
    "                           cv = 5,\n",
    "                           verbose = True)"
   ]
  },
  {
   "cell_type": "code",
   "execution_count": 40,
   "id": "affa4b9a",
   "metadata": {},
   "outputs": [
    {
     "name": "stdout",
     "output_type": "stream",
     "text": [
      "Fitting 5 folds for each of 225 candidates, totalling 1125 fits\n",
      "CPU times: total: 37.5 s\n",
      "Wall time: 34min 8s\n"
     ]
    }
   ],
   "source": [
    "%%time\n",
    "\n",
    "results_grid_xgb = grid_search.fit(x_train, y_train)\n",
    "# Fitting 5 folds for each of 225 candidates, totalling 1125 fits\n",
    "# CPU times: user 2min 51s, sys: 15.3 s, total: 3min 6s\n",
    "# Wall time: 6h 58min 5s"
   ]
  },
  {
   "cell_type": "code",
   "execution_count": 41,
   "id": "67674160",
   "metadata": {},
   "outputs": [
    {
     "name": "stdout",
     "output_type": "stream",
     "text": [
      "Best Score: 0.7683938086790989\n",
      "Best Hyperparameters: {'xgbclassifier__colsample_bytree': 0.9, 'xgbclassifier__eta': 0.1, 'xgbclassifier__max_depth': 10, 'xgbclassifier__subsample': 0.8}\n"
     ]
    }
   ],
   "source": [
    "print('Best Score: %s' % results_grid_xgb.best_score_)\n",
    "print('Best Hyperparameters: %s' % results_grid_xgb.best_params_)"
   ]
  },
  {
   "cell_type": "code",
   "execution_count": 42,
   "id": "337f526f",
   "metadata": {},
   "outputs": [],
   "source": [
    "# y_prediction for the best model using GridSearchCV\n",
    "y_pred_grid = results_grid_xgb.predict(x_test)"
   ]
  },
  {
   "cell_type": "code",
   "execution_count": 43,
   "id": "c21bdeea",
   "metadata": {},
   "outputs": [
    {
     "name": "stdout",
     "output_type": "stream",
     "text": [
      "Log Loss: 4.668270683094451\n",
      "ROC AUC: 0.8295160112251566\n",
      "F1-score: 0.7807822308063738\n",
      "Precision: 0.8470403352540598\n",
      "Recall: 0.7241379310344828\n"
     ]
    }
   ],
   "source": [
    "# Error Metrics\n",
    "lg_loss = metrics.log_loss(y_test, y_pred_grid)\n",
    "print(f'Log Loss: {lg_loss}')\n",
    "roc_auc = metrics.roc_auc_score(y_test, y_pred_grid)\n",
    "print(f'ROC AUC: {roc_auc}')\n",
    "f1_score = metrics.f1_score(y_test, y_pred_grid)\n",
    "print(f'F1-score: {f1_score}')\n",
    "precision = metrics.precision_score(y_test, y_pred_grid)\n",
    "print(f'Precision: {precision}')\n",
    "recall = metrics.recall_score(y_test, y_pred_grid)\n",
    "print(f'Recall: {recall}')"
   ]
  },
  {
   "cell_type": "markdown",
   "id": "b98f95af",
   "metadata": {},
   "source": [
    "### Model (Bayesian Optimisation)"
   ]
  },
  {
   "cell_type": "code",
   "execution_count": 44,
   "id": "d8551a6f",
   "metadata": {},
   "outputs": [],
   "source": [
    "def xgboost_hyper_pram(eta, max_depth, subsample, gamma, colsample_bytree, alpha):\n",
    "    max_depth = int(max_depth)\n",
    "    xgb_classifier = xgb.XGBClassifier(max_depth = max_depth, \n",
    "                                       eta = eta, \n",
    "                                       gamma = gamma,\n",
    "                                       subsample = subsample,\n",
    "                                       colsample_bytree = colsample_bytree,\n",
    "                                       alpha = alpha,\n",
    "                                       objective = \"binary:logistic\",\n",
    "                                       eval_metric = \"logloss\")\n",
    "\n",
    "    transformer = ExperimentalTransformer()\n",
    "    xgb_model = make_pipeline(transformer, xgb_classifier)\n",
    "    \n",
    "    xgb_model.fit(x_train, y_train)\n",
    "    y_pred = xgb_model.predict(x_test)\n",
    "    \n",
    "    return (metrics.f1_score(y_test, y_pred))"
   ]
  },
  {
   "cell_type": "code",
   "execution_count": 45,
   "id": "7a24c1e1",
   "metadata": {},
   "outputs": [],
   "source": [
    "optim_model = BayesianOptimization(xgboost_hyper_pram, \n",
    "                                   {'max_depth' : (1, 30), \n",
    "                                   'eta' : (0, 0.2), \n",
    "                                   'gamma' : (0, 1),\n",
    "                                   'subsample' : (0, 1),\n",
    "                                   'colsample_bytree' : (0, 1),\n",
    "                                   'alpha' : (0, 1)},\n",
    "                                   random_state=123)"
   ]
  },
  {
   "cell_type": "code",
   "execution_count": 46,
   "id": "b8c2ce86",
   "metadata": {},
   "outputs": [
    {
     "name": "stdout",
     "output_type": "stream",
     "text": [
      "|   iter    |  target   |   alpha   | colsam... |    eta    |   gamma   | max_depth | subsample |\n",
      "-------------------------------------------------------------------------------------------------\n",
      "| \u001b[0m1        \u001b[0m | \u001b[0m0.7537   \u001b[0m | \u001b[0m0.6965   \u001b[0m | \u001b[0m0.2861   \u001b[0m | \u001b[0m0.04537  \u001b[0m | \u001b[0m0.5513   \u001b[0m | \u001b[0m21.86    \u001b[0m | \u001b[0m0.4231   \u001b[0m |\n",
      "| \u001b[95m2        \u001b[0m | \u001b[95m0.778    \u001b[0m | \u001b[95m0.9808   \u001b[0m | \u001b[95m0.6848   \u001b[0m | \u001b[95m0.09619  \u001b[0m | \u001b[95m0.3921   \u001b[0m | \u001b[95m10.95    \u001b[0m | \u001b[95m0.729    \u001b[0m |\n",
      "| \u001b[0m3        \u001b[0m | \u001b[0m0.6834   \u001b[0m | \u001b[0m0.4386   \u001b[0m | \u001b[0m0.05968  \u001b[0m | \u001b[0m0.07961  \u001b[0m | \u001b[0m0.738    \u001b[0m | \u001b[0m6.292    \u001b[0m | \u001b[0m0.1755   \u001b[0m |\n",
      "| \u001b[0m4        \u001b[0m | \u001b[0m0.7696   \u001b[0m | \u001b[0m0.5316   \u001b[0m | \u001b[0m0.5318   \u001b[0m | \u001b[0m0.1269   \u001b[0m | \u001b[0m0.8494   \u001b[0m | \u001b[0m22.01    \u001b[0m | \u001b[0m0.611    \u001b[0m |\n",
      "| \u001b[0m5        \u001b[0m | \u001b[0m0.7731   \u001b[0m | \u001b[0m0.7224   \u001b[0m | \u001b[0m0.323    \u001b[0m | \u001b[0m0.07236  \u001b[0m | \u001b[0m0.2283   \u001b[0m | \u001b[0m9.518    \u001b[0m | \u001b[0m0.631    \u001b[0m |\n",
      "| \u001b[0m6        \u001b[0m | \u001b[0m0.7729   \u001b[0m | \u001b[0m0.0921   \u001b[0m | \u001b[0m0.4337   \u001b[0m | \u001b[0m0.08617  \u001b[0m | \u001b[0m0.4937   \u001b[0m | \u001b[0m13.35    \u001b[0m | \u001b[0m0.3123   \u001b[0m |\n",
      "| \u001b[0m7        \u001b[0m | \u001b[0m0.7593   \u001b[0m | \u001b[0m0.4264   \u001b[0m | \u001b[0m0.8934   \u001b[0m | \u001b[0m0.1888   \u001b[0m | \u001b[0m0.5018   \u001b[0m | \u001b[0m19.09    \u001b[0m | \u001b[0m0.1156   \u001b[0m |\n",
      "| \u001b[0m8        \u001b[0m | \u001b[0m0.7709   \u001b[0m | \u001b[0m0.3173   \u001b[0m | \u001b[0m0.4148   \u001b[0m | \u001b[0m0.1733   \u001b[0m | \u001b[0m0.2505   \u001b[0m | \u001b[0m15.01    \u001b[0m | \u001b[0m0.9856   \u001b[0m |\n",
      "| \u001b[0m9        \u001b[0m | \u001b[0m0.7778   \u001b[0m | \u001b[0m0.5195   \u001b[0m | \u001b[0m0.6129   \u001b[0m | \u001b[0m0.02413  \u001b[0m | \u001b[0m0.8263   \u001b[0m | \u001b[0m18.49    \u001b[0m | \u001b[0m0.5451   \u001b[0m |\n",
      "| \u001b[0m10       \u001b[0m | \u001b[0m0.77     \u001b[0m | \u001b[0m0.3428   \u001b[0m | \u001b[0m0.3041   \u001b[0m | \u001b[0m0.0834   \u001b[0m | \u001b[0m0.6813   \u001b[0m | \u001b[0m26.39    \u001b[0m | \u001b[0m0.5104   \u001b[0m |\n",
      "| \u001b[0m11       \u001b[0m | \u001b[0m0.7664   \u001b[0m | \u001b[0m0.6693   \u001b[0m | \u001b[0m0.5859   \u001b[0m | \u001b[0m0.125    \u001b[0m | \u001b[0m0.6747   \u001b[0m | \u001b[0m25.43    \u001b[0m | \u001b[0m0.08319  \u001b[0m |\n",
      "| \u001b[0m12       \u001b[0m | \u001b[0m0.73     \u001b[0m | \u001b[0m0.7637   \u001b[0m | \u001b[0m0.2437   \u001b[0m | \u001b[0m0.03884  \u001b[0m | \u001b[0m0.5725   \u001b[0m | \u001b[0m3.776    \u001b[0m | \u001b[0m0.8853   \u001b[0m |\n",
      "| \u001b[0m13       \u001b[0m | \u001b[0m0.7616   \u001b[0m | \u001b[0m0.6272   \u001b[0m | \u001b[0m0.7234   \u001b[0m | \u001b[0m0.003226 \u001b[0m | \u001b[0m0.5944   \u001b[0m | \u001b[0m17.15    \u001b[0m | \u001b[0m0.159    \u001b[0m |\n",
      "| \u001b[0m14       \u001b[0m | \u001b[0m0.7773   \u001b[0m | \u001b[0m0.1531   \u001b[0m | \u001b[0m0.6955   \u001b[0m | \u001b[0m0.06375  \u001b[0m | \u001b[0m0.692    \u001b[0m | \u001b[0m17.08    \u001b[0m | \u001b[0m0.389    \u001b[0m |\n",
      "| \u001b[0m15       \u001b[0m | \u001b[0m0.774    \u001b[0m | \u001b[0m0.9251   \u001b[0m | \u001b[0m0.8417   \u001b[0m | \u001b[0m0.07148  \u001b[0m | \u001b[0m0.04359  \u001b[0m | \u001b[0m9.838    \u001b[0m | \u001b[0m0.3982   \u001b[0m |\n",
      "| \u001b[95m16       \u001b[0m | \u001b[95m0.7859   \u001b[0m | \u001b[95m0.705    \u001b[0m | \u001b[95m0.9954   \u001b[0m | \u001b[95m0.07118  \u001b[0m | \u001b[95m0.7625   \u001b[0m | \u001b[95m18.2     \u001b[0m | \u001b[95m0.6917   \u001b[0m |\n",
      "| \u001b[0m17       \u001b[0m | \u001b[0m0.7685   \u001b[0m | \u001b[0m0.1511   \u001b[0m | \u001b[0m0.3989   \u001b[0m | \u001b[0m0.04817  \u001b[0m | \u001b[0m0.3435   \u001b[0m | \u001b[0m15.88    \u001b[0m | \u001b[0m0.6666   \u001b[0m |\n",
      "| \u001b[0m18       \u001b[0m | \u001b[0m0.7174   \u001b[0m | \u001b[0m0.1059   \u001b[0m | \u001b[0m0.1309   \u001b[0m | \u001b[0m0.0644   \u001b[0m | \u001b[0m0.6616   \u001b[0m | \u001b[0m25.55    \u001b[0m | \u001b[0m0.5533   \u001b[0m |\n",
      "| \u001b[0m19       \u001b[0m | \u001b[0m0.7654   \u001b[0m | \u001b[0m0.8545   \u001b[0m | \u001b[0m0.3848   \u001b[0m | \u001b[0m0.06336  \u001b[0m | \u001b[0m0.3543   \u001b[0m | \u001b[0m5.961    \u001b[0m | \u001b[0m0.8291   \u001b[0m |\n",
      "| \u001b[0m20       \u001b[0m | \u001b[0m0.6883   \u001b[0m | \u001b[0m0.3387   \u001b[0m | \u001b[0m0.5524   \u001b[0m | \u001b[0m0.1157   \u001b[0m | \u001b[0m0.5215   \u001b[0m | \u001b[0m1.078    \u001b[0m | \u001b[0m0.9883   \u001b[0m |\n",
      "| \u001b[0m21       \u001b[0m | \u001b[0m0.7454   \u001b[0m | \u001b[0m0.9053   \u001b[0m | \u001b[0m0.2076   \u001b[0m | \u001b[0m0.0585   \u001b[0m | \u001b[0m0.52     \u001b[0m | \u001b[0m27.16    \u001b[0m | \u001b[0m0.9836   \u001b[0m |\n",
      "| \u001b[0m22       \u001b[0m | \u001b[0m0.7573   \u001b[0m | \u001b[0m0.2575   \u001b[0m | \u001b[0m0.5644   \u001b[0m | \u001b[0m0.1614   \u001b[0m | \u001b[0m0.3944   \u001b[0m | \u001b[0m22.2     \u001b[0m | \u001b[0m0.1611   \u001b[0m |\n",
      "| \u001b[0m23       \u001b[0m | \u001b[0m0.7629   \u001b[0m | \u001b[0m0.6007   \u001b[0m | \u001b[0m0.8659   \u001b[0m | \u001b[0m0.1967   \u001b[0m | \u001b[0m0.07937  \u001b[0m | \u001b[0m13.42    \u001b[0m | \u001b[0m0.2045   \u001b[0m |\n",
      "| \u001b[0m24       \u001b[0m | \u001b[0m0.7703   \u001b[0m | \u001b[0m0.4506   \u001b[0m | \u001b[0m0.5478   \u001b[0m | \u001b[0m0.01867  \u001b[0m | \u001b[0m0.2969   \u001b[0m | \u001b[0m27.9     \u001b[0m | \u001b[0m0.569    \u001b[0m |\n",
      "| \u001b[0m25       \u001b[0m | \u001b[0m0.7768   \u001b[0m | \u001b[0m0.4574   \u001b[0m | \u001b[0m0.7535   \u001b[0m | \u001b[0m0.1484   \u001b[0m | \u001b[0m0.04858  \u001b[0m | \u001b[0m21.55    \u001b[0m | \u001b[0m0.8392   \u001b[0m |\n",
      "| \u001b[0m26       \u001b[0m | \u001b[0m0.7728   \u001b[0m | \u001b[0m0.7217   \u001b[0m | \u001b[0m0.8784   \u001b[0m | \u001b[0m0.0006844\u001b[0m | \u001b[0m0.9309   \u001b[0m | \u001b[0m25.21    \u001b[0m | \u001b[0m0.9074   \u001b[0m |\n",
      "| \u001b[0m27       \u001b[0m | \u001b[0m0.7781   \u001b[0m | \u001b[0m0.3926   \u001b[0m | \u001b[0m0.8393   \u001b[0m | \u001b[0m0.07622  \u001b[0m | \u001b[0m0.7969   \u001b[0m | \u001b[0m17.96    \u001b[0m | \u001b[0m0.682    \u001b[0m |\n",
      "| \u001b[0m28       \u001b[0m | \u001b[0m0.7734   \u001b[0m | \u001b[0m0.6637   \u001b[0m | \u001b[0m0.6959   \u001b[0m | \u001b[0m0.09072  \u001b[0m | \u001b[0m0.9707   \u001b[0m | \u001b[0m17.82    \u001b[0m | \u001b[0m0.08281  \u001b[0m |\n",
      "| \u001b[0m29       \u001b[0m | \u001b[0m0.7711   \u001b[0m | \u001b[0m0.9952   \u001b[0m | \u001b[0m0.7841   \u001b[0m | \u001b[0m0.1984   \u001b[0m | \u001b[0m1.0      \u001b[0m | \u001b[0m18.2     \u001b[0m | \u001b[0m0.7851   \u001b[0m |\n",
      "| \u001b[0m30       \u001b[0m | \u001b[0m0.7579   \u001b[0m | \u001b[0m0.322    \u001b[0m | \u001b[0m0.2692   \u001b[0m | \u001b[0m0.1324   \u001b[0m | \u001b[0m0.6792   \u001b[0m | \u001b[0m26.39    \u001b[0m | \u001b[0m0.5489   \u001b[0m |\n",
      "| \u001b[0m31       \u001b[0m | \u001b[0m0.7819   \u001b[0m | \u001b[0m0.6171   \u001b[0m | \u001b[0m0.8153   \u001b[0m | \u001b[0m0.06915  \u001b[0m | \u001b[0m0.8248   \u001b[0m | \u001b[0m18.2     \u001b[0m | \u001b[0m0.5881   \u001b[0m |\n",
      "| \u001b[0m32       \u001b[0m | \u001b[0m0.7667   \u001b[0m | \u001b[0m0.6616   \u001b[0m | \u001b[0m0.4114   \u001b[0m | \u001b[0m0.05674  \u001b[0m | \u001b[0m0.8033   \u001b[0m | \u001b[0m26.35    \u001b[0m | \u001b[0m0.2107   \u001b[0m |\n",
      "| \u001b[0m33       \u001b[0m | \u001b[0m0.0      \u001b[0m | \u001b[0m0.3421   \u001b[0m | \u001b[0m0.5352   \u001b[0m | \u001b[0m0.0      \u001b[0m | \u001b[0m0.6354   \u001b[0m | \u001b[0m26.47    \u001b[0m | \u001b[0m0.3607   \u001b[0m |\n",
      "| \u001b[0m34       \u001b[0m | \u001b[0m0.7795   \u001b[0m | \u001b[0m0.7064   \u001b[0m | \u001b[0m0.9382   \u001b[0m | \u001b[0m0.1102   \u001b[0m | \u001b[0m0.7344   \u001b[0m | \u001b[0m18.1     \u001b[0m | \u001b[0m0.664    \u001b[0m |\n",
      "| \u001b[0m35       \u001b[0m | \u001b[0m0.7712   \u001b[0m | \u001b[0m0.572    \u001b[0m | \u001b[0m0.8931   \u001b[0m | \u001b[0m0.1711   \u001b[0m | \u001b[0m0.7558   \u001b[0m | \u001b[0m18.01    \u001b[0m | \u001b[0m0.6173   \u001b[0m |\n",
      "| \u001b[0m36       \u001b[0m | \u001b[0m0.7832   \u001b[0m | \u001b[0m0.7521   \u001b[0m | \u001b[0m0.9188   \u001b[0m | \u001b[0m0.05395  \u001b[0m | \u001b[0m0.7978   \u001b[0m | \u001b[0m18.07    \u001b[0m | \u001b[0m0.431    \u001b[0m |\n",
      "| \u001b[0m37       \u001b[0m | \u001b[0m0.7758   \u001b[0m | \u001b[0m0.05444  \u001b[0m | \u001b[0m0.6181   \u001b[0m | \u001b[0m0.06163  \u001b[0m | \u001b[0m0.7723   \u001b[0m | \u001b[0m17.07    \u001b[0m | \u001b[0m0.3638   \u001b[0m |\n",
      "| \u001b[0m38       \u001b[0m | \u001b[0m0.7782   \u001b[0m | \u001b[0m0.5157   \u001b[0m | \u001b[0m0.8477   \u001b[0m | \u001b[0m0.08006  \u001b[0m | \u001b[0m0.8612   \u001b[0m | \u001b[0m18.24    \u001b[0m | \u001b[0m0.798    \u001b[0m |\n",
      "| \u001b[0m39       \u001b[0m | \u001b[0m0.7686   \u001b[0m | \u001b[0m0.534    \u001b[0m | \u001b[0m0.3337   \u001b[0m | \u001b[0m0.1824   \u001b[0m | \u001b[0m0.5866   \u001b[0m | \u001b[0m4.258    \u001b[0m | \u001b[0m0.2602   \u001b[0m |\n",
      "| \u001b[0m40       \u001b[0m | \u001b[0m0.7768   \u001b[0m | \u001b[0m0.7542   \u001b[0m | \u001b[0m0.969    \u001b[0m | \u001b[0m0.01645  \u001b[0m | \u001b[0m0.934    \u001b[0m | \u001b[0m18.11    \u001b[0m | \u001b[0m0.7263   \u001b[0m |\n",
      "=================================================================================================\n",
      "CPU times: total: 20min 22s\n",
      "Wall time: 3min 50s\n"
     ]
    }
   ],
   "source": [
    "%%time \n",
    "\n",
    "optim_model.maximize(n_iter=15, init_points=25, acq='ei')\n",
    "\n",
    "# CPU times: user 22min 42s, sys: 3.66 s, total: 22min 46s\n",
    "# Wall time: 22min 41s"
   ]
  },
  {
   "cell_type": "code",
   "execution_count": 47,
   "id": "d7fda226",
   "metadata": {},
   "outputs": [
    {
     "name": "stdout",
     "output_type": "stream",
     "text": [
      "Best Score: 0.785919540229885\n",
      "Best Hyperparameters: {'alpha': 0.7049588304513622, 'colsample_bytree': 0.9953584820340174, 'eta': 0.07118297314349191, 'gamma': 0.7625478137854338, 'max_depth': 18.202130580304413, 'subsample': 0.6917017987001771}\n"
     ]
    }
   ],
   "source": [
    "print('Best Score: %s' % optim_model.max[\"target\"])\n",
    "print('Best Hyperparameters: %s' % optim_model.max['params'])"
   ]
  },
  {
   "cell_type": "markdown",
   "id": "c71fa2ae",
   "metadata": {},
   "source": [
    "### Model (Optimal Hyperparameters)"
   ]
  },
  {
   "cell_type": "code",
   "execution_count": 48,
   "id": "6177496e",
   "metadata": {},
   "outputs": [
    {
     "name": "stdout",
     "output_type": "stream",
     "text": [
      "Grid Search: 0.7683938086790989\n",
      "Randomised Search: 0.7660558338584627\n",
      "Bayesian Optimisation: 0.785919540229885\n"
     ]
    }
   ],
   "source": [
    "print(\"Grid Search:\", results_grid_xgb.best_score_) \n",
    "print(\"Randomised Search:\", results_random_xgb.best_score_) \n",
    "print(\"Bayesian Optimisation:\", optim_model.max[\"target\"]) "
   ]
  },
  {
   "cell_type": "code",
   "execution_count": 49,
   "id": "88861a6b",
   "metadata": {},
   "outputs": [],
   "source": [
    "# Model (initialise the object based on parameters selected by bayesian optimisation)\n",
    "# params = grid_search.best_params_\n",
    "params = optim_model.max['params']\n",
    "xgb_classifier = xgb.XGBClassifier(max_depth = int(params['max_depth']), \n",
    "                                   eta = params['eta'], \n",
    "                                   gamma = params['gamma'],\n",
    "                                   subsample = params['subsample'],\n",
    "                                   colsample_bytree = params['colsample_bytree'],\n",
    "                                   alpha = params['alpha'],\n",
    "                                   objective = \"binary:logistic\",\n",
    "                                   eval_metric = \"logloss\")\n",
    "\n",
    "transformer = ExperimentalTransformer()\n",
    "xgb_model_pipeline = make_pipeline(transformer, xgb_classifier)\n",
    "xgb_model = xgb_model_pipeline.fit(x_train, y_train)"
   ]
  },
  {
   "cell_type": "code",
   "execution_count": 50,
   "id": "9b87d79d",
   "metadata": {},
   "outputs": [],
   "source": [
    "# y_prediction for the best model\n",
    "y_pred_optimal = xgb_model.predict(x_test)\n",
    "# y_pred_prob_optimal = xgb_model.predict_proba(x_test)\n",
    "# y_pred_optimal = np.zeros(y_pred_prob_optimal[:, 1].shape)\n",
    "# y_pred_optimal[y_pred_prob_optimal[:, 1] > 0.35] = 1"
   ]
  },
  {
   "cell_type": "code",
   "execution_count": 51,
   "id": "d713d2d8",
   "metadata": {},
   "outputs": [
    {
     "name": "stdout",
     "output_type": "stream",
     "text": [
      "Accuracy: 0.8669246799642751\n",
      "F1-score: 0.785919540229885\n",
      "Precision: 0.8445702521873392\n",
      "Recall: 0.7348858038513211\n"
     ]
    }
   ],
   "source": [
    "# Error Metrics\n",
    "mae = metrics.accuracy_score(y_test, y_pred_optimal)\n",
    "print(f'Accuracy: {mae}')\n",
    "f1_score = metrics.f1_score(y_test, y_pred_optimal)\n",
    "print(f'F1-score: {f1_score}')\n",
    "precision = metrics.precision_score(y_test, y_pred_optimal)\n",
    "print(f'Precision: {precision}')\n",
    "recall = metrics.recall_score(y_test, y_pred_optimal)\n",
    "print(f'Recall: {recall}')"
   ]
  },
  {
   "cell_type": "markdown",
   "id": "113ccb49",
   "metadata": {},
   "source": [
    "### Feature Importance"
   ]
  },
  {
   "cell_type": "code",
   "execution_count": 52,
   "id": "35825edc",
   "metadata": {},
   "outputs": [
    {
     "data": {
      "image/png": "[encoded data removed]",
      "text/plain": [
       "<Figure size 864x1296 with 1 Axes>"
      ]
     },
     "metadata": {
      "needs_background": "light"
     },
     "output_type": "display_data"
    }
   ],
   "source": [
    "fig, ax = plt.subplots(figsize=(12,18))\n",
    "xgb.plot_importance(xgb_model.named_steps[\"xgbclassifier\"], importance_type = 'gain', height=0.8, ax=ax)\n",
    "plt.show()"
   ]
  },
  {
   "cell_type": "markdown",
   "id": "084d0ac9",
   "metadata": {},
   "source": [
    "## 04 Support Vector Machine\n",
    "* Model (Random Search + Grid Search)\n",
    "* Error Metrics\n",
    "* Plot for Feature Importance"
   ]
  },
  {
   "cell_type": "markdown",
   "id": "c641c483",
   "metadata": {},
   "source": [
    "### Model: Random Search"
   ]
  },
  {
   "cell_type": "code",
   "execution_count": 53,
   "id": "c01ab427",
   "metadata": {},
   "outputs": [],
   "source": [
    "# Model\n",
    "svm_classifier = SVC()\n",
    "transformer = ExperimentalTransformer()\n",
    "svm_model = make_pipeline(transformer, svm_classifier)\n",
    "\n",
    "space = dict()\n",
    "\n",
    "# Kernel type to be used in the algorithm\n",
    "space[\"svc__kernel\"] = ['poly', 'rbf', 'sigmoid']\n",
    "\n",
    "# Degree of the polynomial kernel function\n",
    "space[\"svc__degree\"] = [1, 3, 8]\n",
    "\n",
    "# Kernel coefficient for ‘rbf’, ‘poly’ and ‘sigmoid’\n",
    "space[\"svc__gamma\"] = ['scale', 'auto']\n",
    "\n",
    "# Regularisation parameter\n",
    "space[\"svc__C\"] = [0.1, 1, 10, 100]\n",
    "\n",
    "# Enable verbose output\n",
    "space[\"svc__verbose\"] = [True, False]\n",
    "\n",
    "# Define search\n",
    "random_search = RandomizedSearchCV(svm_model, \n",
    "                                   space, \n",
    "                                   cv = 5, \n",
    "                                   scoring = 'f1',\n",
    "                                   verbose = 2, \n",
    "                                   random_state = 123, \n",
    "                                   n_jobs = -1)"
   ]
  },
  {
   "cell_type": "code",
   "execution_count": null,
   "id": "be6de847",
   "metadata": {},
   "outputs": [
    {
     "name": "stdout",
     "output_type": "stream",
     "text": [
      "Fitting 5 folds for each of 10 candidates, totalling 50 fits\n"
     ]
    }
   ],
   "source": [
    "%%time\n",
    "\n",
    "# Execute search\n",
    "results_random_svm = random_search.fit(x_train, np.ravel(y_train))"
   ]
  },
  {
   "cell_type": "code",
   "execution_count": null,
   "id": "eaa337ac",
   "metadata": {},
   "outputs": [],
   "source": [
    "# Save the model to disk\n",
    "# filename = '04 SVM (Random).sav'\n",
    "# pickle.dump(results_random, open(filename, 'wb'))\n",
    "\n",
    "# Load the model from disk\n",
    "# results_random = pickle.load(open(filename, 'rb'))\n",
    "\n",
    "print('Best Score: %s' % results_random_svm.best_score_)\n",
    "print('Best Hyperparameters: %s' % results_random_svm.best_params_)"
   ]
  },
  {
   "cell_type": "code",
   "execution_count": null,
   "id": "870b047d",
   "metadata": {},
   "outputs": [],
   "source": [
    "# y_prediction for the best model using RandomSearchCV\n",
    "y_pred_random = results_random_svm.predict(x_test)"
   ]
  },
  {
   "cell_type": "code",
   "execution_count": null,
   "id": "c8d653d1",
   "metadata": {},
   "outputs": [],
   "source": [
    "# Error Metrics\n",
    "lg_loss = metrics.log_loss(y_test, y_pred_random)\n",
    "print(f'Log Loss: {lg_loss}')\n",
    "roc_auc = metrics.roc_auc_score(y_test, y_pred_random)\n",
    "print(f'ROC AUC: {roc_auc}')\n",
    "f1_score = metrics.f1_score(y_test, y_pred_random)\n",
    "print(f'F1-score: {f1_score}')\n",
    "precision = metrics.precision_score(y_test, y_pred_random)\n",
    "print(f'Precision: {precision}')\n",
    "recall = metrics.recall_score(y_test, y_pred_random)\n",
    "print(f'Recall: {recall}')"
   ]
  },
  {
   "cell_type": "markdown",
   "id": "fd41db33",
   "metadata": {},
   "source": [
    "### Model: Grid Search"
   ]
  },
  {
   "cell_type": "code",
   "execution_count": null,
   "id": "7a9f1103",
   "metadata": {},
   "outputs": [],
   "source": [
    "# Model\n",
    "svm_classifier = SVC()\n",
    "transformer = ExperimentalTransformer()\n",
    "svm_model = make_pipeline(transformer, svm_classifier)\n",
    "\n",
    "grid = dict()\n",
    "\n",
    "# Kernel type to be used in the algorithm\n",
    "grid[\"svc__kernel\"] = ['poly', 'rbf', 'sigmoid']\n",
    "\n",
    "# Degree of the polynomial kernel function\n",
    "grid[\"svc__degree\"] = [1, 3, 8]\n",
    "\n",
    "# Kernel coefficient for ‘rbf’, ‘poly’ and ‘sigmoid’\n",
    "grid[\"svc__gamma\"] = ['scale', 'auto']\n",
    "\n",
    "# Regularisation parameter\n",
    "grid[\"svc__C\"] = [0.1, 1, 10, 100]\n",
    "\n",
    "# Enable verbose output\n",
    "grid[\"svc__verbose\"] = [True, False]\n",
    "\n",
    "# Define search\n",
    "search = GridSearchCV(svm_model, \n",
    "                      grid, \n",
    "                      scoring = 'f1',\n",
    "                      cv = 5, \n",
    "                      n_jobs = -1, \n",
    "                      verbose = 2)"
   ]
  },
  {
   "cell_type": "code",
   "execution_count": null,
   "id": "0d64eb47",
   "metadata": {},
   "outputs": [],
   "source": [
    "%%time\n",
    "\n",
    "# Execute search\n",
    "results_grid_svm = search.fit(x_train, np.ravel(y_train))"
   ]
  },
  {
   "cell_type": "code",
   "execution_count": null,
   "id": "fda90380",
   "metadata": {},
   "outputs": [],
   "source": [
    "# Save the model to disk\n",
    "# filename = '04 SVM (Grid).sav'\n",
    "# pickle.dump(results_grid, open(filename, 'wb'))\n",
    "\n",
    "# Load the model from disk\n",
    "# results_grid = pickle.load(open(filename, 'rb'))\n",
    "\n",
    "print('Best Score: %s' % results_grid_svm.best_score_)\n",
    "print('Best Hyperparameters: %s' % results_grid_svm.best_params_)"
   ]
  },
  {
   "cell_type": "code",
   "execution_count": null,
   "id": "1a34eec2",
   "metadata": {},
   "outputs": [],
   "source": [
    "# y_prediction for the best model using GridSearchCV\n",
    "y_pred_grid = results_grid_svm.predict(x_test)"
   ]
  },
  {
   "cell_type": "code",
   "execution_count": null,
   "id": "60bfc19a",
   "metadata": {},
   "outputs": [],
   "source": [
    "# Error Metrics\n",
    "lg_loss = metrics.log_loss(y_test, y_pred_grid)\n",
    "print(f'Log Loss: {lg_loss}')\n",
    "roc_auc = metrics.roc_auc_score(y_test, y_pred_grid)\n",
    "print(f'ROC AUC: {roc_auc}')\n",
    "f1_score = metrics.f1_score(y_test, y_pred_grid)\n",
    "print(f'F1-score: {f1_score}')\n",
    "precision = metrics.precision_score(y_test, y_pred_grid)\n",
    "print(f'Precision: {precision}')\n",
    "recall = metrics.recall_score(y_test, y_pred_grid)\n",
    "print(f'Recall: {recall}')"
   ]
  },
  {
   "cell_type": "markdown",
   "id": "9db31f44",
   "metadata": {},
   "source": [
    "### Model: Optimal Hyperparameters"
   ]
  },
  {
   "cell_type": "code",
   "execution_count": null,
   "id": "8c5f0f2d",
   "metadata": {},
   "outputs": [],
   "source": [
    "print(\"Grid Search:\", results_grid_svm.best_score_) \n",
    "print(\"Randomised Search:\", results_random_svm.best_score_) "
   ]
  },
  {
   "cell_type": "code",
   "execution_count": null,
   "id": "797c5867",
   "metadata": {},
   "outputs": [],
   "source": [
    "# Model\n",
    "# Best Hyperparameters (Random): {'svc__verbose': False, 'svc__kernel': 'rbf', 'svc__gamma': 'auto', 'svc__degree': 1, 'svc__C': 100}\n",
    "# Best Hyperparameters (Grid): {'C': 10, 'degree': 8, 'gamma': 'scale', 'kernel': 'poly', 'verbose': True}\n",
    "# random_state = 123\n",
    "svm_classifier = SVC(C = 10, \n",
    "                     degree = 8, \n",
    "                     gamma = 'scale', \n",
    "                     kernel = 'poly', \n",
    "                     verbose = True, \n",
    "                     random_state = 123)\n",
    "transformer = ExperimentalTransformer()\n",
    "svm_model_pipeline = make_pipeline(transformer, svm_classifier)\n",
    "svm_model = svm_model_pipeline.fit(x_train, np.ravel(y_train))\n",
    "\n",
    "# Save the model to disk\n",
    "# filename = '04 SVM (Optimal).sav'\n",
    "# pickle.dump(svm_model, open(filename, 'wb'))\n",
    "\n",
    "# Load the model from disk\n",
    "# rf_regression = pickle.load(open(filename, 'rb'))"
   ]
  },
  {
   "cell_type": "code",
   "execution_count": null,
   "id": "6b950d44",
   "metadata": {},
   "outputs": [],
   "source": [
    "# y_prediction for the best model\n",
    "y_pred_optimal = svm_model.predict(x_test)"
   ]
  },
  {
   "cell_type": "code",
   "execution_count": null,
   "id": "476e61b8",
   "metadata": {},
   "outputs": [],
   "source": [
    "# Error Metrics\n",
    "lg_loss = metrics.log_loss(y_test, y_pred_optimal)\n",
    "print(f'Log Loss: {lg_loss}')\n",
    "roc_auc = metrics.roc_auc_score(y_test, y_pred_optimal)\n",
    "print(f'ROC AUC: {roc_auc}')\n",
    "f1_score = metrics.f1_score(y_test, y_pred_optimal)\n",
    "print(f'F1-score: {f1_score}')\n",
    "precision = metrics.precision_score(y_test, y_pred_optimal)\n",
    "print(f'Precision: {precision}')\n",
    "recall = metrics.recall_score(y_test, y_pred_optimal)\n",
    "print(f'Recall: {recall}')"
   ]
  },
  {
   "cell_type": "markdown",
   "id": "782d7608",
   "metadata": {},
   "source": [
    "### Feature Importance\n",
    "* Cannot find cause black box model unless use SHAP or perm importance?"
   ]
  },
  {
   "cell_type": "code",
   "execution_count": null,
   "id": "9ecfe153",
   "metadata": {},
   "outputs": [],
   "source": [
    "# Feature importance\n",
    "# x_test_imps = svm_model.named_steps[\"experimentaltransformer\"].transform(x_test)\n",
    "imps = permutation_importance(svm_model.named_steps[\"svc\"], x_test, y_test, random_state=123)\n",
    "feature = pd.DataFrame(imps.importances_mean, svm_model.named_steps[\"experimentaltransformer\"].columns.T, columns=['Feature Importance']).sort_values(by='Feature Importance', ascending=False)\n",
    "feature"
   ]
  },
  {
   "cell_type": "code",
   "execution_count": null,
   "id": "0257c68b",
   "metadata": {},
   "outputs": [],
   "source": [
    "feature_chart(feature, \"SVM\")"
   ]
  },
  {
   "cell_type": "markdown",
   "id": "c5dbab98",
   "metadata": {},
   "source": [
    "## 05 Naive Bayes\n",
    "* Model (Random Search + Grid Search)\n",
    "* Error Metrics\n",
    "* Plot for Feature Importance"
   ]
  },
  {
   "cell_type": "code",
   "execution_count": null,
   "id": "6da5a506",
   "metadata": {},
   "outputs": [],
   "source": [
    "x_bin_train = x_train[[\"verified\", \n",
    "               \"location\", \n",
    "               \"un_special_char\", \n",
    "               \"un_uppercase\", \n",
    "               \"name_special_char\", \n",
    "               \"name_uppercase\", \n",
    "               \"des_external_links\", \n",
    "               \"has_description\"]]\n",
    "x_bin_test = x_test[[\"verified\", \n",
    "               \"location\", \n",
    "               \"un_special_char\", \n",
    "               \"un_uppercase\", \n",
    "               \"name_special_char\", \n",
    "               \"name_uppercase\", \n",
    "               \"des_external_links\", \n",
    "               \"has_description\"]]\n",
    "x_num_train = x_train[[\"followers_count\", \n",
    "                 \"following_count\", \n",
    "                 \"tweet_count\", \n",
    "                 \"un_no_of_char\", \n",
    "                 \"name_no_of_char\", \n",
    "                 \"des_no_of_usertags\", \n",
    "                 \"des_no_of_hashtags\", \n",
    "                 \"account_age_in_days\", \n",
    "                 \"average_tweets_per_day\"]]\n",
    "x_num_test = x_test[[\"followers_count\", \n",
    "                 \"following_count\", \n",
    "                 \"tweet_count\", \n",
    "                 \"un_no_of_char\", \n",
    "                 \"name_no_of_char\", \n",
    "                 \"des_no_of_usertags\", \n",
    "                 \"des_no_of_hashtags\", \n",
    "                 \"account_age_in_days\", \n",
    "                 \"average_tweets_per_day\"]]\n",
    "\n",
    "from sklearn.naive_bayes import BernoulliNB"
   ]
  },
  {
   "cell_type": "markdown",
   "id": "7040afd0",
   "metadata": {},
   "source": [
    "### Model (Random)\n",
    "* GaussianNB\n",
    "* BernoulliNB"
   ]
  },
  {
   "cell_type": "markdown",
   "id": "240f3f7e",
   "metadata": {},
   "source": [
    "#### GaussianNB"
   ]
  },
  {
   "cell_type": "code",
   "execution_count": null,
   "id": "ef683aa5",
   "metadata": {},
   "outputs": [],
   "source": [
    "# Model (GaussianNB)\n",
    "gnb_classifier = GaussianNB()\n",
    "transformer = ExperimentalTransformer()\n",
    "gnb_model = make_pipeline(transformer, gnb_classifier)\n",
    "\n",
    "space = dict()\n",
    "\n",
    "# \n",
    "space[\"gaussiannb__var_smoothing\"] = np.logspace(0,-9, num=200) \n",
    "    \n",
    "random_search = RandomizedSearchCV(estimator = gnb_model,\n",
    "                                   param_distributions = space,\n",
    "                                   scoring = 'f1',\n",
    "                                   n_jobs = -1,\n",
    "                                   cv = 5,\n",
    "                                   verbose = 10,\n",
    "                                   n_iter = 50,\n",
    "                                   random_state = 123)"
   ]
  },
  {
   "cell_type": "code",
   "execution_count": null,
   "id": "c37f072b",
   "metadata": {},
   "outputs": [],
   "source": [
    "%%time\n",
    "\n",
    "result_random_gnb = random_search.fit(x_num_train, y_train)"
   ]
  },
  {
   "cell_type": "code",
   "execution_count": null,
   "id": "25cedfff",
   "metadata": {},
   "outputs": [],
   "source": [
    "print('Best Score: %s' % result_random_gnb.best_score_)\n",
    "print('Best Hyperparameters: %s' % result_random_gnb.best_params_)"
   ]
  },
  {
   "cell_type": "code",
   "execution_count": null,
   "id": "97ad8d5f",
   "metadata": {},
   "outputs": [],
   "source": [
    "y_pred_random_gnb = result_random_gnb.predict(x_num_test)"
   ]
  },
  {
   "cell_type": "code",
   "execution_count": null,
   "id": "713d3aa4",
   "metadata": {},
   "outputs": [],
   "source": [
    "# Error Metrics\n",
    "lg_loss = metrics.log_loss(y_test, y_pred_random_gnb)\n",
    "print(f'Log Loss: {lg_loss}')\n",
    "roc_auc = metrics.roc_auc_score(y_test, y_pred_random_gnb)\n",
    "print(f'ROC AUC: {roc_auc}')\n",
    "f1_score = metrics.f1_score(y_test, y_pred_random_gnb)\n",
    "print(f'F1-score: {f1_score}')\n",
    "precision = metrics.precision_score(y_test, y_pred_random_gnb)\n",
    "print(f'Precision: {precision}')\n",
    "recall = metrics.recall_score(y_test, y_pred_random_gnb)\n",
    "print(f'Recall: {recall}')"
   ]
  },
  {
   "cell_type": "markdown",
   "id": "bf8325ff",
   "metadata": {},
   "source": [
    "#### BernoulliNB"
   ]
  },
  {
   "cell_type": "code",
   "execution_count": null,
   "id": "e605d1b3",
   "metadata": {},
   "outputs": [],
   "source": [
    "# Model (BernoulliNB)\n",
    "bnb_classifier = BernoulliNB()\n",
    "scaler = StandardScaler()\n",
    "bnb_model = make_pipeline(scaler, bnb_classifier)\n",
    "\n",
    "space = dict()\n",
    "\n",
    "# \n",
    "space[\"bernoullinb__alpha\"] = [0, 1e-10, 1e-09, 1e-08, 1e-07, 1e-06, 1e-05, 1e-04, 1e-03, 1e-02, 1e-01]\n",
    "    \n",
    "random_search = RandomizedSearchCV(estimator = bnb_model,\n",
    "                                   param_distributions = space,\n",
    "                                   scoring = 'f1',\n",
    "                                   n_jobs = -1,\n",
    "                                   cv = 5,\n",
    "                                   verbose = 10,\n",
    "                                   n_iter = 50,\n",
    "                                   random_state = 123)"
   ]
  },
  {
   "cell_type": "code",
   "execution_count": null,
   "id": "82d23c1a",
   "metadata": {},
   "outputs": [],
   "source": [
    "%%time\n",
    "\n",
    "result_random_bnb = random_search.fit(x_bin_train, y_train)"
   ]
  },
  {
   "cell_type": "code",
   "execution_count": null,
   "id": "43aef618",
   "metadata": {},
   "outputs": [],
   "source": [
    "print('Best Score: %s' % result_random_bnb.best_score_)\n",
    "print('Best Hyperparameters: %s' % result_random_bnb.best_params_)"
   ]
  },
  {
   "cell_type": "code",
   "execution_count": null,
   "id": "0cc93112",
   "metadata": {},
   "outputs": [],
   "source": [
    "y_pred_random_bnb = result_random_bnb.predict(x_bin_test)"
   ]
  },
  {
   "cell_type": "code",
   "execution_count": null,
   "id": "ec02b11e",
   "metadata": {},
   "outputs": [],
   "source": [
    "# Error Metrics\n",
    "lg_loss = metrics.log_loss(y_test, y_pred_random_bnb)\n",
    "print(f'Log Loss: {lg_loss}')\n",
    "roc_auc = metrics.roc_auc_score(y_test, y_pred_random_bnb)\n",
    "print(f'ROC AUC: {roc_auc}')\n",
    "f1_score = metrics.f1_score(y_test, y_pred_random_bnb)\n",
    "print(f'F1-score: {f1_score}')\n",
    "precision = metrics.precision_score(y_test, y_pred_random_bnb)\n",
    "print(f'Precision: {precision}')\n",
    "recall = metrics.recall_score(y_test, y_pred_random_bnb)\n",
    "print(f'Recall: {recall}')"
   ]
  },
  {
   "cell_type": "markdown",
   "id": "2d34264c",
   "metadata": {},
   "source": [
    "### Model (Grid)\n",
    "* GaussianNB\n",
    "* BernoulliNB"
   ]
  },
  {
   "cell_type": "markdown",
   "id": "d9007add",
   "metadata": {},
   "source": [
    "#### GaussianNB"
   ]
  },
  {
   "cell_type": "code",
   "execution_count": null,
   "id": "30d4e803",
   "metadata": {},
   "outputs": [],
   "source": [
    "# Model (GaussianNB)\n",
    "gnb_classifier = GaussianNB()\n",
    "transformer = ExperimentalTransformer()\n",
    "gnb_model = make_pipeline(transformer, gnb_classifier)\n",
    "\n",
    "grid = dict()\n",
    "\n",
    "# \n",
    "grid[\"gaussiannb__var_smoothing\"] = np.logspace(0,-9, num=200) \n",
    "    \n",
    "grid_search = RandomizedSearchCV(estimator = gnb_model,\n",
    "                                 param_distributions = grid,\n",
    "                                 scoring = 'f1',\n",
    "                                 n_jobs = -1,\n",
    "                                 cv = 5,\n",
    "                                 verbose = 10,\n",
    "                                 n_iter = 50,\n",
    "                                 random_state = 123)"
   ]
  },
  {
   "cell_type": "code",
   "execution_count": null,
   "id": "727cb745",
   "metadata": {},
   "outputs": [],
   "source": [
    "%%time\n",
    "\n",
    "result_grid_gnb = grid_search.fit(x_num_train, y_train)"
   ]
  },
  {
   "cell_type": "code",
   "execution_count": null,
   "id": "3476969c",
   "metadata": {},
   "outputs": [],
   "source": [
    "print('Best Score: %s' % result_grid_gnb.best_score_)\n",
    "print('Best Hyperparameters: %s' % result_grid_gnb.best_params_)"
   ]
  },
  {
   "cell_type": "code",
   "execution_count": null,
   "id": "3f46fe04",
   "metadata": {},
   "outputs": [],
   "source": [
    "y_pred_grid_gnb = result_grid_gnb.predict(x_num_test)"
   ]
  },
  {
   "cell_type": "code",
   "execution_count": null,
   "id": "b5b6bc85",
   "metadata": {},
   "outputs": [],
   "source": [
    "lg_loss = metrics.log_loss(y_test, y_pred_grid_gnb)\n",
    "print(f'Log Loss: {lg_loss}')\n",
    "roc_auc = metrics.roc_auc_score(y_test, y_pred_grid_gnb)\n",
    "print(f'ROC AUC: {roc_auc}')\n",
    "precision = metrics.precision_score(y_test, y_pred_grid_gnb)\n",
    "print(f'Precision: {precision}')\n",
    "recall = metrics.recall_score(y_test, y_pred_grid_gnb)\n",
    "print(f'Recall: {recall}')\n",
    "f1_score = metrics.f1_score(y_test, y_pred_grid_gnb)\n",
    "print(f'F1-score: {f1_score}')"
   ]
  },
  {
   "cell_type": "markdown",
   "id": "b951766c",
   "metadata": {},
   "source": [
    "#### BernoulliNB"
   ]
  },
  {
   "cell_type": "code",
   "execution_count": null,
   "id": "01e87889",
   "metadata": {},
   "outputs": [],
   "source": [
    "# Model (BernoulliNB)\n",
    "bnb_classifier = BernoulliNB()\n",
    "scaler = StandardScaler()\n",
    "bnb_model = make_pipeline(scaler, bnb_classifier)\n",
    "\n",
    "grid = dict()\n",
    "\n",
    "# \n",
    "grid[\"bernoullinb__alpha\"] = [0, 1e-10, 1e-09, 1e-08, 1e-07, 1e-06, 1e-05, 1e-04, 1e-03, 1e-02, 1e-01]\n",
    "    \n",
    "grid_search = RandomizedSearchCV(estimator = bnb_model,\n",
    "                                 param_distributions = grid,\n",
    "                                 scoring = 'f1',\n",
    "                                 n_jobs = -1,\n",
    "                                 cv = 5,\n",
    "                                 verbose = 10,\n",
    "                                 n_iter = 50,\n",
    "                                 random_state = 123)"
   ]
  },
  {
   "cell_type": "code",
   "execution_count": null,
   "id": "d53a1014",
   "metadata": {},
   "outputs": [],
   "source": [
    "%%time\n",
    "\n",
    "result_grid_bnb = grid_search.fit(x_bin_train, y_train)"
   ]
  },
  {
   "cell_type": "code",
   "execution_count": null,
   "id": "5e522c2b",
   "metadata": {},
   "outputs": [],
   "source": [
    "print('Best Score: %s' % result_grid_bnb.best_score_)\n",
    "print('Best Hyperparameters: %s' % result_grid_bnb.best_params_)"
   ]
  },
  {
   "cell_type": "code",
   "execution_count": null,
   "id": "8ed03044",
   "metadata": {},
   "outputs": [],
   "source": [
    "y_pred_grid_bnb = result_grid_bnb.predict(x_bin_test)"
   ]
  },
  {
   "cell_type": "code",
   "execution_count": null,
   "id": "606e6598",
   "metadata": {},
   "outputs": [],
   "source": [
    "lg_loss = metrics.log_loss(y_test, y_pred_grid_bnb)\n",
    "print(f'Log Loss: {lg_loss}')\n",
    "roc_auc = metrics.roc_auc_score(y_test, y_pred_grid_bnb)\n",
    "print(f'ROC AUC: {roc_auc}')\n",
    "precision = metrics.precision_score(y_test, y_pred_grid_bnb)\n",
    "print(f'Precision: {precision}')\n",
    "recall = metrics.recall_score(y_test, y_pred_grid_bnb)\n",
    "print(f'Recall: {recall}')\n",
    "f1_score = metrics.f1_score(y_test, y_pred_grid_bnb)\n",
    "print(f'F1-score: {f1_score}')"
   ]
  },
  {
   "cell_type": "markdown",
   "id": "b16489f3",
   "metadata": {},
   "source": [
    "### Model (Optimal Hyperparameters)\n",
    "* GaussianNB\n",
    "* BernoulliNB"
   ]
  },
  {
   "cell_type": "markdown",
   "id": "d7d48d4d",
   "metadata": {},
   "source": [
    "#### GaussianNB"
   ]
  },
  {
   "cell_type": "code",
   "execution_count": null,
   "id": "d0f79a30",
   "metadata": {},
   "outputs": [],
   "source": [
    "print(\"Grid Search (GNB):\", result_grid_gnb.best_score_) \n",
    "print(\"Randomised Search (GNB):\", result_random_gnb.best_score_) "
   ]
  },
  {
   "cell_type": "code",
   "execution_count": null,
   "id": "55f313ef",
   "metadata": {},
   "outputs": [],
   "source": [
    "# Model\n",
    "# \n",
    "gnb_classifier = GaussianNB(var_smoothing = 0.07401959996915641)\n",
    "scaler = StandardScaler()\n",
    "gnb_model_pipeline = make_pipeline(scaler, gnb_classifier)\n",
    "gnb_model = gnb_model_pipeline.fit(x_num_train, np.ravel(y_train))\n",
    "\n",
    "# Save the model to disk\n",
    "# filename = '04 SVM (Optimal).sav'\n",
    "# pickle.dump(svm_model, open(filename, 'wb'))\n",
    "\n",
    "# Load the model from disk\n",
    "# rf_regression = pickle.load(open(filename, 'rb'))"
   ]
  },
  {
   "cell_type": "code",
   "execution_count": null,
   "id": "3657368c",
   "metadata": {},
   "outputs": [],
   "source": [
    "# y_prediction for the best model\n",
    "y_pred_optimal_gnb = gnb_model.predict(x_num_test)"
   ]
  },
  {
   "cell_type": "code",
   "execution_count": null,
   "id": "7c8dacfa",
   "metadata": {},
   "outputs": [],
   "source": [
    "# Error Metrics\n",
    "lg_loss = metrics.log_loss(y_test, y_pred_optimal_gnb)\n",
    "print(f'Log Loss: {lg_loss}')\n",
    "roc_auc = metrics.roc_auc_score(y_test, y_pred_optimal_gnb)\n",
    "print(f'ROC AUC: {roc_auc}')\n",
    "f1_score = metrics.f1_score(y_test, y_pred_optimal_gnb)\n",
    "print(f'F1-score: {f1_score}')\n",
    "precision = metrics.precision_score(y_test, y_pred_optimal_gnb)\n",
    "print(f'Precision: {precision}')\n",
    "recall = metrics.recall_score(y_test, y_pred_optimal_gnb)\n",
    "print(f'Recall: {recall}')"
   ]
  },
  {
   "cell_type": "markdown",
   "id": "0b0e4e4e",
   "metadata": {},
   "source": [
    "#### BernoulliNB"
   ]
  },
  {
   "cell_type": "code",
   "execution_count": null,
   "id": "849c0996",
   "metadata": {},
   "outputs": [],
   "source": [
    "print(\"Grid Search (BNB):\", result_grid_bnb.best_score_) \n",
    "print(\"Randomised Search (BNB):\", result_random_bnb.best_score_) "
   ]
  },
  {
   "cell_type": "code",
   "execution_count": null,
   "id": "9bec449d",
   "metadata": {},
   "outputs": [],
   "source": [
    "# Model\n",
    "# \n",
    "bnb_classifier = BernoulliNB(alpha = 0)\n",
    "scaler = StandardScaler()\n",
    "bnb_model_pipeline = make_pipeline(scaler, bnb_classifier)\n",
    "bnb_model = bnb_model_pipeline.fit(x_bin_train, np.ravel(y_train))\n",
    "\n",
    "# Save the model to disk\n",
    "# filename = '04 SVM (Optimal).sav'\n",
    "# pickle.dump(svm_model, open(filename, 'wb'))\n",
    "\n",
    "# Load the model from disk\n",
    "# rf_regression = pickle.load(open(filename, 'rb'))"
   ]
  },
  {
   "cell_type": "code",
   "execution_count": null,
   "id": "94261101",
   "metadata": {},
   "outputs": [],
   "source": [
    "# y_prediction for the best model\n",
    "y_pred_optimal_bnb = bnb_model.predict(x_bin_test)"
   ]
  },
  {
   "cell_type": "code",
   "execution_count": null,
   "id": "70063597",
   "metadata": {},
   "outputs": [],
   "source": [
    "# Error Metrics\n",
    "lg_loss = metrics.log_loss(y_test, y_pred_optimal_bnb)\n",
    "print(f'Log Loss: {lg_loss}')\n",
    "roc_auc = metrics.roc_auc_score(y_test, y_pred_optimal_bnb)\n",
    "print(f'ROC AUC: {roc_auc}')\n",
    "f1_score = metrics.f1_score(y_test, y_pred_optimal_bnb)\n",
    "print(f'F1-score: {f1_score}')\n",
    "precision = metrics.precision_score(y_test, y_pred_optimal_bnb)\n",
    "print(f'Precision: {precision}')\n",
    "recall = metrics.recall_score(y_test, y_pred_optimal_bnb)\n",
    "print(f'Recall: {recall}')"
   ]
  },
  {
   "cell_type": "markdown",
   "id": "677deab9",
   "metadata": {},
   "source": [
    "### Feature Importance"
   ]
  },
  {
   "cell_type": "markdown",
   "id": "dea8b670",
   "metadata": {},
   "source": [
    "#### GaussianNB"
   ]
  },
  {
   "cell_type": "code",
   "execution_count": null,
   "id": "d48d88b1",
   "metadata": {},
   "outputs": [],
   "source": [
    "# Feature importance\n",
    "# x_test_imps = gnb_model.named_steps[\"experimentaltransformer\"].transform(x_num_test)\n",
    "imps = permutation_importance(gnb_model.named_steps[\"gaussiannb\"], x_num_test, y_test, random_state=123)\n",
    "feature = pd.DataFrame(imps.importances_mean, gnb_model.named_steps[\"experimentaltransformer\"].columns.T, columns=['Feature Importance']).sort_values(by='Feature Importance', ascending=False)\n",
    "feature"
   ]
  },
  {
   "cell_type": "code",
   "execution_count": null,
   "id": "c0df1486",
   "metadata": {},
   "outputs": [],
   "source": [
    "# Feature importance\n",
    "feature_chart(feature, \"GaussianNB\")"
   ]
  },
  {
   "cell_type": "markdown",
   "id": "38b1b653",
   "metadata": {},
   "source": [
    "#### BernoulliNB"
   ]
  },
  {
   "cell_type": "code",
   "execution_count": null,
   "id": "72617158",
   "metadata": {},
   "outputs": [],
   "source": [
    "# Feature importance\n",
    "# x_test_imps = bnb_model.named_steps[\"experimentaltransformer\"].transform(x_bin_test)\n",
    "imps = permutation_importance(bnb_model.named_steps[\"bernoullinb\"], x_bin_test, y_test, random_state=123)\n",
    "feature = pd.DataFrame(imps.importances_mean, x_bin_test.columns.T, columns=['Feature Importance']).sort_values(by='Feature Importance', ascending=False)\n",
    "feature"
   ]
  },
  {
   "cell_type": "code",
   "execution_count": null,
   "id": "269034ec",
   "metadata": {},
   "outputs": [],
   "source": [
    "# Feature importance\n",
    "feature_chart(feature, \"BernoulliNB\")"
   ]
  },
  {
   "cell_type": "markdown",
   "id": "7b49bb99",
   "metadata": {},
   "source": [
    "## 06 Ensemble Model\n",
    "* Model (Random Search + Grid Search)\n",
    "* Error Metrics\n",
    "* Plot for Feature Importance"
   ]
  },
  {
   "cell_type": "code",
   "execution_count": null,
   "id": "c1d044cf",
   "metadata": {},
   "outputs": [],
   "source": [
    "# Insert after getting optimal hyperparameters!!!!!\n",
    "rf_classifier = RandomForestClassifier(bootstrap = True, \n",
    "                                       max_depth = None, \n",
    "                                       max_features = 'log2', \n",
    "                                       min_samples_split = 10, \n",
    "                                       n_estimators = 1200)\n",
    "xgb_classifier = xgb.XGBClassifier()\n",
    "svm_classifier = SVC()\n",
    "log_regression = LogisticRegression()\n",
    "\n",
    "transformer = ExperimentalTransformer()\n",
    "rf_model_pipeline = make_pipeline(transformer, rf_classifier)\n",
    "xgb_model_pipeline = make_pipeline(transformer, xgb_classifier)\n",
    "svm_model_pipeline = make_pipeline(transformer, svm_classifier)"
   ]
  },
  {
   "cell_type": "code",
   "execution_count": null,
   "id": "9ba08fd6",
   "metadata": {},
   "outputs": [],
   "source": [
    "clf = [rf_model_pipeline, xgb_model_pipeline, svm_model_pipeline]\n",
    "\n",
    "for algo in clf:\n",
    "    score = cross_val_score(algo, x_test, y_test, cv = 7, scoring = 'f1')\n",
    "    print(\"The f1 score of {} is:\".format(algo),score.mean())\n",
    "\n",
    "clf = [('rfc', rf_model_pipeline), ('xgb', xgb_model_pipeline), ('svm', svm_model_pipeline)] #list of (str, estimator)\n",
    "\n",
    "stack_model_pipeline = StackingClassifier(estimators = clf, final_estimator = log_regression)\n",
    "score = cross_val_score(stack_model_pipeline, x_test, y_test, cv = 7, scoring = 'f1')\n",
    "print(score)\n",
    "print(\"The f1 score of is:\", score.mean())"
   ]
  },
  {
   "cell_type": "code",
   "execution_count": null,
   "id": "e767bb03",
   "metadata": {},
   "outputs": [],
   "source": [
    "%%time\n",
    "\n",
    "stack_model = stack_model_pipeline.fit(x_train, y_train)"
   ]
  },
  {
   "cell_type": "code",
   "execution_count": null,
   "id": "5ab87520",
   "metadata": {},
   "outputs": [],
   "source": [
    "stack_model"
   ]
  },
  {
   "cell_type": "code",
   "execution_count": null,
   "id": "7b2bb384",
   "metadata": {},
   "outputs": [],
   "source": [
    "y_pred_stack = stack_model.predict(x_test)"
   ]
  },
  {
   "cell_type": "code",
   "execution_count": null,
   "id": "05b5971c",
   "metadata": {},
   "outputs": [],
   "source": [
    "# Error Metrics\n",
    "lg_loss = metrics.log_loss(y_test, y_pred_stack)\n",
    "print(f'Log Loss: {lg_loss}')\n",
    "roc_auc = metrics.roc_auc_score(y_test, y_pred_stack)\n",
    "print(f'ROC AUC: {roc_auc}')\n",
    "f1_score = metrics.f1_score(y_test, y_pred_stack)\n",
    "print(f'F1-score: {f1_score}')\n",
    "precision = metrics.precision_score(y_test, y_pred_stack)\n",
    "print(f'Precision: {precision}')\n",
    "recall = metrics.recall_score(y_test, y_pred_stack)\n",
    "print(f'Recall: {recall}')"
   ]
  },
  {
   "cell_type": "markdown",
   "id": "774fd72d",
   "metadata": {},
   "source": [
    "### Feature Importance"
   ]
  },
  {
   "cell_type": "code",
   "execution_count": null,
   "id": "e82a8547",
   "metadata": {},
   "outputs": [],
   "source": [
    "x_test_imps = stack_model.transform(x_test)\n",
    "\n",
    "rf_class = stack_model.estimators_[0].named_steps[\"randomforestclassifier\"]\n",
    "xgb_class = stack_model.estimators_[1].named_steps[\"xgbclassifier\"]\n",
    "svm_class = stack_model.estimators_[2].named_steps[\"svc\"]\n",
    "\n",
    "rf_imps = permutation_importance(rf_class, x_test_imps, y_test, random_state=123)\n",
    "xgb_imps = permutation_importance(xgb_class, x_test_imps, y_test, random_state=123)\n",
    "svm_imps = permutation_importance(svm_class, x_test_imps, y_test, random_state=123)"
   ]
  },
  {
   "cell_type": "code",
   "execution_count": null,
   "id": "4c3b3fa6",
   "metadata": {},
   "outputs": [],
   "source": [
    "rf_xgb_imps = np.add(rf_imps.importances_mean, xgb_imps.importances_mean)\n",
    "rf_xgb_svm_imps = np.add(rf_xgb_imps, svm_imps.importances_mean)"
   ]
  },
  {
   "cell_type": "code",
   "execution_count": null,
   "id": "0efbc605",
   "metadata": {},
   "outputs": [],
   "source": [
    "# Feature importance\n",
    "feature = pd.DataFrame(rf_xgb_svm_imps, x_test_imps.columns.T, columns=['Feature Importance']).sort_values(by='Feature Importance', ascending=False)\n",
    "feature"
   ]
  }
 ],
 "metadata": {
  "kernelspec": {
   "display_name": "Python 3 (ipykernel)",
   "language": "python",
   "name": "python3"
  },
  "language_info": {
   "codemirror_mode": {
    "name": "ipython",
    "version": 3
   },
   "file_extension": ".py",
   "mimetype": "text/x-python",
   "name": "python",
   "nbconvert_exporter": "python",
   "pygments_lexer": "ipython3",
   "version": "3.9.12"
  }
 },
 "nbformat": 4,
 "nbformat_minor": 5
}
