{
 "cells": [
  {
   "cell_type": "code",
   "execution_count": 1,
   "metadata": {},
   "outputs": [
    {
     "data": {
      "text/html": [
       "<div>\n",
       "<style scoped>\n",
       "    .dataframe tbody tr th:only-of-type {\n",
       "        vertical-align: middle;\n",
       "    }\n",
       "\n",
       "    .dataframe tbody tr th {\n",
       "        vertical-align: top;\n",
       "    }\n",
       "\n",
       "    .dataframe thead th {\n",
       "        text-align: right;\n",
       "    }\n",
       "</style>\n",
       "<table border=\"1\" class=\"dataframe\">\n",
       "  <thead>\n",
       "    <tr style=\"text-align: right;\">\n",
       "      <th></th>\n",
       "      <th>index</th>\n",
       "      <th>text</th>\n",
       "      <th>account.type</th>\n",
       "      <th>class_type</th>\n",
       "    </tr>\n",
       "  </thead>\n",
       "  <tbody>\n",
       "    <tr>\n",
       "      <th>0</th>\n",
       "      <td>0</td>\n",
       "      <td>YEA now that note GOOD</td>\n",
       "      <td>bot</td>\n",
       "      <td>others</td>\n",
       "    </tr>\n",
       "    <tr>\n",
       "      <th>1</th>\n",
       "      <td>1</td>\n",
       "      <td>Listen to This Charming Man by The Smiths  htt...</td>\n",
       "      <td>human</td>\n",
       "      <td>human</td>\n",
       "    </tr>\n",
       "    <tr>\n",
       "      <th>2</th>\n",
       "      <td>2</td>\n",
       "      <td>wish i can i would be seeing other hoes on the...</td>\n",
       "      <td>bot</td>\n",
       "      <td>others</td>\n",
       "    </tr>\n",
       "    <tr>\n",
       "      <th>3</th>\n",
       "      <td>3</td>\n",
       "      <td>The decade in the significantly easier schedul...</td>\n",
       "      <td>bot</td>\n",
       "      <td>others</td>\n",
       "    </tr>\n",
       "    <tr>\n",
       "      <th>4</th>\n",
       "      <td>4</td>\n",
       "      <td>\"Theim class=\\\"alignnone size-full wp-image-60...</td>\n",
       "      <td>bot</td>\n",
       "      <td>rnn</td>\n",
       "    </tr>\n",
       "    <tr>\n",
       "      <th>...</th>\n",
       "      <td>...</td>\n",
       "      <td>...</td>\n",
       "      <td>...</td>\n",
       "      <td>...</td>\n",
       "    </tr>\n",
       "    <tr>\n",
       "      <th>23265</th>\n",
       "      <td>2553</td>\n",
       "      <td>“The best kept secret</td>\n",
       "      <td>bot</td>\n",
       "      <td>others</td>\n",
       "    </tr>\n",
       "    <tr>\n",
       "      <th>23266</th>\n",
       "      <td>2554</td>\n",
       "      <td>Love the Choose your own adventure style of th...</td>\n",
       "      <td>human</td>\n",
       "      <td>human</td>\n",
       "    </tr>\n",
       "    <tr>\n",
       "      <th>23267</th>\n",
       "      <td>2555</td>\n",
       "      <td>JOIN OUR TEAM: Sneezing</td>\n",
       "      <td>bot</td>\n",
       "      <td>gpt2</td>\n",
       "    </tr>\n",
       "    <tr>\n",
       "      <th>23268</th>\n",
       "      <td>2556</td>\n",
       "      <td>These deeply discounted 256GB SanDisk flash dr...</td>\n",
       "      <td>human</td>\n",
       "      <td>human</td>\n",
       "    </tr>\n",
       "    <tr>\n",
       "      <th>23269</th>\n",
       "      <td>2557</td>\n",
       "      <td>@deleonfc6 diamond pearl and platinum were hon...</td>\n",
       "      <td>human</td>\n",
       "      <td>human</td>\n",
       "    </tr>\n",
       "  </tbody>\n",
       "</table>\n",
       "<p>23270 rows × 4 columns</p>\n",
       "</div>"
      ],
      "text/plain": [
       "       index                                               text account.type  \\\n",
       "0          0                             YEA now that note GOOD          bot   \n",
       "1          1  Listen to This Charming Man by The Smiths  htt...        human   \n",
       "2          2  wish i can i would be seeing other hoes on the...          bot   \n",
       "3          3  The decade in the significantly easier schedul...          bot   \n",
       "4          4  \"Theim class=\\\"alignnone size-full wp-image-60...          bot   \n",
       "...      ...                                                ...          ...   \n",
       "23265   2553                              “The best kept secret          bot   \n",
       "23266   2554  Love the Choose your own adventure style of th...        human   \n",
       "23267   2555                            JOIN OUR TEAM: Sneezing          bot   \n",
       "23268   2556  These deeply discounted 256GB SanDisk flash dr...        human   \n",
       "23269   2557  @deleonfc6 diamond pearl and platinum were hon...        human   \n",
       "\n",
       "      class_type  \n",
       "0         others  \n",
       "1          human  \n",
       "2         others  \n",
       "3         others  \n",
       "4            rnn  \n",
       "...          ...  \n",
       "23265     others  \n",
       "23266      human  \n",
       "23267       gpt2  \n",
       "23268      human  \n",
       "23269      human  \n",
       "\n",
       "[23270 rows x 4 columns]"
      ]
     },
     "execution_count": 1,
     "metadata": {},
     "output_type": "execute_result"
    }
   ],
   "source": [
    "import pandas as pd\n",
    "import seaborn as sns\n",
    "data = pd.read_csv('train_twt.csv')\n",
    "data2 = pd.read_csv('test_twt.csv')\n",
    "data2 = data2.drop(['Unnamed: 0', 'screen_name'], axis = 1)\n",
    "data = data.drop(['Unnamed: 0', 'screen_name'], axis = 1)\n",
    "tweets = pd.concat([data, data2]).reset_index()\n",
    "tweets"
   ]
  },
  {
   "cell_type": "code",
   "execution_count": 2,
   "metadata": {},
   "outputs": [
    {
     "name": "stderr",
     "output_type": "stream",
     "text": [
      "/var/folders/cw/msb46c3s00b97g2_cw34t0100000gn/T/ipykernel_1594/1484472733.py:12: SettingWithCopyWarning: \n",
      "A value is trying to be set on a copy of a slice from a DataFrame\n",
      "\n",
      "See the caveats in the documentation: https://pandas.pydata.org/pandas-docs/stable/user_guide/indexing.html#returning-a-view-versus-a-copy\n",
      "  tweets[\"hashtags\"][word] = hashtag_list\n",
      "/var/folders/cw/msb46c3s00b97g2_cw34t0100000gn/T/ipykernel_1594/1484472733.py:13: SettingWithCopyWarning: \n",
      "A value is trying to be set on a copy of a slice from a DataFrame\n",
      "\n",
      "See the caveats in the documentation: https://pandas.pydata.org/pandas-docs/stable/user_guide/indexing.html#returning-a-view-versus-a-copy\n",
      "  tweets[\"mentions\"][word] = mentions_list\n"
     ]
    }
   ],
   "source": [
    "import re\n",
    "tweets['hashtags'] =''\n",
    "tweets['mentions'] =''\n",
    "for word in range(len(tweets)):\n",
    "    tweet = tweets[\"text\"][word]\n",
    "    tweet.replace('\\n', \" \")\n",
    "    word_list = tweet.split(' ')\n",
    "    regex = \"#(\\w+)\"\n",
    "    regex2 = \"@(\\w+)\"\n",
    "    hashtag_list = re.findall(regex, tweet)\n",
    "    mentions_list = re.findall(regex2, tweet)\n",
    "    tweets[\"hashtags\"][word] = hashtag_list\n",
    "    tweets[\"mentions\"][word] = mentions_list"
   ]
  },
  {
   "cell_type": "code",
   "execution_count": 3,
   "metadata": {},
   "outputs": [
    {
     "data": {
      "text/html": [
       "<div>\n",
       "<style scoped>\n",
       "    .dataframe tbody tr th:only-of-type {\n",
       "        vertical-align: middle;\n",
       "    }\n",
       "\n",
       "    .dataframe tbody tr th {\n",
       "        vertical-align: top;\n",
       "    }\n",
       "\n",
       "    .dataframe thead th {\n",
       "        text-align: right;\n",
       "    }\n",
       "</style>\n",
       "<table border=\"1\" class=\"dataframe\">\n",
       "  <thead>\n",
       "    <tr style=\"text-align: right;\">\n",
       "      <th></th>\n",
       "      <th>index</th>\n",
       "      <th>text</th>\n",
       "      <th>account.type</th>\n",
       "      <th>class_type</th>\n",
       "      <th>hashtags</th>\n",
       "      <th>mentions</th>\n",
       "    </tr>\n",
       "  </thead>\n",
       "  <tbody>\n",
       "    <tr>\n",
       "      <th>0</th>\n",
       "      <td>0</td>\n",
       "      <td>YEA now that note GOOD</td>\n",
       "      <td>bot</td>\n",
       "      <td>others</td>\n",
       "      <td>[]</td>\n",
       "      <td>[]</td>\n",
       "    </tr>\n",
       "    <tr>\n",
       "      <th>1</th>\n",
       "      <td>1</td>\n",
       "      <td>Listen to This Charming Man by The Smiths  htt...</td>\n",
       "      <td>human</td>\n",
       "      <td>human</td>\n",
       "      <td>[]</td>\n",
       "      <td>[]</td>\n",
       "    </tr>\n",
       "    <tr>\n",
       "      <th>2</th>\n",
       "      <td>2</td>\n",
       "      <td>wish i can i would be seeing other hoes on the...</td>\n",
       "      <td>bot</td>\n",
       "      <td>others</td>\n",
       "      <td>[]</td>\n",
       "      <td>[]</td>\n",
       "    </tr>\n",
       "    <tr>\n",
       "      <th>3</th>\n",
       "      <td>3</td>\n",
       "      <td>The decade in the significantly easier schedul...</td>\n",
       "      <td>bot</td>\n",
       "      <td>others</td>\n",
       "      <td>[]</td>\n",
       "      <td>[]</td>\n",
       "    </tr>\n",
       "    <tr>\n",
       "      <th>4</th>\n",
       "      <td>4</td>\n",
       "      <td>\"Theim class=\\\"alignnone size-full wp-image-60...</td>\n",
       "      <td>bot</td>\n",
       "      <td>rnn</td>\n",
       "      <td>[]</td>\n",
       "      <td>[]</td>\n",
       "    </tr>\n",
       "    <tr>\n",
       "      <th>...</th>\n",
       "      <td>...</td>\n",
       "      <td>...</td>\n",
       "      <td>...</td>\n",
       "      <td>...</td>\n",
       "      <td>...</td>\n",
       "      <td>...</td>\n",
       "    </tr>\n",
       "    <tr>\n",
       "      <th>23265</th>\n",
       "      <td>2553</td>\n",
       "      <td>“The best kept secret</td>\n",
       "      <td>bot</td>\n",
       "      <td>others</td>\n",
       "      <td>[]</td>\n",
       "      <td>[]</td>\n",
       "    </tr>\n",
       "    <tr>\n",
       "      <th>23266</th>\n",
       "      <td>2554</td>\n",
       "      <td>Love the Choose your own adventure style of th...</td>\n",
       "      <td>human</td>\n",
       "      <td>human</td>\n",
       "      <td>[]</td>\n",
       "      <td>[]</td>\n",
       "    </tr>\n",
       "    <tr>\n",
       "      <th>23267</th>\n",
       "      <td>2555</td>\n",
       "      <td>JOIN OUR TEAM: Sneezing</td>\n",
       "      <td>bot</td>\n",
       "      <td>gpt2</td>\n",
       "      <td>[]</td>\n",
       "      <td>[]</td>\n",
       "    </tr>\n",
       "    <tr>\n",
       "      <th>23268</th>\n",
       "      <td>2556</td>\n",
       "      <td>These deeply discounted 256GB SanDisk flash dr...</td>\n",
       "      <td>human</td>\n",
       "      <td>human</td>\n",
       "      <td>[]</td>\n",
       "      <td>[pcworld]</td>\n",
       "    </tr>\n",
       "    <tr>\n",
       "      <th>23269</th>\n",
       "      <td>2557</td>\n",
       "      <td>@deleonfc6 diamond pearl and platinum were hon...</td>\n",
       "      <td>human</td>\n",
       "      <td>human</td>\n",
       "      <td>[]</td>\n",
       "      <td>[deleonfc6]</td>\n",
       "    </tr>\n",
       "  </tbody>\n",
       "</table>\n",
       "<p>23270 rows × 6 columns</p>\n",
       "</div>"
      ],
      "text/plain": [
       "       index                                               text account.type  \\\n",
       "0          0                             YEA now that note GOOD          bot   \n",
       "1          1  Listen to This Charming Man by The Smiths  htt...        human   \n",
       "2          2  wish i can i would be seeing other hoes on the...          bot   \n",
       "3          3  The decade in the significantly easier schedul...          bot   \n",
       "4          4  \"Theim class=\\\"alignnone size-full wp-image-60...          bot   \n",
       "...      ...                                                ...          ...   \n",
       "23265   2553                              “The best kept secret          bot   \n",
       "23266   2554  Love the Choose your own adventure style of th...        human   \n",
       "23267   2555                            JOIN OUR TEAM: Sneezing          bot   \n",
       "23268   2556  These deeply discounted 256GB SanDisk flash dr...        human   \n",
       "23269   2557  @deleonfc6 diamond pearl and platinum were hon...        human   \n",
       "\n",
       "      class_type hashtags     mentions  \n",
       "0         others       []           []  \n",
       "1          human       []           []  \n",
       "2         others       []           []  \n",
       "3         others       []           []  \n",
       "4            rnn       []           []  \n",
       "...          ...      ...          ...  \n",
       "23265     others       []           []  \n",
       "23266      human       []           []  \n",
       "23267       gpt2       []           []  \n",
       "23268      human       []    [pcworld]  \n",
       "23269      human       []  [deleonfc6]  \n",
       "\n",
       "[23270 rows x 6 columns]"
      ]
     },
     "execution_count": 3,
     "metadata": {},
     "output_type": "execute_result"
    }
   ],
   "source": [
    "tweets"
   ]
  },
  {
   "cell_type": "code",
   "execution_count": 4,
   "metadata": {},
   "outputs": [
    {
     "name": "stderr",
     "output_type": "stream",
     "text": [
      "/var/folders/cw/msb46c3s00b97g2_cw34t0100000gn/T/ipykernel_1594/753932557.py:7: SettingWithCopyWarning: \n",
      "A value is trying to be set on a copy of a slice from a DataFrame\n",
      "\n",
      "See the caveats in the documentation: https://pandas.pydata.org/pandas-docs/stable/user_guide/indexing.html#returning-a-view-versus-a-copy\n",
      "  tweets['no_of_grammar_errors'][word] = len(tool.check(cap))\n"
     ]
    },
    {
     "data": {
      "text/html": [
       "<div>\n",
       "<style scoped>\n",
       "    .dataframe tbody tr th:only-of-type {\n",
       "        vertical-align: middle;\n",
       "    }\n",
       "\n",
       "    .dataframe tbody tr th {\n",
       "        vertical-align: top;\n",
       "    }\n",
       "\n",
       "    .dataframe thead th {\n",
       "        text-align: right;\n",
       "    }\n",
       "</style>\n",
       "<table border=\"1\" class=\"dataframe\">\n",
       "  <thead>\n",
       "    <tr style=\"text-align: right;\">\n",
       "      <th></th>\n",
       "      <th>index</th>\n",
       "      <th>text</th>\n",
       "      <th>account.type</th>\n",
       "      <th>class_type</th>\n",
       "      <th>hashtags</th>\n",
       "      <th>mentions</th>\n",
       "      <th>no_of_grammar_errors</th>\n",
       "    </tr>\n",
       "  </thead>\n",
       "  <tbody>\n",
       "    <tr>\n",
       "      <th>0</th>\n",
       "      <td>0</td>\n",
       "      <td>YEA now that note GOOD</td>\n",
       "      <td>bot</td>\n",
       "      <td>others</td>\n",
       "      <td>[]</td>\n",
       "      <td>[]</td>\n",
       "      <td>0</td>\n",
       "    </tr>\n",
       "    <tr>\n",
       "      <th>1</th>\n",
       "      <td>1</td>\n",
       "      <td>Listen to This Charming Man by The Smiths  htt...</td>\n",
       "      <td>human</td>\n",
       "      <td>human</td>\n",
       "      <td>[]</td>\n",
       "      <td>[]</td>\n",
       "      <td>1</td>\n",
       "    </tr>\n",
       "    <tr>\n",
       "      <th>2</th>\n",
       "      <td>2</td>\n",
       "      <td>wish i can i would be seeing other hoes on the...</td>\n",
       "      <td>bot</td>\n",
       "      <td>others</td>\n",
       "      <td>[]</td>\n",
       "      <td>[]</td>\n",
       "      <td>4</td>\n",
       "    </tr>\n",
       "    <tr>\n",
       "      <th>3</th>\n",
       "      <td>3</td>\n",
       "      <td>The decade in the significantly easier schedul...</td>\n",
       "      <td>bot</td>\n",
       "      <td>others</td>\n",
       "      <td>[]</td>\n",
       "      <td>[]</td>\n",
       "      <td>0</td>\n",
       "    </tr>\n",
       "    <tr>\n",
       "      <th>4</th>\n",
       "      <td>4</td>\n",
       "      <td>\"Theim class=\\\"alignnone size-full wp-image-60...</td>\n",
       "      <td>bot</td>\n",
       "      <td>rnn</td>\n",
       "      <td>[]</td>\n",
       "      <td>[]</td>\n",
       "      <td>9</td>\n",
       "    </tr>\n",
       "    <tr>\n",
       "      <th>...</th>\n",
       "      <td>...</td>\n",
       "      <td>...</td>\n",
       "      <td>...</td>\n",
       "      <td>...</td>\n",
       "      <td>...</td>\n",
       "      <td>...</td>\n",
       "      <td>...</td>\n",
       "    </tr>\n",
       "    <tr>\n",
       "      <th>23265</th>\n",
       "      <td>2553</td>\n",
       "      <td>“The best kept secret</td>\n",
       "      <td>bot</td>\n",
       "      <td>others</td>\n",
       "      <td>[]</td>\n",
       "      <td>[]</td>\n",
       "      <td>0</td>\n",
       "    </tr>\n",
       "    <tr>\n",
       "      <th>23266</th>\n",
       "      <td>2554</td>\n",
       "      <td>Love the Choose your own adventure style of th...</td>\n",
       "      <td>human</td>\n",
       "      <td>human</td>\n",
       "      <td>[]</td>\n",
       "      <td>[]</td>\n",
       "      <td>1</td>\n",
       "    </tr>\n",
       "    <tr>\n",
       "      <th>23267</th>\n",
       "      <td>2555</td>\n",
       "      <td>JOIN OUR TEAM: Sneezing</td>\n",
       "      <td>bot</td>\n",
       "      <td>gpt2</td>\n",
       "      <td>[]</td>\n",
       "      <td>[]</td>\n",
       "      <td>0</td>\n",
       "    </tr>\n",
       "    <tr>\n",
       "      <th>23268</th>\n",
       "      <td>2556</td>\n",
       "      <td>These deeply discounted 256GB SanDisk flash dr...</td>\n",
       "      <td>human</td>\n",
       "      <td>human</td>\n",
       "      <td>[]</td>\n",
       "      <td>[pcworld]</td>\n",
       "      <td>2</td>\n",
       "    </tr>\n",
       "    <tr>\n",
       "      <th>23269</th>\n",
       "      <td>2557</td>\n",
       "      <td>@deleonfc6 diamond pearl and platinum were hon...</td>\n",
       "      <td>human</td>\n",
       "      <td>human</td>\n",
       "      <td>[]</td>\n",
       "      <td>[deleonfc6]</td>\n",
       "      <td>0</td>\n",
       "    </tr>\n",
       "  </tbody>\n",
       "</table>\n",
       "<p>23270 rows × 7 columns</p>\n",
       "</div>"
      ],
      "text/plain": [
       "       index                                               text account.type  \\\n",
       "0          0                             YEA now that note GOOD          bot   \n",
       "1          1  Listen to This Charming Man by The Smiths  htt...        human   \n",
       "2          2  wish i can i would be seeing other hoes on the...          bot   \n",
       "3          3  The decade in the significantly easier schedul...          bot   \n",
       "4          4  \"Theim class=\\\"alignnone size-full wp-image-60...          bot   \n",
       "...      ...                                                ...          ...   \n",
       "23265   2553                              “The best kept secret          bot   \n",
       "23266   2554  Love the Choose your own adventure style of th...        human   \n",
       "23267   2555                            JOIN OUR TEAM: Sneezing          bot   \n",
       "23268   2556  These deeply discounted 256GB SanDisk flash dr...        human   \n",
       "23269   2557  @deleonfc6 diamond pearl and platinum were hon...        human   \n",
       "\n",
       "      class_type hashtags     mentions no_of_grammar_errors  \n",
       "0         others       []           []                    0  \n",
       "1          human       []           []                    1  \n",
       "2         others       []           []                    4  \n",
       "3         others       []           []                    0  \n",
       "4            rnn       []           []                    9  \n",
       "...          ...      ...          ...                  ...  \n",
       "23265     others       []           []                    0  \n",
       "23266      human       []           []                    1  \n",
       "23267       gpt2       []           []                    0  \n",
       "23268      human       []    [pcworld]                    2  \n",
       "23269      human       []  [deleonfc6]                    0  \n",
       "\n",
       "[23270 rows x 7 columns]"
      ]
     },
     "execution_count": 4,
     "metadata": {},
     "output_type": "execute_result"
    }
   ],
   "source": [
    "import language_tool_python\n",
    "tool = language_tool_python.LanguageTool('en-US')\n",
    "tweets['no_of_grammar_errors'] = ''\n",
    "for word in range(len(tweets)):\n",
    "    cap = tweets[\"text\"][word]\n",
    "    word_list = cap.split(' ')\n",
    "    tweets['no_of_grammar_errors'][word] = len(tool.check(cap))\n",
    "tweets"
   ]
  },
  {
   "cell_type": "code",
   "execution_count": 5,
   "metadata": {},
   "outputs": [
    {
     "data": {
      "text/html": [
       "<div>\n",
       "<style scoped>\n",
       "    .dataframe tbody tr th:only-of-type {\n",
       "        vertical-align: middle;\n",
       "    }\n",
       "\n",
       "    .dataframe tbody tr th {\n",
       "        vertical-align: top;\n",
       "    }\n",
       "\n",
       "    .dataframe thead th {\n",
       "        text-align: right;\n",
       "    }\n",
       "</style>\n",
       "<table border=\"1\" class=\"dataframe\">\n",
       "  <thead>\n",
       "    <tr style=\"text-align: right;\">\n",
       "      <th></th>\n",
       "      <th>index</th>\n",
       "      <th>text</th>\n",
       "      <th>account.type</th>\n",
       "      <th>class_type</th>\n",
       "      <th>hashtags</th>\n",
       "      <th>mentions</th>\n",
       "      <th>no_of_grammar_errors</th>\n",
       "    </tr>\n",
       "  </thead>\n",
       "  <tbody>\n",
       "    <tr>\n",
       "      <th>0</th>\n",
       "      <td>0</td>\n",
       "      <td>YEA now that note GOOD</td>\n",
       "      <td>bot</td>\n",
       "      <td>others</td>\n",
       "      <td>[]</td>\n",
       "      <td>[]</td>\n",
       "      <td>0</td>\n",
       "    </tr>\n",
       "    <tr>\n",
       "      <th>1</th>\n",
       "      <td>1</td>\n",
       "      <td>Listen to This Charming Man by The Smiths  htt...</td>\n",
       "      <td>human</td>\n",
       "      <td>human</td>\n",
       "      <td>[]</td>\n",
       "      <td>[]</td>\n",
       "      <td>1</td>\n",
       "    </tr>\n",
       "    <tr>\n",
       "      <th>2</th>\n",
       "      <td>2</td>\n",
       "      <td>wish i can i would be seeing other hoes on the...</td>\n",
       "      <td>bot</td>\n",
       "      <td>others</td>\n",
       "      <td>[]</td>\n",
       "      <td>[]</td>\n",
       "      <td>4</td>\n",
       "    </tr>\n",
       "    <tr>\n",
       "      <th>3</th>\n",
       "      <td>3</td>\n",
       "      <td>The decade in the significantly easier schedul...</td>\n",
       "      <td>bot</td>\n",
       "      <td>others</td>\n",
       "      <td>[]</td>\n",
       "      <td>[]</td>\n",
       "      <td>0</td>\n",
       "    </tr>\n",
       "    <tr>\n",
       "      <th>4</th>\n",
       "      <td>4</td>\n",
       "      <td>\"Theim class=\\\"alignnone size-full wp-image-60...</td>\n",
       "      <td>bot</td>\n",
       "      <td>rnn</td>\n",
       "      <td>[]</td>\n",
       "      <td>[]</td>\n",
       "      <td>9</td>\n",
       "    </tr>\n",
       "    <tr>\n",
       "      <th>...</th>\n",
       "      <td>...</td>\n",
       "      <td>...</td>\n",
       "      <td>...</td>\n",
       "      <td>...</td>\n",
       "      <td>...</td>\n",
       "      <td>...</td>\n",
       "      <td>...</td>\n",
       "    </tr>\n",
       "    <tr>\n",
       "      <th>23265</th>\n",
       "      <td>2553</td>\n",
       "      <td>“The best kept secret</td>\n",
       "      <td>bot</td>\n",
       "      <td>others</td>\n",
       "      <td>[]</td>\n",
       "      <td>[]</td>\n",
       "      <td>0</td>\n",
       "    </tr>\n",
       "    <tr>\n",
       "      <th>23266</th>\n",
       "      <td>2554</td>\n",
       "      <td>Love the Choose your own adventure style of th...</td>\n",
       "      <td>human</td>\n",
       "      <td>human</td>\n",
       "      <td>[]</td>\n",
       "      <td>[]</td>\n",
       "      <td>1</td>\n",
       "    </tr>\n",
       "    <tr>\n",
       "      <th>23267</th>\n",
       "      <td>2555</td>\n",
       "      <td>JOIN OUR TEAM: Sneezing</td>\n",
       "      <td>bot</td>\n",
       "      <td>gpt2</td>\n",
       "      <td>[]</td>\n",
       "      <td>[]</td>\n",
       "      <td>0</td>\n",
       "    </tr>\n",
       "    <tr>\n",
       "      <th>23268</th>\n",
       "      <td>2556</td>\n",
       "      <td>These deeply discounted 256GB SanDisk flash dr...</td>\n",
       "      <td>human</td>\n",
       "      <td>human</td>\n",
       "      <td>[]</td>\n",
       "      <td>[pcworld]</td>\n",
       "      <td>2</td>\n",
       "    </tr>\n",
       "    <tr>\n",
       "      <th>23269</th>\n",
       "      <td>2557</td>\n",
       "      <td>@deleonfc6 diamond pearl and platinum were hon...</td>\n",
       "      <td>human</td>\n",
       "      <td>human</td>\n",
       "      <td>[]</td>\n",
       "      <td>[deleonfc6]</td>\n",
       "      <td>0</td>\n",
       "    </tr>\n",
       "  </tbody>\n",
       "</table>\n",
       "<p>23270 rows × 7 columns</p>\n",
       "</div>"
      ],
      "text/plain": [
       "       index                                               text account.type  \\\n",
       "0          0                             YEA now that note GOOD          bot   \n",
       "1          1  Listen to This Charming Man by The Smiths  htt...        human   \n",
       "2          2  wish i can i would be seeing other hoes on the...          bot   \n",
       "3          3  The decade in the significantly easier schedul...          bot   \n",
       "4          4  \"Theim class=\\\"alignnone size-full wp-image-60...          bot   \n",
       "...      ...                                                ...          ...   \n",
       "23265   2553                              “The best kept secret          bot   \n",
       "23266   2554  Love the Choose your own adventure style of th...        human   \n",
       "23267   2555                            JOIN OUR TEAM: Sneezing          bot   \n",
       "23268   2556  These deeply discounted 256GB SanDisk flash dr...        human   \n",
       "23269   2557  @deleonfc6 diamond pearl and platinum were hon...        human   \n",
       "\n",
       "      class_type hashtags     mentions no_of_grammar_errors  \n",
       "0         others       []           []                    0  \n",
       "1          human       []           []                    1  \n",
       "2         others       []           []                    4  \n",
       "3         others       []           []                    0  \n",
       "4            rnn       []           []                    9  \n",
       "...          ...      ...          ...                  ...  \n",
       "23265     others       []           []                    0  \n",
       "23266      human       []           []                    1  \n",
       "23267       gpt2       []           []                    0  \n",
       "23268      human       []    [pcworld]                    2  \n",
       "23269      human       []  [deleonfc6]                    0  \n",
       "\n",
       "[23270 rows x 7 columns]"
      ]
     },
     "execution_count": 5,
     "metadata": {},
     "output_type": "execute_result"
    }
   ],
   "source": [
    "tweets"
   ]
  },
  {
   "cell_type": "code",
   "execution_count": 25,
   "metadata": {},
   "outputs": [
    {
     "name": "stderr",
     "output_type": "stream",
     "text": [
      "/var/folders/cw/msb46c3s00b97g2_cw34t0100000gn/T/ipykernel_1594/1574804653.py:8: SettingWithCopyWarning: \n",
      "A value is trying to be set on a copy of a slice from a DataFrame\n",
      "\n",
      "See the caveats in the documentation: https://pandas.pydata.org/pandas-docs/stable/user_guide/indexing.html#returning-a-view-versus-a-copy\n",
      "  tweets[\"num_emojis\"][word] = len(emoji_list)\n",
      "/var/folders/cw/msb46c3s00b97g2_cw34t0100000gn/T/ipykernel_1594/1574804653.py:9: SettingWithCopyWarning: \n",
      "A value is trying to be set on a copy of a slice from a DataFrame\n",
      "\n",
      "See the caveats in the documentation: https://pandas.pydata.org/pandas-docs/stable/user_guide/indexing.html#returning-a-view-versus-a-copy\n",
      "  tweets[\"emojis\"][word] = emoji_list\n"
     ]
    }
   ],
   "source": [
    "tweets['num_emojis'] = ''\n",
    "tweets['emojis'] = ''\n",
    "for word in range(len(tweets)):\n",
    "    tweet = tweets[\"text\"][word]\n",
    "    tweet.replace('\\n', \" \")\n",
    "    regex = \"<U+.*?>\"\n",
    "    emoji_list = re.findall(regex, tweet)\n",
    "    tweets[\"num_emojis\"][word] = len(emoji_list)\n",
    "    tweets[\"emojis\"][word] = emoji_list"
   ]
  },
  {
   "cell_type": "code",
   "execution_count": 32,
   "metadata": {},
   "outputs": [
    {
     "data": {
      "text/html": [
       "<div>\n",
       "<style scoped>\n",
       "    .dataframe tbody tr th:only-of-type {\n",
       "        vertical-align: middle;\n",
       "    }\n",
       "\n",
       "    .dataframe tbody tr th {\n",
       "        vertical-align: top;\n",
       "    }\n",
       "\n",
       "    .dataframe thead th {\n",
       "        text-align: right;\n",
       "    }\n",
       "</style>\n",
       "<table border=\"1\" class=\"dataframe\">\n",
       "  <thead>\n",
       "    <tr style=\"text-align: right;\">\n",
       "      <th></th>\n",
       "      <th>index</th>\n",
       "      <th>text</th>\n",
       "      <th>account.type</th>\n",
       "      <th>class_type</th>\n",
       "      <th>hashtags</th>\n",
       "      <th>mentions</th>\n",
       "      <th>no_of_grammar_errors</th>\n",
       "      <th>num_emojis</th>\n",
       "      <th>emojis</th>\n",
       "      <th>mentions_count</th>\n",
       "      <th>hashtags_count</th>\n",
       "    </tr>\n",
       "  </thead>\n",
       "  <tbody>\n",
       "    <tr>\n",
       "      <th>0</th>\n",
       "      <td>0</td>\n",
       "      <td>YEA now that note GOOD</td>\n",
       "      <td>bot</td>\n",
       "      <td>others</td>\n",
       "      <td>[]</td>\n",
       "      <td>[]</td>\n",
       "      <td>0</td>\n",
       "      <td>0</td>\n",
       "      <td>[]</td>\n",
       "      <td>0</td>\n",
       "      <td>0</td>\n",
       "    </tr>\n",
       "    <tr>\n",
       "      <th>1</th>\n",
       "      <td>1</td>\n",
       "      <td>Listen to This Charming Man by The Smiths  htt...</td>\n",
       "      <td>human</td>\n",
       "      <td>human</td>\n",
       "      <td>[]</td>\n",
       "      <td>[]</td>\n",
       "      <td>1</td>\n",
       "      <td>0</td>\n",
       "      <td>[]</td>\n",
       "      <td>0</td>\n",
       "      <td>0</td>\n",
       "    </tr>\n",
       "    <tr>\n",
       "      <th>2</th>\n",
       "      <td>2</td>\n",
       "      <td>wish i can i would be seeing other hoes on the...</td>\n",
       "      <td>bot</td>\n",
       "      <td>others</td>\n",
       "      <td>[]</td>\n",
       "      <td>[]</td>\n",
       "      <td>4</td>\n",
       "      <td>0</td>\n",
       "      <td>[]</td>\n",
       "      <td>0</td>\n",
       "      <td>0</td>\n",
       "    </tr>\n",
       "    <tr>\n",
       "      <th>3</th>\n",
       "      <td>3</td>\n",
       "      <td>The decade in the significantly easier schedul...</td>\n",
       "      <td>bot</td>\n",
       "      <td>others</td>\n",
       "      <td>[]</td>\n",
       "      <td>[]</td>\n",
       "      <td>0</td>\n",
       "      <td>0</td>\n",
       "      <td>[]</td>\n",
       "      <td>0</td>\n",
       "      <td>0</td>\n",
       "    </tr>\n",
       "    <tr>\n",
       "      <th>4</th>\n",
       "      <td>4</td>\n",
       "      <td>\"Theim class=\\\"alignnone size-full wp-image-60...</td>\n",
       "      <td>bot</td>\n",
       "      <td>rnn</td>\n",
       "      <td>[]</td>\n",
       "      <td>[]</td>\n",
       "      <td>9</td>\n",
       "      <td>0</td>\n",
       "      <td>[]</td>\n",
       "      <td>0</td>\n",
       "      <td>0</td>\n",
       "    </tr>\n",
       "    <tr>\n",
       "      <th>...</th>\n",
       "      <td>...</td>\n",
       "      <td>...</td>\n",
       "      <td>...</td>\n",
       "      <td>...</td>\n",
       "      <td>...</td>\n",
       "      <td>...</td>\n",
       "      <td>...</td>\n",
       "      <td>...</td>\n",
       "      <td>...</td>\n",
       "      <td>...</td>\n",
       "      <td>...</td>\n",
       "    </tr>\n",
       "    <tr>\n",
       "      <th>23265</th>\n",
       "      <td>2553</td>\n",
       "      <td>“The best kept secret</td>\n",
       "      <td>bot</td>\n",
       "      <td>others</td>\n",
       "      <td>[]</td>\n",
       "      <td>[]</td>\n",
       "      <td>0</td>\n",
       "      <td>0</td>\n",
       "      <td>[]</td>\n",
       "      <td>0</td>\n",
       "      <td>0</td>\n",
       "    </tr>\n",
       "    <tr>\n",
       "      <th>23266</th>\n",
       "      <td>2554</td>\n",
       "      <td>Love the Choose your own adventure style of th...</td>\n",
       "      <td>human</td>\n",
       "      <td>human</td>\n",
       "      <td>[]</td>\n",
       "      <td>[]</td>\n",
       "      <td>1</td>\n",
       "      <td>1</td>\n",
       "      <td>[&lt;U+0001F44D&gt;]</td>\n",
       "      <td>0</td>\n",
       "      <td>0</td>\n",
       "    </tr>\n",
       "    <tr>\n",
       "      <th>23267</th>\n",
       "      <td>2555</td>\n",
       "      <td>JOIN OUR TEAM: Sneezing</td>\n",
       "      <td>bot</td>\n",
       "      <td>gpt2</td>\n",
       "      <td>[]</td>\n",
       "      <td>[]</td>\n",
       "      <td>0</td>\n",
       "      <td>0</td>\n",
       "      <td>[]</td>\n",
       "      <td>0</td>\n",
       "      <td>0</td>\n",
       "    </tr>\n",
       "    <tr>\n",
       "      <th>23268</th>\n",
       "      <td>2556</td>\n",
       "      <td>These deeply discounted 256GB SanDisk flash dr...</td>\n",
       "      <td>human</td>\n",
       "      <td>human</td>\n",
       "      <td>[]</td>\n",
       "      <td>[pcworld]</td>\n",
       "      <td>2</td>\n",
       "      <td>0</td>\n",
       "      <td>[]</td>\n",
       "      <td>1</td>\n",
       "      <td>0</td>\n",
       "    </tr>\n",
       "    <tr>\n",
       "      <th>23269</th>\n",
       "      <td>2557</td>\n",
       "      <td>@deleonfc6 diamond pearl and platinum were hon...</td>\n",
       "      <td>human</td>\n",
       "      <td>human</td>\n",
       "      <td>[]</td>\n",
       "      <td>[deleonfc6]</td>\n",
       "      <td>0</td>\n",
       "      <td>0</td>\n",
       "      <td>[]</td>\n",
       "      <td>1</td>\n",
       "      <td>0</td>\n",
       "    </tr>\n",
       "  </tbody>\n",
       "</table>\n",
       "<p>23270 rows × 11 columns</p>\n",
       "</div>"
      ],
      "text/plain": [
       "       index                                               text account.type  \\\n",
       "0          0                             YEA now that note GOOD          bot   \n",
       "1          1  Listen to This Charming Man by The Smiths  htt...        human   \n",
       "2          2  wish i can i would be seeing other hoes on the...          bot   \n",
       "3          3  The decade in the significantly easier schedul...          bot   \n",
       "4          4  \"Theim class=\\\"alignnone size-full wp-image-60...          bot   \n",
       "...      ...                                                ...          ...   \n",
       "23265   2553                              “The best kept secret          bot   \n",
       "23266   2554  Love the Choose your own adventure style of th...        human   \n",
       "23267   2555                            JOIN OUR TEAM: Sneezing          bot   \n",
       "23268   2556  These deeply discounted 256GB SanDisk flash dr...        human   \n",
       "23269   2557  @deleonfc6 diamond pearl and platinum were hon...        human   \n",
       "\n",
       "      class_type hashtags     mentions no_of_grammar_errors num_emojis  \\\n",
       "0         others       []           []                    0          0   \n",
       "1          human       []           []                    1          0   \n",
       "2         others       []           []                    4          0   \n",
       "3         others       []           []                    0          0   \n",
       "4            rnn       []           []                    9          0   \n",
       "...          ...      ...          ...                  ...        ...   \n",
       "23265     others       []           []                    0          0   \n",
       "23266      human       []           []                    1          1   \n",
       "23267       gpt2       []           []                    0          0   \n",
       "23268      human       []    [pcworld]                    2          0   \n",
       "23269      human       []  [deleonfc6]                    0          0   \n",
       "\n",
       "               emojis  mentions_count  hashtags_count  \n",
       "0                  []               0               0  \n",
       "1                  []               0               0  \n",
       "2                  []               0               0  \n",
       "3                  []               0               0  \n",
       "4                  []               0               0  \n",
       "...               ...             ...             ...  \n",
       "23265              []               0               0  \n",
       "23266  [<U+0001F44D>]               0               0  \n",
       "23267              []               0               0  \n",
       "23268              []               1               0  \n",
       "23269              []               1               0  \n",
       "\n",
       "[23270 rows x 11 columns]"
      ]
     },
     "execution_count": 32,
     "metadata": {},
     "output_type": "execute_result"
    }
   ],
   "source": [
    "import ast\n",
    "tweets['mentions_count'] = tweets['mentions'].apply(lambda x: len(x))\n",
    "tweets['hashtags_count'] = tweets['hashtags'].apply(lambda x: len(x))\n",
    "human_tweets = tweets[tweets['account.type']== 'human']\n",
    "bot_tweets = tweets[tweets['account.type']== 'bot']\n",
    "tweets"
   ]
  },
  {
   "cell_type": "markdown",
   "metadata": {},
   "source": [
    "Grammar Errors"
   ]
  },
  {
   "cell_type": "code",
   "execution_count": 34,
   "metadata": {},
   "outputs": [
    {
     "data": {
      "text/plain": [
       "<AxesSubplot:xlabel='account.type', ylabel='no_of_grammar_errors'>"
      ]
     },
     "execution_count": 34,
     "metadata": {},
     "output_type": "execute_result"
    },
    {
     "data": {
      "image/png": "[encoded data removed]",
      "text/plain": [
       "<Figure size 432x288 with 1 Axes>"
      ]
     },
     "metadata": {
      "needs_background": "light"
     },
     "output_type": "display_data"
    }
   ],
   "source": [
    "sns.barplot(data=tweets, x=\"account.type\", y=\"no_of_grammar_errors\")"
   ]
  },
  {
   "cell_type": "code",
   "execution_count": 35,
   "metadata": {},
   "outputs": [
    {
     "data": {
      "text/plain": [
       "<AxesSubplot:xlabel='account.type', ylabel='no_of_grammar_errors'>"
      ]
     },
     "execution_count": 35,
     "metadata": {},
     "output_type": "execute_result"
    },
    {
     "data": {
      "image/png": "[encoded data removed]",
      "text/plain": [
       "<Figure size 432x288 with 1 Axes>"
      ]
     },
     "metadata": {
      "needs_background": "light"
     },
     "output_type": "display_data"
    }
   ],
   "source": [
    "sns.stripplot(data=tweets, x=\"account.type\", y=\"no_of_grammar_errors\")"
   ]
  },
  {
   "cell_type": "markdown",
   "metadata": {},
   "source": [
    "Mentions"
   ]
  },
  {
   "cell_type": "code",
   "execution_count": 36,
   "metadata": {},
   "outputs": [
    {
     "data": {
      "text/plain": [
       "<AxesSubplot:xlabel='account.type', ylabel='mentions_count'>"
      ]
     },
     "execution_count": 36,
     "metadata": {},
     "output_type": "execute_result"
    },
    {
     "data": {
      "image/png": "[encoded data removed]",
      "text/plain": [
       "<Figure size 432x288 with 1 Axes>"
      ]
     },
     "metadata": {
      "needs_background": "light"
     },
     "output_type": "display_data"
    }
   ],
   "source": [
    "sns.barplot(data=tweets, x=\"account.type\", y=\"mentions_count\")"
   ]
  },
  {
   "cell_type": "code",
   "execution_count": 37,
   "metadata": {},
   "outputs": [
    {
     "data": {
      "text/plain": [
       "<AxesSubplot:xlabel='account.type', ylabel='mentions_count'>"
      ]
     },
     "execution_count": 37,
     "metadata": {},
     "output_type": "execute_result"
    },
    {
     "data": {
      "image/png": "[encoded data removed]",
      "text/plain": [
       "<Figure size 432x288 with 1 Axes>"
      ]
     },
     "metadata": {
      "needs_background": "light"
     },
     "output_type": "display_data"
    }
   ],
   "source": [
    "sns.stripplot(data=tweets, x=\"account.type\", y=\"mentions_count\")"
   ]
  },
  {
   "cell_type": "markdown",
   "metadata": {},
   "source": [
    "Hashtags"
   ]
  },
  {
   "cell_type": "code",
   "execution_count": 38,
   "metadata": {},
   "outputs": [
    {
     "data": {
      "text/plain": [
       "<AxesSubplot:xlabel='account.type', ylabel='hashtags_count'>"
      ]
     },
     "execution_count": 38,
     "metadata": {},
     "output_type": "execute_result"
    },
    {
     "data": {
      "image/png": "[encoded data removed]",
      "text/plain": [
       "<Figure size 432x288 with 1 Axes>"
      ]
     },
     "metadata": {
      "needs_background": "light"
     },
     "output_type": "display_data"
    }
   ],
   "source": [
    "sns.barplot(data=tweets, x=\"account.type\", y=\"hashtags_count\")"
   ]
  },
  {
   "cell_type": "code",
   "execution_count": 39,
   "metadata": {},
   "outputs": [
    {
     "data": {
      "text/plain": [
       "<AxesSubplot:xlabel='account.type', ylabel='hashtags_count'>"
      ]
     },
     "execution_count": 39,
     "metadata": {},
     "output_type": "execute_result"
    },
    {
     "data": {
      "image/png": "[encoded data removed]",
      "text/plain": [
       "<Figure size 432x288 with 1 Axes>"
      ]
     },
     "metadata": {
      "needs_background": "light"
     },
     "output_type": "display_data"
    }
   ],
   "source": [
    "sns.stripplot(data=tweets, x=\"account.type\", y=\"hashtags_count\")"
   ]
  },
  {
   "cell_type": "markdown",
   "metadata": {},
   "source": [
    "Emojis"
   ]
  },
  {
   "cell_type": "code",
   "execution_count": 41,
   "metadata": {},
   "outputs": [
    {
     "data": {
      "text/plain": [
       "<AxesSubplot:xlabel='account.type', ylabel='num_emojis'>"
      ]
     },
     "execution_count": 41,
     "metadata": {},
     "output_type": "execute_result"
    },
    {
     "data": {
      "image/png": "[encoded data removed]",
      "text/plain": [
       "<Figure size 432x288 with 1 Axes>"
      ]
     },
     "metadata": {
      "needs_background": "light"
     },
     "output_type": "display_data"
    }
   ],
   "source": [
    "sns.barplot(data=tweets, x=\"account.type\", y=\"num_emojis\")"
   ]
  },
  {
   "cell_type": "code",
   "execution_count": 42,
   "metadata": {},
   "outputs": [
    {
     "data": {
      "text/plain": [
       "<AxesSubplot:xlabel='account.type', ylabel='num_emojis'>"
      ]
     },
     "execution_count": 42,
     "metadata": {},
     "output_type": "execute_result"
    },
    {
     "data": {
      "image/png": "[encoded data removed]",
      "text/plain": [
       "<Figure size 432x288 with 1 Axes>"
      ]
     },
     "metadata": {
      "needs_background": "light"
     },
     "output_type": "display_data"
    }
   ],
   "source": [
    "sns.stripplot(data=tweets, x=\"account.type\", y=\"num_emojis\")"
   ]
  },
  {
   "cell_type": "code",
   "execution_count": 45,
   "metadata": {},
   "outputs": [
    {
     "name": "stderr",
     "output_type": "stream",
     "text": [
      "/var/folders/cw/msb46c3s00b97g2_cw34t0100000gn/T/ipykernel_1594/1922073685.py:1: SettingWithCopyWarning: \n",
      "A value is trying to be set on a copy of a slice from a DataFrame.\n",
      "Try using .loc[row_indexer,col_indexer] = value instead\n",
      "\n",
      "See the caveats in the documentation: https://pandas.pydata.org/pandas-docs/stable/user_guide/indexing.html#returning-a-view-versus-a-copy\n",
      "  human_tweets['no_of_grammar_errors'] = human_tweets['no_of_grammar_errors'].apply(int)\n",
      "/var/folders/cw/msb46c3s00b97g2_cw34t0100000gn/T/ipykernel_1594/1922073685.py:2: SettingWithCopyWarning: \n",
      "A value is trying to be set on a copy of a slice from a DataFrame.\n",
      "Try using .loc[row_indexer,col_indexer] = value instead\n",
      "\n",
      "See the caveats in the documentation: https://pandas.pydata.org/pandas-docs/stable/user_guide/indexing.html#returning-a-view-versus-a-copy\n",
      "  human_tweets['num_emojis'] = human_tweets['num_emojis'].apply(int)\n"
     ]
    },
    {
     "data": {
      "text/plain": [
       "<AxesSubplot:>"
      ]
     },
     "execution_count": 45,
     "metadata": {},
     "output_type": "execute_result"
    },
    {
     "data": {
      "image/png": "[encoded data removed]",
      "text/plain": [
       "<Figure size 432x288 with 2 Axes>"
      ]
     },
     "metadata": {
      "needs_background": "light"
     },
     "output_type": "display_data"
    }
   ],
   "source": [
    "human_tweets['no_of_grammar_errors'] = human_tweets['no_of_grammar_errors'].apply(int)\n",
    "human_tweets['num_emojis'] = human_tweets['num_emojis'].apply(int)\n",
    "relevant_values_human = human_tweets[['no_of_grammar_errors','hashtags_count','num_emojis','mentions_count']]\n",
    "sns.heatmap(relevant_values_human.corr())"
   ]
  },
  {
   "cell_type": "code",
   "execution_count": 47,
   "metadata": {},
   "outputs": [
    {
     "name": "stderr",
     "output_type": "stream",
     "text": [
      "/var/folders/cw/msb46c3s00b97g2_cw34t0100000gn/T/ipykernel_1594/3896699431.py:1: SettingWithCopyWarning: \n",
      "A value is trying to be set on a copy of a slice from a DataFrame.\n",
      "Try using .loc[row_indexer,col_indexer] = value instead\n",
      "\n",
      "See the caveats in the documentation: https://pandas.pydata.org/pandas-docs/stable/user_guide/indexing.html#returning-a-view-versus-a-copy\n",
      "  bot_tweets['no_of_grammar_errors'] = bot_tweets['no_of_grammar_errors'].apply(int)\n",
      "/var/folders/cw/msb46c3s00b97g2_cw34t0100000gn/T/ipykernel_1594/3896699431.py:2: SettingWithCopyWarning: \n",
      "A value is trying to be set on a copy of a slice from a DataFrame.\n",
      "Try using .loc[row_indexer,col_indexer] = value instead\n",
      "\n",
      "See the caveats in the documentation: https://pandas.pydata.org/pandas-docs/stable/user_guide/indexing.html#returning-a-view-versus-a-copy\n",
      "  bot_tweets['num_emojis'] = bot_tweets['num_emojis'].apply(int)\n"
     ]
    },
    {
     "data": {
      "text/plain": [
       "<AxesSubplot:>"
      ]
     },
     "execution_count": 47,
     "metadata": {},
     "output_type": "execute_result"
    },
    {
     "data": {
      "image/png": "[encoded data removed]",
      "text/plain": [
       "<Figure size 432x288 with 2 Axes>"
      ]
     },
     "metadata": {
      "needs_background": "light"
     },
     "output_type": "display_data"
    }
   ],
   "source": [
    "bot_tweets['no_of_grammar_errors'] = bot_tweets['no_of_grammar_errors'].apply(int)\n",
    "bot_tweets['num_emojis'] = bot_tweets['num_emojis'].apply(int)\n",
    "relevant_values_bot = bot_tweets[['no_of_grammar_errors','hashtags_count','num_emojis','mentions_count']]\n",
    "sns.heatmap(relevant_values_bot.corr())"
   ]
  },
  {
   "cell_type": "code",
   "execution_count": 48,
   "metadata": {},
   "outputs": [
    {
     "data": {
      "text/plain": [
       "<seaborn.axisgrid.PairGrid at 0x13667dc30>"
      ]
     },
     "execution_count": 48,
     "metadata": {},
     "output_type": "execute_result"
    },
    {
     "data": {
      "image/png": "[encoded data removed]",
      "text/plain": [
       "<Figure size 720x720 with 20 Axes>"
      ]
     },
     "metadata": {
      "needs_background": "light"
     },
     "output_type": "display_data"
    }
   ],
   "source": [
    "sns.pairplot(relevant_values_human) "
   ]
  },
  {
   "cell_type": "code",
   "execution_count": 49,
   "metadata": {},
   "outputs": [
    {
     "data": {
      "text/plain": [
       "<seaborn.axisgrid.PairGrid at 0x13736bc40>"
      ]
     },
     "execution_count": 49,
     "metadata": {},
     "output_type": "execute_result"
    },
    {
     "data": {
      "image/png": "[encoded data removed]",
      "text/plain": [
       "<Figure size 720x720 with 20 Axes>"
      ]
     },
     "metadata": {
      "needs_background": "light"
     },
     "output_type": "display_data"
    }
   ],
   "source": [
    "sns.pairplot(relevant_values_bot)"
   ]
  },
  {
   "cell_type": "code",
   "execution_count": 6,
   "metadata": {},
   "outputs": [],
   "source": [
    "# import textblob\n",
    "# from textblob import Word\n",
    "\n",
    "# tweets['incorrect_spell_count'] = ''\n",
    "# tweets['incorrect_spell_words'] = ''\n",
    "# for word in range(len(tweets)):\n",
    "#     cap = tweets[\"text\"][word]\n",
    "#     word_list = cap.split(' ')\n",
    "#     incorrect_words = []\n",
    "#     for i in word_list:\n",
    "#         if Word(i).spellcheck()[0][1] < 1.0:\n",
    "#             incorrect_words.append(i)\n",
    "#     # new_caption = \" \".join(correct_words)\n",
    "#     # captions[\"clean_captions\"][word] = new_caption\n",
    "#     tweets['incorrect_spell_words'][word] = incorrect_words\n",
    "#     tweets['incorrect_spell_count'][word] = len(incorrect_words)"
   ]
  }
 ],
 "metadata": {
  "kernelspec": {
   "display_name": "Python 3.10.0 64-bit",
   "language": "python",
   "name": "python3"
  },
  "language_info": {
   "codemirror_mode": {
    "name": "ipython",
    "version": 3
   },
   "file_extension": ".py",
   "mimetype": "text/x-python",
   "name": "python",
   "nbconvert_exporter": "python",
   "pygments_lexer": "ipython3",
   "version": "3.10.0"
  },
  "orig_nbformat": 4,
  "vscode": {
   "interpreter": {
    "hash": "aee8b7b246df8f9039afb4144a1f6fd8d2ca17a180786b69acc140d282b71a49"
   }
  }
 },
 "nbformat": 4,
 "nbformat_minor": 2
}
