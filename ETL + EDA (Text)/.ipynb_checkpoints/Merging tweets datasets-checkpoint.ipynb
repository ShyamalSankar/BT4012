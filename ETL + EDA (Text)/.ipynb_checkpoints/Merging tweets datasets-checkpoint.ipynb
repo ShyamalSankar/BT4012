{
 "cells": [
  {
   "cell_type": "code",
   "execution_count": 1,
   "id": "ff020f61",
   "metadata": {},
   "outputs": [],
   "source": [
    "import pandas as pd"
   ]
  },
  {
   "cell_type": "code",
   "execution_count": 2,
   "id": "d638a18c",
   "metadata": {},
   "outputs": [],
   "source": [
    "#combine and export all the data\n",
    "val = pd.read_csv('validation.csv')"
   ]
  },
  {
   "cell_type": "code",
   "execution_count": 3,
   "id": "507e5758",
   "metadata": {},
   "outputs": [],
   "source": [
    "train = pd.read_csv('train.csv')"
   ]
  },
  {
   "cell_type": "code",
   "execution_count": 4,
   "id": "b0359e89",
   "metadata": {},
   "outputs": [],
   "source": [
    "test = pd.read_csv('test.csv')"
   ]
  },
  {
   "cell_type": "code",
   "execution_count": 7,
   "id": "f0ddaba2",
   "metadata": {},
   "outputs": [],
   "source": [
    "#combine the three datasets\n",
    "combined = pd.concat([train, val, test], axis = 0)"
   ]
  },
  {
   "cell_type": "code",
   "execution_count": 10,
   "id": "3eab8e33",
   "metadata": {},
   "outputs": [],
   "source": [
    "#drop unnecessary variables, in this case the index, username and the generation algorithm for the bot tweets\n",
    "combined.drop(['Unnamed: 0', 'screen_name', 'class_type'], axis = 1, inplace = True)"
   ]
  },
  {
   "cell_type": "code",
   "execution_count": 11,
   "id": "b79ec35c",
   "metadata": {},
   "outputs": [],
   "source": [
    "combined.reset_index(drop = True, inplace = True)"
   ]
  },
  {
   "cell_type": "code",
   "execution_count": 12,
   "id": "6408bab9",
   "metadata": {},
   "outputs": [],
   "source": [
    "combined['isBot'] = 0"
   ]
  },
  {
   "cell_type": "code",
   "execution_count": 13,
   "id": "6643ee14",
   "metadata": {},
   "outputs": [
    {
     "data": {
      "text/html": [
       "<div>\n",
       "<style scoped>\n",
       "    .dataframe tbody tr th:only-of-type {\n",
       "        vertical-align: middle;\n",
       "    }\n",
       "\n",
       "    .dataframe tbody tr th {\n",
       "        vertical-align: top;\n",
       "    }\n",
       "\n",
       "    .dataframe thead th {\n",
       "        text-align: right;\n",
       "    }\n",
       "</style>\n",
       "<table border=\"1\" class=\"dataframe\">\n",
       "  <thead>\n",
       "    <tr style=\"text-align: right;\">\n",
       "      <th></th>\n",
       "      <th>text</th>\n",
       "      <th>account.type</th>\n",
       "      <th>isBot</th>\n",
       "    </tr>\n",
       "  </thead>\n",
       "  <tbody>\n",
       "    <tr>\n",
       "      <th>0</th>\n",
       "      <td>YEA now that note GOOD</td>\n",
       "      <td>bot</td>\n",
       "      <td>0</td>\n",
       "    </tr>\n",
       "    <tr>\n",
       "      <th>1</th>\n",
       "      <td>Listen to This Charming Man by The Smiths  htt...</td>\n",
       "      <td>human</td>\n",
       "      <td>0</td>\n",
       "    </tr>\n",
       "    <tr>\n",
       "      <th>2</th>\n",
       "      <td>wish i can i would be seeing other hoes on the...</td>\n",
       "      <td>bot</td>\n",
       "      <td>0</td>\n",
       "    </tr>\n",
       "    <tr>\n",
       "      <th>3</th>\n",
       "      <td>The decade in the significantly easier schedul...</td>\n",
       "      <td>bot</td>\n",
       "      <td>0</td>\n",
       "    </tr>\n",
       "    <tr>\n",
       "      <th>4</th>\n",
       "      <td>\"Theim class=\\\"alignnone size-full wp-image-60...</td>\n",
       "      <td>bot</td>\n",
       "      <td>0</td>\n",
       "    </tr>\n",
       "  </tbody>\n",
       "</table>\n",
       "</div>"
      ],
      "text/plain": [
       "                                                text account.type  isBot\n",
       "0                             YEA now that note GOOD          bot      0\n",
       "1  Listen to This Charming Man by The Smiths  htt...        human      0\n",
       "2  wish i can i would be seeing other hoes on the...          bot      0\n",
       "3  The decade in the significantly easier schedul...          bot      0\n",
       "4  \"Theim class=\\\"alignnone size-full wp-image-60...          bot      0"
      ]
     },
     "execution_count": 13,
     "metadata": {},
     "output_type": "execute_result"
    }
   ],
   "source": [
    "combined.head()"
   ]
  },
  {
   "cell_type": "code",
   "execution_count": 14,
   "id": "e732d5f5",
   "metadata": {},
   "outputs": [],
   "source": [
    "#include a numeric variable for the account type\n",
    "combined.loc[combined['account.type'] == 'bot', 'isBot'] = 1"
   ]
  },
  {
   "cell_type": "code",
   "execution_count": 15,
   "id": "b4932c71",
   "metadata": {},
   "outputs": [],
   "source": [
    "#Drop the account type column as we no longer need it\n",
    "combined.drop(['account.type'], inplace = True, axis = 1)"
   ]
  },
  {
   "cell_type": "code",
   "execution_count": 16,
   "id": "028e548b",
   "metadata": {},
   "outputs": [],
   "source": [
    "#save the combined and processed dataframe in a csv file\n",
    "combined.to_csv(\"tweets_data.csv\")"
   ]
  }
 ],
 "metadata": {
  "kernelspec": {
   "display_name": "Python 3 (ipykernel)",
   "language": "python",
   "name": "python3"
  },
  "language_info": {
   "codemirror_mode": {
    "name": "ipython",
    "version": 3
   },
   "file_extension": ".py",
   "mimetype": "text/x-python",
   "name": "python",
   "nbconvert_exporter": "python",
   "pygments_lexer": "ipython3",
   "version": "3.9.12"
  }
 },
 "nbformat": 4,
 "nbformat_minor": 5
}
