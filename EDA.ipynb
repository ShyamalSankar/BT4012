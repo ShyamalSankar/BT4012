{
 "cells": [
  {
   "cell_type": "code",
   "execution_count": 38,
   "id": "5bae10dc",
   "metadata": {
    "colab": {
     "base_uri": "https://localhost:8080/"
    },
    "id": "5bae10dc",
    "outputId": "f5d28a2c-79a8-4080-e14b-1becda184069"
   },
   "outputs": [],
   "source": [
    "import re\n",
    "import demoji\n",
    "import emoji\n",
    "import warnings\n",
    "# from google.colab import drive\n",
    "# drive.mount('/content/gdrive')\n",
    "\n",
    "import pandas as pd\n",
    "import numpy as np\n",
    "import matplotlib.pyplot as plt\n",
    "import seaborn as sns\n",
    "import datetime\n",
    "from datetime import datetime\n",
    "from datetime import date\n",
    "from collections import OrderedDict\n",
    "from sklearn.base import BaseEstimator, TransformerMixin\n",
    "\n",
    "from bs4 import BeautifulSoup\n",
    "\n",
    "warnings.filterwarnings(\"ignore\")\n",
    "pd.set_option(\"display.max_columns\", None)"
   ]
  },
  {
   "cell_type": "code",
   "execution_count": null,
   "id": "eb611fd2",
   "metadata": {
    "id": "eb611fd2"
   },
   "outputs": [],
   "source": [
    "df_tweets = pd.read_csv(\"others_dataset.csv\")"
   ]
  },
  {
   "cell_type": "code",
   "execution_count": null,
   "id": "301cb0fb",
   "metadata": {
    "colab": {
     "base_uri": "https://localhost:8080/",
     "height": 800
    },
    "id": "301cb0fb",
    "outputId": "b1388c6b-aa3d-4555-e36f-4e3f8f6558ab"
   },
   "outputs": [],
   "source": [
    "df_tweets"
   ]
  },
  {
   "cell_type": "code",
   "execution_count": null,
   "id": "180fb575",
   "metadata": {
    "id": "180fb575"
   },
   "outputs": [],
   "source": [
    "def url_text(df):\n",
    "    pattern = r'(https?:\\/\\/(?:www\\.)?[-a-zA-Z0-9@:%._+~#=]{1,256}\\.[a-zA-Z0-9()]{1,6}[-a-zA-Z0-9()@:%_+.~#?&/=]*)' \n",
    "    df['url'] = df[\"uncleaned_text\"].str.extract(pattern, expand=True)\n",
    "    return df\n",
    "\n",
    "def username(df):\n",
    "    special_char = re.compile('[@_!#$%^&*()<>?/\\|}{~:]')\n",
    "    df[\"un_no_of_char\"] = df[\"username\"].apply(lambda x: len(str(x)))\n",
    "    df[\"un_special_char\"] = df[\"username\"].apply(lambda x: special_char.search(str(x)) != None)\n",
    "    df[\"un_uppercase\"] = df[\"username\"].apply(lambda x: bool(re.match(r'\\w*[A-Z]\\w*', str(x))))\n",
    "    return df\n",
    "\n",
    "def name(df):\n",
    "    special_char = re.compile('[@_!#$%^&*()<>?/\\|}{~:]')\n",
    "    df[\"name_no_of_char\"] = df[\"name\"].apply(lambda x: len(str(x)))\n",
    "    df[\"name_special_char\"] = df[\"name\"].apply(lambda x: special_char.search(str(x)) != None)\n",
    "    df[\"name_uppercase\"] = df[\"name\"].apply(lambda x: bool(re.match(r'\\w*[A-Z]\\w*', str(x))))\n",
    "    return df\n",
    "\n",
    "def description(df):\n",
    "    #user_tags = re.compile('[@]')\n",
    "    #hastags = re.compile('[#]')\n",
    "    user_tags = r'\\B@\\w*[a-zA-Z]*\\w*'\n",
    "    hashtags = r'\\B#\\w*[a-zA-Z]+\\w*'\n",
    "    links = r'(https?:\\/\\/(?:www\\.)?[-a-zA-Z0-9@:%._+~#=]{1,256}\\.[a-zA-Z0-9()]{1,6}[-a-zA-Z0-9()@:%_+.~#?&/=]*)'\n",
    "    df[\"des_no_of_usertags\"] = df[\"description\"].apply(lambda x: len(re.findall(user_tags, str(x)))) #str(x).count('@'))\n",
    "    df[\"des_no_of_hashtags\"] = df[\"description\"].apply(lambda x: len(re.findall(hashtags, str(x)))) #str(x).count('#'))\n",
    "    df[\"des_external_links\"] = df[\"description\"].apply(lambda x: re.findall(links, str(x)) != [])\n",
    "    df[\"has_description\"] = ~df_tweets[\"description\"].isna() \n",
    "    return df\n",
    "\n",
    "def location(df):\n",
    "    df[\"location\"] = ~df_tweets[\"location\"].isna() # false = location is NaN; true = has location\n",
    "    return df\n",
    "  \n",
    "def time(df):\n",
    "    # df[\"created_time\"] = df[\"created_at\"].apply(lambda x : datetime.strptime(x, '%Y-%m-%dT%H:%M:%S.%f%z').date())\n",
    "    # d1 = date(2022, 10, 8) # date we extracted these data \n",
    "    df[\"account_age_in_days\"] = df[\"created_at\"].apply(lambda x : (date(2022, 10, 8) - datetime.strptime(x, '%Y-%m-%dT%H:%M:%S.%f%z').date()).days)\n",
    "    df[\"average_tweets_per_day\"] = df[\"tweet_count\"]/df[\"account_age_in_days\"]\n",
    "    return df\n",
    "\n",
    "def get_year(date):\n",
    "    return datetime.strptime(date, '%Y-%m-%dT%H:%M:%S.%f%z').year\n",
    "\n",
    "def get_month(date):\n",
    "    return datetime.strptime(date, '%Y-%m-%dT%H:%M:%S.%f%z').strftime('%b')\n",
    "\n",
    "def get_weekday(date):\n",
    "    return datetime.strptime(date, '%Y-%m-%dT%H:%M:%S.%f%z').strftime('%a')\n",
    "\n",
    "class DateTransformer(BaseEstimator, TransformerMixin):\n",
    "    def __init__(self):\n",
    "        pass\n",
    "    \n",
    "    def fit(self, X, y=None):\n",
    "        return self\n",
    "    \n",
    "    def transform(self, X):\n",
    "        year = X.apply(get_year).rename('year')\n",
    "        month = pd.get_dummies(X.apply(get_month))\n",
    "        day = pd.get_dummies(X.apply(get_weekday))\n",
    "        return pd.concat([year, month, day], axis=1) \n",
    "\n",
    "def account_type(df):\n",
    "    df[\"isFraud\"] = df[\"account_type\"].apply(lambda x : 1 if x == 'bot' else 0)\n",
    "    return df\n",
    "\n",
    "def convert_TF(variable):\n",
    "    var = 1 if variable == True else 0\n",
    "    return var"
   ]
  },
  {
   "cell_type": "code",
   "execution_count": null,
   "id": "f2be4565",
   "metadata": {
    "id": "f2be4565"
   },
   "outputs": [],
   "source": [
    "#df_tweets = time(df_tweets)\n",
    "df_tweets = account_type(df_tweets)\n",
    "df_tweets = username(df_tweets)\n",
    "df_tweets = name(df_tweets)\n",
    "df_tweets = description(df_tweets)\n",
    "df_tweets = location(df_tweets)\n",
    "df_tweets = time(df_tweets)\n",
    "# date = DateTransformer().fit_transform(df_tweets['created_at'])\n",
    "# date.head(10)\n",
    "\n",
    "boolean_var = [\"verified\", \"location\", \"un_special_char\", \"un_uppercase\", \n",
    "               \"name_special_char\", \"name_uppercase\", \"des_external_links\", \n",
    "               \"has_description\"]\n",
    "\n",
    "for var in boolean_var:\n",
    "    df_tweets[var] = df_tweets[var].apply(convert_TF)"
   ]
  },
  {
   "cell_type": "code",
   "execution_count": null,
   "id": "340a5930",
   "metadata": {
    "id": "340a5930"
   },
   "outputs": [],
   "source": [
    "df_tweets = df_tweets.drop_duplicates(subset=['id'], keep='first')\n",
    "new_df_tweets = df_tweets.drop(columns=[\"id\", \"created_at\", \"name\", \"username\", \"description\", \"url\"])"
   ]
  },
  {
   "cell_type": "code",
   "execution_count": null,
   "id": "9d006fcc",
   "metadata": {
    "colab": {
     "base_uri": "https://localhost:8080/",
     "height": 661
    },
    "id": "9d006fcc",
    "outputId": "24d6ec2a-0626-4176-f238-da8e80f3cbca"
   },
   "outputs": [],
   "source": [
    "new_df_tweets"
   ]
  },
  {
   "cell_type": "code",
   "execution_count": null,
   "id": "aa632b20",
   "metadata": {},
   "outputs": [],
   "source": [
    "saved_df_tweets = new_df_tweets.drop(columns=[\"account_type\"])"
   ]
  },
  {
   "cell_type": "code",
   "execution_count": null,
   "id": "d1d7d331",
   "metadata": {
    "id": "d1d7d331"
   },
   "outputs": [],
   "source": [
    "saved_df_tweets.to_csv(\"cleaned_others_dataset.csv\", index = False)\n",
    "# saved_df_tweets.to_csv(\"cleaned_others_dataset1.csv\", index = False)"
   ]
  },
  {
   "cell_type": "code",
   "execution_count": null,
   "id": "CCU0oeskMm5k",
   "metadata": {
    "id": "CCU0oeskMm5k"
   },
   "outputs": [],
   "source": [
    "# Functions to plot data distributions\n",
    "def plot_multiple_histograms(data: pd.DataFrame,\n",
    "                             grouped_col: str,\n",
    "                             target_col: str,\n",
    "                             data_labels: dict):\n",
    "    # Plot\n",
    "    plt.figure(figsize=(12, 10))\n",
    "    title = \"\\n\"\n",
    "    labels: list = list(data_labels.keys())\n",
    "    for j, i in enumerate(labels):\n",
    "        x = data.loc[data[grouped_col] == i, target_col]\n",
    "        mu_x = round(float(np.mean(x)), 3)\n",
    "        sigma_x = round(float(np.std(x)), 3)\n",
    "        ax = sns.distplot(x, color=data_labels.get(i), label=i, hist_kws=dict(alpha=.1),\n",
    "                          kde_kws={'linewidth': 2})\n",
    "        ax.axvline(mu_x, color=data_labels.get(i), linestyle='--')\n",
    "        ax.set(xlabel=f\"{target_col.title()}\", ylabel='Density')\n",
    "        title += f\"Parameters {str(i)}: $G(\\mu=$ {mu_x}, $\\sigma=$ {sigma_x} \\n\"\n",
    "        ax.set_title(target_col.title() + title)\n",
    "    plt.legend(title=\"Account Type\")\n",
    "    plt.grid()\n",
    "    plt.tight_layout()\n",
    "    plt.show()\n",
    "\n",
    "\n",
    "def plot_multiple_boxplots(data: pd.DataFrame, grouped_col: str, target_col: str,\n",
    "                           palette: str = \"husl\"):\n",
    "    plt.figure(figsize=(12, 10))\n",
    "\n",
    "    means: dict = data.groupby([grouped_col])[target_col].mean().to_dict(OrderedDict)\n",
    "    counter: int = 0\n",
    "\n",
    "    bp = sns.boxplot(x=grouped_col, y=target_col, data=data, palette=palette, order=list(means.keys()))\n",
    "    bp.set(xlabel='', ylabel=f\"{target_col.title()}\")\n",
    "    ax = bp.axes\n",
    "\n",
    "    for k, v in means.items():\n",
    "        # every 4th line at the interval of 6 is median line\n",
    "        # 0 -> p25 1 -> p75 2 -> lower whisker 3 -> upper whisker 4 -> p50 5 -> upper extreme value\n",
    "        mean = round(v, 2)\n",
    "        ax.text(\n",
    "            counter,\n",
    "            mean,\n",
    "            f'{mean}',\n",
    "            ha='center',\n",
    "            va='center',\n",
    "            fontweight='bold',\n",
    "            size=10,\n",
    "            color='white',\n",
    "            bbox=dict(facecolor='#445A64'))\n",
    "        counter += 1\n",
    "    bp.figure.tight_layout()\n",
    "    plt.grid()\n",
    "    plt.show()\n",
    "\n",
    "\n",
    "\n",
    "def add_labels(plot1):\n",
    "    i = 0\n",
    "    false_counts = []\n",
    "    for p in plot1.patches:\n",
    "        # plot1.annotate(str(format(int(p.get_height()), ',d')), (p.get_x(), p.get_height()*0.5))\n",
    "        width = p.get_width()\n",
    "        height = p.get_height()\n",
    "        x, y = p.get_xy()\n",
    "        plt.text(x+width/2,\n",
    "              y+height*0.5,\n",
    "              str(format(int(p.get_height()), ',d')),\n",
    "              ha='center')\n",
    "        false_counts.append(p.get_height())\n",
    "        if (i == 1):\n",
    "            break\n",
    "        i+=1\n",
    "    \n",
    "    i = 0\n",
    "    for p in plot1.patches:\n",
    "        if (i > 1):\n",
    "            width = p.get_width()\n",
    "            height = p.get_height()\n",
    "            x, y = p.get_xy()\n",
    "            # percentage = round(100*p.get_height()/(p.get_height()+false_counts[i-2]), 2)\n",
    "            plt.text(x+width/2,\n",
    "              false_counts[i-2]+(p.get_height()*0.5),\n",
    "              str(format(int(p.get_height()), ',d')),\n",
    "              ha='center')\n",
    "            # plot1.annotate(str(format(int(p.get_height()), ',d')), (p.get_x(), false_counts[i-2]+(p.get_height()*0.5)))\n",
    "        i+=1"
   ]
  },
  {
   "cell_type": "code",
   "execution_count": null,
   "id": "ArsAMM1cHyr8",
   "metadata": {
    "id": "ArsAMM1cHyr8"
   },
   "outputs": [],
   "source": [
    "palette: str = \"husl\"\n",
    "grouped: str = \"account_type\"\n",
    "default_value: str = \"unknown\"\n",
    "\n",
    "def get_labels_colors_from_pandas_column(df: pd.DataFrame, column: str, palette: str):\n",
    "    data_labels: dict = dict()\n",
    "    #try:\n",
    "    labels: list = df[column].unique().tolist()\n",
    "    colors: list = sns.color_palette(palette, len(labels))\n",
    "    data_labels: dict = dict(zip(labels, colors))\n",
    "    #except Exception as e:\n",
    "    #    logger.error(e)\n",
    "    return data_labels\n",
    "\n",
    "# Retrieve labels and additional parameters to plot figures\n",
    "data_labels: dict = get_labels_colors_from_pandas_column(\n",
    "    df=new_df_tweets, column=grouped, palette=palette)"
   ]
  },
  {
   "cell_type": "code",
   "execution_count": null,
   "id": "htH2uKw8hfCF",
   "metadata": {
    "colab": {
     "base_uri": "https://localhost:8080/",
     "height": 531
    },
    "id": "htH2uKw8hfCF",
    "outputId": "4c1703cf-15fe-448d-d7af-0d3b658bf727"
   },
   "outputs": [],
   "source": [
    "fig, axs = plt.subplots(1,1, figsize=(20,20))\n",
    "hm = sns.heatmap(round(new_df_tweets.corr(),2), \n",
    "                 ax=axs,           # Axes in which to draw the plot, otherwise use the currently-active Axes.\n",
    "                 cmap=\"coolwarm\", # Color Map.\n",
    "                 #square=True,    # If True, set the Axes aspect to “equal” so each cell will be square-shaped.\n",
    "                 annot=True, \n",
    "                 linewidths=.05)\n",
    "fig.subplots_adjust(top=0.93)\n",
    "t = fig.suptitle('Correlation Heatmap', fontsize=14, fontweight='bold')"
   ]
  },
  {
   "cell_type": "code",
   "execution_count": null,
   "id": "ks-7PzYbH1yE",
   "metadata": {
    "colab": {
     "base_uri": "https://localhost:8080/",
     "height": 280
    },
    "id": "ks-7PzYbH1yE",
    "outputId": "c67eec0a-17b9-4b21-c2dc-17fdaafb65b7"
   },
   "outputs": [],
   "source": [
    "target_col: str = \"verified\"\n",
    "twitter_accounts_df2 = new_df_tweets.groupby([grouped, target_col])[grouped].count().unstack(target_col)\n",
    "plot1 = twitter_accounts_df2.plot(kind='bar', stacked=True)\n",
    "plt.xticks(rotation=0)\n",
    "add_labels(plot1)"
   ]
  },
  {
   "cell_type": "code",
   "execution_count": null,
   "id": "9IkAFslST5zt",
   "metadata": {
    "colab": {
     "base_uri": "https://localhost:8080/",
     "height": 280
    },
    "id": "9IkAFslST5zt",
    "outputId": "c28417ce-e02c-49c8-ad6e-0c4db2bcee7a"
   },
   "outputs": [],
   "source": [
    "target_col: str = \"has_description\"\n",
    "twitter_accounts_df2 = new_df_tweets.groupby([grouped, target_col])[grouped].count().unstack(target_col)\n",
    "plot2 = twitter_accounts_df2.plot(kind='bar', stacked=True)\n",
    "plt.xticks(rotation=0) \n",
    "add_labels(plot2)"
   ]
  },
  {
   "cell_type": "code",
   "execution_count": null,
   "id": "vCB4RvuAbLak",
   "metadata": {
    "colab": {
     "base_uri": "https://localhost:8080/",
     "height": 280
    },
    "id": "vCB4RvuAbLak",
    "outputId": "9e5054a4-8438-4f4e-f0db-3ddfb4815c6e"
   },
   "outputs": [],
   "source": [
    "target_col: str = \"un_special_char\"\n",
    "twitter_accounts_df2 = new_df_tweets.groupby([grouped, target_col])[grouped].count().unstack(target_col)\n",
    "plot = twitter_accounts_df2.plot(kind='bar', stacked=True)\n",
    "plt.xticks(rotation=0)\n",
    "add_labels(plot)"
   ]
  },
  {
   "cell_type": "code",
   "execution_count": null,
   "id": "wv68XVbTbTpr",
   "metadata": {
    "colab": {
     "base_uri": "https://localhost:8080/",
     "height": 280
    },
    "id": "wv68XVbTbTpr",
    "outputId": "c46a19d4-7c37-4581-e043-8d0160e21eb9"
   },
   "outputs": [],
   "source": [
    "target_col: str = \"un_uppercase\"\n",
    "twitter_accounts_df2 = new_df_tweets.groupby([grouped, target_col])[grouped].count().unstack(target_col)\n",
    "plot = twitter_accounts_df2.plot(kind='bar', stacked=True)\n",
    "plt.xticks(rotation=0)  \n",
    "add_labels(plot)"
   ]
  },
  {
   "cell_type": "code",
   "execution_count": null,
   "id": "xMFa0Wdybbk0",
   "metadata": {
    "colab": {
     "base_uri": "https://localhost:8080/",
     "height": 280
    },
    "id": "xMFa0Wdybbk0",
    "outputId": "157bfae7-33dd-475e-8f75-a761b1cd1b69"
   },
   "outputs": [],
   "source": [
    "target_col: str = \"name_special_char\"\n",
    "twitter_accounts_df2 = new_df_tweets.groupby([grouped, target_col])[grouped].count().unstack(target_col)\n",
    "plot = twitter_accounts_df2.plot(kind='bar', stacked=True)\n",
    "plt.xticks(rotation=0) \n",
    "add_labels(plot)"
   ]
  },
  {
   "cell_type": "code",
   "execution_count": null,
   "id": "d9DYS2jAbrVq",
   "metadata": {
    "colab": {
     "base_uri": "https://localhost:8080/",
     "height": 280
    },
    "id": "d9DYS2jAbrVq",
    "outputId": "cfff9da5-5bd8-42bc-9347-db3bdc4e0a67"
   },
   "outputs": [],
   "source": [
    "target_col: str = \"name_uppercase\"\n",
    "twitter_accounts_df2 = new_df_tweets.groupby([grouped, target_col])[grouped].count().unstack(target_col)\n",
    "plot = twitter_accounts_df2.plot(kind='bar', stacked=True)\n",
    "plt.xticks(rotation=0) \n",
    "add_labels(plot)"
   ]
  },
  {
   "cell_type": "code",
   "execution_count": null,
   "id": "6RZuj34ibz9p",
   "metadata": {
    "colab": {
     "base_uri": "https://localhost:8080/",
     "height": 280
    },
    "id": "6RZuj34ibz9p",
    "outputId": "42433996-72e6-460a-e02f-64b1a9da555a"
   },
   "outputs": [],
   "source": [
    "target_col: str = \"des_external_links\"\n",
    "twitter_accounts_df2 = new_df_tweets.groupby([grouped, target_col])[grouped].count().unstack(target_col)\n",
    "plot = twitter_accounts_df2.plot(kind='bar', stacked=True)\n",
    "plt.xticks(rotation=0) \n",
    "add_labels(plot)"
   ]
  },
  {
   "cell_type": "code",
   "execution_count": null,
   "id": "bLQMLApLYpTl",
   "metadata": {
    "colab": {
     "base_uri": "https://localhost:8080/",
     "height": 280
    },
    "id": "bLQMLApLYpTl",
    "outputId": "5b8ee6a0-a94a-413b-9e30-0c743fb29822"
   },
   "outputs": [],
   "source": [
    "target_col: str = \"location\"\n",
    "twitter_accounts_df2 = new_df_tweets.groupby([grouped, target_col])[grouped].count().unstack(target_col)\n",
    "plot3 = twitter_accounts_df2.plot(kind='bar', stacked=False)\n",
    "plt.xticks(rotation=0) \n",
    "# add_labels(plot3)\n",
    "for p in plot3.patches:\n",
    "    width = p.get_width()\n",
    "    height = p.get_height()\n",
    "    x, y = p.get_xy()\n",
    "    plt.text(x+width/2,\n",
    "            y+height*1.01,\n",
    "            str(format(int(p.get_height()), ',d')),\n",
    "            ha='center')"
   ]
  },
  {
   "cell_type": "code",
   "execution_count": null,
   "id": "4vinZR2DMRw8",
   "metadata": {
    "colab": {
     "base_uri": "https://localhost:8080/",
     "height": 1000
    },
    "id": "4vinZR2DMRw8",
    "outputId": "b6f6127d-1388-4afe-cc11-be569fe6248f"
   },
   "outputs": [],
   "source": [
    "target: str = \"tweet_count\"  \n",
    "# Extract histograms\n",
    "plot_multiple_histograms(data=new_df_tweets, \n",
    "                         grouped_col=grouped,\n",
    "                         data_labels=data_labels,\n",
    "                         target_col=target)\n",
    "# Extract Box-plots\n",
    "plot_multiple_boxplots(data=new_df_tweets,\n",
    "                       grouped_col=grouped,\n",
    "                       target_col=target,\n",
    "                       palette=palette)"
   ]
  },
  {
   "cell_type": "code",
   "execution_count": null,
   "id": "Q1q1f3HUSx0B",
   "metadata": {
    "colab": {
     "base_uri": "https://localhost:8080/",
     "height": 1000
    },
    "id": "Q1q1f3HUSx0B",
    "outputId": "a70cc577-3a5c-4a7a-f82d-fa67e6bdfbbb"
   },
   "outputs": [],
   "source": [
    "target: str = \"followers_count\"  \n",
    "# Extract histograms\n",
    "plot_multiple_histograms(data=new_df_tweets, \n",
    "                         grouped_col=grouped,\n",
    "                         data_labels=data_labels,\n",
    "                         target_col=target)\n",
    "# Extract Box-plots\n",
    "plot_multiple_boxplots(data=new_df_tweets,\n",
    "                       grouped_col=grouped,\n",
    "                       target_col=target,\n",
    "                       palette=palette)"
   ]
  },
  {
   "cell_type": "code",
   "execution_count": null,
   "id": "MRLv7v-FiEjS",
   "metadata": {
    "colab": {
     "base_uri": "https://localhost:8080/",
     "height": 1000
    },
    "id": "MRLv7v-FiEjS",
    "outputId": "20f4d231-ee30-4bee-baa8-ecae946c100e"
   },
   "outputs": [],
   "source": [
    "target: str = \"following_count\"  \n",
    "# Extract histograms\n",
    "plot_multiple_histograms(data=new_df_tweets, \n",
    "                         grouped_col=grouped,\n",
    "                         data_labels=data_labels,\n",
    "                         target_col=target)\n",
    "# Extract Box-plots\n",
    "plot_multiple_boxplots(data=new_df_tweets,\n",
    "                       grouped_col=grouped,\n",
    "                       target_col=target,\n",
    "                       palette=palette)"
   ]
  },
  {
   "cell_type": "code",
   "execution_count": null,
   "id": "yOtZJffoisUV",
   "metadata": {
    "colab": {
     "base_uri": "https://localhost:8080/",
     "height": 1000
    },
    "id": "yOtZJffoisUV",
    "outputId": "ef351bba-d0e2-45d7-9785-e9925767e254"
   },
   "outputs": [],
   "source": [
    "\"\"\"\n",
    "target: str = \"average_tweets_per_day\"  \n",
    "# Extract histograms\n",
    "plot_multiple_histograms(data=new_df_tweets, \n",
    "                         grouped_col=grouped,\n",
    "                         data_labels=data_labels,\n",
    "                         target_col=target)\n",
    "# Extract Box-plots\n",
    "plot_multiple_boxplots(data=new_df_tweets,\n",
    "                       grouped_col=grouped,\n",
    "                       target_col=target,\n",
    "                       palette=palette)\n",
    "\"\"\""
   ]
  },
  {
   "cell_type": "code",
   "execution_count": null,
   "id": "MATrH11titqB",
   "metadata": {
    "colab": {
     "base_uri": "https://localhost:8080/",
     "height": 1000
    },
    "id": "MATrH11titqB",
    "outputId": "00dfacca-b85c-4e26-8e5a-5c7ffb934578"
   },
   "outputs": [],
   "source": [
    "target: str = \"un_no_of_char\"  \n",
    "# Extract histograms\n",
    "plot_multiple_histograms(data=new_df_tweets, \n",
    "                         grouped_col=grouped,\n",
    "                         data_labels=data_labels,\n",
    "                         target_col=target)\n",
    "# Extract Box-plots\n",
    "plot_multiple_boxplots(data=new_df_tweets,\n",
    "                       grouped_col=grouped,\n",
    "                       target_col=target,\n",
    "                       palette=palette)"
   ]
  },
  {
   "cell_type": "code",
   "execution_count": null,
   "id": "iw0FSMG3iupo",
   "metadata": {
    "colab": {
     "base_uri": "https://localhost:8080/",
     "height": 1000
    },
    "id": "iw0FSMG3iupo",
    "outputId": "126825bd-4e3c-4fd0-c0f6-d07a29309508"
   },
   "outputs": [],
   "source": [
    "target: str = \"name_no_of_char\"  \n",
    "# Extract histograms\n",
    "plot_multiple_histograms(data=new_df_tweets, \n",
    "                         grouped_col=grouped,\n",
    "                         data_labels=data_labels,\n",
    "                         target_col=target)\n",
    "# Extract Box-plots\n",
    "plot_multiple_boxplots(data=new_df_tweets,\n",
    "                       grouped_col=grouped,\n",
    "                       target_col=target,\n",
    "                       palette=palette)"
   ]
  },
  {
   "cell_type": "code",
   "execution_count": null,
   "id": "gRNhIGhdi4OO",
   "metadata": {
    "colab": {
     "base_uri": "https://localhost:8080/",
     "height": 1000
    },
    "id": "gRNhIGhdi4OO",
    "outputId": "1518f91e-330d-46d1-df73-78b0fdc10c04"
   },
   "outputs": [],
   "source": [
    "target: str = \"des_no_of_usertags\"  \n",
    "# Extract histograms\n",
    "plot_multiple_histograms(data=new_df_tweets, \n",
    "                         grouped_col=grouped,\n",
    "                         data_labels=data_labels,\n",
    "                         target_col=target)\n",
    "# Extract Box-plots\n",
    "plot_multiple_boxplots(data=new_df_tweets,\n",
    "                       grouped_col=grouped,\n",
    "                       target_col=target,\n",
    "                       palette=palette)"
   ]
  },
  {
   "cell_type": "code",
   "execution_count": null,
   "id": "jEDTBTfsi7Jo",
   "metadata": {
    "colab": {
     "base_uri": "https://localhost:8080/",
     "height": 1000
    },
    "id": "jEDTBTfsi7Jo",
    "outputId": "50b15e69-359a-4072-aa81-f8afd6794ac0"
   },
   "outputs": [],
   "source": [
    "target: str = \"des_no_of_hashtags\"  \n",
    "# Extract histograms\n",
    "plot_multiple_histograms(data=new_df_tweets, \n",
    "                         grouped_col=grouped,\n",
    "                         data_labels=data_labels,\n",
    "                         target_col=target)\n",
    "# Extract Box-plots\n",
    "plot_multiple_boxplots(data=new_df_tweets,\n",
    "                       grouped_col=grouped,\n",
    "                       target_col=target,\n",
    "                       palette=palette)"
   ]
  }
 ],
 "metadata": {
  "colab": {
   "collapsed_sections": [],
   "provenance": []
  },
  "kernelspec": {
   "display_name": "Python 3 (ipykernel)",
   "language": "python",
   "name": "python3"
  },
  "language_info": {
   "codemirror_mode": {
    "name": "ipython",
    "version": 3
   },
   "file_extension": ".py",
   "mimetype": "text/x-python",
   "name": "python",
   "nbconvert_exporter": "python",
   "pygments_lexer": "ipython3",
   "version": "3.9.7"
  },
  "vscode": {
   "interpreter": {
    "hash": "5655c9133574c514aaa4ad68d43c988f278bef092b676c0124373d7820ffd29c"
   }
  }
 },
 "nbformat": 4,
 "nbformat_minor": 5
}
