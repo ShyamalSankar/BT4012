{
  "cells": [
    {
      "cell_type": "markdown",
      "metadata": {
        "id": "bLVq_6S4eapw"
      },
      "source": [
        "# Import Packages and Reading of Data"
      ]
    },
    {
      "cell_type": "code",
      "execution_count": 20,
      "metadata": {
        "colab": {
          "base_uri": "https://localhost:8080/"
        },
        "id": "NEvcKqna3_VG",
        "outputId": "584cb154-c9ff-4fdd-96a2-78caf02959ad"
      },
      "outputs": [
        {
          "name": "stdout",
          "output_type": "stream",
          "text": [
            "Looking in indexes: https://pypi.org/simple, https://us-python.pkg.dev/colab-wheels/public/simple/\n",
            "Requirement already satisfied: bayesian-optimization in /usr/local/lib/python3.7/dist-packages (1.3.0)\n",
            "Requirement already satisfied: scikit-learn>=0.18.0 in /usr/local/lib/python3.7/dist-packages (from bayesian-optimization) (1.0.2)\n",
            "Requirement already satisfied: numpy>=1.9.0 in /usr/local/lib/python3.7/dist-packages (from bayesian-optimization) (1.21.6)\n",
            "Requirement already satisfied: scipy>=1.0.0 in /usr/local/lib/python3.7/dist-packages (from bayesian-optimization) (1.7.3)\n",
            "Requirement already satisfied: threadpoolctl>=2.0.0 in /usr/local/lib/python3.7/dist-packages (from scikit-learn>=0.18.0->bayesian-optimization) (3.1.0)\n",
            "Requirement already satisfied: joblib>=0.11 in /usr/local/lib/python3.7/dist-packages (from scikit-learn>=0.18.0->bayesian-optimization) (1.2.0)\n"
          ]
        }
      ],
      "source": [
        "pip install bayesian-optimization"
      ]
    },
    {
      "cell_type": "code",
      "execution_count": 21,
      "metadata": {
        "colab": {
          "base_uri": "https://localhost:8080/"
        },
        "id": "pU5ha-ZLbys7",
        "outputId": "a91c639c-f222-4956-c1ea-d555f3c0a718"
      },
      "outputs": [
        {
          "name": "stdout",
          "output_type": "stream",
          "text": [
            "Drive already mounted at /content/gdrive; to attempt to forcibly remount, call drive.mount(\"/content/gdrive\", force_remount=True).\n"
          ]
        }
      ],
      "source": [
        "import time\n",
        "import warnings\n",
        "import pickle\n",
        "\n",
        "import pandas as pd \n",
        "import numpy as np\n",
        "import matplotlib.pyplot as plt\n",
        "from google.colab import drive\n",
        "drive.mount('/content/gdrive')\n",
        "\n",
        "from sklearn.preprocessing import StandardScaler\n",
        "from sklearn.model_selection import train_test_split\n",
        "from sklearn.linear_model import LinearRegression, Ridge, LogisticRegression\n",
        "from sklearn import metrics\n",
        "from sklearn.model_selection import RandomizedSearchCV, GridSearchCV, cross_val_score, RepeatedKFold\n",
        "from bayes_opt import BayesianOptimization\n",
        "import statsmodels.api as sm\n",
        "from sklearn.metrics import confusion_matrix, accuracy_score, recall_score, precision_score, f1_score, roc_auc_score, average_precision_score, classification_report\n",
        "\n",
        "import xgboost as xgb # recommended version: 1.5.0\n",
        "from xgboost import plot_importance\n",
        "\n",
        "pd.set_option(\"display.max_columns\", None)\n",
        "warnings.filterwarnings(\"ignore\")"
      ]
    },
    {
      "cell_type": "code",
      "execution_count": 22,
      "metadata": {
        "colab": {
          "base_uri": "https://localhost:8080/",
          "height": 488
        },
        "id": "SHu6o9azcF8R",
        "outputId": "7f8fdeb4-b87e-413c-ad00-4901e4d0a9b9"
      },
      "outputs": [
        {
          "data": {
            "text/html": [
              "\n",
              "  <div id=\"df-878c7104-7867-4267-8007-ad4af864d66f\">\n",
              "    <div class=\"colab-df-container\">\n",
              "      <div>\n",
              "<style scoped>\n",
              "    .dataframe tbody tr th:only-of-type {\n",
              "        vertical-align: middle;\n",
              "    }\n",
              "\n",
              "    .dataframe tbody tr th {\n",
              "        vertical-align: top;\n",
              "    }\n",
              "\n",
              "    .dataframe thead th {\n",
              "        text-align: right;\n",
              "    }\n",
              "</style>\n",
              "<table border=\"1\" class=\"dataframe\">\n",
              "  <thead>\n",
              "    <tr style=\"text-align: right;\">\n",
              "      <th></th>\n",
              "      <th>verified</th>\n",
              "      <th>location</th>\n",
              "      <th>followers_count</th>\n",
              "      <th>following_count</th>\n",
              "      <th>tweet_count</th>\n",
              "      <th>isFraud</th>\n",
              "      <th>un_no_of_char</th>\n",
              "      <th>un_special_char</th>\n",
              "      <th>un_uppercase</th>\n",
              "      <th>name_no_of_char</th>\n",
              "      <th>name_special_char</th>\n",
              "      <th>name_uppercase</th>\n",
              "      <th>des_no_of_usertags</th>\n",
              "      <th>des_no_of_hashtags</th>\n",
              "      <th>des_external_links</th>\n",
              "      <th>has_description</th>\n",
              "      <th>year</th>\n",
              "      <th>Apr</th>\n",
              "      <th>Aug</th>\n",
              "      <th>Dec</th>\n",
              "      <th>Feb</th>\n",
              "      <th>Jan</th>\n",
              "      <th>Jul</th>\n",
              "      <th>Jun</th>\n",
              "      <th>Mar</th>\n",
              "      <th>May</th>\n",
              "      <th>Nov</th>\n",
              "      <th>Oct</th>\n",
              "      <th>Sep</th>\n",
              "      <th>Fri</th>\n",
              "      <th>Mon</th>\n",
              "      <th>Sat</th>\n",
              "      <th>Sun</th>\n",
              "      <th>Thu</th>\n",
              "      <th>Tue</th>\n",
              "      <th>Wed</th>\n",
              "    </tr>\n",
              "  </thead>\n",
              "  <tbody>\n",
              "    <tr>\n",
              "      <th>0</th>\n",
              "      <td>0</td>\n",
              "      <td>0</td>\n",
              "      <td>1997</td>\n",
              "      <td>5</td>\n",
              "      <td>17090</td>\n",
              "      <td>1</td>\n",
              "      <td>15</td>\n",
              "      <td>1</td>\n",
              "      <td>0</td>\n",
              "      <td>19</td>\n",
              "      <td>0</td>\n",
              "      <td>1</td>\n",
              "      <td>2</td>\n",
              "      <td>0</td>\n",
              "      <td>0</td>\n",
              "      <td>1</td>\n",
              "      <td>2016</td>\n",
              "      <td>0</td>\n",
              "      <td>0</td>\n",
              "      <td>0</td>\n",
              "      <td>0</td>\n",
              "      <td>0</td>\n",
              "      <td>0</td>\n",
              "      <td>0</td>\n",
              "      <td>0</td>\n",
              "      <td>0</td>\n",
              "      <td>0</td>\n",
              "      <td>1</td>\n",
              "      <td>0</td>\n",
              "      <td>0</td>\n",
              "      <td>0</td>\n",
              "      <td>1</td>\n",
              "      <td>0</td>\n",
              "      <td>0</td>\n",
              "      <td>0</td>\n",
              "      <td>0</td>\n",
              "    </tr>\n",
              "    <tr>\n",
              "      <th>1</th>\n",
              "      <td>0</td>\n",
              "      <td>0</td>\n",
              "      <td>1997</td>\n",
              "      <td>5</td>\n",
              "      <td>17090</td>\n",
              "      <td>1</td>\n",
              "      <td>15</td>\n",
              "      <td>1</td>\n",
              "      <td>0</td>\n",
              "      <td>19</td>\n",
              "      <td>0</td>\n",
              "      <td>1</td>\n",
              "      <td>2</td>\n",
              "      <td>0</td>\n",
              "      <td>0</td>\n",
              "      <td>1</td>\n",
              "      <td>2016</td>\n",
              "      <td>0</td>\n",
              "      <td>0</td>\n",
              "      <td>0</td>\n",
              "      <td>0</td>\n",
              "      <td>0</td>\n",
              "      <td>0</td>\n",
              "      <td>0</td>\n",
              "      <td>0</td>\n",
              "      <td>0</td>\n",
              "      <td>0</td>\n",
              "      <td>1</td>\n",
              "      <td>0</td>\n",
              "      <td>0</td>\n",
              "      <td>0</td>\n",
              "      <td>1</td>\n",
              "      <td>0</td>\n",
              "      <td>0</td>\n",
              "      <td>0</td>\n",
              "      <td>0</td>\n",
              "    </tr>\n",
              "    <tr>\n",
              "      <th>2</th>\n",
              "      <td>0</td>\n",
              "      <td>0</td>\n",
              "      <td>1997</td>\n",
              "      <td>5</td>\n",
              "      <td>17090</td>\n",
              "      <td>1</td>\n",
              "      <td>15</td>\n",
              "      <td>1</td>\n",
              "      <td>0</td>\n",
              "      <td>19</td>\n",
              "      <td>0</td>\n",
              "      <td>1</td>\n",
              "      <td>2</td>\n",
              "      <td>0</td>\n",
              "      <td>0</td>\n",
              "      <td>1</td>\n",
              "      <td>2016</td>\n",
              "      <td>0</td>\n",
              "      <td>0</td>\n",
              "      <td>0</td>\n",
              "      <td>0</td>\n",
              "      <td>0</td>\n",
              "      <td>0</td>\n",
              "      <td>0</td>\n",
              "      <td>0</td>\n",
              "      <td>0</td>\n",
              "      <td>0</td>\n",
              "      <td>1</td>\n",
              "      <td>0</td>\n",
              "      <td>0</td>\n",
              "      <td>0</td>\n",
              "      <td>1</td>\n",
              "      <td>0</td>\n",
              "      <td>0</td>\n",
              "      <td>0</td>\n",
              "      <td>0</td>\n",
              "    </tr>\n",
              "    <tr>\n",
              "      <th>3</th>\n",
              "      <td>0</td>\n",
              "      <td>0</td>\n",
              "      <td>1997</td>\n",
              "      <td>5</td>\n",
              "      <td>17090</td>\n",
              "      <td>1</td>\n",
              "      <td>15</td>\n",
              "      <td>1</td>\n",
              "      <td>0</td>\n",
              "      <td>19</td>\n",
              "      <td>0</td>\n",
              "      <td>1</td>\n",
              "      <td>2</td>\n",
              "      <td>0</td>\n",
              "      <td>0</td>\n",
              "      <td>1</td>\n",
              "      <td>2016</td>\n",
              "      <td>0</td>\n",
              "      <td>0</td>\n",
              "      <td>0</td>\n",
              "      <td>0</td>\n",
              "      <td>0</td>\n",
              "      <td>0</td>\n",
              "      <td>0</td>\n",
              "      <td>0</td>\n",
              "      <td>0</td>\n",
              "      <td>0</td>\n",
              "      <td>1</td>\n",
              "      <td>0</td>\n",
              "      <td>0</td>\n",
              "      <td>0</td>\n",
              "      <td>1</td>\n",
              "      <td>0</td>\n",
              "      <td>0</td>\n",
              "      <td>0</td>\n",
              "      <td>0</td>\n",
              "    </tr>\n",
              "    <tr>\n",
              "      <th>4</th>\n",
              "      <td>0</td>\n",
              "      <td>0</td>\n",
              "      <td>1997</td>\n",
              "      <td>5</td>\n",
              "      <td>17090</td>\n",
              "      <td>1</td>\n",
              "      <td>15</td>\n",
              "      <td>1</td>\n",
              "      <td>0</td>\n",
              "      <td>19</td>\n",
              "      <td>0</td>\n",
              "      <td>1</td>\n",
              "      <td>2</td>\n",
              "      <td>0</td>\n",
              "      <td>0</td>\n",
              "      <td>1</td>\n",
              "      <td>2016</td>\n",
              "      <td>0</td>\n",
              "      <td>0</td>\n",
              "      <td>0</td>\n",
              "      <td>0</td>\n",
              "      <td>0</td>\n",
              "      <td>0</td>\n",
              "      <td>0</td>\n",
              "      <td>0</td>\n",
              "      <td>0</td>\n",
              "      <td>0</td>\n",
              "      <td>1</td>\n",
              "      <td>0</td>\n",
              "      <td>0</td>\n",
              "      <td>0</td>\n",
              "      <td>1</td>\n",
              "      <td>0</td>\n",
              "      <td>0</td>\n",
              "      <td>0</td>\n",
              "      <td>0</td>\n",
              "    </tr>\n",
              "    <tr>\n",
              "      <th>...</th>\n",
              "      <td>...</td>\n",
              "      <td>...</td>\n",
              "      <td>...</td>\n",
              "      <td>...</td>\n",
              "      <td>...</td>\n",
              "      <td>...</td>\n",
              "      <td>...</td>\n",
              "      <td>...</td>\n",
              "      <td>...</td>\n",
              "      <td>...</td>\n",
              "      <td>...</td>\n",
              "      <td>...</td>\n",
              "      <td>...</td>\n",
              "      <td>...</td>\n",
              "      <td>...</td>\n",
              "      <td>...</td>\n",
              "      <td>...</td>\n",
              "      <td>...</td>\n",
              "      <td>...</td>\n",
              "      <td>...</td>\n",
              "      <td>...</td>\n",
              "      <td>...</td>\n",
              "      <td>...</td>\n",
              "      <td>...</td>\n",
              "      <td>...</td>\n",
              "      <td>...</td>\n",
              "      <td>...</td>\n",
              "      <td>...</td>\n",
              "      <td>...</td>\n",
              "      <td>...</td>\n",
              "      <td>...</td>\n",
              "      <td>...</td>\n",
              "      <td>...</td>\n",
              "      <td>...</td>\n",
              "      <td>...</td>\n",
              "      <td>...</td>\n",
              "    </tr>\n",
              "    <tr>\n",
              "      <th>88127</th>\n",
              "      <td>1</td>\n",
              "      <td>1</td>\n",
              "      <td>803247</td>\n",
              "      <td>7</td>\n",
              "      <td>3159</td>\n",
              "      <td>0</td>\n",
              "      <td>9</td>\n",
              "      <td>1</td>\n",
              "      <td>1</td>\n",
              "      <td>10</td>\n",
              "      <td>1</td>\n",
              "      <td>0</td>\n",
              "      <td>0</td>\n",
              "      <td>0</td>\n",
              "      <td>0</td>\n",
              "      <td>0</td>\n",
              "      <td>2012</td>\n",
              "      <td>0</td>\n",
              "      <td>0</td>\n",
              "      <td>0</td>\n",
              "      <td>0</td>\n",
              "      <td>0</td>\n",
              "      <td>0</td>\n",
              "      <td>0</td>\n",
              "      <td>1</td>\n",
              "      <td>0</td>\n",
              "      <td>0</td>\n",
              "      <td>0</td>\n",
              "      <td>0</td>\n",
              "      <td>0</td>\n",
              "      <td>0</td>\n",
              "      <td>0</td>\n",
              "      <td>0</td>\n",
              "      <td>0</td>\n",
              "      <td>0</td>\n",
              "      <td>1</td>\n",
              "    </tr>\n",
              "    <tr>\n",
              "      <th>88128</th>\n",
              "      <td>1</td>\n",
              "      <td>1</td>\n",
              "      <td>803247</td>\n",
              "      <td>7</td>\n",
              "      <td>3159</td>\n",
              "      <td>0</td>\n",
              "      <td>9</td>\n",
              "      <td>1</td>\n",
              "      <td>1</td>\n",
              "      <td>10</td>\n",
              "      <td>1</td>\n",
              "      <td>0</td>\n",
              "      <td>0</td>\n",
              "      <td>0</td>\n",
              "      <td>0</td>\n",
              "      <td>0</td>\n",
              "      <td>2012</td>\n",
              "      <td>0</td>\n",
              "      <td>0</td>\n",
              "      <td>0</td>\n",
              "      <td>0</td>\n",
              "      <td>0</td>\n",
              "      <td>0</td>\n",
              "      <td>0</td>\n",
              "      <td>1</td>\n",
              "      <td>0</td>\n",
              "      <td>0</td>\n",
              "      <td>0</td>\n",
              "      <td>0</td>\n",
              "      <td>0</td>\n",
              "      <td>0</td>\n",
              "      <td>0</td>\n",
              "      <td>0</td>\n",
              "      <td>0</td>\n",
              "      <td>0</td>\n",
              "      <td>1</td>\n",
              "    </tr>\n",
              "    <tr>\n",
              "      <th>88129</th>\n",
              "      <td>1</td>\n",
              "      <td>1</td>\n",
              "      <td>803247</td>\n",
              "      <td>7</td>\n",
              "      <td>3159</td>\n",
              "      <td>0</td>\n",
              "      <td>9</td>\n",
              "      <td>1</td>\n",
              "      <td>1</td>\n",
              "      <td>10</td>\n",
              "      <td>1</td>\n",
              "      <td>0</td>\n",
              "      <td>0</td>\n",
              "      <td>0</td>\n",
              "      <td>0</td>\n",
              "      <td>0</td>\n",
              "      <td>2012</td>\n",
              "      <td>0</td>\n",
              "      <td>0</td>\n",
              "      <td>0</td>\n",
              "      <td>0</td>\n",
              "      <td>0</td>\n",
              "      <td>0</td>\n",
              "      <td>0</td>\n",
              "      <td>1</td>\n",
              "      <td>0</td>\n",
              "      <td>0</td>\n",
              "      <td>0</td>\n",
              "      <td>0</td>\n",
              "      <td>0</td>\n",
              "      <td>0</td>\n",
              "      <td>0</td>\n",
              "      <td>0</td>\n",
              "      <td>0</td>\n",
              "      <td>0</td>\n",
              "      <td>1</td>\n",
              "    </tr>\n",
              "    <tr>\n",
              "      <th>88130</th>\n",
              "      <td>1</td>\n",
              "      <td>1</td>\n",
              "      <td>803247</td>\n",
              "      <td>7</td>\n",
              "      <td>3159</td>\n",
              "      <td>0</td>\n",
              "      <td>9</td>\n",
              "      <td>1</td>\n",
              "      <td>1</td>\n",
              "      <td>10</td>\n",
              "      <td>1</td>\n",
              "      <td>0</td>\n",
              "      <td>0</td>\n",
              "      <td>0</td>\n",
              "      <td>0</td>\n",
              "      <td>0</td>\n",
              "      <td>2012</td>\n",
              "      <td>0</td>\n",
              "      <td>0</td>\n",
              "      <td>0</td>\n",
              "      <td>0</td>\n",
              "      <td>0</td>\n",
              "      <td>0</td>\n",
              "      <td>0</td>\n",
              "      <td>1</td>\n",
              "      <td>0</td>\n",
              "      <td>0</td>\n",
              "      <td>0</td>\n",
              "      <td>0</td>\n",
              "      <td>0</td>\n",
              "      <td>0</td>\n",
              "      <td>0</td>\n",
              "      <td>0</td>\n",
              "      <td>0</td>\n",
              "      <td>0</td>\n",
              "      <td>1</td>\n",
              "    </tr>\n",
              "    <tr>\n",
              "      <th>88131</th>\n",
              "      <td>1</td>\n",
              "      <td>1</td>\n",
              "      <td>803247</td>\n",
              "      <td>7</td>\n",
              "      <td>3159</td>\n",
              "      <td>0</td>\n",
              "      <td>9</td>\n",
              "      <td>1</td>\n",
              "      <td>1</td>\n",
              "      <td>10</td>\n",
              "      <td>1</td>\n",
              "      <td>0</td>\n",
              "      <td>0</td>\n",
              "      <td>0</td>\n",
              "      <td>0</td>\n",
              "      <td>0</td>\n",
              "      <td>2012</td>\n",
              "      <td>0</td>\n",
              "      <td>0</td>\n",
              "      <td>0</td>\n",
              "      <td>0</td>\n",
              "      <td>0</td>\n",
              "      <td>0</td>\n",
              "      <td>0</td>\n",
              "      <td>1</td>\n",
              "      <td>0</td>\n",
              "      <td>0</td>\n",
              "      <td>0</td>\n",
              "      <td>0</td>\n",
              "      <td>0</td>\n",
              "      <td>0</td>\n",
              "      <td>0</td>\n",
              "      <td>0</td>\n",
              "      <td>0</td>\n",
              "      <td>0</td>\n",
              "      <td>1</td>\n",
              "    </tr>\n",
              "  </tbody>\n",
              "</table>\n",
              "<p>88132 rows × 36 columns</p>\n",
              "</div>\n",
              "      <button class=\"colab-df-convert\" onclick=\"convertToInteractive('df-878c7104-7867-4267-8007-ad4af864d66f')\"\n",
              "              title=\"Convert this dataframe to an interactive table.\"\n",
              "              style=\"display:none;\">\n",
              "        \n",
              "  <svg xmlns=\"http://www.w3.org/2000/svg\" height=\"24px\"viewBox=\"0 0 24 24\"\n",
              "       width=\"24px\">\n",
              "    <path d=\"M0 0h24v24H0V0z\" fill=\"none\"/>\n",
              "    <path d=\"M18.56 5.44l.94 2.06.94-2.06 2.06-.94-2.06-.94-.94-2.06-.94 2.06-2.06.94zm-11 1L8.5 8.5l.94-2.06 2.06-.94-2.06-.94L8.5 2.5l-.94 2.06-2.06.94zm10 10l.94 2.06.94-2.06 2.06-.94-2.06-.94-.94-2.06-.94 2.06-2.06.94z\"/><path d=\"M17.41 7.96l-1.37-1.37c-.4-.4-.92-.59-1.43-.59-.52 0-1.04.2-1.43.59L10.3 9.45l-7.72 7.72c-.78.78-.78 2.05 0 2.83L4 21.41c.39.39.9.59 1.41.59.51 0 1.02-.2 1.41-.59l7.78-7.78 2.81-2.81c.8-.78.8-2.07 0-2.86zM5.41 20L4 18.59l7.72-7.72 1.47 1.35L5.41 20z\"/>\n",
              "  </svg>\n",
              "      </button>\n",
              "      \n",
              "  <style>\n",
              "    .colab-df-container {\n",
              "      display:flex;\n",
              "      flex-wrap:wrap;\n",
              "      gap: 12px;\n",
              "    }\n",
              "\n",
              "    .colab-df-convert {\n",
              "      background-color: #E8F0FE;\n",
              "      border: none;\n",
              "      border-radius: 50%;\n",
              "      cursor: pointer;\n",
              "      display: none;\n",
              "      fill: #1967D2;\n",
              "      height: 32px;\n",
              "      padding: 0 0 0 0;\n",
              "      width: 32px;\n",
              "    }\n",
              "\n",
              "    .colab-df-convert:hover {\n",
              "      background-color: #E2EBFA;\n",
              "      box-shadow: 0px 1px 2px rgba(60, 64, 67, 0.3), 0px 1px 3px 1px rgba(60, 64, 67, 0.15);\n",
              "      fill: #174EA6;\n",
              "    }\n",
              "\n",
              "    [theme=dark] .colab-df-convert {\n",
              "      background-color: #3B4455;\n",
              "      fill: #D2E3FC;\n",
              "    }\n",
              "\n",
              "    [theme=dark] .colab-df-convert:hover {\n",
              "      background-color: #434B5C;\n",
              "      box-shadow: 0px 1px 3px 1px rgba(0, 0, 0, 0.15);\n",
              "      filter: drop-shadow(0px 1px 2px rgba(0, 0, 0, 0.3));\n",
              "      fill: #FFFFFF;\n",
              "    }\n",
              "  </style>\n",
              "\n",
              "      <script>\n",
              "        const buttonEl =\n",
              "          document.querySelector('#df-878c7104-7867-4267-8007-ad4af864d66f button.colab-df-convert');\n",
              "        buttonEl.style.display =\n",
              "          google.colab.kernel.accessAllowed ? 'block' : 'none';\n",
              "\n",
              "        async function convertToInteractive(key) {\n",
              "          const element = document.querySelector('#df-878c7104-7867-4267-8007-ad4af864d66f');\n",
              "          const dataTable =\n",
              "            await google.colab.kernel.invokeFunction('convertToInteractive',\n",
              "                                                     [key], {});\n",
              "          if (!dataTable) return;\n",
              "\n",
              "          const docLinkHtml = 'Like what you see? Visit the ' +\n",
              "            '<a target=\"_blank\" href=https://colab.research.google.com/notebooks/data_table.ipynb>data table notebook</a>'\n",
              "            + ' to learn more about interactive tables.';\n",
              "          element.innerHTML = '';\n",
              "          dataTable['output_type'] = 'display_data';\n",
              "          await google.colab.output.renderOutput(dataTable, element);\n",
              "          const docLink = document.createElement('div');\n",
              "          docLink.innerHTML = docLinkHtml;\n",
              "          element.appendChild(docLink);\n",
              "        }\n",
              "      </script>\n",
              "    </div>\n",
              "  </div>\n",
              "  "
            ],
            "text/plain": [
              "       verified  location  followers_count  following_count  tweet_count  \\\n",
              "0             0         0             1997                5        17090   \n",
              "1             0         0             1997                5        17090   \n",
              "2             0         0             1997                5        17090   \n",
              "3             0         0             1997                5        17090   \n",
              "4             0         0             1997                5        17090   \n",
              "...         ...       ...              ...              ...          ...   \n",
              "88127         1         1           803247                7         3159   \n",
              "88128         1         1           803247                7         3159   \n",
              "88129         1         1           803247                7         3159   \n",
              "88130         1         1           803247                7         3159   \n",
              "88131         1         1           803247                7         3159   \n",
              "\n",
              "       isFraud  un_no_of_char  un_special_char  un_uppercase  name_no_of_char  \\\n",
              "0            1             15                1             0               19   \n",
              "1            1             15                1             0               19   \n",
              "2            1             15                1             0               19   \n",
              "3            1             15                1             0               19   \n",
              "4            1             15                1             0               19   \n",
              "...        ...            ...              ...           ...              ...   \n",
              "88127        0              9                1             1               10   \n",
              "88128        0              9                1             1               10   \n",
              "88129        0              9                1             1               10   \n",
              "88130        0              9                1             1               10   \n",
              "88131        0              9                1             1               10   \n",
              "\n",
              "       name_special_char  name_uppercase  des_no_of_usertags  \\\n",
              "0                      0               1                   2   \n",
              "1                      0               1                   2   \n",
              "2                      0               1                   2   \n",
              "3                      0               1                   2   \n",
              "4                      0               1                   2   \n",
              "...                  ...             ...                 ...   \n",
              "88127                  1               0                   0   \n",
              "88128                  1               0                   0   \n",
              "88129                  1               0                   0   \n",
              "88130                  1               0                   0   \n",
              "88131                  1               0                   0   \n",
              "\n",
              "       des_no_of_hashtags  des_external_links  has_description  year  Apr  \\\n",
              "0                       0                   0                1  2016    0   \n",
              "1                       0                   0                1  2016    0   \n",
              "2                       0                   0                1  2016    0   \n",
              "3                       0                   0                1  2016    0   \n",
              "4                       0                   0                1  2016    0   \n",
              "...                   ...                 ...              ...   ...  ...   \n",
              "88127                   0                   0                0  2012    0   \n",
              "88128                   0                   0                0  2012    0   \n",
              "88129                   0                   0                0  2012    0   \n",
              "88130                   0                   0                0  2012    0   \n",
              "88131                   0                   0                0  2012    0   \n",
              "\n",
              "       Aug  Dec  Feb  Jan  Jul  Jun  Mar  May  Nov  Oct  Sep  Fri  Mon  Sat  \\\n",
              "0        0    0    0    0    0    0    0    0    0    1    0    0    0    1   \n",
              "1        0    0    0    0    0    0    0    0    0    1    0    0    0    1   \n",
              "2        0    0    0    0    0    0    0    0    0    1    0    0    0    1   \n",
              "3        0    0    0    0    0    0    0    0    0    1    0    0    0    1   \n",
              "4        0    0    0    0    0    0    0    0    0    1    0    0    0    1   \n",
              "...    ...  ...  ...  ...  ...  ...  ...  ...  ...  ...  ...  ...  ...  ...   \n",
              "88127    0    0    0    0    0    0    1    0    0    0    0    0    0    0   \n",
              "88128    0    0    0    0    0    0    1    0    0    0    0    0    0    0   \n",
              "88129    0    0    0    0    0    0    1    0    0    0    0    0    0    0   \n",
              "88130    0    0    0    0    0    0    1    0    0    0    0    0    0    0   \n",
              "88131    0    0    0    0    0    0    1    0    0    0    0    0    0    0   \n",
              "\n",
              "       Sun  Thu  Tue  Wed  \n",
              "0        0    0    0    0  \n",
              "1        0    0    0    0  \n",
              "2        0    0    0    0  \n",
              "3        0    0    0    0  \n",
              "4        0    0    0    0  \n",
              "...    ...  ...  ...  ...  \n",
              "88127    0    0    0    1  \n",
              "88128    0    0    0    1  \n",
              "88129    0    0    0    1  \n",
              "88130    0    0    0    1  \n",
              "88131    0    0    0    1  \n",
              "\n",
              "[88132 rows x 36 columns]"
            ]
          },
          "execution_count": 22,
          "metadata": {},
          "output_type": "execute_result"
        }
      ],
      "source": [
        "# Reading of Excel\n",
        "dataset = pd.read_csv('cleaned_others_dataset.csv')\n",
        "dataset"
      ]
    },
    {
      "cell_type": "markdown",
      "metadata": {
        "id": "Vis4suhFeepV"
      },
      "source": [
        "# Feature Engineering"
      ]
    },
    {
      "cell_type": "code",
      "execution_count": 23,
      "metadata": {
        "colab": {
          "base_uri": "https://localhost:8080/"
        },
        "id": "Je0HFMQWcvqF",
        "outputId": "7ff003e6-8054-41ff-b379-b5956190a960"
      },
      "outputs": [
        {
          "name": "stdout",
          "output_type": "stream",
          "text": [
            "Train set: (70505, 35) (70505,)\n",
            "Test set: (17627, 35) (17627,)\n"
          ]
        }
      ],
      "source": [
        "X_train, X_test, y_train, y_test = train_test_split(dataset.drop(columns=[\"isFraud\"]), dataset[\"isFraud\"], test_size = 0.2, random_state=101)\n",
        "print(\"Train set:\", X_train.shape, y_train.shape)\n",
        "print(\"Test set:\", X_test.shape, y_test.shape)"
      ]
    },
    {
      "cell_type": "code",
      "execution_count": 24,
      "metadata": {
        "id": "LFTus7pkclXK"
      },
      "outputs": [],
      "source": [
        "scaler = StandardScaler()\n",
        "fitted = scaler.fit(X_train)\n",
        "X_train_fitted = fitted.transform(X_train)\n",
        "X_test_fitted = fitted.transform(X_test)"
      ]
    },
    {
      "cell_type": "code",
      "execution_count": 25,
      "metadata": {
        "colab": {
          "base_uri": "https://localhost:8080/"
        },
        "id": "X45Kp6zXcm8w",
        "outputId": "ad784e3e-a467-4954-c930-a54a2a7a7d05"
      },
      "outputs": [
        {
          "name": "stdout",
          "output_type": "stream",
          "text": [
            "(70505, 35) (70505, 1) (17627, 35) (17627, 1)\n"
          ]
        }
      ],
      "source": [
        "x_train = pd.DataFrame(X_train_fitted, columns = X_train.columns)\n",
        "x_test = pd.DataFrame(X_test_fitted, columns = X_test.columns)\n",
        "y_train = pd.DataFrame(y_train, columns = [\"isFraud\"])\n",
        "y_test = pd.DataFrame(y_test, columns = [\"isFraud\"])\n",
        "print(x_train.shape,\n",
        "      y_train.shape,\n",
        "      x_test.shape,\n",
        "      y_test.shape\n",
        "      )"
      ]
    },
    {
      "cell_type": "markdown",
      "metadata": {
        "id": "VIA7GrhPehO4"
      },
      "source": [
        "# XGBoost\n",
        "* Model (Grid Search + Randomized Search + Bayesian Optimisation)\n",
        "* Error Metrics\n",
        "* Plot for Feature Importance"
      ]
    },
    {
      "cell_type": "markdown",
      "metadata": {
        "id": "xuXSyBm-Cbaq"
      },
      "source": [
        "### Grid Search"
      ]
    },
    {
      "cell_type": "code",
      "execution_count": 49,
      "metadata": {
        "id": "p_FPHy90ei6Z"
      },
      "outputs": [],
      "source": [
        "estimators = xgb.XGBClassifier(\n",
        "                       gamma = 0.1,\n",
        "                       alpha = 0.5,\n",
        "                       objective = \"binary:logistic\",\n",
        "                       eval_metric = \"logloss\")\n",
        "\n",
        "parameters = {\n",
        "    'max_depth': [3, 4, 5, 6, 7, 8],\n",
        "    'subsample': [0.6, 0.8, 1.0],\n",
        "    'eta': [0.01, 0.1, 0.2], \n",
        "    'colsample_bytree': [0.5, 0.6, 0.7, 0.8, 0.9],  \n",
        "}\n",
        "    \n",
        "grid_search = GridSearchCV(\n",
        "    estimator=estimators,\n",
        "    param_grid=parameters,\n",
        "    n_jobs = -1,\n",
        "    cv = 5,\n",
        "    verbose=True\n",
        ")"
      ]
    },
    {
      "cell_type": "code",
      "execution_count": 50,
      "metadata": {
        "colab": {
          "base_uri": "https://localhost:8080/"
        },
        "id": "Vop_Q3o24h1F",
        "outputId": "92154a25-e5b7-4c34-ef9e-3a6204b67747"
      },
      "outputs": [
        {
          "name": "stdout",
          "output_type": "stream",
          "text": [
            "Fitting 5 folds for each of 270 candidates, totalling 1350 fits\n",
            "CPU times: user 1min 25s, sys: 8.82 s, total: 1min 34s\n",
            "Wall time: 2h 49min\n"
          ]
        },
        {
          "data": {
            "text/plain": [
              "GridSearchCV(cv=5,\n",
              "             estimator=XGBClassifier(alpha=0.5, eval_metric='logloss',\n",
              "                                     gamma=0.1),\n",
              "             n_jobs=-1,\n",
              "             param_grid={'colsample_bytree': [0.5, 0.6, 0.7, 0.8, 0.9],\n",
              "                         'eta': [0.01, 0.1, 0.2],\n",
              "                         'max_depth': [3, 4, 5, 6, 7, 8],\n",
              "                         'subsample': [0.6, 0.8, 1.0]},\n",
              "             verbose=True)"
            ]
          },
          "execution_count": 50,
          "metadata": {},
          "output_type": "execute_result"
        }
      ],
      "source": [
        "%%time\n",
        "\n",
        "grid_search.fit(x_train, y_train)\n",
        "# Fitting 5 folds for each of 270 candidates, totalling 1350 fits\n",
        "# CPU times: user 1min 25s, sys: 8.82 s, total: 1min 34s\n",
        "# Wall time: 2h 49min"
      ]
    },
    {
      "cell_type": "code",
      "execution_count": 52,
      "metadata": {
        "colab": {
          "base_uri": "https://localhost:8080/"
        },
        "id": "EzGHMfcs4oAP",
        "outputId": "9ef0214c-f64a-444c-a081-6123aac68b44"
      },
      "outputs": [
        {
          "name": "stdout",
          "output_type": "stream",
          "text": [
            "Grid Search: 0.9161336075455642\n"
          ]
        }
      ],
      "source": [
        "filename = 'grid_all.sav'\n",
        "pickle.dump(grid_search, open(filename, 'wb'))\n",
        "print(\"Grid Search:\", grid_search.best_score_)"
      ]
    },
    {
      "cell_type": "markdown",
      "metadata": {
        "id": "6gtmF03TCzIL"
      },
      "source": [
        "### Randomized Search"
      ]
    },
    {
      "cell_type": "code",
      "execution_count": 53,
      "metadata": {
        "id": "ePRqo7qU4_fR"
      },
      "outputs": [],
      "source": [
        "estimators = xgb.XGBClassifier(\n",
        "                       gamma = 0.1,\n",
        "                       alpha = 0.5,\n",
        "                       objective = \"binary:logistic\",\n",
        "                       eval_metric = \"logloss\")\n",
        "\n",
        "\n",
        "parameters = {\n",
        "    'max_depth': [3, 4, 5, 6, 7, 8],\n",
        "    'subsample': [0.6, 0.8, 1.0],\n",
        "    'eta': [0.01, 0.1, 0.2], \n",
        "    'colsample_bytree': [0.5, 0.6, 0.7, 0.8, 0.9],  \n",
        "}\n",
        "    \n",
        "random_search = RandomizedSearchCV(\n",
        "    estimator=estimators,\n",
        "    param_distributions=parameters,\n",
        "    n_jobs = -1,\n",
        "    cv = 5,\n",
        "    verbose=10,\n",
        "    n_iter=50,\n",
        "    random_state=123\n",
        ")"
      ]
    },
    {
      "cell_type": "code",
      "execution_count": 54,
      "metadata": {
        "colab": {
          "base_uri": "https://localhost:8080/"
        },
        "id": "SSeeAxx-5Adp",
        "outputId": "cd0b84aa-41b4-4afb-fd5e-41eec1458309"
      },
      "outputs": [
        {
          "name": "stdout",
          "output_type": "stream",
          "text": [
            "Fitting 5 folds for each of 50 candidates, totalling 250 fits\n",
            "CPU times: user 33.5 s, sys: 1.77 s, total: 35.3 s\n",
            "Wall time: 33min 52s\n"
          ]
        },
        {
          "data": {
            "text/plain": [
              "RandomizedSearchCV(cv=5,\n",
              "                   estimator=XGBClassifier(alpha=0.5, eval_metric='logloss',\n",
              "                                           gamma=0.1),\n",
              "                   n_iter=50, n_jobs=-1,\n",
              "                   param_distributions={'colsample_bytree': [0.5, 0.6, 0.7, 0.8,\n",
              "                                                             0.9],\n",
              "                                        'eta': [0.01, 0.1, 0.2],\n",
              "                                        'max_depth': [3, 4, 5, 6, 7, 8],\n",
              "                                        'subsample': [0.6, 0.8, 1.0]},\n",
              "                   random_state=123, verbose=10)"
            ]
          },
          "execution_count": 54,
          "metadata": {},
          "output_type": "execute_result"
        }
      ],
      "source": [
        "%%time\n",
        "\n",
        "random_search.fit(x_train, y_train)\n",
        "# Fitting 5 folds for each of 50 candidates, totalling 250 fits\n",
        "# CPU times: user 33.5 s, sys: 1.77 s, total: 35.3 s\n",
        "# Wall time: 33min 52s"
      ]
    },
    {
      "cell_type": "code",
      "execution_count": 55,
      "metadata": {
        "colab": {
          "base_uri": "https://localhost:8080/"
        },
        "id": "SnfhBftZ5DSG",
        "outputId": "f1298ca9-8fc8-43c2-9d92-698d0e34d52c"
      },
      "outputs": [
        {
          "name": "stdout",
          "output_type": "stream",
          "text": [
            "Randomised Search: 0.9161336075455642\n"
          ]
        }
      ],
      "source": [
        "filename = 'random_all.sav'\n",
        "pickle.dump(random_search, open(filename, 'wb'))\n",
        "\n",
        "print(\"Randomised Search:\", random_search.best_score_)"
      ]
    },
    {
      "cell_type": "markdown",
      "metadata": {
        "id": "l-PlH2YfC5p5"
      },
      "source": [
        "### Bayesian Optimisation"
      ]
    },
    {
      "cell_type": "code",
      "execution_count": 56,
      "metadata": {
        "id": "m0HbKt8E5G0U"
      },
      "outputs": [],
      "source": [
        "def xgboost_hyper_pram(eta, max_depth, subsample, gamma, colsample_bytree, alpha):\n",
        "    max_depth = int(max_depth)\n",
        "    clf = xgb.XGBClassifier(max_depth = max_depth, \n",
        "                           eta = eta, \n",
        "                           gamma = gamma,\n",
        "                           subsample = subsample,\n",
        "                           colsample_bytree = colsample_bytree,\n",
        "                           alpha = alpha,\n",
        "                           objective = \"binary:logistic\",\n",
        "                           eval_metric = \"logloss\")\n",
        "    \n",
        "    clf.fit(x_train, y_train)\n",
        "    y_pred = clf.predict(x_test)\n",
        "    \n",
        "    return (metrics.f1_score(y_test, y_pred))"
      ]
    },
    {
      "cell_type": "code",
      "execution_count": 57,
      "metadata": {
        "id": "hC5ujERK5I6g"
      },
      "outputs": [],
      "source": [
        "optim_model = BayesianOptimization(xgboost_hyper_pram, \n",
        "                                   {'max_depth' : (1,20), \n",
        "                                   'eta' : (0, 0.2), \n",
        "                                   'gamma' : (0, 1),\n",
        "                                   'subsample' : (0, 1),\n",
        "                                   'colsample_bytree' : (0, 1),\n",
        "                                   'alpha' : (0, 1)},\n",
        "                                   random_state=123\n",
        "                                  )"
      ]
    },
    {
      "cell_type": "code",
      "execution_count": 58,
      "metadata": {
        "colab": {
          "base_uri": "https://localhost:8080/"
        },
        "id": "psSkNGkt5LlG",
        "outputId": "150568fc-cd5e-425f-c2bb-e6579a9cfaa6"
      },
      "outputs": [
        {
          "name": "stdout",
          "output_type": "stream",
          "text": [
            "|   iter    |  target   |   alpha   | colsam... |    eta    |   gamma   | max_depth | subsample |\n",
            "-------------------------------------------------------------------------------------------------\n",
            "| \u001b[0m1        \u001b[0m | \u001b[0m0.8767   \u001b[0m | \u001b[0m0.6965   \u001b[0m | \u001b[0m0.2861   \u001b[0m | \u001b[0m0.04537  \u001b[0m | \u001b[0m0.5513   \u001b[0m | \u001b[0m14.67    \u001b[0m | \u001b[0m0.4231   \u001b[0m |\n",
            "| \u001b[0m2        \u001b[0m | \u001b[0m0.73     \u001b[0m | \u001b[0m0.9808   \u001b[0m | \u001b[0m0.6848   \u001b[0m | \u001b[0m0.09619  \u001b[0m | \u001b[0m0.3921   \u001b[0m | \u001b[0m7.52     \u001b[0m | \u001b[0m0.729    \u001b[0m |\n",
            "| \u001b[0m3        \u001b[0m | \u001b[0m0.5004   \u001b[0m | \u001b[0m0.4386   \u001b[0m | \u001b[0m0.05968  \u001b[0m | \u001b[0m0.07961  \u001b[0m | \u001b[0m0.738    \u001b[0m | \u001b[0m4.467    \u001b[0m | \u001b[0m0.1755   \u001b[0m |\n",
            "| \u001b[95m4        \u001b[0m | \u001b[95m0.9405   \u001b[0m | \u001b[95m0.5316   \u001b[0m | \u001b[95m0.5318   \u001b[0m | \u001b[95m0.1269   \u001b[0m | \u001b[95m0.8494   \u001b[0m | \u001b[95m14.76    \u001b[0m | \u001b[95m0.611    \u001b[0m |\n",
            "| \u001b[0m5        \u001b[0m | \u001b[0m0.6624   \u001b[0m | \u001b[0m0.7224   \u001b[0m | \u001b[0m0.323    \u001b[0m | \u001b[0m0.07236  \u001b[0m | \u001b[0m0.2283   \u001b[0m | \u001b[0m6.581    \u001b[0m | \u001b[0m0.631    \u001b[0m |\n",
            "| \u001b[0m6        \u001b[0m | \u001b[0m0.7687   \u001b[0m | \u001b[0m0.0921   \u001b[0m | \u001b[0m0.4337   \u001b[0m | \u001b[0m0.08617  \u001b[0m | \u001b[0m0.4937   \u001b[0m | \u001b[0m9.091    \u001b[0m | \u001b[0m0.3123   \u001b[0m |\n",
            "| \u001b[0m7        \u001b[0m | \u001b[0m0.8067   \u001b[0m | \u001b[0m0.4264   \u001b[0m | \u001b[0m0.8934   \u001b[0m | \u001b[0m0.1888   \u001b[0m | \u001b[0m0.5018   \u001b[0m | \u001b[0m12.86    \u001b[0m | \u001b[0m0.1156   \u001b[0m |\n",
            "| \u001b[0m8        \u001b[0m | \u001b[0m0.8499   \u001b[0m | \u001b[0m0.3173   \u001b[0m | \u001b[0m0.4148   \u001b[0m | \u001b[0m0.1733   \u001b[0m | \u001b[0m0.2505   \u001b[0m | \u001b[0m10.18    \u001b[0m | \u001b[0m0.9856   \u001b[0m |\n",
            "| \u001b[0m9        \u001b[0m | \u001b[0m0.9046   \u001b[0m | \u001b[0m0.5195   \u001b[0m | \u001b[0m0.6129   \u001b[0m | \u001b[0m0.02413  \u001b[0m | \u001b[0m0.8263   \u001b[0m | \u001b[0m12.46    \u001b[0m | \u001b[0m0.5451   \u001b[0m |\n",
            "| \u001b[0m10       \u001b[0m | \u001b[0m0.9326   \u001b[0m | \u001b[0m0.3428   \u001b[0m | \u001b[0m0.3041   \u001b[0m | \u001b[0m0.0834   \u001b[0m | \u001b[0m0.6813   \u001b[0m | \u001b[0m17.63    \u001b[0m | \u001b[0m0.5104   \u001b[0m |\n",
            "| \u001b[0m11       \u001b[0m | \u001b[0m0.7916   \u001b[0m | \u001b[0m0.6693   \u001b[0m | \u001b[0m0.5859   \u001b[0m | \u001b[0m0.125    \u001b[0m | \u001b[0m0.6747   \u001b[0m | \u001b[0m17.0     \u001b[0m | \u001b[0m0.08319  \u001b[0m |\n",
            "| \u001b[0m12       \u001b[0m | \u001b[0m0.5568   \u001b[0m | \u001b[0m0.7637   \u001b[0m | \u001b[0m0.2437   \u001b[0m | \u001b[0m0.03884  \u001b[0m | \u001b[0m0.5725   \u001b[0m | \u001b[0m2.819    \u001b[0m | \u001b[0m0.8853   \u001b[0m |\n",
            "| \u001b[0m13       \u001b[0m | \u001b[0m0.8044   \u001b[0m | \u001b[0m0.6272   \u001b[0m | \u001b[0m0.7234   \u001b[0m | \u001b[0m0.003226 \u001b[0m | \u001b[0m0.5944   \u001b[0m | \u001b[0m11.58    \u001b[0m | \u001b[0m0.159    \u001b[0m |\n",
            "| \u001b[0m14       \u001b[0m | \u001b[0m0.8697   \u001b[0m | \u001b[0m0.1531   \u001b[0m | \u001b[0m0.6955   \u001b[0m | \u001b[0m0.06375  \u001b[0m | \u001b[0m0.692    \u001b[0m | \u001b[0m11.53    \u001b[0m | \u001b[0m0.389    \u001b[0m |\n",
            "| \u001b[0m15       \u001b[0m | \u001b[0m0.6991   \u001b[0m | \u001b[0m0.9251   \u001b[0m | \u001b[0m0.8417   \u001b[0m | \u001b[0m0.07148  \u001b[0m | \u001b[0m0.04359  \u001b[0m | \u001b[0m6.791    \u001b[0m | \u001b[0m0.3982   \u001b[0m |\n",
            "| \u001b[0m16       \u001b[0m | \u001b[0m0.9392   \u001b[0m | \u001b[0m0.705    \u001b[0m | \u001b[0m0.9954   \u001b[0m | \u001b[0m0.07118  \u001b[0m | \u001b[0m0.7625   \u001b[0m | \u001b[0m12.27    \u001b[0m | \u001b[0m0.6917   \u001b[0m |\n",
            "| \u001b[0m17       \u001b[0m | \u001b[0m0.8277   \u001b[0m | \u001b[0m0.1511   \u001b[0m | \u001b[0m0.3989   \u001b[0m | \u001b[0m0.04817  \u001b[0m | \u001b[0m0.3435   \u001b[0m | \u001b[0m10.75    \u001b[0m | \u001b[0m0.6666   \u001b[0m |\n",
            "| \u001b[0m18       \u001b[0m | \u001b[0m0.7462   \u001b[0m | \u001b[0m0.1059   \u001b[0m | \u001b[0m0.1309   \u001b[0m | \u001b[0m0.0644   \u001b[0m | \u001b[0m0.6616   \u001b[0m | \u001b[0m17.08    \u001b[0m | \u001b[0m0.5533   \u001b[0m |\n",
            "| \u001b[0m19       \u001b[0m | \u001b[0m0.6255   \u001b[0m | \u001b[0m0.8545   \u001b[0m | \u001b[0m0.3848   \u001b[0m | \u001b[0m0.06336  \u001b[0m | \u001b[0m0.3543   \u001b[0m | \u001b[0m4.251    \u001b[0m | \u001b[0m0.8291   \u001b[0m |\n",
            "| \u001b[0m20       \u001b[0m | \u001b[0m0.4681   \u001b[0m | \u001b[0m0.3387   \u001b[0m | \u001b[0m0.5524   \u001b[0m | \u001b[0m0.1157   \u001b[0m | \u001b[0m0.5215   \u001b[0m | \u001b[0m1.051    \u001b[0m | \u001b[0m0.9883   \u001b[0m |\n",
            "| \u001b[95m21       \u001b[0m | \u001b[95m0.9629   \u001b[0m | \u001b[95m0.5337   \u001b[0m | \u001b[95m0.4451   \u001b[0m | \u001b[95m0.09823  \u001b[0m | \u001b[95m0.7163   \u001b[0m | \u001b[95m18.29    \u001b[0m | \u001b[95m0.5631   \u001b[0m |\n",
            "| \u001b[0m22       \u001b[0m | \u001b[0m0.9587   \u001b[0m | \u001b[0m0.6097   \u001b[0m | \u001b[0m1.0      \u001b[0m | \u001b[0m0.1454   \u001b[0m | \u001b[0m1.0      \u001b[0m | \u001b[0m14.18    \u001b[0m | \u001b[0m1.0      \u001b[0m |\n",
            "| \u001b[0m23       \u001b[0m | \u001b[0m0.9268   \u001b[0m | \u001b[0m0.2239   \u001b[0m | \u001b[0m1.0      \u001b[0m | \u001b[0m0.2      \u001b[0m | \u001b[0m1.0      \u001b[0m | \u001b[0m12.2     \u001b[0m | \u001b[0m1.0      \u001b[0m |\n",
            "| \u001b[0m24       \u001b[0m | \u001b[0m0.9268   \u001b[0m | \u001b[0m1.0      \u001b[0m | \u001b[0m1.0      \u001b[0m | \u001b[0m0.0      \u001b[0m | \u001b[0m1.0      \u001b[0m | \u001b[0m12.76    \u001b[0m | \u001b[0m1.0      \u001b[0m |\n",
            "| \u001b[0m25       \u001b[0m | \u001b[0m0.9587   \u001b[0m | \u001b[0m0.0      \u001b[0m | \u001b[0m1.0      \u001b[0m | \u001b[0m0.0      \u001b[0m | \u001b[0m1.0      \u001b[0m | \u001b[0m14.58    \u001b[0m | \u001b[0m1.0      \u001b[0m |\n",
            "| \u001b[0m26       \u001b[0m | \u001b[0m0.9587   \u001b[0m | \u001b[0m0.7516   \u001b[0m | \u001b[0m1.0      \u001b[0m | \u001b[0m0.0      \u001b[0m | \u001b[0m1.0      \u001b[0m | \u001b[0m14.83    \u001b[0m | \u001b[0m1.0      \u001b[0m |\n",
            "| \u001b[95m27       \u001b[0m | \u001b[95m0.9751   \u001b[0m | \u001b[95m0.4255   \u001b[0m | \u001b[95m0.9235   \u001b[0m | \u001b[95m0.1455   \u001b[0m | \u001b[95m1.0      \u001b[0m | \u001b[95m17.97    \u001b[0m | \u001b[95m1.0      \u001b[0m |\n",
            "| \u001b[0m28       \u001b[0m | \u001b[0m0.9723   \u001b[0m | \u001b[0m0.08716  \u001b[0m | \u001b[0m0.9986   \u001b[0m | \u001b[0m0.05882  \u001b[0m | \u001b[0m0.2788   \u001b[0m | \u001b[0m18.26    \u001b[0m | \u001b[0m0.5299   \u001b[0m |\n",
            "| \u001b[0m29       \u001b[0m | \u001b[0m0.975    \u001b[0m | \u001b[0m0.6143   \u001b[0m | \u001b[0m0.8342   \u001b[0m | \u001b[0m0.2      \u001b[0m | \u001b[0m0.2117   \u001b[0m | \u001b[0m18.0     \u001b[0m | \u001b[0m1.0      \u001b[0m |\n",
            "| \u001b[95m30       \u001b[0m | \u001b[95m0.9765   \u001b[0m | \u001b[95m0.196    \u001b[0m | \u001b[95m0.8872   \u001b[0m | \u001b[95m0.0623   \u001b[0m | \u001b[95m0.6038   \u001b[0m | \u001b[95m18.04    \u001b[0m | \u001b[95m0.8859   \u001b[0m |\n",
            "=================================================================================================\n",
            "CPU times: user 13min 15s, sys: 2.73 s, total: 13min 18s\n",
            "Wall time: 13min 17s\n"
          ]
        }
      ],
      "source": [
        "%%time \n",
        "\n",
        "optim_model.maximize(n_iter=10, init_points=20, acq='ei')\n",
        "\n",
        "# CPU times: user 13min 15s, sys: 2.73 s, total: 13min 18s\n",
        "# Wall time: 13min 17s"
      ]
    },
    {
      "cell_type": "code",
      "execution_count": 59,
      "metadata": {
        "colab": {
          "base_uri": "https://localhost:8080/",
          "height": 187
        },
        "id": "YWBAg2Cl5QIX",
        "outputId": "d19e4deb-09da-4f10-8bc4-73b0aa418821"
      },
      "outputs": [
        {
          "ename": "TypeError",
          "evalue": "ignored",
          "output_type": "error",
          "traceback": [
            "\u001b[0;31m---------------------------------------------------------------------------\u001b[0m",
            "\u001b[0;31mTypeError\u001b[0m                                 Traceback (most recent call last)",
            "\u001b[0;32m<ipython-input-59-6bf55f1fadcc>\u001b[0m in \u001b[0;36m<module>\u001b[0;34m\u001b[0m\n\u001b[1;32m      1\u001b[0m \u001b[0mfilename\u001b[0m \u001b[0;34m=\u001b[0m \u001b[0;34m'bayesian_all.sav'\u001b[0m\u001b[0;34m\u001b[0m\u001b[0;34m\u001b[0m\u001b[0m\n\u001b[0;32m----> 2\u001b[0;31m \u001b[0mpickle\u001b[0m\u001b[0;34m.\u001b[0m\u001b[0mdump\u001b[0m\u001b[0;34m(\u001b[0m\u001b[0moptim_model\u001b[0m\u001b[0;34m,\u001b[0m \u001b[0mopen\u001b[0m\u001b[0;34m(\u001b[0m\u001b[0mfilename\u001b[0m\u001b[0;34m,\u001b[0m \u001b[0;34m'wb'\u001b[0m\u001b[0;34m)\u001b[0m\u001b[0;34m)\u001b[0m\u001b[0;34m\u001b[0m\u001b[0;34m\u001b[0m\u001b[0m\n\u001b[0m",
            "\u001b[0;31mTypeError\u001b[0m: can't pickle _thread.lock objects"
          ]
        }
      ],
      "source": [
        "filename = 'bayesian_all.sav'\n",
        "pickle.dump(optim_model, open(filename, 'wb'))"
      ]
    },
    {
      "cell_type": "code",
      "execution_count": 60,
      "metadata": {
        "colab": {
          "base_uri": "https://localhost:8080/"
        },
        "id": "iozevB1w5Rv9",
        "outputId": "ecee4e30-e608-471c-86ee-9404f261dc92"
      },
      "outputs": [
        {
          "data": {
            "text/plain": [
              "{'alpha': 0.1960001096033014,\n",
              " 'colsample_bytree': 0.8872428824479304,\n",
              " 'eta': 0.06230384325729865,\n",
              " 'gamma': 0.6038267790905572,\n",
              " 'max_depth': 18.03591585261752,\n",
              " 'subsample': 0.8858827853626107}"
            ]
          },
          "execution_count": 60,
          "metadata": {},
          "output_type": "execute_result"
        }
      ],
      "source": [
        "optim_model.max[\"params\"]"
      ]
    },
    {
      "cell_type": "code",
      "execution_count": 61,
      "metadata": {
        "colab": {
          "base_uri": "https://localhost:8080/"
        },
        "id": "RM-B3Lkb5TvD",
        "outputId": "4c7c50d2-1f14-49fe-cb65-2b91688de327"
      },
      "outputs": [
        {
          "name": "stdout",
          "output_type": "stream",
          "text": [
            "Best score: 0.9764979338842975\n"
          ]
        }
      ],
      "source": [
        "params = optim_model.max['params']\n",
        "print(\"Best score:\", optim_model.max[\"target\"])"
      ]
    },
    {
      "cell_type": "markdown",
      "metadata": {
        "id": "oYq4yZ_jDMpW"
      },
      "source": [
        "### Comparing Model Scores"
      ]
    },
    {
      "cell_type": "code",
      "execution_count": 63,
      "metadata": {
        "colab": {
          "base_uri": "https://localhost:8080/"
        },
        "id": "92DB_4DY5UTA",
        "outputId": "fec8c171-0a35-4fda-b107-5a5687a53a8c"
      },
      "outputs": [
        {
          "name": "stdout",
          "output_type": "stream",
          "text": [
            "Grid Search: 0.9161336075455642\n",
            "Randomised Search: 0.9161336075455642\n",
            "Bayesian Optimisation: 0.9764979338842975\n"
          ]
        }
      ],
      "source": [
        "print(\"Grid Search:\", grid_search.best_score_) # 0.9161336075455642\n",
        "print(\"Randomised Search:\", random_search.best_score_) # 0.9161336075455642\n",
        "print(\"Bayesian Optimisation:\", optim_model.max[\"target\"]) # 0.9764979338842975"
      ]
    },
    {
      "cell_type": "code",
      "execution_count": 64,
      "metadata": {
        "id": "VO1ru0WN5YQS"
      },
      "outputs": [],
      "source": [
        "#Tuned hyperparameters using  \n",
        "final_model_all = xgb.XGBClassifier(max_depth = int(params['max_depth']), \n",
        "                           eta = params['eta'], \n",
        "                           gamma = params['gamma'],\n",
        "                           subsample = params['subsample'],\n",
        "                           colsample_bytree = params['colsample_bytree'],\n",
        "                           alpha = params['alpha'],\n",
        "                           objective = \"binary:logistic\",\n",
        "                           eval_metric = \"logloss\")\n",
        "\n",
        "xgbmodel_all_tuned = final_model_all.fit(x_train, y_train)"
      ]
    },
    {
      "cell_type": "code",
      "execution_count": 65,
      "metadata": {
        "id": "Ph4FVaiN5Y9f"
      },
      "outputs": [],
      "source": [
        "filename = 'final_all.sav'\n",
        "pickle.dump(xgbmodel_all_tuned, open(filename, 'wb'))"
      ]
    },
    {
      "cell_type": "code",
      "execution_count": 66,
      "metadata": {
        "id": "4Yez6C7e5bJ7"
      },
      "outputs": [],
      "source": [
        "y_pred_all = xgbmodel_all_tuned.predict(x_test)"
      ]
    },
    {
      "cell_type": "code",
      "execution_count": null,
      "metadata": {
        "id": "_fexSdhI5eeL"
      },
      "outputs": [],
      "source": [
        "# Print RMSE, y_test is a numpy array from test_label, y_pred_rank is a numpy array from your model prediction\n",
        "# print(metrics.mean_squared_error(y_test, y_pred_all, squared=False))\n",
        "# print(metrics.mean_absolute_error(y_test, y_pred_all))"
      ]
    },
    {
      "cell_type": "code",
      "execution_count": 68,
      "metadata": {
        "colab": {
          "base_uri": "https://localhost:8080/"
        },
        "id": "0xOHMVEh5ggf",
        "outputId": "5a13e899-02bc-4462-ef22-3f1eef3f98d6"
      },
      "outputs": [
        {
          "name": "stdout",
          "output_type": "stream",
          "text": [
            "Log Loss: 0.3566169903316565\n",
            "ROC AUC: 0.980269392073499\n",
            "F1-score: 0.9764979338842975\n",
            "Precision: 0.9900497512437811\n",
            "Recall: 0.9633121019108281\n"
          ]
        }
      ],
      "source": [
        "lg_loss = metrics.log_loss(y_test, y_pred_all)\n",
        "print(f'Log Loss: {lg_loss}')\n",
        "roc_auc = metrics.roc_auc_score(y_test, y_pred_all)\n",
        "print(f'ROC AUC: {roc_auc}')\n",
        "f1_score = metrics.f1_score(y_test, y_pred_all)\n",
        "print(f'F1-score: {f1_score}')\n",
        "precision = metrics.precision_score(y_test, y_pred_all)\n",
        "print(f'Precision: {precision}')\n",
        "recall = metrics.recall_score(y_test, y_pred_all)\n",
        "print(f'Recall: {recall}')\n",
        "# print(classification_report(y_test, y_pred_all))"
      ]
    },
    {
      "cell_type": "code",
      "execution_count": 69,
      "metadata": {
        "colab": {
          "base_uri": "https://localhost:8080/",
          "height": 1000
        },
        "id": "JaeWUfyH5iyM",
        "outputId": "66a02e28-f3ea-446d-98c4-94a799ec51c4"
      },
      "outputs": [
        {
          "data": {
            "image/png": "[encoded data removed]",
            "text/plain": [
              "<Figure size 864x1296 with 1 Axes>"
            ]
          },
          "metadata": {
            "needs_background": "light"
          },
          "output_type": "display_data"
        }
      ],
      "source": [
        "fig, ax = plt.subplots(figsize=(12,18))\n",
        "xgb.plot_importance(xgbmodel_all_tuned, importance_type = 'gain', height=0.8, ax=ax)\n",
        "plt.show()"
      ]
    }
  ],
  "metadata": {
    "colab": {
      "collapsed_sections": [],
      "provenance": []
    },
    "kernelspec": {
      "display_name": "Python 3.9.12 ('base')",
      "language": "python",
      "name": "python3"
    },
    "language_info": {
      "name": "python",
      "version": "3.9.12"
    },
    "vscode": {
      "interpreter": {
        "hash": "5655c9133574c514aaa4ad68d43c988f278bef092b676c0124373d7820ffd29c"
      }
    }
  },
  "nbformat": 4,
  "nbformat_minor": 0
}
