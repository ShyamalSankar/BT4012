{
 "cells": [
  {
   "cell_type": "markdown",
   "id": "571f5143",
   "metadata": {},
   "source": [
    "### Import Packages and Reading of Data"
   ]
  },
  {
   "cell_type": "code",
   "execution_count": 133,
   "id": "ee3a18bd",
   "metadata": {},
   "outputs": [],
   "source": [
    "import time\n",
    "import warnings\n",
    "import pickle\n",
    "\n",
    "import pandas as pd \n",
    "import numpy as np\n",
    "import matplotlib.pyplot as plt\n",
    "\n",
    "from sklearn.preprocessing import StandardScaler\n",
    "from sklearn.model_selection import train_test_split\n",
    "from sklearn.linear_model import LinearRegression, Ridge, LogisticRegression\n",
    "from sklearn import metrics\n",
    "from sklearn.model_selection import RandomizedSearchCV, GridSearchCV, cross_val_score, RepeatedKFold\n",
    "\n",
    "pd.set_option(\"display.max_columns\", None)\n",
    "warnings.filterwarnings(\"ignore\")"
   ]
  },
  {
   "cell_type": "code",
   "execution_count": 134,
   "id": "d139119b",
   "metadata": {},
   "outputs": [],
   "source": [
    "# Reading of Excel\n",
    "dataset = pd.read_csv('cleaned_others_dataset.csv')"
   ]
  },
  {
   "cell_type": "code",
   "execution_count": 135,
   "id": "a70afddb",
   "metadata": {},
   "outputs": [
    {
     "data": {
      "text/html": [
       "<div>\n",
       "<style scoped>\n",
       "    .dataframe tbody tr th:only-of-type {\n",
       "        vertical-align: middle;\n",
       "    }\n",
       "\n",
       "    .dataframe tbody tr th {\n",
       "        vertical-align: top;\n",
       "    }\n",
       "\n",
       "    .dataframe thead th {\n",
       "        text-align: right;\n",
       "    }\n",
       "</style>\n",
       "<table border=\"1\" class=\"dataframe\">\n",
       "  <thead>\n",
       "    <tr style=\"text-align: right;\">\n",
       "      <th></th>\n",
       "      <th>verified</th>\n",
       "      <th>location</th>\n",
       "      <th>followers_count</th>\n",
       "      <th>following_count</th>\n",
       "      <th>tweet_count</th>\n",
       "      <th>account_age_in_days</th>\n",
       "      <th>average_tweets_per_day</th>\n",
       "      <th>isFraud</th>\n",
       "      <th>un_no_of_char</th>\n",
       "      <th>un_special_char</th>\n",
       "      <th>un_uppercase</th>\n",
       "      <th>name_no_of_char</th>\n",
       "      <th>name_special_char</th>\n",
       "      <th>name_uppercase</th>\n",
       "      <th>des_no_of_usertags</th>\n",
       "      <th>des_no_of_hashtags</th>\n",
       "      <th>des_external_links</th>\n",
       "      <th>has_description</th>\n",
       "    </tr>\n",
       "  </thead>\n",
       "  <tbody>\n",
       "    <tr>\n",
       "      <th>0</th>\n",
       "      <td>0</td>\n",
       "      <td>0</td>\n",
       "      <td>1997</td>\n",
       "      <td>5</td>\n",
       "      <td>17090</td>\n",
       "      <td>2184</td>\n",
       "      <td>7.825092</td>\n",
       "      <td>1</td>\n",
       "      <td>15</td>\n",
       "      <td>1</td>\n",
       "      <td>0</td>\n",
       "      <td>19</td>\n",
       "      <td>0</td>\n",
       "      <td>1</td>\n",
       "      <td>2</td>\n",
       "      <td>0</td>\n",
       "      <td>0</td>\n",
       "      <td>1</td>\n",
       "    </tr>\n",
       "    <tr>\n",
       "      <th>1</th>\n",
       "      <td>0</td>\n",
       "      <td>0</td>\n",
       "      <td>1997</td>\n",
       "      <td>5</td>\n",
       "      <td>17090</td>\n",
       "      <td>2184</td>\n",
       "      <td>7.825092</td>\n",
       "      <td>1</td>\n",
       "      <td>15</td>\n",
       "      <td>1</td>\n",
       "      <td>0</td>\n",
       "      <td>19</td>\n",
       "      <td>0</td>\n",
       "      <td>1</td>\n",
       "      <td>2</td>\n",
       "      <td>0</td>\n",
       "      <td>0</td>\n",
       "      <td>1</td>\n",
       "    </tr>\n",
       "    <tr>\n",
       "      <th>2</th>\n",
       "      <td>0</td>\n",
       "      <td>0</td>\n",
       "      <td>1997</td>\n",
       "      <td>5</td>\n",
       "      <td>17090</td>\n",
       "      <td>2184</td>\n",
       "      <td>7.825092</td>\n",
       "      <td>1</td>\n",
       "      <td>15</td>\n",
       "      <td>1</td>\n",
       "      <td>0</td>\n",
       "      <td>19</td>\n",
       "      <td>0</td>\n",
       "      <td>1</td>\n",
       "      <td>2</td>\n",
       "      <td>0</td>\n",
       "      <td>0</td>\n",
       "      <td>1</td>\n",
       "    </tr>\n",
       "    <tr>\n",
       "      <th>3</th>\n",
       "      <td>0</td>\n",
       "      <td>0</td>\n",
       "      <td>1997</td>\n",
       "      <td>5</td>\n",
       "      <td>17090</td>\n",
       "      <td>2184</td>\n",
       "      <td>7.825092</td>\n",
       "      <td>1</td>\n",
       "      <td>15</td>\n",
       "      <td>1</td>\n",
       "      <td>0</td>\n",
       "      <td>19</td>\n",
       "      <td>0</td>\n",
       "      <td>1</td>\n",
       "      <td>2</td>\n",
       "      <td>0</td>\n",
       "      <td>0</td>\n",
       "      <td>1</td>\n",
       "    </tr>\n",
       "    <tr>\n",
       "      <th>4</th>\n",
       "      <td>0</td>\n",
       "      <td>0</td>\n",
       "      <td>1997</td>\n",
       "      <td>5</td>\n",
       "      <td>17090</td>\n",
       "      <td>2184</td>\n",
       "      <td>7.825092</td>\n",
       "      <td>1</td>\n",
       "      <td>15</td>\n",
       "      <td>1</td>\n",
       "      <td>0</td>\n",
       "      <td>19</td>\n",
       "      <td>0</td>\n",
       "      <td>1</td>\n",
       "      <td>2</td>\n",
       "      <td>0</td>\n",
       "      <td>0</td>\n",
       "      <td>1</td>\n",
       "    </tr>\n",
       "    <tr>\n",
       "      <th>...</th>\n",
       "      <td>...</td>\n",
       "      <td>...</td>\n",
       "      <td>...</td>\n",
       "      <td>...</td>\n",
       "      <td>...</td>\n",
       "      <td>...</td>\n",
       "      <td>...</td>\n",
       "      <td>...</td>\n",
       "      <td>...</td>\n",
       "      <td>...</td>\n",
       "      <td>...</td>\n",
       "      <td>...</td>\n",
       "      <td>...</td>\n",
       "      <td>...</td>\n",
       "      <td>...</td>\n",
       "      <td>...</td>\n",
       "      <td>...</td>\n",
       "      <td>...</td>\n",
       "    </tr>\n",
       "    <tr>\n",
       "      <th>88127</th>\n",
       "      <td>1</td>\n",
       "      <td>1</td>\n",
       "      <td>803247</td>\n",
       "      <td>7</td>\n",
       "      <td>3159</td>\n",
       "      <td>3860</td>\n",
       "      <td>0.818394</td>\n",
       "      <td>0</td>\n",
       "      <td>9</td>\n",
       "      <td>1</td>\n",
       "      <td>1</td>\n",
       "      <td>10</td>\n",
       "      <td>1</td>\n",
       "      <td>0</td>\n",
       "      <td>0</td>\n",
       "      <td>0</td>\n",
       "      <td>0</td>\n",
       "      <td>0</td>\n",
       "    </tr>\n",
       "    <tr>\n",
       "      <th>88128</th>\n",
       "      <td>1</td>\n",
       "      <td>1</td>\n",
       "      <td>803247</td>\n",
       "      <td>7</td>\n",
       "      <td>3159</td>\n",
       "      <td>3860</td>\n",
       "      <td>0.818394</td>\n",
       "      <td>0</td>\n",
       "      <td>9</td>\n",
       "      <td>1</td>\n",
       "      <td>1</td>\n",
       "      <td>10</td>\n",
       "      <td>1</td>\n",
       "      <td>0</td>\n",
       "      <td>0</td>\n",
       "      <td>0</td>\n",
       "      <td>0</td>\n",
       "      <td>0</td>\n",
       "    </tr>\n",
       "    <tr>\n",
       "      <th>88129</th>\n",
       "      <td>1</td>\n",
       "      <td>1</td>\n",
       "      <td>803247</td>\n",
       "      <td>7</td>\n",
       "      <td>3159</td>\n",
       "      <td>3860</td>\n",
       "      <td>0.818394</td>\n",
       "      <td>0</td>\n",
       "      <td>9</td>\n",
       "      <td>1</td>\n",
       "      <td>1</td>\n",
       "      <td>10</td>\n",
       "      <td>1</td>\n",
       "      <td>0</td>\n",
       "      <td>0</td>\n",
       "      <td>0</td>\n",
       "      <td>0</td>\n",
       "      <td>0</td>\n",
       "    </tr>\n",
       "    <tr>\n",
       "      <th>88130</th>\n",
       "      <td>1</td>\n",
       "      <td>1</td>\n",
       "      <td>803247</td>\n",
       "      <td>7</td>\n",
       "      <td>3159</td>\n",
       "      <td>3860</td>\n",
       "      <td>0.818394</td>\n",
       "      <td>0</td>\n",
       "      <td>9</td>\n",
       "      <td>1</td>\n",
       "      <td>1</td>\n",
       "      <td>10</td>\n",
       "      <td>1</td>\n",
       "      <td>0</td>\n",
       "      <td>0</td>\n",
       "      <td>0</td>\n",
       "      <td>0</td>\n",
       "      <td>0</td>\n",
       "    </tr>\n",
       "    <tr>\n",
       "      <th>88131</th>\n",
       "      <td>1</td>\n",
       "      <td>1</td>\n",
       "      <td>803247</td>\n",
       "      <td>7</td>\n",
       "      <td>3159</td>\n",
       "      <td>3860</td>\n",
       "      <td>0.818394</td>\n",
       "      <td>0</td>\n",
       "      <td>9</td>\n",
       "      <td>1</td>\n",
       "      <td>1</td>\n",
       "      <td>10</td>\n",
       "      <td>1</td>\n",
       "      <td>0</td>\n",
       "      <td>0</td>\n",
       "      <td>0</td>\n",
       "      <td>0</td>\n",
       "      <td>0</td>\n",
       "    </tr>\n",
       "  </tbody>\n",
       "</table>\n",
       "<p>88132 rows × 18 columns</p>\n",
       "</div>"
      ],
      "text/plain": [
       "       verified  location  followers_count  following_count  tweet_count  \\\n",
       "0             0         0             1997                5        17090   \n",
       "1             0         0             1997                5        17090   \n",
       "2             0         0             1997                5        17090   \n",
       "3             0         0             1997                5        17090   \n",
       "4             0         0             1997                5        17090   \n",
       "...         ...       ...              ...              ...          ...   \n",
       "88127         1         1           803247                7         3159   \n",
       "88128         1         1           803247                7         3159   \n",
       "88129         1         1           803247                7         3159   \n",
       "88130         1         1           803247                7         3159   \n",
       "88131         1         1           803247                7         3159   \n",
       "\n",
       "       account_age_in_days  average_tweets_per_day  isFraud  un_no_of_char  \\\n",
       "0                     2184                7.825092        1             15   \n",
       "1                     2184                7.825092        1             15   \n",
       "2                     2184                7.825092        1             15   \n",
       "3                     2184                7.825092        1             15   \n",
       "4                     2184                7.825092        1             15   \n",
       "...                    ...                     ...      ...            ...   \n",
       "88127                 3860                0.818394        0              9   \n",
       "88128                 3860                0.818394        0              9   \n",
       "88129                 3860                0.818394        0              9   \n",
       "88130                 3860                0.818394        0              9   \n",
       "88131                 3860                0.818394        0              9   \n",
       "\n",
       "       un_special_char  un_uppercase  name_no_of_char  name_special_char  \\\n",
       "0                    1             0               19                  0   \n",
       "1                    1             0               19                  0   \n",
       "2                    1             0               19                  0   \n",
       "3                    1             0               19                  0   \n",
       "4                    1             0               19                  0   \n",
       "...                ...           ...              ...                ...   \n",
       "88127                1             1               10                  1   \n",
       "88128                1             1               10                  1   \n",
       "88129                1             1               10                  1   \n",
       "88130                1             1               10                  1   \n",
       "88131                1             1               10                  1   \n",
       "\n",
       "       name_uppercase  des_no_of_usertags  des_no_of_hashtags  \\\n",
       "0                   1                   2                   0   \n",
       "1                   1                   2                   0   \n",
       "2                   1                   2                   0   \n",
       "3                   1                   2                   0   \n",
       "4                   1                   2                   0   \n",
       "...               ...                 ...                 ...   \n",
       "88127               0                   0                   0   \n",
       "88128               0                   0                   0   \n",
       "88129               0                   0                   0   \n",
       "88130               0                   0                   0   \n",
       "88131               0                   0                   0   \n",
       "\n",
       "       des_external_links  has_description  \n",
       "0                       0                1  \n",
       "1                       0                1  \n",
       "2                       0                1  \n",
       "3                       0                1  \n",
       "4                       0                1  \n",
       "...                   ...              ...  \n",
       "88127                   0                0  \n",
       "88128                   0                0  \n",
       "88129                   0                0  \n",
       "88130                   0                0  \n",
       "88131                   0                0  \n",
       "\n",
       "[88132 rows x 18 columns]"
      ]
     },
     "execution_count": 135,
     "metadata": {},
     "output_type": "execute_result"
    }
   ],
   "source": [
    "dataset"
   ]
  },
  {
   "cell_type": "markdown",
   "id": "b050c43d",
   "metadata": {},
   "source": [
    "### Feature Engineering"
   ]
  },
  {
   "cell_type": "code",
   "execution_count": 136,
   "id": "d544eda2",
   "metadata": {},
   "outputs": [
    {
     "name": "stdout",
     "output_type": "stream",
     "text": [
      "Train set: (70505, 17) (70505,)\n",
      "Test set: (17627, 17) (17627,)\n"
     ]
    }
   ],
   "source": [
    "X_train, X_test, y_train, y_test = train_test_split(dataset.drop(columns=[\"isFraud\"]), dataset[\"isFraud\"], test_size = 0.2, random_state=101)\n",
    "print(\"Train set:\", X_train.shape, y_train.shape)\n",
    "print(\"Test set:\", X_test.shape, y_test.shape)"
   ]
  },
  {
   "cell_type": "code",
   "execution_count": 137,
   "id": "13a1c0ff",
   "metadata": {},
   "outputs": [],
   "source": [
    "scaler = StandardScaler()\n",
    "fitted = scaler.fit(X_train)\n",
    "X_train_fitted = fitted.transform(X_train)\n",
    "X_test_fitted = fitted.transform(X_test)"
   ]
  },
  {
   "cell_type": "code",
   "execution_count": 138,
   "id": "a3570254",
   "metadata": {},
   "outputs": [],
   "source": [
    "x_train = pd.DataFrame(X_train_fitted, columns = X_train.columns)\n",
    "x_test = pd.DataFrame(X_test_fitted, columns = X_test.columns)\n",
    "y_train = pd.DataFrame(y_train, columns = [\"isFraud\"])\n",
    "y_test = pd.DataFrame(y_test, columns = [\"isFraud\"])"
   ]
  },
  {
   "cell_type": "markdown",
   "id": "ae94b9fe",
   "metadata": {},
   "source": [
    "### Charts"
   ]
  },
  {
   "cell_type": "code",
   "execution_count": 139,
   "id": "b74dafa0",
   "metadata": {},
   "outputs": [],
   "source": [
    "def feature_chart(feature_importance_df, model_type):\n",
    "#     feature_importance_df = pd.DataFrame(model.coef_.T, x_train.columns.T,columns=['Feature Importance']).sort_values(by='Feature Importance', ascending=False)\n",
    "    fig = feature_importance_df.plot(kind=\"barh\", figsize=(20, 50))\n",
    "    bg = fig.patch\n",
    "    bg.set_facecolor(\"white\")\n",
    "    plt.gca().invert_yaxis()\n",
    "    plt.grid()\n",
    "#     plt.savefig(f'Charts\\\\{model_type} Feature Importance.png', dpi=300, facecolor=fig.get_facecolor())\n",
    "    plt.show()"
   ]
  },
  {
   "cell_type": "code",
   "execution_count": 140,
   "id": "50e7ce56",
   "metadata": {},
   "outputs": [],
   "source": [
    "def prediction_chart(regression, test, pred):\n",
    "    fig, ax = plt.subplots(figsize=(15, 6))\n",
    "    x_ax = range(100)\n",
    "    plt.plot(x_ax, test.iloc[:100, :], label='True', color='#F39236', linewidth=1.75)\n",
    "    plt.plot(x_ax, pred[:100], label = 'Predicted', color='#048EDC', linewidth=1.75)\n",
    "    plt.title(f\"Predicted vs True isFraud ({regression})\", fontsize=20, pad=50)\n",
    "    plt.legend(fontsize=14, loc=\"upper center\", bbox_to_anchor=(0.5, 1.13), ncol=2, frameon=False)\n",
    "    plt.xlabel(\"Observations\", labelpad=20, fontsize=14)\n",
    "    plt.ylabel(\"isFraud\", labelpad=20, fontsize=14)\n",
    "#     plt.savefig(f'Charts\\\\{regression} Prediction.png', dpi=300)\n",
    "    plt.show()"
   ]
  },
  {
   "cell_type": "code",
   "execution_count": 141,
   "id": "6eee4dd0",
   "metadata": {},
   "outputs": [],
   "source": [
    "def error_chart(regression, accuracy):\n",
    "    plt.subplots(figsize=(15, 7))\n",
    "#     buckets_xlab = np.arange(5, 100, 10).tolist()\n",
    "    buckets_xlab = np.arange(5, 55, 5).tolist()\n",
    "\n",
    "    plt.plot(buckets_xlab, accuracy, label=regression, color='#048EDC', linewidth=1.75)\n",
    "#     plt.plot(buckets_xlab, ridge_regression, label='Ridge Regression', color='#1AA850', linewidth=1.75)\n",
    "#     plt.plot(buckets_xlab, LSTM, label='LSTM', color='#F39236', linewidth=1.5)\n",
    "#     plt.plot(buckets_xlab, arima, label='ARIMA', color='black', linewidth=1.5)\n",
    "#     plt.plot(buckets_xlab, XGBoost_tuned, label='XGBoost', color='red', linewidth=1.5)\n",
    "\n",
    "    plt.title(\"Prediction Error at Various Error Buckets\", fontsize=22, pad=50)\n",
    "    plt.xlabel('X (%)', labelpad=20, fontsize=13)\n",
    "    plt.ylabel('Percentage Predictions Falling within \\u00B1X of Actual Value', labelpad=20, fontsize=13)\n",
    "#     plt.xticks(np.arange(5, 100, 10))\n",
    "    plt.xticks(np.arange(5, 55, 5))\n",
    "    plt.legend(fontsize=15, loc=\"upper center\", bbox_to_anchor=(0.5, 1.12), ncol=1, frameon=False)\n",
    "#     plt.savefig(f'Charts\\\\{regression} Error.png', dpi=300)\n",
    "    plt.show()"
   ]
  },
  {
   "cell_type": "markdown",
   "id": "084d0ac9",
   "metadata": {},
   "source": [
    "### Linear Regression (Baseline)\n",
    "* Model\n",
    "* Error Metrics\n",
    "* Plot for Feature Importance\n",
    "* Plot for Predict vs True (100 observations)\n",
    "* Plot for Prediction Error"
   ]
  },
  {
   "cell_type": "markdown",
   "id": "c641c483",
   "metadata": {},
   "source": [
    "#### Model"
   ]
  },
  {
   "cell_type": "code",
   "execution_count": 142,
   "id": "c01ab427",
   "metadata": {},
   "outputs": [],
   "source": [
    "# Model\n",
    "log_regression = LogisticRegression()\n",
    "log_model = log_regression.fit(x_train, y_train)\n",
    "\n",
    "# Save the model to disk\n",
    "# filename = '01 Linear Regression.sav'\n",
    "# pickle.dump(linear_model, open(filename, 'wb'))\n",
    "\n",
    "# Load the model from disk\n",
    "# results_random = pickle.load(open(filename, 'rb'))"
   ]
  },
  {
   "cell_type": "code",
   "execution_count": 143,
   "id": "4159fb70",
   "metadata": {},
   "outputs": [
    {
     "data": {
      "text/plain": [
       "0.7960144670590739"
      ]
     },
     "execution_count": 143,
     "metadata": {},
     "output_type": "execute_result"
    }
   ],
   "source": [
    "# R-Squared\n",
    "log_model.score(x_train, y_train)"
   ]
  },
  {
   "cell_type": "code",
   "execution_count": 144,
   "id": "870b047d",
   "metadata": {},
   "outputs": [],
   "source": [
    "# y_prediction\n",
    "y_pred = log_model.predict(x_test)"
   ]
  },
  {
   "cell_type": "code",
   "execution_count": 145,
   "id": "c8d653d1",
   "metadata": {},
   "outputs": [
    {
     "name": "stdout",
     "output_type": "stream",
     "text": [
      "MAE: 0.20383502581267374\n",
      "RMSE: 0.4514809251924977\n",
      "F1-score: 0.3325283299275497\n"
     ]
    }
   ],
   "source": [
    "# Error Metrics\n",
    "mae = metrics.mean_absolute_error(y_test, y_pred)\n",
    "print(f'MAE: {mae}')\n",
    "rmse = np.sqrt(metrics.mean_squared_error(y_test, y_pred))\n",
    "print(f'RMSE: {rmse}')\n",
    "f1_score = metrics.f1_score(y_test, y_pred)\n",
    "print(f'F1-score: {f1_score}')\n",
    "r2 = metrics.r2_score(y_test, y_pred)\n",
    "# adj_r2 = 1-(1-r2)*(len(x_test)-1)/(len(x_test)-x_test.shape[1]-1)\n",
    "# print(f'Adjusted R-Squared: {adj_r2}')\n",
    "#precision and recall"
   ]
  },
  {
   "cell_type": "markdown",
   "id": "05906cfc",
   "metadata": {},
   "source": [
    "#### Feature Importance"
   ]
  },
  {
   "cell_type": "code",
   "execution_count": 146,
   "id": "6dd11771",
   "metadata": {},
   "outputs": [
    {
     "data": {
      "text/html": [
       "<div>\n",
       "<style scoped>\n",
       "    .dataframe tbody tr th:only-of-type {\n",
       "        vertical-align: middle;\n",
       "    }\n",
       "\n",
       "    .dataframe tbody tr th {\n",
       "        vertical-align: top;\n",
       "    }\n",
       "\n",
       "    .dataframe thead th {\n",
       "        text-align: right;\n",
       "    }\n",
       "</style>\n",
       "<table border=\"1\" class=\"dataframe\">\n",
       "  <thead>\n",
       "    <tr style=\"text-align: right;\">\n",
       "      <th></th>\n",
       "      <th>Feature Importance</th>\n",
       "    </tr>\n",
       "  </thead>\n",
       "  <tbody>\n",
       "    <tr>\n",
       "      <th>tweet_count</th>\n",
       "      <td>0.529411</td>\n",
       "    </tr>\n",
       "    <tr>\n",
       "      <th>des_external_links</th>\n",
       "      <td>0.312232</td>\n",
       "    </tr>\n",
       "    <tr>\n",
       "      <th>following_count</th>\n",
       "      <td>0.106746</td>\n",
       "    </tr>\n",
       "    <tr>\n",
       "      <th>name_no_of_char</th>\n",
       "      <td>0.046462</td>\n",
       "    </tr>\n",
       "    <tr>\n",
       "      <th>followers_count</th>\n",
       "      <td>0.005408</td>\n",
       "    </tr>\n",
       "    <tr>\n",
       "      <th>un_special_char</th>\n",
       "      <td>-0.000566</td>\n",
       "    </tr>\n",
       "    <tr>\n",
       "      <th>des_no_of_usertags</th>\n",
       "      <td>-0.003573</td>\n",
       "    </tr>\n",
       "    <tr>\n",
       "      <th>average_tweets_per_day</th>\n",
       "      <td>-0.025484</td>\n",
       "    </tr>\n",
       "    <tr>\n",
       "      <th>name_uppercase</th>\n",
       "      <td>-0.026494</td>\n",
       "    </tr>\n",
       "    <tr>\n",
       "      <th>name_special_char</th>\n",
       "      <td>-0.042189</td>\n",
       "    </tr>\n",
       "    <tr>\n",
       "      <th>un_uppercase</th>\n",
       "      <td>-0.044152</td>\n",
       "    </tr>\n",
       "    <tr>\n",
       "      <th>un_no_of_char</th>\n",
       "      <td>-0.119635</td>\n",
       "    </tr>\n",
       "    <tr>\n",
       "      <th>location</th>\n",
       "      <td>-0.187239</td>\n",
       "    </tr>\n",
       "    <tr>\n",
       "      <th>des_no_of_hashtags</th>\n",
       "      <td>-0.189773</td>\n",
       "    </tr>\n",
       "    <tr>\n",
       "      <th>has_description</th>\n",
       "      <td>-0.306528</td>\n",
       "    </tr>\n",
       "    <tr>\n",
       "      <th>account_age_in_days</th>\n",
       "      <td>-0.426088</td>\n",
       "    </tr>\n",
       "    <tr>\n",
       "      <th>verified</th>\n",
       "      <td>-0.890955</td>\n",
       "    </tr>\n",
       "  </tbody>\n",
       "</table>\n",
       "</div>"
      ],
      "text/plain": [
       "                        Feature Importance\n",
       "tweet_count                       0.529411\n",
       "des_external_links                0.312232\n",
       "following_count                   0.106746\n",
       "name_no_of_char                   0.046462\n",
       "followers_count                   0.005408\n",
       "un_special_char                  -0.000566\n",
       "des_no_of_usertags               -0.003573\n",
       "average_tweets_per_day           -0.025484\n",
       "name_uppercase                   -0.026494\n",
       "name_special_char                -0.042189\n",
       "un_uppercase                     -0.044152\n",
       "un_no_of_char                    -0.119635\n",
       "location                         -0.187239\n",
       "des_no_of_hashtags               -0.189773\n",
       "has_description                  -0.306528\n",
       "account_age_in_days              -0.426088\n",
       "verified                         -0.890955"
      ]
     },
     "execution_count": 146,
     "metadata": {},
     "output_type": "execute_result"
    }
   ],
   "source": [
    "# Feature importance\n",
    "feature = pd.DataFrame(log_model.coef_.T, x_train.columns.T, columns=['Feature Importance']).sort_values(by='Feature Importance', ascending=False)\n",
    "feature"
   ]
  },
  {
   "cell_type": "code",
   "execution_count": 147,
   "id": "50e2e965",
   "metadata": {},
   "outputs": [
    {
     "data": {
      "image/png": "[encoded data removed]",
      "text/plain": [
       "<Figure size 1440x3600 with 1 Axes>"
      ]
     },
     "metadata": {
      "needs_background": "light"
     },
     "output_type": "display_data"
    }
   ],
   "source": [
    "# Feature importance\n",
    "feature_chart(feature, \"Logistic Regression\")"
   ]
  },
  {
   "cell_type": "markdown",
   "id": "cd7f6871",
   "metadata": {},
   "source": [
    "#### Prediction Plots"
   ]
  },
  {
   "cell_type": "code",
   "execution_count": 148,
   "id": "ccec3379",
   "metadata": {},
   "outputs": [],
   "source": [
    "# Plotting parameters\n",
    "# prediction_chart(\"Logistic Regression\", y_test, y_pred)"
   ]
  },
  {
   "cell_type": "code",
   "execution_count": 149,
   "id": "9832678a",
   "metadata": {},
   "outputs": [],
   "source": [
    "# Assigning buckets \n",
    "upper = np.arange(1.05, 1.55, 0.05).tolist()\n",
    "lower = np.arange(0.95, 0.45, -0.05).tolist()\n",
    "buckets = []\n",
    "for i in range(len(upper)):\n",
    "    buckets.append((round(lower[i], 2), round(upper[i], 2)))\n",
    "\n",
    "# Print proportion of values that fall within each error bucket for base model\n",
    "accuracies = []\n",
    "for bucket in buckets:\n",
    "    num = 0\n",
    "    denom = len(y_test)\n",
    "    for i in range(denom):\n",
    "        if (y_test.iloc[i, 0] * bucket[0]) <= y_pred[i] <= (y_test.iloc[i, 0] * bucket[1]):\n",
    "            num += 1\n",
    "    accuracy = (num/(denom)) * 100\n",
    "    accuracies.append(round(accuracy, 2))"
   ]
  },
  {
   "cell_type": "code",
   "execution_count": 152,
   "id": "680cca86",
   "metadata": {},
   "outputs": [
    {
     "data": {
      "text/plain": [
       "array([0, 1, 0, ..., 0, 0, 1], dtype=int64)"
      ]
     },
     "execution_count": 152,
     "metadata": {},
     "output_type": "execute_result"
    }
   ],
   "source": [
    "y_pred"
   ]
  },
  {
   "cell_type": "code",
   "execution_count": null,
   "id": "c93e471e",
   "metadata": {},
   "outputs": [],
   "source": []
  },
  {
   "cell_type": "code",
   "execution_count": 150,
   "id": "b18ee81c",
   "metadata": {},
   "outputs": [
    {
     "name": "stdout",
     "output_type": "stream",
     "text": [
      "Logistic Regression: [79.62, 79.62, 79.62, 79.62, 79.62, 79.62, 79.62, 79.62, 79.62, 79.62]\n"
     ]
    }
   ],
   "source": [
    "# Print caculated proportions for base model\n",
    "print(f\"Logistic Regression: {accuracies}\")"
   ]
  },
  {
   "cell_type": "code",
   "execution_count": 151,
   "id": "6feac966",
   "metadata": {},
   "outputs": [
    {
     "data": {
      "image/png": "[encoded data removed]",
      "text/plain": [
       "<Figure size 1080x504 with 1 Axes>"
      ]
     },
     "metadata": {
      "needs_background": "light"
     },
     "output_type": "display_data"
    }
   ],
   "source": [
    "# Plot error bucket performance for model\n",
    "error_chart(\"Logistic Regression\", accuracies)"
   ]
  }
 ],
 "metadata": {
  "kernelspec": {
   "display_name": "Python 3 (ipykernel)",
   "language": "python",
   "name": "python3"
  },
  "language_info": {
   "codemirror_mode": {
    "name": "ipython",
    "version": 3
   },
   "file_extension": ".py",
   "mimetype": "text/x-python",
   "name": "python",
   "nbconvert_exporter": "python",
   "pygments_lexer": "ipython3",
   "version": "3.9.7"
  }
 },
 "nbformat": 4,
 "nbformat_minor": 5
}
